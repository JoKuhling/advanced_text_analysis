{
 "cells": [
  {
   "cell_type": "code",
   "execution_count": 1,
   "metadata": {},
   "outputs": [],
   "source": [
    "from utils.io import read_tabular\n",
    "from utils.finetuning import get_device, split_data, create_sequence_classification_dataset, preprocess_sequence_classification_dataset\n",
    "\n",
    "from datasets import DatasetDict\n",
    "from transformers import AutoTokenizer, DataCollatorWithPadding, AutoModelForSequenceClassification, Trainer, TrainingArguments\n",
    "\n",
    "from utils.metrics import parse_sequence_classifier_prediction_output, compute_sequence_classification_metrics_binary"
   ]
  },
  {
   "cell_type": "code",
   "execution_count": 2,
   "metadata": {},
   "outputs": [
    {
     "name": "stdout",
     "output_type": "stream",
     "text": [
      "Using device: mps\n"
     ]
    }
   ],
   "source": [
    "model_name = 'roberta-base'\n",
    "device = get_device()\n",
    "print(f'Using device: {str(device)}')"
   ]
  },
  {
   "cell_type": "code",
   "execution_count": 3,
   "metadata": {},
   "outputs": [],
   "source": [
    "# fp = '../data/labeled/barbera_automated_2021/barbera_automated_2021-econ_news_sentiment.tsv'\n",
    "fp = '../data/labeled/bestvater_sentiment_2023/bestvater_sentiment_2023-motn_responses_sentiment.tsv'\n",
    "df = read_tabular(fp, columns=['text', 'label'])"
   ]
  },
  {
   "cell_type": "code",
   "execution_count": 4,
   "metadata": {},
   "outputs": [
    {
     "data": {
      "text/plain": [
       "5417"
      ]
     },
     "execution_count": 4,
     "metadata": {},
     "output_type": "execute_result"
    }
   ],
   "source": [
    "len(df)"
   ]
  },
  {
   "cell_type": "code",
   "execution_count": 5,
   "metadata": {},
   "outputs": [
    {
     "data": {
      "text/plain": [
       "label\n",
       "0    0.565442\n",
       "1    0.434558\n",
       "Name: proportion, dtype: float64"
      ]
     },
     "execution_count": 5,
     "metadata": {},
     "output_type": "execute_result"
    }
   ],
   "source": [
    "df.label.value_counts(normalize=True)"
   ]
  },
  {
   "cell_type": "code",
   "execution_count": 6,
   "metadata": {},
   "outputs": [
    {
     "data": {
      "text/plain": [
       "{0: 0, 1: 1}"
      ]
     },
     "execution_count": 6,
     "metadata": {},
     "output_type": "execute_result"
    }
   ],
   "source": [
    "label2id = {l: i for i, l in enumerate(df.label.unique())}\n",
    "id2label = {i: l for l, i in label2id.items()}"
   ]
  },
  {
   "cell_type": "code",
   "execution_count": 7,
   "metadata": {},
   "outputs": [],
   "source": [
    "data_splits = split_data(df, dev_size=0.15, test_size=0.15, seed=42, stratify_by='label', return_dict=True)"
   ]
  },
  {
   "cell_type": "code",
   "execution_count": 8,
   "metadata": {},
   "outputs": [],
   "source": [
    "data_splits = DatasetDict({s: create_sequence_classification_dataset(df) for s, df in data_splits.items()})"
   ]
  },
  {
   "cell_type": "code",
   "execution_count": 9,
   "metadata": {},
   "outputs": [
    {
     "name": "stderr",
     "output_type": "stream",
     "text": [
      "/Users/hlicht/miniforge3/envs/advanced_text_analysis_gesis_2024/lib/python3.11/site-packages/transformers/tokenization_utils_base.py:1601: FutureWarning: `clean_up_tokenization_spaces` was not set. It will be set to `True` by default. This behavior will be depracted in transformers v4.45, and will be then set to `False` by default. For more details check this issue: https://github.com/huggingface/transformers/issues/31884\n",
      "  warnings.warn(\n"
     ]
    },
    {
     "data": {
      "application/vnd.jupyter.widget-view+json": {
       "model_id": "00e7e82360a34e33bb6ff16212cc4c2d",
       "version_major": 2,
       "version_minor": 0
      },
      "text/plain": [
       "Map:   0%|          | 0/3793 [00:00<?, ? examples/s]"
      ]
     },
     "metadata": {},
     "output_type": "display_data"
    },
    {
     "data": {
      "application/vnd.jupyter.widget-view+json": {
       "model_id": "460073f080864cc69b64c59307c47f62",
       "version_major": 2,
       "version_minor": 0
      },
      "text/plain": [
       "Map:   0%|          | 0/812 [00:00<?, ? examples/s]"
      ]
     },
     "metadata": {},
     "output_type": "display_data"
    },
    {
     "data": {
      "application/vnd.jupyter.widget-view+json": {
       "model_id": "ad7795b6292e4fe6b9294f301c91ff71",
       "version_major": 2,
       "version_minor": 0
      },
      "text/plain": [
       "Map:   0%|          | 0/812 [00:00<?, ? examples/s]"
      ]
     },
     "metadata": {},
     "output_type": "display_data"
    }
   ],
   "source": [
    "tokenizer = AutoTokenizer.from_pretrained(model_name, use_fast=True)\n",
    "data_splits = data_splits.map(lambda x: preprocess_sequence_classification_dataset(x, tokenizer=tokenizer, label2id=label2id, truncation=True), batched=True)"
   ]
  },
  {
   "cell_type": "code",
   "execution_count": 10,
   "metadata": {},
   "outputs": [],
   "source": [
    "data_splits = data_splits.remove_columns(['text', 'label'])"
   ]
  },
  {
   "cell_type": "code",
   "execution_count": 11,
   "metadata": {},
   "outputs": [
    {
     "name": "stderr",
     "output_type": "stream",
     "text": [
      "/Users/hlicht/miniforge3/envs/advanced_text_analysis_gesis_2024/lib/python3.11/site-packages/transformers/training_args.py:2179: UserWarning: `use_mps_device` is deprecated and will be removed in version 5.0 of 🤗 Transformers. `mps` device will be used by default if available similar to the way `cuda` device is used.Therefore, no action from user is required. \n",
      "  warnings.warn(\n"
     ]
    }
   ],
   "source": [
    "dest = './../results/example_classifier/'\n",
    "training_args = TrainingArguments(\n",
    "    output_dir=dest,\n",
    "    # hyperparameters\n",
    "    num_train_epochs=3,\n",
    "    per_device_train_batch_size=16,\n",
    "    per_device_eval_batch_size=32,\n",
    "    optim='adamw_torch',\n",
    "    use_mps_device=str(device)=='mps',\n",
    "    fp16=str(device).startswith('cuda'),\n",
    "    # evaluation on dev set\n",
    "    eval_strategy='epoch',\n",
    "    metric_for_best_model='f1', # use 'f1_macro' if multiclass\n",
    "    # model saving\n",
    "    save_strategy='epoch',\n",
    "    load_best_model_at_end=True,\n",
    "    save_total_limit=2,\n",
    "    # logging\n",
    "    logging_strategy='epoch',\n",
    "    logging_dir=dest+'logs',\n",
    "    # for reproducibility\n",
    "    seed=42,\n",
    "    data_seed=42,\n",
    "    full_determinism=True\n",
    ")"
   ]
  },
  {
   "cell_type": "code",
   "execution_count": 15,
   "metadata": {},
   "outputs": [],
   "source": [
    "def model_init():\n",
    "    model = AutoModelForSequenceClassification.from_pretrained(model_name, num_labels=len(label2id))\n",
    "    if model.config.problem_type is None:\n",
    "        model.config.problem_type = 'single_label_classification'\n",
    "    if isinstance(id2label[0], str):\n",
    "        model.config.id2label = id2label\n",
    "        model.config.label2id = label2id\n",
    "    model.to(device);\n",
    "    return model"
   ]
  },
  {
   "cell_type": "code",
   "execution_count": 13,
   "metadata": {},
   "outputs": [],
   "source": [
    "def compute_metrics(p):\n",
    "    labels, predictions = parse_sequence_classifier_prediction_output(p)\n",
    "    return compute_sequence_classification_metrics_binary(y_true=labels, y_pred=predictions)"
   ]
  },
  {
   "cell_type": "code",
   "execution_count": 16,
   "metadata": {},
   "outputs": [
    {
     "name": "stderr",
     "output_type": "stream",
     "text": [
      "Some weights of RobertaForSequenceClassification were not initialized from the model checkpoint at roberta-base and are newly initialized: ['classifier.dense.bias', 'classifier.dense.weight', 'classifier.out_proj.bias', 'classifier.out_proj.weight']\n",
      "You should probably TRAIN this model on a down-stream task to be able to use it for predictions and inference.\n"
     ]
    }
   ],
   "source": [
    "trainer = Trainer(\n",
    "    model_init=model_init,\n",
    "    args=training_args,\n",
    "    train_dataset=data_splits['train'],\n",
    "    eval_dataset=data_splits['dev'],\n",
    "    compute_metrics=compute_metrics,\n",
    "    tokenizer=tokenizer,\n",
    "    data_collator=DataCollatorWithPadding(tokenizer),\n",
    ")"
   ]
  },
  {
   "cell_type": "code",
   "execution_count": 17,
   "metadata": {},
   "outputs": [
    {
     "name": "stderr",
     "output_type": "stream",
     "text": [
      "Some weights of RobertaForSequenceClassification were not initialized from the model checkpoint at roberta-base and are newly initialized: ['classifier.dense.bias', 'classifier.dense.weight', 'classifier.out_proj.bias', 'classifier.out_proj.weight']\n",
      "You should probably TRAIN this model on a down-stream task to be able to use it for predictions and inference.\n"
     ]
    },
    {
     "data": {
      "application/vnd.jupyter.widget-view+json": {
       "model_id": "a0e7a805918143f5bd3e02124036ba3f",
       "version_major": 2,
       "version_minor": 0
      },
      "text/plain": [
       "  0%|          | 0/714 [00:00<?, ?it/s]"
      ]
     },
     "metadata": {},
     "output_type": "display_data"
    },
    {
     "name": "stdout",
     "output_type": "stream",
     "text": [
      "{'loss': 0.3736, 'grad_norm': 3.4375319480895996, 'learning_rate': 3.3333333333333335e-05, 'epoch': 1.0}\n"
     ]
    },
    {
     "data": {
      "application/vnd.jupyter.widget-view+json": {
       "model_id": "ceb8c9987ce147a2b155f465b9bed9e2",
       "version_major": 2,
       "version_minor": 0
      },
      "text/plain": [
       "  0%|          | 0/26 [00:00<?, ?it/s]"
      ]
     },
     "metadata": {},
     "output_type": "display_data"
    },
    {
     "name": "stdout",
     "output_type": "stream",
     "text": [
      "{'eval_loss': 0.2506186068058014, 'eval_accuracy': 0.9014778325123153, 'eval_accuracy_balanced': 0.8964987316928661, 'eval_f1': 0.8833819241982507, 'eval_precision': 0.9099099099099099, 'eval_recall': 0.8583569405099151, 'eval_runtime': 21.9676, 'eval_samples_per_second': 36.964, 'eval_steps_per_second': 1.184, 'epoch': 1.0}\n",
      "{'loss': 0.2161, 'grad_norm': 0.11916719377040863, 'learning_rate': 1.6666666666666667e-05, 'epoch': 2.0}\n"
     ]
    },
    {
     "data": {
      "application/vnd.jupyter.widget-view+json": {
       "model_id": "84f377a044184fae85dd45fd9bd31e5b",
       "version_major": 2,
       "version_minor": 0
      },
      "text/plain": [
       "  0%|          | 0/26 [00:00<?, ?it/s]"
      ]
     },
     "metadata": {},
     "output_type": "display_data"
    },
    {
     "name": "stdout",
     "output_type": "stream",
     "text": [
      "{'eval_loss': 0.30391860008239746, 'eval_accuracy': 0.9125615763546798, 'eval_accuracy_balanced': 0.9099008189993025, 'eval_f1': 0.8984263233190272, 'eval_precision': 0.9075144508670521, 'eval_recall': 0.8895184135977338, 'eval_runtime': 9.8305, 'eval_samples_per_second': 82.6, 'eval_steps_per_second': 2.645, 'epoch': 2.0}\n",
      "{'loss': 0.1383, 'grad_norm': 0.11332330107688904, 'learning_rate': 0.0, 'epoch': 3.0}\n"
     ]
    },
    {
     "data": {
      "application/vnd.jupyter.widget-view+json": {
       "model_id": "a4d8a03c88304dd9952830d98512d29b",
       "version_major": 2,
       "version_minor": 0
      },
      "text/plain": [
       "  0%|          | 0/26 [00:00<?, ?it/s]"
      ]
     },
     "metadata": {},
     "output_type": "display_data"
    },
    {
     "name": "stdout",
     "output_type": "stream",
     "text": [
      "{'eval_loss': 0.38194358348846436, 'eval_accuracy': 0.9224137931034483, 'eval_accuracy_balanced': 0.9228677936393317, 'eval_f1': 0.9121338912133892, 'eval_precision': 0.8983516483516484, 'eval_recall': 0.9263456090651558, 'eval_runtime': 10.2987, 'eval_samples_per_second': 78.845, 'eval_steps_per_second': 2.525, 'epoch': 3.0}\n",
      "{'train_runtime': 539.4033, 'train_samples_per_second': 21.096, 'train_steps_per_second': 1.324, 'train_loss': 0.2426774535192495, 'epoch': 3.0}\n"
     ]
    },
    {
     "data": {
      "text/plain": [
       "TrainOutput(global_step=714, training_loss=0.2426774535192495, metrics={'train_runtime': 539.4033, 'train_samples_per_second': 21.096, 'train_steps_per_second': 1.324, 'total_flos': 377377822814460.0, 'train_loss': 0.2426774535192495, 'epoch': 3.0})"
      ]
     },
     "execution_count": 17,
     "metadata": {},
     "output_type": "execute_result"
    }
   ],
   "source": [
    "trainer.train()"
   ]
  },
  {
   "cell_type": "code",
   "execution_count": 18,
   "metadata": {},
   "outputs": [
    {
     "data": {
      "application/vnd.jupyter.widget-view+json": {
       "model_id": "55068abfbc5a4a1d89759da9e1e21286",
       "version_major": 2,
       "version_minor": 0
      },
      "text/plain": [
       "  0%|          | 0/26 [00:00<?, ?it/s]"
      ]
     },
     "metadata": {},
     "output_type": "display_data"
    },
    {
     "data": {
      "text/plain": [
       "{'eval_loss': 0.46976912021636963,\n",
       " 'eval_accuracy': 0.9137931034482759,\n",
       " 'eval_accuracy_balanced': 0.9142612033796836,\n",
       " 'eval_f1': 0.9025069637883009,\n",
       " 'eval_precision': 0.8876712328767123,\n",
       " 'eval_recall': 0.9178470254957507,\n",
       " 'eval_runtime': 35.6702,\n",
       " 'eval_samples_per_second': 22.764,\n",
       " 'eval_steps_per_second': 0.729,\n",
       " 'epoch': 3.0}"
      ]
     },
     "execution_count": 18,
     "metadata": {},
     "output_type": "execute_result"
    }
   ],
   "source": [
    "trainer.evaluate(data_splits['test'])"
   ]
  }
 ],
 "metadata": {
  "kernelspec": {
   "display_name": "advanced_text_analysis_gesis_2024",
   "language": "python",
   "name": "python3"
  },
  "language_info": {
   "codemirror_mode": {
    "name": "ipython",
    "version": 3
   },
   "file_extension": ".py",
   "mimetype": "text/x-python",
   "name": "python",
   "nbconvert_exporter": "python",
   "pygments_lexer": "ipython3",
   "version": "3.11.9"
  }
 },
 "nbformat": 4,
 "nbformat_minor": 2
}
