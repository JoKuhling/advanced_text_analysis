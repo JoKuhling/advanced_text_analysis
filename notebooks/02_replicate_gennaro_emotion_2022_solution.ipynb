{
 "cells": [
  {
   "cell_type": "markdown",
   "metadata": {},
   "source": [
    "# Replication of Gennaro & Ash \"Emotion and reason in political language\"\n",
    "\n",
    "| Author | Last update |\n",
    "|:------ |:----------- |\n",
    "| Hauke Licht (https://github.com/haukelicht) | 2023-09-26 |\n",
    "\n",
    "In their [publication](https://academic.oup.com/ej/article/132/643/1037/6490125) \"Emotion and reason in political language,\" Gennaro and Ash combine dictionaries and word embeddings to quantify how the emotionality of speeches in the U.S. congress has evolved over time.\n",
    "\n",
    "## Replication: goals and approach\n",
    "\n",
    "In this notebook, we replicate their analyses.\n",
    "Out goal is to see if we find intersting patterns with their method when we apply it to another text corpus.\n",
    "\n",
    "## Author's note\n",
    "\n",
    "I have oriented my implementation as close as possible at Gennaro & Ash's [replication materials](https://zenodo.org/record/5748084).\n",
    "Discrepancies of my findings from theirs thus have to do with using a different embedding model and a different target corpus.\n"
   ]
  },
  {
   "cell_type": "markdown",
   "metadata": {},
   "source": [
    "## Measurement strategy\n",
    "\n",
    "#### Indicating \"reason\" and \"cognition\" with keywords\n",
    "\n",
    "To build lists of emotive and cognitive words, they  started with the  *Linguistic Inquiry and Word Count* (LIWC) dicationary.\n",
    "Specifically, they took \n",
    "\n",
    "- words in the \"Cognitive Processing\" category (799 words, phrases and wildcard expressions) to indicate their \"reasoning\" concept, and \n",
    "- words in the \"Affective Processing\" category (1,445 tokens, phrases and wildcard expressions) to indicate their \"emotion\" concept.\n",
    "\n",
    "They than manually reviewed terms one at a time to discard \"inappropriate\" terms like multi-word expressions or emojis.\n",
    "This left them with two lists of stemmed nouns, verbs and adjectives:\n",
    "\n",
    "- _A_: affective processing terms (629 tokens)\n",
    "- _C_: cognitive processing terms (169 tokens)\n",
    "\n",
    "#### Word embedding model\n",
    "\n",
    "They train a Word2Vec model on their full corpus of U.S. Congress speeches.\n",
    "\n",
    "**_Note:_** We don't have access to their corpus, so we'll just use a pre-trained model.\n",
    "\n",
    "#### Scaling speeches\n",
    "\n",
    "They take their embeddings and keyword lists to scale speeches in the Congressional Record with an **emotionality score.**\n",
    "\n",
    "1. the word embeddings are combined with the thematic word lists to isolate directions in embedding space corresponding to emotion and reason.\n",
    "    - The vector $\\mathbf{a}$ representing \"emotion\" is the average of the vectors $\\mathbf{v}_w$ for the words in the emotion word list, $w \\in A$. \n",
    "    - The vector $\\mathbf{c}$ representing \"cognition\" is the average of the vectors $\\mathbf{v}_w$ for the words in the cognitoon word list, $w \\in C$. \n",
    "2. they produce a vector representation $mathbf{d}_i$ for a congressional speech $i$ (i.e., \"document\") by averaging the embeddings of words $w$ in the speech.\n",
    "3. they scale each speech with the \n",
    "\n",
    "$$\n",
    "Y_i = \\frac{\\text{sim}(\\mathbf{d}_i, \\mathbf{a})+b}{\\text{sim}(\\mathbf{d}_i, \\mathbf{c})+b}\n",
    "$$\n",
    "\n",
    "where $\\text{sim}(\\mathbf{u}, \\mathbf{v})$ is the cosine similarity between vectors $\\mathbf{u}$ and $\\mathbf{v}$."
   ]
  },
  {
   "cell_type": "markdown",
   "metadata": {},
   "source": [
    "## Setup"
   ]
  },
  {
   "cell_type": "code",
   "execution_count": 52,
   "metadata": {},
   "outputs": [],
   "source": [
    "# for data import\n",
    "import os\n",
    "import pickle\n",
    "\n",
    "# for word embeding model\n",
    "import gensim\n",
    "\n",
    "# for data frames\n",
    "import pandas as pd\n",
    "\n",
    "# for text prepriocessing\n",
    "import re\n",
    "from nltk.stem import PorterStemmer\n",
    "import swifter # <== for parallelization with pandas\n",
    "\n",
    "# misc\n",
    "import matplotlib.pyplot as plt\n",
    "from tqdm.auto import tqdm\n",
    "from collections import Counter"
   ]
  },
  {
   "cell_type": "markdown",
   "metadata": {},
   "source": [
    "Define paths:"
   ]
  },
  {
   "cell_type": "code",
   "execution_count": 6,
   "metadata": {},
   "outputs": [],
   "source": [
    "data_dir = os.path.join('..', 'data')\n",
    "dicts_dir = os.path.join(data_dir, 'replications', 'gennaro_emotion_2022')"
   ]
  },
  {
   "cell_type": "markdown",
   "metadata": {},
   "source": [
    "### 1. Load the dictionaries of affect and cognition keywords"
   ]
  },
  {
   "cell_type": "code",
   "execution_count": 7,
   "metadata": {},
   "outputs": [],
   "source": [
    "with open(os.path.join(dicts_dir, 'dictionary_affect.pkl'), 'rb') as f:\n",
    "    affect_dictionary = pickle.load(f)\n",
    "\n",
    "with open(os.path.join(dicts_dir, 'dictionary_cognition.pkl'), 'rb') as f:\n",
    "    cognition_dictionary = pickle.load(f)"
   ]
  },
  {
   "cell_type": "markdown",
   "metadata": {},
   "source": [
    "### 2. Load and clean an English-language corpus\n",
    "\n",
    "We don't have access to their U.S. Congress speeches corpus.\n",
    "\n",
    "So instead, we'll use a corpus of *New York Times* headlines from the years 1990-2022 I have compiled.\n",
    "\n",
    "**_Note:_** You could also take another English-language corpus."
   ]
  },
  {
   "cell_type": "code",
   "execution_count": 19,
   "metadata": {},
   "outputs": [
    {
     "name": "stderr",
     "output_type": "stream",
     "text": [
      "/var/folders/_c/cm0nk6y92rz2l6ct3npgw9tr0000gn/T/ipykernel_86707/3446995734.py:2: DtypeWarning: Columns (0,1,2) have mixed types. Specify dtype option on import or set low_memory=False.\n",
      "  corpus = pd.read_csv(fp, sep='\\t')\n"
     ]
    }
   ],
   "source": [
    "fp = os.path.join(data_dir, 'corpora', 'nyt_articles', 'nyt_article_headlines_1990-2022.tsv') \n",
    "corpus = pd.read_csv(fp, sep='\\t')"
   ]
  },
  {
   "cell_type": "markdown",
   "metadata": {},
   "source": [
    "This corpus has text in its 'headline', 'abstract', and 'lead_paragraph' columns.\n",
    "Moreover, each article is described with rich metadata that allows interesting comparative analysis."
   ]
  },
  {
   "cell_type": "code",
   "execution_count": 20,
   "metadata": {},
   "outputs": [
    {
     "data": {
      "text/html": [
       "<div>\n",
       "<style scoped>\n",
       "    .dataframe tbody tr th:only-of-type {\n",
       "        vertical-align: middle;\n",
       "    }\n",
       "\n",
       "    .dataframe tbody tr th {\n",
       "        vertical-align: top;\n",
       "    }\n",
       "\n",
       "    .dataframe thead th {\n",
       "        text-align: right;\n",
       "    }\n",
       "</style>\n",
       "<table border=\"1\" class=\"dataframe\">\n",
       "  <thead>\n",
       "    <tr style=\"text-align: right;\">\n",
       "      <th></th>\n",
       "      <th>year</th>\n",
       "      <th>month</th>\n",
       "      <th>web_url</th>\n",
       "      <th>headline</th>\n",
       "      <th>abstract</th>\n",
       "      <th>lead_paragraph</th>\n",
       "      <th>keywords</th>\n",
       "      <th>pub_date</th>\n",
       "      <th>document_type</th>\n",
       "      <th>section_name</th>\n",
       "      <th>type_of_material</th>\n",
       "    </tr>\n",
       "  </thead>\n",
       "  <tbody>\n",
       "    <tr>\n",
       "      <th>1</th>\n",
       "      <td>1990</td>\n",
       "      <td>1</td>\n",
       "      <td>https://www.nytimes.com/1990/01/01/nyregion/br...</td>\n",
       "      <td>Bridge</td>\n",
       "      <td>LEAD: One of the many sad bridge stories of 19...</td>\n",
       "      <td>One of the many sad bridge stories of 1989 con...</td>\n",
       "      <td>subject:Bridge (Card Game)</td>\n",
       "      <td>1990-01-01 05:00:00</td>\n",
       "      <td>article</td>\n",
       "      <td>New York</td>\n",
       "      <td>News</td>\n",
       "    </tr>\n",
       "    <tr>\n",
       "      <th>2</th>\n",
       "      <td>1990</td>\n",
       "      <td>1</td>\n",
       "      <td>https://www.nytimes.com/1990/01/01/sports/spor...</td>\n",
       "      <td>He Has Tyson On His Mind</td>\n",
       "      <td>LEAD: THOSE on Donovan Ruddock's Christmas-car...</td>\n",
       "      <td>THOSE on Donovan Ruddock's Christmas-card list...</td>\n",
       "      <td>persons:RUDDOCK, DONOVAN;persons:Tyson, Mike;s...</td>\n",
       "      <td>1990-01-01 05:00:00</td>\n",
       "      <td>article</td>\n",
       "      <td>Sports</td>\n",
       "      <td>News</td>\n",
       "    </tr>\n",
       "  </tbody>\n",
       "</table>\n",
       "</div>"
      ],
      "text/plain": [
       "   year month                                            web_url  \\\n",
       "1  1990     1  https://www.nytimes.com/1990/01/01/nyregion/br...   \n",
       "2  1990     1  https://www.nytimes.com/1990/01/01/sports/spor...   \n",
       "\n",
       "                     headline  \\\n",
       "1                      Bridge   \n",
       "2    He Has Tyson On His Mind   \n",
       "\n",
       "                                            abstract  \\\n",
       "1  LEAD: One of the many sad bridge stories of 19...   \n",
       "2  LEAD: THOSE on Donovan Ruddock's Christmas-car...   \n",
       "\n",
       "                                      lead_paragraph  \\\n",
       "1  One of the many sad bridge stories of 1989 con...   \n",
       "2  THOSE on Donovan Ruddock's Christmas-card list...   \n",
       "\n",
       "                                            keywords             pub_date  \\\n",
       "1                         subject:Bridge (Card Game)  1990-01-01 05:00:00   \n",
       "2  persons:RUDDOCK, DONOVAN;persons:Tyson, Mike;s...  1990-01-01 05:00:00   \n",
       "\n",
       "  document_type section_name type_of_material  \n",
       "1       article     New York             News  \n",
       "2       article       Sports             News  "
      ]
     },
     "execution_count": 20,
     "metadata": {},
     "output_type": "execute_result"
    }
   ],
   "source": [
    "corpus.head(2)"
   ]
  },
  {
   "cell_type": "markdown",
   "metadata": {},
   "source": [
    "#### Subsetting"
   ]
  },
  {
   "cell_type": "markdown",
   "metadata": {},
   "source": [
    "Let's inspect the distribution of article metadata and subset if necessary:"
   ]
  },
  {
   "cell_type": "code",
   "execution_count": 21,
   "metadata": {},
   "outputs": [
    {
     "data": {
      "text/plain": [
       "document_type\n",
       "article          319087\n",
       "Magazine              6\n",
       "New York              3\n",
       "Business Day          2\n",
       "Sports                1\n",
       "World                 1\n",
       "Archives              1\n",
       "Home & Garden         1\n",
       "Education             1\n",
       "Name: count, dtype: int64"
      ]
     },
     "execution_count": 21,
     "metadata": {},
     "output_type": "execute_result"
    }
   ],
   "source": [
    "corpus.document_type.value_counts()"
   ]
  },
  {
   "cell_type": "code",
   "execution_count": 22,
   "metadata": {},
   "outputs": [],
   "source": [
    "# subset to articles\n",
    "corpus = corpus[corpus.document_type == 'article']"
   ]
  },
  {
   "cell_type": "code",
   "execution_count": 23,
   "metadata": {},
   "outputs": [
    {
     "data": {
      "text/plain": [
       "section_name\n",
       "Business Day      81711\n",
       "New York          50943\n",
       "Sports            33214\n",
       "World             22322\n",
       "U.S.              21847\n",
       "Opinion           20745\n",
       "Style             18490\n",
       "Arts              16463\n",
       "Books              9555\n",
       "Obituaries         8411\n",
       "Home & Garden      5376\n",
       "Magazine           4672\n",
       "Travel             4589\n",
       "Real Estate        4574\n",
       "Archives           3632\n",
       "Week in Review     3460\n",
       "Movies             3451\n",
       "Theater            2349\n",
       "Science            2186\n",
       "Education           600\n",
       "Health              284\n",
       "T Magazine           76\n",
       "Automobiles          74\n",
       "Technology           43\n",
       "Corrections          10\n",
       "Job Market            6\n",
       "Food                  4\n",
       "Name: count, dtype: int64"
      ]
     },
     "execution_count": 23,
     "metadata": {},
     "output_type": "execute_result"
    }
   ],
   "source": [
    "corpus.section_name.value_counts()"
   ]
  },
  {
   "cell_type": "code",
   "execution_count": 24,
   "metadata": {},
   "outputs": [],
   "source": [
    "# add a manual categorization\n",
    "manual_categorion = {\n",
    "    'politics': [\n",
    "        'World',\n",
    "        'U.S.',\n",
    "    ],\n",
    "    'life style': [\n",
    "        'Style',\n",
    "        'Home & Garden',\n",
    "        'Real Estate',\n",
    "        'Travel',\n",
    "        'Health',\n",
    "    ],\n",
    "    'culture': [\n",
    "        'Sports',\n",
    "        'Arts',\n",
    "        'Books',\n",
    "        'Movies',\n",
    "        'Theater'\n",
    "    ],\n",
    "    'hard news': [\n",
    "        'Science',\n",
    "        'Education',\n",
    "        'Technology',\n",
    "        'Business Day',\n",
    "    ],\n",
    "    'misc': [\n",
    "        'New York',\n",
    "        'Opinion',\n",
    "        'Magazine',\n",
    "        'Archives',\n",
    "        'Obituaries',\n",
    "        'Week in Review',\n",
    "        'T Magazine',\n",
    "        'Automobiles',\n",
    "        'Corrections',\n",
    "        'Job Market',\n",
    "        'Food'\n",
    "    ]\n",
    "}\n",
    "manual_categories_lookup = {v: k for k, vs in manual_categorion.items() for v in vs}\n",
    "corpus['category'] = corpus.section_name.apply(lambda x: manual_categories_lookup[x])"
   ]
  },
  {
   "cell_type": "code",
   "execution_count": 25,
   "metadata": {},
   "outputs": [
    {
     "data": {
      "text/plain": [
       "type_of_material\n",
       "News          195509\n",
       "Statistics     34923\n",
       "Review         20844\n",
       "Letter         19762\n",
       "Correction      6397\n",
       "Summary         6361\n",
       "Biography       6157\n",
       "Obituary        5271\n",
       "Editorial       5194\n",
       "Op-Ed           4995\n",
       "Name: count, dtype: int64"
      ]
     },
     "execution_count": 25,
     "metadata": {},
     "output_type": "execute_result"
    }
   ],
   "source": [
    "corpus.type_of_material.value_counts()[:10]"
   ]
  },
  {
   "cell_type": "markdown",
   "metadata": {},
   "source": [
    "Let's take 'News' materials and combine the values in the text columns for each article: "
   ]
  },
  {
   "cell_type": "code",
   "execution_count": 26,
   "metadata": {},
   "outputs": [],
   "source": [
    "# subset\n",
    "news_corpus = corpus[corpus.type_of_material == 'News']"
   ]
  },
  {
   "cell_type": "markdown",
   "metadata": {},
   "source": [
    "#### Preprocessing"
   ]
  },
  {
   "cell_type": "code",
   "execution_count": 28,
   "metadata": {},
   "outputs": [],
   "source": [
    "# concat texts\n",
    "news_corpus['text'] = \\\n",
    "    news_corpus['headline'] + ' ' + \\\n",
    "    news_corpus['abstract'].str.replace('LEAD: ', ' ') + ' ' + \\\n",
    "    news_corpus['lead_paragraph']\n",
    "\n",
    "# drop NAs\n",
    "news_corpus = news_corpus[~news_corpus.text.isna()]"
   ]
  },
  {
   "cell_type": "code",
   "execution_count": 33,
   "metadata": {},
   "outputs": [
    {
     "data": {
      "application/vnd.jupyter.widget-view+json": {
       "model_id": "f4d2dff05a6442ae9c3054becbb3fe17",
       "version_major": 2,
       "version_minor": 0
      },
      "text/plain": [
       "Pandas Apply:   0%|          | 0/195499 [00:00<?, ?it/s]"
      ]
     },
     "metadata": {},
     "output_type": "display_data"
    }
   ],
   "source": [
    "# stem words in the corpus\n",
    "ps = PorterStemmer()\n",
    "\n",
    "def preprocess(text):\n",
    "    # replace extra spaces\n",
    "    text = re.sub(r'\\s+', ' ', text)\n",
    "    text = text.lower()\n",
    "    words = [ps.stem(w) for w in text.split(' ')]\n",
    "    return ' '.join(words)\n",
    "\n",
    "news_corpus['text_preprocessed'] = news_corpus.text.swifter.apply(preprocess)"
   ]
  },
  {
   "cell_type": "markdown",
   "metadata": {},
   "source": [
    "As a next step, we want to compute words frequencies in the target corpus.\n",
    "We will need this information to re-weigh keywords.\n",
    "\n",
    "**_Note:_** This is not reported in the paper but in their replication code."
   ]
  },
  {
   "cell_type": "code",
   "execution_count": 34,
   "metadata": {},
   "outputs": [
    {
     "data": {
      "application/vnd.jupyter.widget-view+json": {
       "model_id": "b597942b9f814afea025e195078745f3",
       "version_major": 2,
       "version_minor": 0
      },
      "text/plain": [
       "  0%|          | 0/195499 [00:00<?, ?it/s]"
      ]
     },
     "metadata": {},
     "output_type": "display_data"
    }
   ],
   "source": [
    "# compute word frequencies (to re-weigh dictionary words)\n",
    "word_freqs = Counter()\n",
    "\n",
    "for sent in tqdm(news_corpus.text):\n",
    "    word_freqs.update(sent.lower().split(' '))\n",
    "\n",
    "word_freqs = dict(word_freqs)"
   ]
  },
  {
   "cell_type": "markdown",
   "metadata": {},
   "source": [
    "### 3. Load the embedding model"
   ]
  },
  {
   "cell_type": "code",
   "execution_count": 35,
   "metadata": {},
   "outputs": [],
   "source": [
    "import gensim.downloader as api\n",
    "\n",
    "# load a pre-trained word2vec model\n",
    "model = api.load('word2vec-google-news-300')"
   ]
  },
  {
   "cell_type": "markdown",
   "metadata": {},
   "source": [
    "**_Note:_** If you use the UK parliamentary speeches corpus, you can also load the corresponding word2vec model I have trained:"
   ]
  },
  {
   "cell_type": "code",
   "execution_count": 21,
   "metadata": {},
   "outputs": [],
   "source": [
    "# Note: if you use the \n",
    "# # load model\n",
    "# from gensim.models import KeyedVectors\n",
    "# fp = '../data/models/uk_commons/word2vec_uk-parl-d300_w10.kv'\n",
    "# wv = KeyedVectors.load_word2vec_format(fp, binary=True)"
   ]
  },
  {
   "cell_type": "markdown",
   "metadata": {},
   "source": [
    "### 4. implement the computation steps"
   ]
  },
  {
   "cell_type": "markdown",
   "metadata": {},
   "source": [
    "We first need a function to compute a weighted average of indicator words embeddings into concept centroids:"
   ]
  },
  {
   "cell_type": "code",
   "execution_count": 37,
   "metadata": {},
   "outputs": [],
   "source": [
    "# compute centroids\n",
    "import numpy as np\n",
    "def find_centroid(words, word_freqs, model):\n",
    "    words = [w for w in words if w in model.index_to_key and w in word_freqs]\n",
    "    vecs = [model[w] * word_freqs[w] for w in words]\n",
    "    vecs = [v for v in vecs if len(v) > 0]\n",
    "    centroid = np.mean(vecs, axis=0)\n",
    "    # centroid = centroid.reshape(1, -1)\n",
    "    return centroid"
   ]
  },
  {
   "cell_type": "markdown",
   "metadata": {},
   "source": [
    "Now we can compute the centroids"
   ]
  },
  {
   "cell_type": "code",
   "execution_count": 38,
   "metadata": {},
   "outputs": [],
   "source": [
    "c_affect = find_centroid(words=affect_dictionary, word_freqs=word_freqs, model=model)\n",
    "c_cognition = find_centroid(words=cognition_dictionary, word_freqs=word_freqs, model=model)"
   ]
  },
  {
   "cell_type": "markdown",
   "metadata": {},
   "source": [
    "The next function is most **important.** \n",
    "It implements their metric:\n",
    "\n",
    "$$\n",
    "Y_i = \\frac{\\text{sim}(\\mathbf{d}_i, \\mathbf{a})+b}{\\text{sim}(\\mathbf{d}_i, \\mathbf{c})+b}\n",
    "$$\n"
   ]
  },
  {
   "cell_type": "code",
   "execution_count": 43,
   "metadata": {},
   "outputs": [],
   "source": [
    "from scipy.spatial.distance import cosine\n",
    "\n",
    "def compute_doc_score(text, word_freqs, word_vectors):\n",
    "    # tokenized preprocessed text\n",
    "    words = text.split(' ')\n",
    "    # compute document representation (re-weighing by word frequencies)\n",
    "    vecs = [word_vectors[w] * word_freqs[w] for w in words if w in word_vectors and w in word_freqs]\n",
    "    if len(vecs) == 0:\n",
    "        return [np.nan]*3\n",
    "    \n",
    "    v = np.mean(vecs, axis=0)  # take mean\n",
    "\n",
    "    a = 1-cosine(v, c_affect) # <== hard coded\n",
    "    c = 1-cosine(v, c_cognition) # <== hard coded\n",
    "    \n",
    "    score = (a + 1) / (c + 1)\n",
    "    \n",
    "    return [a, c, score] # [similarity to affect, similarity to cognition, overall score]\n"
   ]
  },
  {
   "cell_type": "code",
   "execution_count": 44,
   "metadata": {},
   "outputs": [
    {
     "name": "stdout",
     "output_type": "stream",
     "text": [
      "bridg one of the mani sad bridg stori of 1989 concern the final of the australian nation team championship, play in canberra, the capital, in february. it attract an entri of 178 teams, far more than an equival american event would do, and there were player from new zealand, japan and the unit one of the mani sad bridg stori of 1989 concern the final of the australian nation team championship, play in canberra, the capital, in february. it attract an entri of 178 teams, far more than an equival american event would do, and there were player from new zealand, japan and the unit states.\n",
      "affect: 0.37, cognition: 0.43, score: 0.96\n"
     ]
    }
   ],
   "source": [
    "# test\n",
    "test = news_corpus.text_preprocessed.values[0].lower()\n",
    "print(test)\n",
    "a, c, s =  compute_doc_score(test, word_freqs, model)\n",
    "print(f'affect: {a:.2f}, cognition: {c:.2f}, score: {s:.2f}')"
   ]
  },
  {
   "cell_type": "markdown",
   "metadata": {},
   "source": [
    "The next function is just a helper function to perform computations on all documents in a data frame:"
   ]
  },
  {
   "cell_type": "code",
   "execution_count": 48,
   "metadata": {},
   "outputs": [
    {
     "data": {
      "application/vnd.jupyter.widget-view+json": {
       "model_id": "e70d608b26bd473a825d1d1da9c97539",
       "version_major": 2,
       "version_minor": 0
      },
      "text/plain": [
       "  0%|          | 0/5 [00:00<?, ?it/s]"
      ]
     },
     "metadata": {},
     "output_type": "display_data"
    },
    {
     "data": {
      "text/plain": [
       "[['https://www.nytimes.com/1990/01/01/nyregion/bridge-173390.html',\n",
       "  0.37388940939168214,\n",
       "  0.4279316870734251,\n",
       "  0.9621534572199992],\n",
       " ['https://www.nytimes.com/1990/01/01/sports/sports-world-specials-boxing-he-has-tyson-on-his-mind.html',\n",
       "  0.28067074091957755,\n",
       "  0.263187088824946,\n",
       "  1.0138409046841157],\n",
       " ['https://www.nytimes.com/1990/01/01/nyregion/for-dinkins-pomp-ceremony-triumph-and-a-dream-realized.html',\n",
       "  0.3850042680355098,\n",
       "  0.4425976437259218,\n",
       "  0.9600766187710797],\n",
       " ['https://www.nytimes.com/1990/01/01/business/calm-sought-in-argentina.html',\n",
       "  0.37085675006425944,\n",
       "  0.41886711484794703,\n",
       "  0.9661628884895027],\n",
       " ['https://www.nytimes.com/1990/01/01/world/upheaval-in-the-east-noriega-aide-israeli-or-driver-how-signals-cross.html',\n",
       "  0.4282787567191755,\n",
       "  0.47561965142786133,\n",
       "  0.9679179559157556]]"
      ]
     },
     "execution_count": 48,
     "metadata": {},
     "output_type": "execute_result"
    }
   ],
   "source": [
    "def compute_docs_scores(df: pd.DataFrame, text_col: str, id_col: str, tolower: bool = True):\n",
    "    out = []\n",
    "    df = df[~df[text_col].isna()]\n",
    "    df = df[df[text_col].apply(len) > 0]\n",
    "    if tolower:\n",
    "        df[text_col] = df[text_col].str.lower()\n",
    "    # note: we could parallelize this for loop\n",
    "    for i, text in tqdm(zip(df[id_col], df[text_col]), total=len(df)):\n",
    "        s = compute_doc_score(text, word_freqs, model) # <= hard coded\n",
    "        out.append([i] + s)\n",
    "    return out\n",
    "\n",
    "# test\n",
    "compute_docs_scores(news_corpus.head(5), text_col='text_preprocessed', id_col='web_url')"
   ]
  },
  {
   "cell_type": "code",
   "execution_count": 49,
   "metadata": {},
   "outputs": [
    {
     "data": {
      "application/vnd.jupyter.widget-view+json": {
       "model_id": "9c9e4622eb72438fbc3081e1733804ec",
       "version_major": 2,
       "version_minor": 0
      },
      "text/plain": [
       "  0%|          | 0/10000 [00:00<?, ?it/s]"
      ]
     },
     "metadata": {},
     "output_type": "display_data"
    }
   ],
   "source": [
    "# apply scoring function to each speech\n",
    "scores = compute_docs_scores(df=news_corpus.sample(10_000), text_col='text_preprocessed', id_col='web_url')"
   ]
  },
  {
   "cell_type": "code",
   "execution_count": 53,
   "metadata": {},
   "outputs": [],
   "source": [
    "# convert to data frame\n",
    "scores_df = pd.DataFrame(scores, columns=['web_url', 'affect', 'cognition', 'score'])\n",
    "\n",
    "# add with remaining meta data\n",
    "scores_joined_df = scores_df.join(news_corpus.set_index('web_url'), on='web_url')"
   ]
  },
  {
   "cell_type": "code",
   "execution_count": 54,
   "metadata": {},
   "outputs": [
    {
     "data": {
      "text/plain": [
       "category\n",
       "culture       0.965659\n",
       "hard news     0.967249\n",
       "life style    0.967155\n",
       "misc          0.967568\n",
       "politics      0.965964\n",
       "Name: score, dtype: float64"
      ]
     },
     "execution_count": 54,
     "metadata": {},
     "output_type": "execute_result"
    }
   ],
   "source": [
    "scores_joined_df.groupby('category').score.mean()"
   ]
  },
  {
   "cell_type": "code",
   "execution_count": 55,
   "metadata": {},
   "outputs": [
    {
     "data": {
      "image/png": "[encoded data removed]",
      "text/plain": [
       "<Figure size 640x480 with 1 Axes>"
      ]
     },
     "metadata": {},
     "output_type": "display_data"
    }
   ],
   "source": [
    "# plot an overlayed histogram of scores by category\n",
    "for cat in scores_joined_df.category.unique():\n",
    "    plt.hist(scores_joined_df[scores_joined_df.category == cat].score, bins=100, alpha=0.5, label=cat)\n",
    "plt.legend()\n",
    "plt.show()"
   ]
  },
  {
   "cell_type": "markdown",
   "metadata": {},
   "source": [
    "**Interpretation:**\n",
    "\n",
    "There seem to be no differences between news categories in how emotional they are!\n",
    "\n",
    "What could be reasons for our null findings?"
   ]
  }
 ],
 "metadata": {
  "kernelspec": {
   "display_name": "advanced_text_analysis_gesis_2023",
   "language": "python",
   "name": "python3"
  },
  "language_info": {
   "codemirror_mode": {
    "name": "ipython",
    "version": 3
   },
   "file_extension": ".py",
   "mimetype": "text/x-python",
   "name": "python",
   "nbconvert_exporter": "python",
   "pygments_lexer": "ipython3",
   "version": "3.10.12"
  },
  "orig_nbformat": 4
 },
 "nbformat": 4,
 "nbformat_minor": 2
}
