{
 "cells": [
  {
   "cell_type": "markdown",
   "metadata": {},
   "source": [
    "# Training a word embedding model from scratch\n",
    "\n",
    "This notebook illustrates how to use `gensim` to train a word2vec model from scratch on original data."
   ]
  },
  {
   "cell_type": "markdown",
   "metadata": {},
   "source": [
    "## Setup"
   ]
  },
  {
   "cell_type": "code",
   "execution_count": 1,
   "metadata": {},
   "outputs": [],
   "source": [
    "import os\n",
    "import gensim\n",
    "import numpy as np\n",
    "import pandas as pd"
   ]
  },
  {
   "cell_type": "markdown",
   "metadata": {},
   "source": [
    "## Load the data"
   ]
  },
  {
   "cell_type": "code",
   "execution_count": 2,
   "metadata": {},
   "outputs": [],
   "source": [
    "data_path = os.path.join('..', 'data', 'corpora', 'gbr_commons')\n",
    "os.makedirs(data_path, exist_ok=True)"
   ]
  },
  {
   "cell_type": "markdown",
   "metadata": {},
   "source": [
    "I have prepared a corpus of sentence-splitted speeches from the UK *House of Commons* (lower house chamber of the parliament).\n",
    "The file is too big to be uploaded on Github.\n",
    "So you need to download it if you have not yet done so:"
   ]
  },
  {
   "cell_type": "code",
   "execution_count": 3,
   "metadata": {},
   "outputs": [],
   "source": [
    "fp = os.path.join(data_path, 'gbr_commons_speech_sentences_tokenized.tsv.gzip')\n",
    "if not os.path.exists(fp):\n",
    "    print('downloading the corpus ... might take 3-10 minutes (depending on your internet connection)')\n",
    "    url = 'https://www.dropbox.com/scl/fi/wkxj7k2uiy0935dmbjp34/gbr_commons_speech_sentences_tokenized.tsv.gzip?rlkey=urjdpz0vgbymllzugzsh0m2ld&dl=1'\n",
    "    corp = pd.read_csv(url, sep='\\t', compression='gzip')\n",
    "    corp.to_csv(fp, sep='\\t', compression='gzip', index=False)\n",
    "    # keep only the first 100K sentences in the corpus\n",
    "    corp = corp.iloc[:100_000]\n",
    "else:\n",
    "    # load only the first 100K sentences in the corpus\n",
    "    corp = pd.read_csv(fp, sep='\\t', compression='gzip', nrows=100_000)\n",
    "\n",
    "corp = corp[~corp.text_tokenized.isna()]"
   ]
  },
  {
   "cell_type": "code",
   "execution_count": 4,
   "metadata": {},
   "outputs": [
    {
     "data": {
      "text/html": [
       "<div>\n",
       "<style scoped>\n",
       "    .dataframe tbody tr th:only-of-type {\n",
       "        vertical-align: middle;\n",
       "    }\n",
       "\n",
       "    .dataframe tbody tr th {\n",
       "        vertical-align: top;\n",
       "    }\n",
       "\n",
       "    .dataframe thead th {\n",
       "        text-align: right;\n",
       "    }\n",
       "</style>\n",
       "<table border=\"1\" class=\"dataframe\">\n",
       "  <thead>\n",
       "    <tr style=\"text-align: right;\">\n",
       "      <th></th>\n",
       "      <th>text_id</th>\n",
       "      <th>text_tokenized</th>\n",
       "    </tr>\n",
       "  </thead>\n",
       "  <tbody>\n",
       "    <tr>\n",
       "      <th>0</th>\n",
       "      <td>uk.org.publicwhip/debate/1970-01-19a.1.5_0_0</td>\n",
       "      <td>On a point of order</td>\n",
       "    </tr>\n",
       "    <tr>\n",
       "      <th>1</th>\n",
       "      <td>uk.org.publicwhip/debate/1970-01-19a.1.5_0_1</td>\n",
       "      <td>Is it true Mr Speaker that your Private Secret...</td>\n",
       "    </tr>\n",
       "    <tr>\n",
       "      <th>2</th>\n",
       "      <td>uk.org.publicwhip/debate/1970-01-19a.1.5_0_2</td>\n",
       "      <td>If that be true then it is a matter of deep re...</td>\n",
       "    </tr>\n",
       "    <tr>\n",
       "      <th>3</th>\n",
       "      <td>uk.org.publicwhip/debate/1970-01-19a.1.5_0_3</td>\n",
       "      <td>Will you Mr Speaker be kind enough to convey o...</td>\n",
       "    </tr>\n",
       "    <tr>\n",
       "      <th>4</th>\n",
       "      <td>uk.org.publicwhip/debate/1970-01-19a.1.7_0_0</td>\n",
       "      <td>On behalf of hon and right hon Members on this...</td>\n",
       "    </tr>\n",
       "  </tbody>\n",
       "</table>\n",
       "</div>"
      ],
      "text/plain": [
       "                                        text_id  \\\n",
       "0  uk.org.publicwhip/debate/1970-01-19a.1.5_0_0   \n",
       "1  uk.org.publicwhip/debate/1970-01-19a.1.5_0_1   \n",
       "2  uk.org.publicwhip/debate/1970-01-19a.1.5_0_2   \n",
       "3  uk.org.publicwhip/debate/1970-01-19a.1.5_0_3   \n",
       "4  uk.org.publicwhip/debate/1970-01-19a.1.7_0_0   \n",
       "\n",
       "                                      text_tokenized  \n",
       "0                                On a point of order  \n",
       "1  Is it true Mr Speaker that your Private Secret...  \n",
       "2  If that be true then it is a matter of deep re...  \n",
       "3  Will you Mr Speaker be kind enough to convey o...  \n",
       "4  On behalf of hon and right hon Members on this...  "
      ]
     },
     "execution_count": 4,
     "metadata": {},
     "output_type": "execute_result"
    }
   ],
   "source": [
    "corp.head()"
   ]
  },
  {
   "cell_type": "markdown",
   "metadata": {},
   "source": [
    "The data file maps sentences to sentence IDs.\n",
    "The sentences have been preprocessed and tokenized into words and then concatenated with white spaces.\n",
    "So to get a sentences words, we can split at the white space:"
   ]
  },
  {
   "cell_type": "code",
   "execution_count": 5,
   "metadata": {},
   "outputs": [
    {
     "data": {
      "text/plain": [
       "'Is it true Mr Speaker that your Private Secretary Sir Francis Reid died suddenly over the weekend'"
      ]
     },
     "execution_count": 5,
     "metadata": {},
     "output_type": "execute_result"
    }
   ],
   "source": [
    "# pre-tokenized text\n",
    "corp.text_tokenized[1]"
   ]
  },
  {
   "cell_type": "code",
   "execution_count": 6,
   "metadata": {},
   "outputs": [
    {
     "name": "stdout",
     "output_type": "stream",
     "text": [
      "['Is', 'it', 'true', 'Mr', 'Speaker', 'that', 'your', 'Private', 'Secretary', 'Sir', 'Francis', 'Reid', 'died', 'suddenly', 'over', 'the', 'weekend']\n"
     ]
    }
   ],
   "source": [
    "# tokens\n",
    "print(corp.text_tokenized[1].split())"
   ]
  },
  {
   "cell_type": "markdown",
   "metadata": {},
   "source": [
    "## How to train (illustration)"
   ]
  },
  {
   "cell_type": "markdown",
   "metadata": {},
   "source": [
    "To train a word2vec model on a corpus, we need to\n",
    "\n",
    "1. create a new model instance `model = gensim.models.Word2Vec(...)`. Here we pass all model *hyper-parameters* like the embedding dimension and window size, the algorithm we want to use (Skip-gram or CBOW), etc.\n",
    "2. build the model's vocabulary on our corpus `model.build_vocab(...)`\n",
    "3. train the model by calling `model.train(...)`"
   ]
  },
  {
   "cell_type": "markdown",
   "metadata": {},
   "source": [
    "### Train on a corpus (in memory)"
   ]
  },
  {
   "cell_type": "markdown",
   "metadata": {},
   "source": [
    "All you need as **input** for these steps is a list of sentences split into tokens (\"words\").\n",
    "That is, you input data should be prepared as follows:\n",
    "\n",
    "```python\n",
    "[\n",
    "    ['Words', 'in', 'sentence', 'one'],\n",
    "    ['Some', 'more', 'words', 'in', 'sentence', 'two'],\n",
    "    ...\n",
    "]\n",
    "```"
   ]
  },
  {
   "cell_type": "markdown",
   "metadata": {},
   "source": [
    "Let's split all our German *Bundestag* speech sentences into words:\n"
   ]
  },
  {
   "cell_type": "code",
   "execution_count": 7,
   "metadata": {},
   "outputs": [],
   "source": [
    "# split pre-tokeniezd sentences into words\n",
    "sentences = corp.text_tokenized.apply(lambda x: x.split(' ')).to_list()\n",
    "# note: for larger files you can use `sentences = corp.text_tokenized.swirfter.apply(lambda x: x.split(' ')).to_list()` (but `pip install swifter` first)"
   ]
  },
  {
   "cell_type": "code",
   "execution_count": 8,
   "metadata": {},
   "outputs": [
    {
     "data": {
      "text/plain": [
       "[['On', 'a', 'point', 'of', 'order'],\n",
       " ['Is',\n",
       "  'it',\n",
       "  'true',\n",
       "  'Mr',\n",
       "  'Speaker',\n",
       "  'that',\n",
       "  'your',\n",
       "  'Private',\n",
       "  'Secretary',\n",
       "  'Sir',\n",
       "  'Francis',\n",
       "  'Reid',\n",
       "  'died',\n",
       "  'suddenly',\n",
       "  'over',\n",
       "  'the',\n",
       "  'weekend'],\n",
       " ['If',\n",
       "  'that',\n",
       "  'be',\n",
       "  'true',\n",
       "  'then',\n",
       "  'it',\n",
       "  'is',\n",
       "  'a',\n",
       "  'matter',\n",
       "  'of',\n",
       "  'deep',\n",
       "  'regret',\n",
       "  'to',\n",
       "  'all',\n",
       "  'Members',\n",
       "  'on',\n",
       "  'both',\n",
       "  'sides',\n",
       "  'of',\n",
       "  'the',\n",
       "  'House',\n",
       "  'who',\n",
       "  'shared',\n",
       "  'deep',\n",
       "  'friendships',\n",
       "  'with',\n",
       "  'Sir',\n",
       "  'Francis'],\n",
       " ['Will',\n",
       "  'you',\n",
       "  'Mr',\n",
       "  'Speaker',\n",
       "  'be',\n",
       "  'kind',\n",
       "  'enough',\n",
       "  'to',\n",
       "  'convey',\n",
       "  'our',\n",
       "  'deep',\n",
       "  'sympathy',\n",
       "  'to',\n",
       "  'the',\n",
       "  'members',\n",
       "  'of',\n",
       "  'his',\n",
       "  'family']]"
      ]
     },
     "execution_count": 8,
     "metadata": {},
     "output_type": "execute_result"
    }
   ],
   "source": [
    "# print first 4 sentences\n",
    "sentences[:4]"
   ]
  },
  {
   "cell_type": "markdown",
   "metadata": {},
   "source": [
    "Now we are ready to create a `Word2Vec` model instance.\n",
    "The following model hyper-parameters are relevant for our purposes:\n",
    "\n",
    "- `vector_size`: the number of dimensions $d$ of th word embedding matrix\n",
    "- `window`: the number of context words to use for modeling \n",
    "- `min_count`: the minimum number of times a word needs to occur in the corpus to be included in the vocabulary\n",
    "- `sg`: set to 1 to use the Skip-Gram algorithm, otherwise uses CBOW algorithm\n",
    "- `hs`: set to 1 to use the hierarchical softmax\n",
    "- `negative`: number of negative samples to use per focus word when computing the loss\n",
    "- `epochs`: number of times to iterate over corpus (all sentences)\n",
    "- `workers`: number of CPU cores to use for training parallelization"
   ]
  },
  {
   "cell_type": "code",
   "execution_count": 9,
   "metadata": {},
   "outputs": [],
   "source": [
    "import gensim\n",
    "\n",
    "# create a new model instance\n",
    "model = gensim.models.Word2Vec(\n",
    "    vector_size=10, # <= super low dimensionality for testing\n",
    "    window=5,\n",
    "    min_count=5,\n",
    "    sg=1,\n",
    "    hs=1,\n",
    "    negative=10, # <== if negative = 2*window, data is \"balanced\"\n",
    "    epochs=5, # <= set very low for testing\n",
    "    workers=10 # <= 10 because I have 10 cores on my machine\n",
    ")"
   ]
  },
  {
   "cell_type": "code",
   "execution_count": 10,
   "metadata": {},
   "outputs": [
    {
     "data": {
      "text/plain": [
       "5"
      ]
     },
     "execution_count": 10,
     "metadata": {},
     "output_type": "execute_result"
    }
   ],
   "source": [
    "model.epochs"
   ]
  },
  {
   "cell_type": "markdown",
   "metadata": {},
   "source": [
    "Next, we build the vocabulary:"
   ]
  },
  {
   "cell_type": "code",
   "execution_count": 11,
   "metadata": {},
   "outputs": [],
   "source": [
    "# build the vocabulary from the list of sentences\n",
    "model.build_vocab(sentences)"
   ]
  },
  {
   "cell_type": "code",
   "execution_count": 12,
   "metadata": {},
   "outputs": [
    {
     "data": {
      "text/plain": [
       "99997"
      ]
     },
     "execution_count": 12,
     "metadata": {},
     "output_type": "execute_result"
    }
   ],
   "source": [
    "model.corpus_count"
   ]
  },
  {
   "cell_type": "markdown",
   "metadata": {},
   "source": [
    "Now we can train the model:"
   ]
  },
  {
   "cell_type": "code",
   "execution_count": 13,
   "metadata": {},
   "outputs": [
    {
     "data": {
      "text/plain": [
       "(7100376, 10061760)"
      ]
     },
     "execution_count": 13,
     "metadata": {},
     "output_type": "execute_result"
    }
   ],
   "source": [
    "# train the model on the list of sentences\n",
    "model.train(\n",
    "    sentences, \n",
    "    total_examples=model.corpus_count, \n",
    "    epochs=model.epochs\n",
    ")"
   ]
  },
  {
   "cell_type": "code",
   "execution_count": 14,
   "metadata": {},
   "outputs": [
    {
     "data": {
      "text/plain": [
       "(gensim.models.word2vec.Word2Vec, gensim.models.keyedvectors.KeyedVectors)"
      ]
     },
     "execution_count": 14,
     "metadata": {},
     "output_type": "execute_result"
    }
   ],
   "source": [
    "type(model), type(model.wv)"
   ]
  },
  {
   "cell_type": "code",
   "execution_count": 15,
   "metadata": {},
   "outputs": [
    {
     "data": {
      "text/plain": [
       "10"
      ]
     },
     "execution_count": 15,
     "metadata": {},
     "output_type": "execute_result"
    }
   ],
   "source": [
    "model.wv.vector_size"
   ]
  },
  {
   "cell_type": "markdown",
   "metadata": {},
   "source": [
    "Let's compute similarities on a number of hand-picked word pairs to see whether the model has learned sensible word vectors.\n",
    "\n",
    "*Note:* This is more of a \"face validity\" check and no full-fledged validation"
   ]
  },
  {
   "cell_type": "code",
   "execution_count": 16,
   "metadata": {},
   "outputs": [
    {
     "name": "stdout",
     "output_type": "stream",
     "text": [
      "\"Government\" - \"law\": 0.429\n",
      "\"Government\" - \"bill\": 0.379\n",
      "\"Opposition\" - \"law\": 0.338\n",
      "\"Opposition\" - \"bill\": 0.267\n",
      "\"Opposition\" - \"proposal\": 0.748\n",
      "\"bill\" - \"proposal\": 0.457\n",
      "\"Labour\" - \"Government\": 0.777\n",
      "\"Labour\" - \"Opposition\": 0.721\n",
      "\"Conservatives\" - \"Government\": 0.632\n",
      "\"Conservatives\" - \"Opposition\": 0.714\n",
      "\"shadow\" - \"Minister\": 0.720\n",
      "\"Opposition\" - \"bench\": 0.770\n",
      "\"chair\" - \"bench\": 0.631\n",
      "\"Chair\" - \"Speaker\": 0.951\n",
      "\"hon\" - \"Member\": 0.518\n",
      "\"honourable\" - \"Member\": 0.319\n",
      "\"hon\" - \"Friend\": 0.626\n",
      "\"Friend\" - \"Member\": 0.891\n"
     ]
    }
   ],
   "source": [
    "# evaluate\n",
    "pairs = [\n",
    "    ('Sir', 'Madam'),\n",
    "    ('Pound', 'Euro'),\n",
    "    ('Pound', 'Dollar'),\n",
    "    ('Government', 'law'),\n",
    "    ('Government', 'bill'),\n",
    "    ('Government', 'propoasal'),\n",
    "    ('Opposition', 'law'),\n",
    "    ('Opposition', 'bill'),\n",
    "    ('Opposition', 'proposal'),\n",
    "    ('bill', 'proposal'),\n",
    "    ('Labour', 'Government'),\n",
    "    ('Labour', 'Opposition'),\n",
    "    ('Conservatives', 'Government'),\n",
    "    ('Conservatives', 'Opposition'),\n",
    "    ('shadow', 'Minister'),\n",
    "    ('Opposition', 'bench'),\n",
    "    ('chair', 'bench'),\n",
    "    ('Chair', 'Speaker'),\n",
    "    ('hon', 'Member'),\n",
    "    ('honourable', 'Member'),\n",
    "    ('hon', 'Friend'),\n",
    "    ('Friend', 'Member')\n",
    "]\n",
    "for pair in pairs:\n",
    "    if all(p in model.wv.key_to_index for p in pair):\n",
    "        print(f'\"{pair[0]}\" - \"{pair[1]}\": {model.wv.similarity(pair[0], pair[1]):.3f}')"
   ]
  },
  {
   "cell_type": "code",
   "execution_count": 17,
   "metadata": {},
   "outputs": [
    {
     "data": {
      "text/plain": [
       "True"
      ]
     },
     "execution_count": 17,
     "metadata": {},
     "output_type": "execute_result"
    }
   ],
   "source": [
    "'Minister' in model.wv "
   ]
  },
  {
   "cell_type": "markdown",
   "metadata": {},
   "source": [
    "### Train with a corpus read from disk\n",
    "\n",
    "The above code works just fine.\n",
    "But it has a computational bottleneck!\n",
    "To iterate over the list of sentences, we need to have them all loaded into our working memory (RAM).\n",
    "If our corpus is very large -- which it should be to enable learning of reliable word embeddings --, this might be too burdensome for your computer.\n",
    "\n",
    "So instead of loading the entire corpus in the RAW, we can iteratively read batches of sentences from a data file that exists somewhere on the hard drive (\"disk\") of your computer.\n",
    "For this, we need an \"iterable\" class that implements \"yields\" sentences in our corpus one at a time.\n",
    "\n",
    "In the next code cell, we define such a class.\n",
    "This class reads the sentences from a (ZIP-ed) CSV file and splits sentences at white spaces before yielding them.\n"
   ]
  },
  {
   "cell_type": "code",
   "execution_count": 18,
   "metadata": {},
   "outputs": [],
   "source": [
    "import gzip\n",
    "from tqdm.auto import tqdm\n",
    "\n",
    "# get corpus sentences\n",
    "class SentenceCorpus(object):\n",
    "    \"\"\"Iterable class for reading a corpus from a file.\n",
    "    \n",
    "    Parameters\n",
    "    ----------\n",
    "    filepath : str\n",
    "        Path to the corpus file.\n",
    "    sep : str, optional\n",
    "        Separator for splitting the lines into tokens. Default: ','\n",
    "    compressed : bool, optional\n",
    "        Whether the file is compressed. Default: False\n",
    "    skip : int, optional\n",
    "        Number of lines to skip at the beginning of the file. Default: 1\n",
    "    nrows : int, optional\n",
    "        Number of lines to read from the file. Default: None (read all lines)\n",
    "    \n",
    "    Yields\n",
    "    ------\n",
    "    list of str\n",
    "\n",
    "    \"\"\"\n",
    "    # note: I've already added a lot of functionality here (e.g. reading from compressed files, skip rows, limit the number of rows to read).\n",
    "    #       Hence, the actual code is a bit more complex than what you'd need in some use cases.\n",
    "    def __init__(self, filepath, sep='\\t', compressed=False, skip=1, nrows=None):\n",
    "        self.filepath = filepath\n",
    "        self.sep = sep\n",
    "        self.compressed = compressed\n",
    "        # number of lines to skip (e.g., 1 for csv file)\n",
    "        self.skip = skip if skip else 0\n",
    "        with gzip.open(self.filepath, 'rt', encoding='utf-8') if self.compressed else open(self.filepath, 'r', encoding='utf-8') as file:\n",
    "            # count numnber of lines in file\n",
    "            corpus_size = len(file.readlines())\n",
    "        self.nrows = nrows if nrows else corpus_size\n",
    "        if self.skip > 0:\n",
    "            self.nrows = min(self.nrows+self.skip, corpus_size)\n",
    "        self.corpus_size = self.nrows-self.skip\n",
    "    \n",
    "    def __len__(self):\n",
    "        return self.corpus_size\n",
    "    \n",
    "    def __iter__(self):\n",
    "        # open file\n",
    "        with gzip.open(self.filepath, 'rt', encoding='utf-8') if self.compressed else open(self.filepath, 'r', encoding='utf-8') as file:\n",
    "            # compute how many rows to read in total\n",
    "            max_ = self.nrows\n",
    "            # for each line in file\n",
    "            for i, line in enumerate(file):\n",
    "                # skip if you want to skipp first `skip` lines\n",
    "                if i <= self.skip:\n",
    "                    continue\n",
    "                # stop if you have read max number of lines\n",
    "                if i >= max_:\n",
    "                    break\n",
    "                # try to split text into words (assuming that the text is in the second column)\n",
    "                try:\n",
    "                    # notes: \n",
    "                    #   - the `self.sep` says what character you want to use for spliting the line into columns\n",
    "                    #   - the `[1]` just says that you'll assume that the text is in the second column\n",
    "                    #     CAUTION: here we assume that the text is in the second column!\n",
    "                    words = line.strip().split(self.sep)[1].split(' ')\n",
    "                except:\n",
    "                    continue\n",
    "                yield words"
   ]
  },
  {
   "cell_type": "markdown",
   "metadata": {},
   "source": [
    "Let's read the some 100,000 sentences from our corpus as above:"
   ]
  },
  {
   "cell_type": "code",
   "execution_count": 19,
   "metadata": {},
   "outputs": [],
   "source": [
    "fp = os.path.join(data_path, 'gbr_commons_speech_sentences_tokenized.tsv.gzip')\n",
    "sentences = SentenceCorpus(filepath=fp, compressed=True, nrows=100_000)\n",
    "# note: loading it takes time because it needs to count all lines in the file once"
   ]
  },
  {
   "cell_type": "code",
   "execution_count": 20,
   "metadata": {},
   "outputs": [
    {
     "data": {
      "text/plain": [
       "100000"
      ]
     },
     "execution_count": 20,
     "metadata": {},
     "output_type": "execute_result"
    }
   ],
   "source": [
    "len(sentences)"
   ]
  },
  {
   "cell_type": "code",
   "execution_count": 21,
   "metadata": {},
   "outputs": [
    {
     "data": {
      "text/plain": [
       "99996"
      ]
     },
     "execution_count": 21,
     "metadata": {},
     "output_type": "execute_result"
    }
   ],
   "source": [
    "# note: some lines are skipped due to text file formating errors\n",
    "sum(1 for line in sentences)"
   ]
  },
  {
   "cell_type": "code",
   "execution_count": 22,
   "metadata": {},
   "outputs": [],
   "source": [
    "model = gensim.models.Word2Vec(\n",
    "    vector_size=10, # <= super low dimensionality for testing\n",
    "    window=5,\n",
    "    min_count=5,\n",
    "    sg=1,\n",
    "    hs=1,\n",
    "    negative=5,\n",
    "    epochs=5, # <= set very low for testing\n",
    "    workers=10\n",
    ")"
   ]
  },
  {
   "cell_type": "code",
   "execution_count": 23,
   "metadata": {},
   "outputs": [],
   "source": [
    "model.build_vocab(sentences)"
   ]
  },
  {
   "cell_type": "code",
   "execution_count": 24,
   "metadata": {},
   "outputs": [
    {
     "data": {
      "text/plain": [
       "(7101307, 10061675)"
      ]
     },
     "execution_count": 24,
     "metadata": {},
     "output_type": "execute_result"
    }
   ],
   "source": [
    "model.train(\n",
    "    sentences, \n",
    "    total_examples=model.corpus_count, \n",
    "    epochs=model.epochs\n",
    ")"
   ]
  },
  {
   "cell_type": "markdown",
   "metadata": {},
   "source": [
    "Let's again compute similarities on our hand-picked word pairs:"
   ]
  },
  {
   "cell_type": "code",
   "execution_count": 25,
   "metadata": {},
   "outputs": [
    {
     "name": "stdout",
     "output_type": "stream",
     "text": [
      "\"Government\" - \"law\": 0.420\n",
      "\"Government\" - \"bill\": 0.400\n",
      "\"Opposition\" - \"law\": 0.375\n",
      "\"Opposition\" - \"bill\": 0.271\n",
      "\"Opposition\" - \"proposal\": 0.708\n",
      "\"bill\" - \"proposal\": 0.373\n",
      "\"Labour\" - \"Government\": 0.791\n",
      "\"Labour\" - \"Opposition\": 0.691\n",
      "\"Conservatives\" - \"Government\": 0.588\n",
      "\"Conservatives\" - \"Opposition\": 0.593\n",
      "\"shadow\" - \"Minister\": 0.669\n",
      "\"Opposition\" - \"bench\": 0.820\n",
      "\"chair\" - \"bench\": 0.683\n",
      "\"Chair\" - \"Speaker\": 0.965\n",
      "\"hon\" - \"Member\": 0.473\n",
      "\"honourable\" - \"Member\": 0.244\n",
      "\"hon\" - \"Friend\": 0.599\n",
      "\"Friend\" - \"Member\": 0.869\n"
     ]
    }
   ],
   "source": [
    "for pair in pairs:\n",
    "    if all(p in model.wv.key_to_index for p in pair):\n",
    "        print(f'\"{pair[0]}\" - \"{pair[1]}\": {model.wv.similarity(pair[0], pair[1]):.3f}')"
   ]
  },
  {
   "cell_type": "markdown",
   "metadata": {},
   "source": [
    "## Train, for real"
   ]
  },
  {
   "cell_type": "code",
   "execution_count": 26,
   "metadata": {},
   "outputs": [
    {
     "data": {
      "text/plain": [
       "26290959"
      ]
     },
     "execution_count": 26,
     "metadata": {},
     "output_type": "execute_result"
    }
   ],
   "source": [
    "fp = os.path.join(data_path, 'gbr_commons_speech_sentences_tokenized.tsv.gzip')\n",
    "sentences = SentenceCorpus(filepath=fp, compressed=True)\n",
    "# number of sentences in the corpus\n",
    "len(sentences)"
   ]
  },
  {
   "cell_type": "code",
   "execution_count": 27,
   "metadata": {},
   "outputs": [
    {
     "data": {
      "text/plain": [
       "519617649"
      ]
     },
     "execution_count": 27,
     "metadata": {},
     "output_type": "execute_result"
    }
   ],
   "source": [
    "# number of tokens in the corpus\n",
    "sum([len(text) for text in sentences])"
   ]
  },
  {
   "cell_type": "code",
   "execution_count": 28,
   "metadata": {},
   "outputs": [],
   "source": [
    "model = gensim.models.Word2Vec(\n",
    "    vector_size=100, # <= low dimensionality for testing\n",
    "    window=5,\n",
    "    min_count=25, # <= words should appear at least 25 times in the corpus\n",
    "    sg=1,\n",
    "    hs=1,\n",
    "    negative=5,\n",
    "    epochs=10, # <= set very low for testing\n",
    "    workers=10,\n",
    "    sorted_vocab=1,\n",
    ")"
   ]
  },
  {
   "cell_type": "code",
   "execution_count": 29,
   "metadata": {},
   "outputs": [],
   "source": [
    "model.build_vocab(sentences) # <== takes long because corpus is large "
   ]
  },
  {
   "cell_type": "markdown",
   "metadata": {},
   "source": [
    "Because training is going to take a while, we'll add a \"callback\" function that prints the loss (i.e., the gap between predicted and observed values) after each epoch\n",
    "\n",
    "*source:* https://stackoverflow.com/a/54891714"
   ]
  },
  {
   "cell_type": "code",
   "execution_count": 30,
   "metadata": {},
   "outputs": [],
   "source": [
    "import time\n",
    "import gensim\n",
    "\n",
    "class callback(gensim.models.callbacks.CallbackAny2Vec):\n",
    "    '''Callback to print loss after each epoch.'''\n",
    "\n",
    "    def __init__(self):\n",
    "        self.epoch = 0\n",
    "        # record the start time of the training\n",
    "    \n",
    "    def on_epoch_begin(self, model):\n",
    "        print(f'Epoch #{self.epoch} start ...', end=' ')\n",
    "        self.ts = time.time()\n",
    "\n",
    "    def on_epoch_end(self, model):\n",
    "        # compute the time delta of the epoch relative to self.ts\n",
    "        delta = time.time() - self.ts\n",
    "        # print the delta time and loss after each epoch\n",
    "        loss = model.get_latest_training_loss()\n",
    "        print(f'Epoch #{self.epoch} took {int(delta // 60)}:{int(delta % 60)}m; loss = {loss}')\n",
    "        self.epoch += 1"
   ]
  },
  {
   "cell_type": "code",
   "execution_count": 32,
   "metadata": {},
   "outputs": [],
   "source": [
    "model.train(\n",
    "    sentences, \n",
    "    total_examples=model.corpus_count, \n",
    "    epochs=model.epochs,\n",
    "    # below the thing you need to adapt to use our custom callback that prints progress\n",
    "    compute_loss=True, \n",
    "    callbacks=[callback()]\n",
    ")\n",
    "\n",
    "# note: the 'loss' values printed below are increasing =(\n",
    "#       This is because gensim's reporting is buggy (https://github.com/RaRe-Technologies/gensim/pull/2135)\n",
    "#       So don't make hard jdugements about 'convergence' \n",
    "#        based on the loss values printed below"
   ]
  },
  {
   "cell_type": "code",
   "execution_count": 33,
   "metadata": {},
   "outputs": [
    {
     "name": "stdout",
     "output_type": "stream",
     "text": [
      "\"Sir\" - \"Madam\": 0.179\n",
      "\"Pound\" - \"Euro\": 0.235\n",
      "\"Pound\" - \"Dollar\": 0.342\n",
      "\"Government\" - \"law\": 0.160\n",
      "\"Government\" - \"bill\": 0.167\n",
      "\"Opposition\" - \"law\": 0.058\n",
      "\"Opposition\" - \"bill\": 0.147\n",
      "\"Opposition\" - \"proposal\": 0.355\n",
      "\"bill\" - \"proposal\": 0.233\n",
      "\"Labour\" - \"Government\": 0.251\n",
      "\"Labour\" - \"Opposition\": 0.404\n",
      "\"Conservatives\" - \"Government\": 0.302\n",
      "\"Conservatives\" - \"Opposition\": 0.376\n",
      "\"shadow\" - \"Minister\": 0.324\n",
      "\"Opposition\" - \"bench\": 0.190\n",
      "\"chair\" - \"bench\": 0.251\n",
      "\"Chair\" - \"Speaker\": 0.685\n",
      "\"hon\" - \"Member\": 0.258\n",
      "\"honourable\" - \"Member\": 0.119\n",
      "\"hon\" - \"Friend\": 0.342\n",
      "\"Friend\" - \"Member\": 0.558\n"
     ]
    }
   ],
   "source": [
    "# Let's again compute similarities on our hand-picked word pairs:\n",
    "for pair in pairs:\n",
    "    if all(p in model.wv.key_to_index for p in pair):\n",
    "        print(f'\"{pair[0]}\" - \"{pair[1]}\": {model.wv.similarity(pair[0], pair[1]):.3f}')"
   ]
  },
  {
   "cell_type": "markdown",
   "metadata": {},
   "source": [
    "## Saving the model and it's vectors"
   ]
  },
  {
   "cell_type": "code",
   "execution_count": 34,
   "metadata": {},
   "outputs": [
    {
     "name": "stdout",
     "output_type": "stream",
     "text": [
      "../data/models/gbr_commons\n"
     ]
    },
    {
     "data": {
      "text/plain": [
       "'../data/models/gbr_commons/gbr_commons_word2vec_w5_d100'"
      ]
     },
     "execution_count": 34,
     "metadata": {},
     "output_type": "execute_result"
    }
   ],
   "source": [
    "# store the model's word vectors in a file\n",
    "models_path = data_path.replace('corpora', 'models')\n",
    "os.makedirs(models_path, exist_ok=True)\n",
    "print(models_path)\n",
    "fp = os.path.join(models_path, 'gbr_commons_word2vec_w5_d100')\n",
    "fp"
   ]
  },
  {
   "cell_type": "markdown",
   "metadata": {},
   "source": [
    "With a trained model at hand, you have two options for saving it for re-use.\n",
    "You can only save the word vectors (as `KeyedVectors`).\n",
    "Or you can save the full model (which inlcudes the word vectors but has more capabilities).\n",
    "\n",
    "The following table compares the **pros and cons** of these approaches ([source](https://radimrehurek.com/gensim/models/keyedvectors.html#how-to-obtain-word-vectors)):\n",
    "\n",
    "<table class=\"docutils align-default\">\n",
    "<colgroup>\n",
    "<col style=\"width: 24%\">\n",
    "<col style=\"width: 12%\">\n",
    "<col style=\"width: 11%\">\n",
    "<col style=\"width: 54%\">\n",
    "</colgroup>\n",
    "<tbody>\n",
    "<tr class=\"row-odd\">\n",
    "<td><p><em>capability</em></p></td>\n",
    "<td><p><em>KeyedVectors</em></p></td>\n",
    "<td><p><em>full model</em></p></td>\n",
    "<td><p><em>note</em></p></td>\n",
    "</tr>\n",
    "<tr class=\"row-even\"><td><p>continue training vectors</p></td>\n",
    "<td><p>❌</p></td>\n",
    "<td><p>✅</p></td>\n",
    "<td><p>You need the full model to train or update vectors.</p></td>\n",
    "</tr>\n",
    "<tr class=\"row-odd\"><td><p>smaller objects</p></td>\n",
    "<td><p>✅</p></td>\n",
    "<td><p>❌</p></td>\n",
    "<td><p>KeyedVectors are smaller and need less RAM, because they\n",
    "don’t need to store the model state that enables training.</p></td>\n",
    "</tr>\n",
    "<tr class=\"row-even\"><td><p>save/load from native\n",
    "fasttext/word2vec format</p></td>\n",
    "<td><p>✅</p></td>\n",
    "<td><p>❌</p></td>\n",
    "<td><p>Vectors exported by the Facebook and Google tools\n",
    "do not support further training, but you can still load\n",
    "them into KeyedVectors.</p></td>\n",
    "</tr>\n",
    "<tr class=\"row-odd\"><td><p>append new vectors</p></td>\n",
    "<td><p>✅</p></td>\n",
    "<td><p>✅</p></td>\n",
    "<td><p>Add new-vector entries to the mapping dynamically.</p></td>\n",
    "</tr>\n",
    "<tr class=\"row-even\"><td><p>concurrency</p></td>\n",
    "<td><p>✅</p></td>\n",
    "<td><p>✅</p></td>\n",
    "<td><p>Thread-safe, allows concurrent vector queries.</p></td>\n",
    "</tr>\n",
    "<tr class=\"row-odd\"><td><p>shared RAM</p></td>\n",
    "<td><p>✅</p></td>\n",
    "<td><p>✅</p></td>\n",
    "<td><p>Multiple processes can re-use the same data, keeping only\n",
    "a single copy in RAM using\n",
    "<a class=\"reference external\" href=\"https://en.wikipedia.org/wiki/Mmap\">mmap</a>.</p></td>\n",
    "</tr>\n",
    "<tr class=\"row-even\"><td><p>fast load</p></td>\n",
    "<td><p>✅</p></td>\n",
    "<td><p>✅</p></td>\n",
    "<td><p>Supports <a class=\"reference external\" href=\"https://en.wikipedia.org/wiki/Mmap\">mmap</a>\n",
    "to load data from disk instantaneously.</p></td>\n",
    "</tr>\n",
    "</tbody>\n",
    "</table>"
   ]
  },
  {
   "cell_type": "markdown",
   "metadata": {},
   "source": [
    "#### Saving the full model\n",
    "\n",
    "Just call the save `method()` on your word2vec `mode` object\n",
    "\n",
    "**_Note:_** It's customary to name the file you write the model to with the file extension '.model' (we will use another one when we just save the word vectors) \n"
   ]
  },
  {
   "cell_type": "code",
   "execution_count": 35,
   "metadata": {},
   "outputs": [],
   "source": [
    "model.save(fp+'.model')"
   ]
  },
  {
   "cell_type": "markdown",
   "metadata": {},
   "source": [
    "It's then easy to reload the model:"
   ]
  },
  {
   "cell_type": "code",
   "execution_count": 36,
   "metadata": {},
   "outputs": [
    {
     "data": {
      "text/plain": [
       "(gensim.models.word2vec.Word2Vec, gensim.models.keyedvectors.KeyedVectors)"
      ]
     },
     "execution_count": 36,
     "metadata": {},
     "output_type": "execute_result"
    }
   ],
   "source": [
    "from gensim.models import Word2Vec\n",
    "tmp = Word2Vec.load(fp+'.model')\n",
    "type(tmp), type(tmp.wv)"
   ]
  },
  {
   "cell_type": "markdown",
   "metadata": {},
   "source": [
    "#### Saving only the word vectors\n",
    "\n",
    "Call the save `method()` on your word2vec `mode`'s `wv` attribute (a `KeyedVectors` object recording the model's word vectors):\n",
    "\n",
    "**_Note:_** It's customary to name the file you write the model to with the file extension '.kv' 🥝\n"
   ]
  },
  {
   "cell_type": "code",
   "execution_count": 37,
   "metadata": {},
   "outputs": [],
   "source": [
    "model.wv.save(fp+'.kv')"
   ]
  },
  {
   "cell_type": "code",
   "execution_count": 38,
   "metadata": {},
   "outputs": [
    {
     "data": {
      "text/plain": [
       "gensim.models.keyedvectors.KeyedVectors"
      ]
     },
     "execution_count": 38,
     "metadata": {},
     "output_type": "execute_result"
    }
   ],
   "source": [
    "from gensim.models import KeyedVectors\n",
    "tmp = KeyedVectors.load(fp+'.kv')\n",
    "type(tmp)"
   ]
  },
  {
   "cell_type": "markdown",
   "metadata": {},
   "source": [
    "#### Save in other standard formats\n",
    "\n",
    "Since Word2Vec has been implemented in many other languages (e.g., C and R), there is a standardized file format for storing word vectors.\n",
    "Saving word embeddings in this format allows \"interoperatbility\" between languages. \n",
    "So for example, you could train your word embedding model in Python but compute with the embeddings in R."
   ]
  },
  {
   "cell_type": "code",
   "execution_count": 39,
   "metadata": {},
   "outputs": [],
   "source": [
    "model.wv.save_word2vec_format(fp+'.vectors')"
   ]
  },
  {
   "cell_type": "markdown",
   "metadata": {},
   "source": [
    "The above code write a large text file.\n",
    "We can read lines from it.\n",
    "\n",
    "\n",
    "**_Note:_** To make the file smaller, set `binary=True` when calling `save_word2vec_format()`."
   ]
  },
  {
   "cell_type": "code",
   "execution_count": 40,
   "metadata": {},
   "outputs": [
    {
     "name": "stdout",
     "output_type": "stream",
     "text": [
      "79338 100\n",
      "the 0.119308315 -0.040779013 0.1493203 0.09789107 0.21276306 0.0062533543 0.16182667 -0.06926643 0.27266514 0.049326796 -0.1469048 0.10646284 -0.13504066 0.5358513 0.3806534 -0.020854367 -0.09934769 -0.24901268 -0.04540069 0.055230558 0.1361154 0.21833535 -0.056823593 0.056802154 -0.35918522 0.24779136 0.060088005 0.07315052 0.11444866 0.023376534 0.19568448 -0.41516885 -0.27990136 0.0015731615 -0.04402603 0.27653602 -0.023319159 0.29740608 0.15914433 -0.131272 -0.009792739 -0.039231926 -0.4653306 -0.2246094 -0.067076266 0.035965934 -0.06107323 0.11750099 -0.2605005 -0.14819327 0.5176779 0.013491644 0.28505194 -0.09094592 0.07281482 0.46526077 0.06277853 -0.120132305 -0.3219086 0.060632497 0.2861146 -0.022832837 0.0871492 0.23346055 0.35255063 -0.19753844 -0.06287334 0.0040537957 -0.16039483 0.24120596 -0.048026964 -0.3107214 -0.028526496 0.32494506 0.22969867 0.40833458 -0.09506469 -0.6066375 -0.11606871 -0.08311282 0.05836072 0.1699447 -0.07935846 0.036100958 0.11423173 -0.05181504 0.23294996 -0.0152427675 -0.101657845 0.19953007 -0.17569132 -0.08642849 0.0050196038 0.111170754 -0.020597942 0.04483129 -0.02525612 -0.28325588 -0.20057777 -0.25706807\n",
      "to 0.08905847 0.077614956 0.24139132 -0.1915827 0.30621147 0.17717741 0.23816684 0.18667655 0.5181888 -0.090767674 -0.00045881415 0.25712678 -0.4034175 0.12716627 0.4049272 -0.03291742 -0.28165329 -0.19179524 -0.045020457 -0.3915151 0.16186112 0.3204028 0.36434135 0.3545254 -0.13636081 -0.0139769465 0.17775947 -0.27296674 0.039584693 0.24996226 0.26217315 -0.4238319 0.016109211 0.21889186 -0.1644895 0.12247405 -0.21816649 0.1064862 -0.21207477 -0.37202635 0.4839966 -0.2113277 -0.4801446 -0.2246536 -0.058113992 -0.021029744 -0.36865956 0.29646212 -0.3255167 0.013058229 0.050992418 -0.03146574 0.36390156 0.17141366 0.40621382 0.40160385 0.20130497 -0.040019076 -0.6429729 -0.060318902 -0.12483465 -0.15130058 0.03451577 -0.045418393 -0.17594339 -0.053809464 0.1739088 -0.45394683 -0.22209068 0.27332422 0.19613329 -0.2068902 -0.00026897062 0.24976288 0.04535447 -0.053629026 -0.3115117 -0.2102124 -0.1172183 0.11313161 -0.5777531 -0.22637412 0.31266794 -0.065480664 -0.087768294 -0.050426673 0.010788912 0.076318495 0.1669593 0.06991773 -0.11262169 -0.08663338 -0.028043471 0.012842033 -0.081900135 0.12695156 0.2881236 -0.45519775 -0.0057549225 -0.5829556\n",
      "of 0.26688737 -0.2866615 -0.1564579 -0.08766739 0.07738485 -0.102403075 0.38095576 -0.030801484 0.19662051 -0.0011510225 0.24908952 -0.039985657 0.075127505 0.5739766 0.060201354 -0.036210645 -0.14077646 -0.48829228 0.26224276 -0.13178666 0.009213503 0.74219614 0.08191561 -0.009142078 -0.1063046 0.18460381 0.21531478 -0.15869547 0.089236856 0.03069116 -0.0662552 -0.09128615 -0.21494919 0.45697948 -0.04506478 0.12260283 -0.031247627 0.33688414 0.029549714 0.14261255 -0.004577796 0.07440902 -0.4914935 -0.3212776 -0.10423362 -0.25595456 0.064717844 0.14988723 -0.006884441 -0.29323027 0.46948448 0.1201329 0.15837194 0.023542713 -0.10440173 0.26031035 0.0072489157 -0.2516473 -0.55429745 0.20669563 0.02687313 -0.10522916 0.10753113 0.13627349 0.09576513 -0.14041124 0.004362886 0.00835674 -0.08422559 0.13897437 -0.18880293 -0.33844924 -0.036651753 0.51414436 0.10363962 0.06655092 0.010892607 -0.35788125 0.27825066 -0.0022280477 0.07230604 0.07670418 -0.026168017 0.034164373 -0.2828436 0.16447024 0.39556697 -0.085085645 0.26820675 0.33895206 -0.013956928 0.045716554 0.17721054 -0.18343186 0.19771092 -0.064022824 0.012253061 -0.17229813 -0.2654124 0.35439688\n"
     ]
    }
   ],
   "source": [
    "# inspect the file content (first two lines only)\n",
    "\n",
    "max_ = 3\n",
    "with open(fp+'.vectors') as f:\n",
    "    for i, line in enumerate(f):\n",
    "        print(line.strip())\n",
    "        if i >= max_:\n",
    "            break"
   ]
  }
 ],
 "metadata": {
  "kernelspec": {
   "display_name": "advanced_text_analysis_gesis_2023",
   "language": "python",
   "name": "python3"
  },
  "language_info": {
   "codemirror_mode": {
    "name": "ipython",
    "version": 3
   },
   "file_extension": ".py",
   "mimetype": "text/x-python",
   "name": "python",
   "nbconvert_exporter": "python",
   "pygments_lexer": "ipython3",
   "version": "3.11.9"
  },
  "orig_nbformat": 4
 },
 "nbformat": 4,
 "nbformat_minor": 2
}
