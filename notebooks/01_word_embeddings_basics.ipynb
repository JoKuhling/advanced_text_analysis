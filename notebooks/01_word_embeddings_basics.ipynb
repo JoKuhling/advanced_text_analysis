{
 "cells": [
  {
   "cell_type": "markdown",
   "metadata": {},
   "source": [
    "# Computing with word embeddings: essential methods and operations\n",
    "\n",
    "| Author | Last update |\n",
    "|:------ |:----------- |\n",
    "| Hauke Licht (https://github.com/haukelicht) | 2023-09-24 |\n",
    "\n",
    "This notebook illustrates how to use `gensim` to compute with word vectors (e.g., word2vec).\n",
    "\n",
    "We'll cover how to\n",
    "\n",
    "- compute two words similarity\n",
    "- find the most similar words for a focal word\n",
    "- solve analogy tasks"
   ]
  },
  {
   "cell_type": "markdown",
   "metadata": {},
   "source": [
    "## Setup\n",
    "\n",
    "Let's load modules we'll need throughout the notebook here.\n",
    "\n",
    "**_Note:_** I asume you have follewed the setup instructions at https://github.com/haukelicht/advanced_text_analysis/tree/main/setup"
   ]
  },
  {
   "cell_type": "markdown",
   "metadata": {},
   "source": []
  },
  {
   "cell_type": "code",
   "execution_count": 3,
   "metadata": {},
   "outputs": [],
   "source": [
    "# file in- and export\n",
    "import os\n",
    "\n",
    "# for working with word embeddings\n",
    "import gensim\n",
    "\n",
    "# for using arrays and data frames\n",
    "import pandas as pd\n",
    "import numpy as np\n",
    "\n",
    "# for plotting\n",
    "from sklearn.decomposition import PCA\n",
    "import matplotlib.pyplot as plt\n",
    "plt.style.use('ggplot')"
   ]
  },
  {
   "cell_type": "markdown",
   "metadata": {},
   "source": [
    "## 1. Loading a pre-trained word2vec model\n",
    "\n",
    "In this notebook, we will use a word2vec model that has been trained on the *Google News Corpus*.\n",
    "\n",
    "It is downloadable from the internet and we use the `gensim` downloader API to do this."
   ]
  },
  {
   "cell_type": "code",
   "execution_count": 4,
   "metadata": {},
   "outputs": [],
   "source": [
    "# load a pre-trained word2vec model (shipped with gensim)\n",
    "import gensim.downloader as api\n",
    "\n",
    "# load the model and name it's instance in our notebook environment 'word2vec'\n",
    "word2vec = api.load('word2vec-google-news-300')"
   ]
  },
  {
   "cell_type": "markdown",
   "metadata": {},
   "source": [
    "**_Note:_** The above code will download the model (if not already done so) to the folder specified in `api.BASE_DIR`:"
   ]
  },
  {
   "cell_type": "code",
   "execution_count": 3,
   "metadata": {},
   "outputs": [
    {
     "name": "stdout",
     "output_type": "stream",
     "text": [
      "/Users/hlicht/gensim-data\n"
     ]
    },
    {
     "data": {
      "text/plain": [
       "['word2vec-google-news-300', 'information.json']"
      ]
     },
     "execution_count": 3,
     "metadata": {},
     "output_type": "execute_result"
    }
   ],
   "source": [
    "# show path\n",
    "print(api.BASE_DIR)\n",
    "\n",
    "# list files in folder\n",
    "os.listdir(api.BASE_DIR)"
   ]
  },
  {
   "cell_type": "markdown",
   "metadata": {},
   "source": [
    "### 1.1 Understanding the `word2vec` object\n",
    "\n",
    "Let's inspect the **`word2vec`** object we have created so you understand how it's structured, and what **attributes** and **methods** it has."
   ]
  },
  {
   "cell_type": "markdown",
   "metadata": {},
   "source": [
    "The word embedding model is an instance of the `gensim.models.keyedvectors.KeyedVectors'` class."
   ]
  },
  {
   "cell_type": "code",
   "execution_count": 4,
   "metadata": {},
   "outputs": [
    {
     "name": "stdout",
     "output_type": "stream",
     "text": [
      "<class 'gensim.models.keyedvectors.KeyedVectors'>\n"
     ]
    }
   ],
   "source": [
    "print(type(word2vec))"
   ]
  },
  {
   "cell_type": "markdown",
   "metadata": {},
   "source": [
    "You can view the documentation with `?gensim.models.keyedvectors.KeyedVectors`."
   ]
  },
  {
   "cell_type": "code",
   "execution_count": 5,
   "metadata": {},
   "outputs": [
    {
     "data": {
      "text/plain": [
       "['vector_size',\n",
       " 'index_to_key',\n",
       " 'next_index',\n",
       " 'key_to_index',\n",
       " 'vectors',\n",
       " 'norms',\n",
       " 'expandos',\n",
       " 'mapfile_path',\n",
       " 'lifecycle_events']"
      ]
     },
     "execution_count": 5,
     "metadata": {},
     "output_type": "execute_result"
    }
   ],
   "source": [
    "# list all attributes\n",
    "list(word2vec.__dict__.keys())"
   ]
  },
  {
   "cell_type": "markdown",
   "metadata": {},
   "source": [
    "The most relevant attributes are\n",
    "\n",
    "- `vector_size`: number of dimensions of embeddings \n",
    "- `index_to_key`: pyhton dictionary mapping indexes in the embedding matrix to their token strings (\"keys\")\n",
    "- `key_to_index`: inverse of `index_to_key``\n",
    "- `vectors`: 2-dimensional `numpy` array recording word embeddings\n"
   ]
  },
  {
   "cell_type": "code",
   "execution_count": 6,
   "metadata": {},
   "outputs": [
    {
     "data": {
      "text/plain": [
       "(3000000, 300)"
      ]
     },
     "execution_count": 6,
     "metadata": {},
     "output_type": "execute_result"
    }
   ],
   "source": [
    "word2vec.vectors.shape  # shape (vocabulary size, embedding dimensionality)"
   ]
  },
  {
   "cell_type": "markdown",
   "metadata": {},
   "source": [
    "### 1.2 Essential methods available for `KeyedVectors` objects\n",
    "\n",
    "`gensim`'s  `KeyedVectors` class comes with a lot of useful pre-defined methods.\n",
    "\n",
    "Let's start with different ways of accessing a word's embedding."
   ]
  },
  {
   "cell_type": "markdown",
   "metadata": {},
   "source": [
    "#### Accessing a word's embedding"
   ]
  },
  {
   "cell_type": "code",
   "execution_count": 7,
   "metadata": {},
   "outputs": [
    {
     "name": "stdout",
     "output_type": "stream",
     "text": [
      "[ 0.04052734  0.0625     -0.01745605  0.07861328  0.03271484 -0.01263428\n",
      "  0.00964355  0.12353516 -0.02148438  0.15234375]\n"
     ]
    },
    {
     "data": {
      "text/plain": [
       "300"
      ]
     },
     "execution_count": 7,
     "metadata": {},
     "output_type": "execute_result"
    }
   ],
   "source": [
    "# OPTION 1: directly index the object with a string value\n",
    "print(word2vec['good'][:10]) # <== look only at first 10 dimensions\n",
    "len(word2vec['good'])"
   ]
  },
  {
   "cell_type": "code",
   "execution_count": 8,
   "metadata": {},
   "outputs": [
    {
     "data": {
      "text/plain": [
       "array([ 0.04052734,  0.0625    , -0.01745605,  0.07861328,  0.03271484,\n",
       "       -0.01263428,  0.00964355,  0.12353516, -0.02148438,  0.15234375],\n",
       "      dtype=float32)"
      ]
     },
     "execution_count": 8,
     "metadata": {},
     "output_type": "execute_result"
    }
   ],
   "source": [
    "# OPTION 2: use the get_vector() method\n",
    "word2vec.get_vector('good')[:10]"
   ]
  },
  {
   "cell_type": "markdown",
   "metadata": {},
   "source": [
    "#### Finding where a word's embedding is located\n",
    "\n",
    "`word2vec.key_to_index` maps the \"words\" (tokens) in the model's vocabulary to their index position in the emebdding matrix."
   ]
  },
  {
   "cell_type": "code",
   "execution_count": 9,
   "metadata": {},
   "outputs": [
    {
     "data": {
      "text/plain": [
       "{'</s>': 0,\n",
       " 'in': 1,\n",
       " 'for': 2,\n",
       " 'that': 3,\n",
       " 'is': 4,\n",
       " 'on': 5,\n",
       " '##': 6,\n",
       " 'The': 7,\n",
       " 'with': 8,\n",
       " 'said': 9,\n",
       " 'was': 10,\n",
       " 'the': 11,\n",
       " 'at': 12,\n",
       " 'not': 13,\n",
       " 'as': 14,\n",
       " 'it': 15,\n",
       " 'be': 16,\n",
       " 'from': 17,\n",
       " 'by': 18,\n",
       " 'are': 19,\n",
       " 'I': 20,\n",
       " 'have': 21,\n",
       " 'he': 22,\n",
       " 'will': 23,\n",
       " 'has': 24,\n",
       " '####': 25,\n",
       " 'his': 26,\n",
       " 'an': 27,\n",
       " 'this': 28,\n",
       " 'or': 29,\n",
       " 'their': 30,\n",
       " 'who': 31,\n",
       " 'they': 32,\n",
       " 'but': 33,\n",
       " '$': 34,\n",
       " 'had': 35,\n",
       " 'year': 36,\n",
       " 'were': 37,\n",
       " 'we': 38,\n",
       " 'more': 39,\n",
       " '###': 40,\n",
       " 'up': 41,\n",
       " 'been': 42,\n",
       " 'you': 43,\n",
       " 'its': 44,\n",
       " 'one': 45,\n",
       " 'about': 46,\n",
       " 'would': 47,\n",
       " 'which': 48,\n",
       " 'out': 49,\n",
       " 'can': 50,\n",
       " 'It': 51,\n",
       " 'all': 52,\n",
       " 'also': 53,\n",
       " 'two': 54,\n",
       " 'after': 55,\n",
       " 'first': 56,\n",
       " 'He': 57,\n",
       " 'do': 58,\n",
       " 'time': 59,\n",
       " 'than': 60,\n",
       " 'when': 61,\n",
       " 'We': 62,\n",
       " 'over': 63,\n",
       " 'last': 64,\n",
       " 'new': 65,\n",
       " 'other': 66,\n",
       " 'her': 67,\n",
       " 'people': 68,\n",
       " 'into': 69,\n",
       " 'In': 70,\n",
       " 'our': 71,\n",
       " 'there': 72,\n",
       " 'A': 73,\n",
       " 'she': 74,\n",
       " 'could': 75,\n",
       " 'just': 76,\n",
       " 'years': 77,\n",
       " 'some': 78,\n",
       " 'U.S.': 79,\n",
       " 'three': 80,\n",
       " 'million': 81,\n",
       " 'them': 82,\n",
       " 'what': 83,\n",
       " 'But': 84,\n",
       " 'so': 85,\n",
       " 'no': 86,\n",
       " 'like': 87,\n",
       " 'if': 88,\n",
       " 'only': 89,\n",
       " 'percent': 90,\n",
       " 'get': 91,\n",
       " 'did': 92,\n",
       " 'him': 93,\n",
       " 'game': 94,\n",
       " 'back': 95,\n",
       " 'because': 96,\n",
       " 'now': 97,\n",
       " '#.#': 98,\n",
       " 'before': 99,\n",
       " 'company': 100,\n",
       " 'any': 101,\n",
       " 'team': 102,\n",
       " 'against': 103,\n",
       " 'off': 104,\n",
       " 'This': 105,\n",
       " 'most': 106,\n",
       " 'made': 107,\n",
       " 'through': 108,\n",
       " 'make': 109,\n",
       " 'second': 110,\n",
       " 'state': 111,\n",
       " 'well': 112,\n",
       " 'day': 113,\n",
       " 'season': 114,\n",
       " 'says': 115,\n",
       " 'week': 116,\n",
       " 'where': 117,\n",
       " 'while': 118,\n",
       " 'down': 119,\n",
       " 'being': 120,\n",
       " 'government': 121,\n",
       " 'your': 122,\n",
       " '#-#': 123,\n",
       " 'home': 124,\n",
       " 'going': 125,\n",
       " 'my': 126,\n",
       " 'good': 127,\n",
       " 'They': 128,\n",
       " \"'re\": 129,\n",
       " 'should': 130,\n",
       " 'many': 131,\n",
       " 'way': 132,\n",
       " 'those': 133,\n",
       " 'four': 134,\n",
       " 'during': 135,\n",
       " 'such': 136,\n",
       " 'may': 137,\n",
       " 'very': 138,\n",
       " 'how': 139,\n",
       " 'since': 140,\n",
       " 'work': 141,\n",
       " 'take': 142,\n",
       " 'including': 143,\n",
       " 'high': 144,\n",
       " 'then': 145,\n",
       " '%': 146,\n",
       " 'next': 147,\n",
       " '#,###': 148,\n",
       " 'By': 149,\n",
       " 'much': 150,\n",
       " 'still': 151,\n",
       " 'go': 152,\n",
       " 'think': 153,\n",
       " 'old': 154,\n",
       " 'even': 155,\n",
       " '#.##': 156,\n",
       " 'world': 157,\n",
       " 'see': 158,\n",
       " 'say': 159,\n",
       " 'business': 160,\n",
       " 'five': 161,\n",
       " 'told': 162,\n",
       " 'under': 163,\n",
       " 'us': 164,\n",
       " '1': 165,\n",
       " 'these': 166,\n",
       " 'If': 167,\n",
       " 'right': 168,\n",
       " 'And': 169,\n",
       " 'me': 170,\n",
       " 'between': 171,\n",
       " 'play': 172,\n",
       " 'help': 173,\n",
       " '##,###': 174,\n",
       " 'market': 175,\n",
       " 'That': 176,\n",
       " 'know': 177,\n",
       " 'end': 178,\n",
       " 'AP': 179,\n",
       " 'long': 180,\n",
       " 'information': 181,\n",
       " 'points': 182,\n",
       " 'does': 183,\n",
       " 'both': 184,\n",
       " 'There': 185,\n",
       " 'part': 186,\n",
       " 'around': 187,\n",
       " 'police': 188,\n",
       " 'want': 189,\n",
       " \"'ve\": 190,\n",
       " 'based': 191,\n",
       " 'For': 192,\n",
       " 'got': 193,\n",
       " 'third': 194,\n",
       " 'school': 195,\n",
       " 'left': 196,\n",
       " 'another': 197,\n",
       " 'country': 198,\n",
       " 'need': 199,\n",
       " '2': 200,\n",
       " 'best': 201,\n",
       " 'win': 202,\n",
       " 'quarter': 203,\n",
       " 'use': 204,\n",
       " 'today': 205,\n",
       " '##.#': 206,\n",
       " 'same': 207,\n",
       " 'public': 208,\n",
       " 'run': 209,\n",
       " 'Friday': 210,\n",
       " 'set': 211,\n",
       " 'month': 212,\n",
       " 'top': 213,\n",
       " 'billion': 214,\n",
       " 'Tuesday': 215,\n",
       " 'come': 216,\n",
       " 'Monday': 217,\n",
       " 'She': 218,\n",
       " 'city': 219,\n",
       " 'place': 220,\n",
       " 'night': 221,\n",
       " 'six': 222,\n",
       " 'each': 223,\n",
       " 'Thursday': 224,\n",
       " '###,###': 225,\n",
       " 'Wednesday': 226,\n",
       " 'here': 227,\n",
       " 'You': 228,\n",
       " 'group': 229,\n",
       " 'really': 230,\n",
       " 'found': 231,\n",
       " 'As': 232,\n",
       " 'used': 233,\n",
       " '3': 234,\n",
       " 'lot': 235,\n",
       " \"'m\": 236,\n",
       " 'money': 237,\n",
       " 'put': 238,\n",
       " 'games': 239,\n",
       " 'support': 240,\n",
       " 'program': 241,\n",
       " 'half': 242,\n",
       " 'report': 243,\n",
       " 'family': 244,\n",
       " 'months': 245,\n",
       " 'number': 246,\n",
       " 'officials': 247,\n",
       " 'am': 248,\n",
       " 'former': 249,\n",
       " 'own': 250,\n",
       " 'man': 251,\n",
       " 'Saturday': 252,\n",
       " 'too': 253,\n",
       " 'better': 254,\n",
       " 'days': 255,\n",
       " 'came': 256,\n",
       " 'lead': 257,\n",
       " 'life': 258,\n",
       " 'American': 259,\n",
       " '##-##': 260,\n",
       " 'show': 261,\n",
       " 'past': 262,\n",
       " 'took': 263,\n",
       " 'added': 264,\n",
       " 'expected': 265,\n",
       " 'called': 266,\n",
       " 'great': 267,\n",
       " 'State': 268,\n",
       " 'services': 269,\n",
       " 'children': 270,\n",
       " 'hit': 271,\n",
       " 'area': 272,\n",
       " 'system': 273,\n",
       " 'every': 274,\n",
       " 'pm': 275,\n",
       " 'big': 276,\n",
       " 'service': 277,\n",
       " 'few': 278,\n",
       " 'per': 279,\n",
       " 'members': 280,\n",
       " 'Sunday': 281,\n",
       " 'early': 282,\n",
       " 'point': 283,\n",
       " 'start': 284,\n",
       " 'companies': 285,\n",
       " 'little': 286,\n",
       " '&': 287,\n",
       " 'case': 288,\n",
       " 'ago': 289,\n",
       " 'local': 290,\n",
       " 'according': 291,\n",
       " 'never': 292,\n",
       " '5': 293,\n",
       " 'without': 294,\n",
       " 'sales': 295,\n",
       " 'until': 296,\n",
       " 'went': 297,\n",
       " 'players': 298,\n",
       " '##th': 299,\n",
       " 'New_York': 300,\n",
       " 'won': 301,\n",
       " 'financial': 302,\n",
       " 'news': 303,\n",
       " '4': 304,\n",
       " 'When': 305,\n",
       " 'share': 306,\n",
       " 'several': 307,\n",
       " 'free': 308,\n",
       " 'away': 309,\n",
       " '##.##': 310,\n",
       " 'already': 311,\n",
       " 'On': 312,\n",
       " 'industry': 313,\n",
       " \"'ll\": 314,\n",
       " 'call': 315,\n",
       " 'With': 316,\n",
       " 'students': 317,\n",
       " 'line': 318,\n",
       " 'available': 319,\n",
       " 'County': 320,\n",
       " 'making': 321,\n",
       " 'held': 322,\n",
       " 'final': 323,\n",
       " '#:##': 324,\n",
       " 'power': 325,\n",
       " 'plan': 326,\n",
       " 'might': 327,\n",
       " 'least': 328,\n",
       " 'look': 329,\n",
       " 'forward': 330,\n",
       " 'give': 331,\n",
       " 'At': 332,\n",
       " 'again': 333,\n",
       " 'later': 334,\n",
       " 'full': 335,\n",
       " 'must': 336,\n",
       " 'things': 337,\n",
       " 'major': 338,\n",
       " 'community': 339,\n",
       " 'announced': 340,\n",
       " 'open': 341,\n",
       " 'record': 342,\n",
       " 'reported': 343,\n",
       " 'court': 344,\n",
       " 'working': 345,\n",
       " 'able': 346,\n",
       " 'something': 347,\n",
       " 'president': 348,\n",
       " 'meeting': 349,\n",
       " 'keep': 350,\n",
       " 'March': 351,\n",
       " 'future': 352,\n",
       " 'far': 353,\n",
       " 'deal': 354,\n",
       " 'City': 355,\n",
       " 'May': 356,\n",
       " 'development': 357,\n",
       " 'University': 358,\n",
       " 'find': 359,\n",
       " 'times': 360,\n",
       " 'After': 361,\n",
       " 'office': 362,\n",
       " 'led': 363,\n",
       " 'among': 364,\n",
       " 'June': 365,\n",
       " 'increase': 366,\n",
       " 'China': 367,\n",
       " 'John': 368,\n",
       " 'whether': 369,\n",
       " 'cost': 370,\n",
       " 'security': 371,\n",
       " 'job': 372,\n",
       " 'less': 373,\n",
       " 'head': 374,\n",
       " 'seven': 375,\n",
       " 'growth': 376,\n",
       " 'lost': 377,\n",
       " 'pay': 378,\n",
       " 'looking': 379,\n",
       " 'provide': 380,\n",
       " '6': 381,\n",
       " 'To': 382,\n",
       " 'plans': 383,\n",
       " 'products': 384,\n",
       " 'car': 385,\n",
       " 'recent': 386,\n",
       " 'hard': 387,\n",
       " 'always': 388,\n",
       " 'include': 389,\n",
       " 'women': 390,\n",
       " 'across': 391,\n",
       " 'tax': 392,\n",
       " 'water': 393,\n",
       " 'April': 394,\n",
       " 'continue': 395,\n",
       " 'important': 396,\n",
       " 'different': 397,\n",
       " 'close': 398,\n",
       " '7': 399,\n",
       " 'One': 400,\n",
       " 'late': 401,\n",
       " 'decision': 402,\n",
       " 'current': 403,\n",
       " 'law': 404,\n",
       " 'within': 405,\n",
       " 'along': 406,\n",
       " 'played': 407,\n",
       " 'move': 408,\n",
       " 'United_States': 409,\n",
       " 'enough': 410,\n",
       " 'become': 411,\n",
       " 'side': 412,\n",
       " 'national': 413,\n",
       " 'Inc.': 414,\n",
       " 'results': 415,\n",
       " 'level': 416,\n",
       " 'loss': 417,\n",
       " 'economic': 418,\n",
       " 'coach': 419,\n",
       " 'near': 420,\n",
       " 'getting': 421,\n",
       " 'price': 422,\n",
       " 'Department': 423,\n",
       " 'event': 424,\n",
       " 'fourth': 425,\n",
       " 'change': 426,\n",
       " 'All': 427,\n",
       " 'small': 428,\n",
       " 'board': 429,\n",
       " 'National': 430,\n",
       " 'So': 431,\n",
       " 'goal': 432,\n",
       " 'taken': 433,\n",
       " 'field': 434,\n",
       " 'prices': 435,\n",
       " 'weeks': 436,\n",
       " 'men': 437,\n",
       " 'asked': 438,\n",
       " 'eight': 439,\n",
       " 'data': 440,\n",
       " 'shot': 441,\n",
       " 'New': 442,\n",
       " 'started': 443,\n",
       " 'July': 444,\n",
       " 'director': 445,\n",
       " 'President': 446,\n",
       " 'party': 447,\n",
       " 'federal': 448,\n",
       " 'done': 449,\n",
       " 'political': 450,\n",
       " 'minutes': 451,\n",
       " 'taking': 452,\n",
       " 'Company': 453,\n",
       " 'technology': 454,\n",
       " 'project': 455,\n",
       " 'center': 456,\n",
       " 'leading': 457,\n",
       " 'issue': 458,\n",
       " 'though': 459,\n",
       " 'having': 460,\n",
       " 'period': 461,\n",
       " 'likely': 462,\n",
       " 'scored': 463,\n",
       " '8': 464,\n",
       " 'strong': 465,\n",
       " 'series': 466,\n",
       " 'military': 467,\n",
       " 'seen': 468,\n",
       " 'trying': 469,\n",
       " 'What': 470,\n",
       " 'coming': 471,\n",
       " 'process': 472,\n",
       " 'building': 473,\n",
       " 'behind': 474,\n",
       " 'performance': 475,\n",
       " 'management': 476,\n",
       " 'Iraq': 477,\n",
       " 'saying': 478,\n",
       " 'earlier': 479,\n",
       " 'believe': 480,\n",
       " 'oil': 481,\n",
       " 'given': 482,\n",
       " 'Police': 483,\n",
       " 'customers': 484,\n",
       " 'due': 485,\n",
       " 'following': 486,\n",
       " 'term': 487,\n",
       " 'others': 488,\n",
       " 'statement': 489,\n",
       " 'international': 490,\n",
       " 'economy': 491,\n",
       " 'health': 492,\n",
       " 'thing': 493,\n",
       " 'Obama': 494,\n",
       " 'return': 495,\n",
       " 'killed': 496,\n",
       " 'Washington': 497,\n",
       " 'further': 498,\n",
       " 'However': 499,\n",
       " 'doing': 500,\n",
       " 'face': 501,\n",
       " 'low': 502,\n",
       " 'higher': 503,\n",
       " 'site': 504,\n",
       " 'once': 505,\n",
       " 'yet': 506,\n",
       " 'hours': 507,\n",
       " 'America': 508,\n",
       " 'control': 509,\n",
       " 'received': 510,\n",
       " 'rate': 511,\n",
       " 'career': 512,\n",
       " 'Bush': 513,\n",
       " 'teams': 514,\n",
       " 'known': 515,\n",
       " 'offer': 516,\n",
       " 'race': 517,\n",
       " 'ever': 518,\n",
       " 'experience': 519,\n",
       " 'playing': 520,\n",
       " 'name': 521,\n",
       " 'possible': 522,\n",
       " 'countries': 523,\n",
       " 'Mr.': 524,\n",
       " 'average': 525,\n",
       " 'together': 526,\n",
       " 'using': 527,\n",
       " '9': 528,\n",
       " 'cut': 529,\n",
       " 'While': 530,\n",
       " 'total': 531,\n",
       " 'round': 532,\n",
       " 'young': 533,\n",
       " 'nearly': 534,\n",
       " 'shares': 535,\n",
       " 'member': 536,\n",
       " 'campaign': 537,\n",
       " 'media': 538,\n",
       " 'needs': 539,\n",
       " 'why': 540,\n",
       " 'house': 541,\n",
       " 'issues': 542,\n",
       " 'costs': 543,\n",
       " 'fire': 544,\n",
       " '##-#': 545,\n",
       " 'victory': 546,\n",
       " 'player': 547,\n",
       " 'began': 548,\n",
       " 'sure': 549,\n",
       " 'story': 550,\n",
       " 'per_cent': 551,\n",
       " 'North': 552,\n",
       " 'His': 553,\n",
       " 'staff': 554,\n",
       " 'order': 555,\n",
       " 'war': 556,\n",
       " 'large': 557,\n",
       " 'interest': 558,\n",
       " 'stock': 559,\n",
       " 'food': 560,\n",
       " 'research': 561,\n",
       " 'key': 562,\n",
       " 'India': 563,\n",
       " 'South': 564,\n",
       " 'morning': 565,\n",
       " 'conference': 566,\n",
       " 'senior': 567,\n",
       " 'global': 568,\n",
       " 'Center': 569,\n",
       " 'death': 570,\n",
       " 'person': 571,\n",
       " 'thought': 572,\n",
       " 'gave': 573,\n",
       " 'feel': 574,\n",
       " 'energy': 575,\n",
       " 'history': 576,\n",
       " 'recently': 577,\n",
       " 'largest': 578,\n",
       " 'No.': 579,\n",
       " 'general': 580,\n",
       " 'official': 581,\n",
       " 'released': 582,\n",
       " 'wanted': 583,\n",
       " 'meet': 584,\n",
       " 'short': 585,\n",
       " 'outside': 586,\n",
       " 'running': 587,\n",
       " 'live': 588,\n",
       " 'ball': 589,\n",
       " 'online': 590,\n",
       " 'real': 591,\n",
       " 'position': 592,\n",
       " 'fact': 593,\n",
       " 'fell': 594,\n",
       " 'nine': 595,\n",
       " 'December': 596,\n",
       " 'front': 597,\n",
       " 'action': 598,\n",
       " 'defense': 599,\n",
       " 'problem': 600,\n",
       " 'problems': 601,\n",
       " 'Mr': 602,\n",
       " 'nation': 603,\n",
       " 'needed': 604,\n",
       " 'special': 605,\n",
       " 'January': 606,\n",
       " 'almost': 607,\n",
       " 'chance': 608,\n",
       " \"'d\": 609,\n",
       " 'result': 610,\n",
       " 'West': 611,\n",
       " 'September': 612,\n",
       " 'reports': 613,\n",
       " 'leader': 614,\n",
       " 'investment': 615,\n",
       " 'yesterday': 616,\n",
       " 'Some': 617,\n",
       " 'leaders': 618,\n",
       " 'ahead': 619,\n",
       " 'production': 620,\n",
       " 'comes': 621,\n",
       " 'No': 622,\n",
       " 'runs': 623,\n",
       " 'match': 624,\n",
       " 'role': 625,\n",
       " 'kind': 626,\n",
       " 'try': 627,\n",
       " 'ended': 628,\n",
       " 'risk': 629,\n",
       " 'areas': 630,\n",
       " 'election': 631,\n",
       " 'workers': 632,\n",
       " 'visit': 633,\n",
       " 'bring': 634,\n",
       " 'road': 635,\n",
       " 'music': 636,\n",
       " 'study': 637,\n",
       " 'makes': 638,\n",
       " 'often': 639,\n",
       " 'release': 640,\n",
       " 'woman': 641,\n",
       " 'vote': 642,\n",
       " 'care': 643,\n",
       " 'town': 644,\n",
       " 'clear': 645,\n",
       " 'comment': 646,\n",
       " 'budget': 647,\n",
       " 'potential': 648,\n",
       " 'single': 649,\n",
       " 'markets': 650,\n",
       " 'policy': 651,\n",
       " 'capital': 652,\n",
       " 'saw': 653,\n",
       " 'access': 654,\n",
       " 'weekend': 655,\n",
       " 'operations': 656,\n",
       " 'whose': 657,\n",
       " 'net': 658,\n",
       " 'House': 659,\n",
       " 'hand': 660,\n",
       " 'increased': 661,\n",
       " 'charges': 662,\n",
       " 'winning': 663,\n",
       " 'trade': 664,\n",
       " 'These': 665,\n",
       " 'income': 666,\n",
       " 'value': 667,\n",
       " 'involved': 668,\n",
       " 'Bank': 669,\n",
       " 'November': 670,\n",
       " 'bill': 671,\n",
       " 'compared': 672,\n",
       " 'anything': 673,\n",
       " 'manager': 674,\n",
       " 'Texas': 675,\n",
       " 'property': 676,\n",
       " 'stop': 677,\n",
       " 'annual': 678,\n",
       " 'private': 679,\n",
       " 'contract': 680,\n",
       " 'died': 681,\n",
       " 'Now': 682,\n",
       " 'hope': 683,\n",
       " 'product': 684,\n",
       " 'fans': 685,\n",
       " 'lower': 686,\n",
       " 'demand': 687,\n",
       " 'News': 688,\n",
       " 'David': 689,\n",
       " 'club': 690,\n",
       " 'comments': 691,\n",
       " 'film': 692,\n",
       " 'yards': 693,\n",
       " 'quality': 694,\n",
       " 'currently': 695,\n",
       " 'events': 696,\n",
       " 'addition': 697,\n",
       " 'couple': 698,\n",
       " 'schools': 699,\n",
       " 'attack': 700,\n",
       " 'region': 701,\n",
       " 'latest': 702,\n",
       " 'opportunity': 703,\n",
       " 'worked': 704,\n",
       " 'course': 705,\n",
       " 'bad': 706,\n",
       " 'fall': 707,\n",
       " 'Group': 708,\n",
       " 'October': 709,\n",
       " 'jobs': 710,\n",
       " 'list': 711,\n",
       " 'let': 712,\n",
       " 'however': 713,\n",
       " 'chief': 714,\n",
       " 'summer': 715,\n",
       " 'programs': 716,\n",
       " 'According': 717,\n",
       " 'revenue': 718,\n",
       " 'Our': 719,\n",
       " 'rose': 720,\n",
       " 'previous': 721,\n",
       " 'TV': 722,\n",
       " 'football': 723,\n",
       " 'biggest': 724,\n",
       " 'employees': 725,\n",
       " 'changes': 726,\n",
       " 'residents': 727,\n",
       " 'means': 728,\n",
       " 'agreement': 729,\n",
       " 'includes': 730,\n",
       " 'post': 731,\n",
       " 'Canada': 732,\n",
       " 'probably': 733,\n",
       " 'related': 734,\n",
       " 'training': 735,\n",
       " 'allowed': 736,\n",
       " 'class': 737,\n",
       " 'bit': 738,\n",
       " 'video': 739,\n",
       " 'Michael': 740,\n",
       " 'An': 741,\n",
       " 'sent': 742,\n",
       " 'education': 743,\n",
       " 'states': 744,\n",
       " 'straight': 745,\n",
       " 'love': 746,\n",
       " 'beat': 747,\n",
       " 'hold': 748,\n",
       " 'turn': 749,\n",
       " 'finished': 750,\n",
       " 'network': 751,\n",
       " 'Smith': 752,\n",
       " 'buy': 753,\n",
       " 'foreign': 754,\n",
       " 'especially': 755,\n",
       " 'groups': 756,\n",
       " 'wants': 757,\n",
       " 'title': 758,\n",
       " 'included': 759,\n",
       " 'turned': 760,\n",
       " 'bank': 761,\n",
       " 'Florida': 762,\n",
       " 'efforts': 763,\n",
       " 'personal': 764,\n",
       " 'businesses': 765,\n",
       " 'August': 766,\n",
       " 'California': 767,\n",
       " 'situation': 768,\n",
       " 'district': 769,\n",
       " 'allow': 770,\n",
       " 'helped': 771,\n",
       " 'body': 772,\n",
       " 'nothing': 773,\n",
       " 'soon': 774,\n",
       " 'safety': 775,\n",
       " 'officer': 776,\n",
       " 'cents': 777,\n",
       " 'Europe': 778,\n",
       " 'St.': 779,\n",
       " 'additional': 780,\n",
       " 'spokesman': 781,\n",
       " 'February': 782,\n",
       " 'wife': 783,\n",
       " 'showed': 784,\n",
       " 'leave': 785,\n",
       " 'investors': 786,\n",
       " 'parents': 787,\n",
       " 'medical': 788,\n",
       " 'spending': 789,\n",
       " 'non': 790,\n",
       " 'London': 791,\n",
       " 'Council': 792,\n",
       " 'matter': 793,\n",
       " 'spent': 794,\n",
       " 'child': 795,\n",
       " 'World': 796,\n",
       " 'effort': 797,\n",
       " 'opening': 798,\n",
       " 'either': 799,\n",
       " 'range': 800,\n",
       " 'question': 801,\n",
       " 'European': 802,\n",
       " 'goals': 803,\n",
       " 'administration': 804,\n",
       " 'friends': 805,\n",
       " 'himself': 806,\n",
       " 'shows': 807,\n",
       " 'difficult': 808,\n",
       " 'kids': 809,\n",
       " 'paid': 810,\n",
       " 'create': 811,\n",
       " 'cash': 812,\n",
       " 'age': 813,\n",
       " 'league': 814,\n",
       " 'form': 815,\n",
       " 'impact': 816,\n",
       " 'drive': 817,\n",
       " 'someone': 818,\n",
       " 'became': 819,\n",
       " 'stay': 820,\n",
       " 'fight': 821,\n",
       " 'significant': 822,\n",
       " 'firm': 823,\n",
       " 'Senate': 824,\n",
       " 'hospital': 825,\n",
       " 'charged': 826,\n",
       " 'operating': 827,\n",
       " 'main': 828,\n",
       " 'book': 829,\n",
       " 'success': 830,\n",
       " 'son': 831,\n",
       " 'trading': 832,\n",
       " '###-####': 833,\n",
       " 'focus': 834,\n",
       " 'room': 835,\n",
       " 'continued': 836,\n",
       " 'Congress': 837,\n",
       " 'everything': 838,\n",
       " 'Park': 839,\n",
       " 'agency': 840,\n",
       " 'brought': 841,\n",
       " 'talk': 842,\n",
       " 'break': 843,\n",
       " 'air': 844,\n",
       " 'software': 845,\n",
       " 'decided': 846,\n",
       " 'Do': 847,\n",
       " 'ready': 848,\n",
       " 'arrested': 849,\n",
       " 'track': 850,\n",
       " 'provides': 851,\n",
       " 'mother': 852,\n",
       " 'base': 853,\n",
       " 'trial': 854,\n",
       " 'phone': 855,\n",
       " 'My': 856,\n",
       " 'build': 857,\n",
       " 'conditions': 858,\n",
       " 'rest': 859,\n",
       " 'Johnson': 860,\n",
       " 'terms': 861,\n",
       " 'expect': 862,\n",
       " 'England': 863,\n",
       " 'Israel': 864,\n",
       " 'despite': 865,\n",
       " 'closed': 866,\n",
       " 'starting': 867,\n",
       " 'provided': 868,\n",
       " 'pressure': 869,\n",
       " 'lives': 870,\n",
       " 'step': 871,\n",
       " 'remain': 872,\n",
       " 'similar': 873,\n",
       " 'charge': 874,\n",
       " 'date': 875,\n",
       " 'whole': 876,\n",
       " 'land': 877,\n",
       " 'growing': 878,\n",
       " 'James': 879,\n",
       " 'Internet': 880,\n",
       " 'projects': 881,\n",
       " 'British': 882,\n",
       " 'cases': 883,\n",
       " 'ground': 884,\n",
       " 'legal': 885,\n",
       " 'International': 886,\n",
       " 'agreed': 887,\n",
       " 'tell': 888,\n",
       " 'test': 889,\n",
       " 'everyone': 890,\n",
       " 'pretty': 891,\n",
       " 'authorities': 892,\n",
       " 'Two': 893,\n",
       " 'above': 894,\n",
       " 'moved': 895,\n",
       " 'profit': 896,\n",
       " 'throughout': 897,\n",
       " 'inside': 898,\n",
       " 'ability': 899,\n",
       " 'overall': 900,\n",
       " 'pass': 901,\n",
       " 'officers': 902,\n",
       " 'rather': 903,\n",
       " 'Australia': 904,\n",
       " 'actually': 905,\n",
       " 'county': 906,\n",
       " 'amount': 907,\n",
       " 'scheduled': 908,\n",
       " 'themselves': 909,\n",
       " 'organization': 910,\n",
       " 'giving': 911,\n",
       " 'credit': 912,\n",
       " 'father': 913,\n",
       " 'drug': 914,\n",
       " 'investigation': 915,\n",
       " 'families': 916,\n",
       " 'Republican': 917,\n",
       " 'funds': 918,\n",
       " 'patients': 919,\n",
       " 'takes': 920,\n",
       " 'systems': 921,\n",
       " 'Japan': 922,\n",
       " 'complete': 923,\n",
       " 'sold': 924,\n",
       " 'practice': 925,\n",
       " 'calls': 926,\n",
       " '•': 927,\n",
       " 'UK': 928,\n",
       " 'force': 929,\n",
       " 'student': 930,\n",
       " 'idea': 931,\n",
       " 'reached': 932,\n",
       " 'reason': 933,\n",
       " 'levels': 934,\n",
       " 'space': 935,\n",
       " 'competition': 936,\n",
       " 'forces': 937,\n",
       " 'sector': 938,\n",
       " 'Last': 939,\n",
       " 'tried': 940,\n",
       " 'common': 941,\n",
       " 'homes': 942,\n",
       " 'stage': 943,\n",
       " 'department': 944,\n",
       " 'named': 945,\n",
       " 'earnings': 946,\n",
       " 'offers': 947,\n",
       " 'star': 948,\n",
       " 'certain': 949,\n",
       " 'double': 950,\n",
       " 'longer': 951,\n",
       " 'followed': 952,\n",
       " 'cause': 953,\n",
       " 'Association': 954,\n",
       " 'signed': 955,\n",
       " 'committee': 956,\n",
       " 'hour': 957,\n",
       " 'college': 958,\n",
       " 'Pakistan': 959,\n",
       " 'users': 960,\n",
       " 'Iran': 961,\n",
       " 'sign': 962,\n",
       " 'living': 963,\n",
       " 'failed': 964,\n",
       " 'reach': 965,\n",
       " 'quickly': 966,\n",
       " 'receive': 967,\n",
       " 'debt': 968,\n",
       " 'sale': 969,\n",
       " 'Board': 970,\n",
       " 'Americans': 971,\n",
       " 'Road': 972,\n",
       " 'Brown': 973,\n",
       " 'insurance': 974,\n",
       " '##:##': 975,\n",
       " 'anyone': 976,\n",
       " 'tournament': 977,\n",
       " 'More': 978,\n",
       " 'gas': 979,\n",
       " 'talks': 980,\n",
       " 'serious': 981,\n",
       " 'required': 982,\n",
       " 'sell': 983,\n",
       " 'construction': 984,\n",
       " 'evidence': 985,\n",
       " 'remains': 986,\n",
       " 'black': 987,\n",
       " 'below': 988,\n",
       " 'improve': 989,\n",
       " 'crisis': 990,\n",
       " 'address': 991,\n",
       " 'questions': 992,\n",
       " 'easy': 993,\n",
       " 'begin': 994,\n",
       " 'view': 995,\n",
       " 'School': 996,\n",
       " 'heard': 997,\n",
       " 'executive': 998,\n",
       " 'raised': 999,\n",
       " ...}"
      ]
     },
     "execution_count": 9,
     "metadata": {},
     "output_type": "execute_result"
    }
   ],
   "source": [
    "word2vec.key_to_index"
   ]
  },
  {
   "cell_type": "markdown",
   "metadata": {},
   "source": [
    "So an alternative way to access a word's embedding is \n",
    "\n",
    "1. using the model's `key_to_index` attribute to lookup a word's index in the embedding matrix, and\n",
    "2. index the model's embedding matrix accordingly"
   ]
  },
  {
   "cell_type": "code",
   "execution_count": 10,
   "metadata": {},
   "outputs": [
    {
     "name": "stdout",
     "output_type": "stream",
     "text": [
      "127\n"
     ]
    },
    {
     "data": {
      "text/plain": [
       "array([ 0.04052734,  0.0625    , -0.01745605,  0.07861328,  0.03271484,\n",
       "       -0.01263428,  0.00964355,  0.12353516, -0.02148438,  0.15234375],\n",
       "      dtype=float32)"
      ]
     },
     "execution_count": 10,
     "metadata": {},
     "output_type": "execute_result"
    }
   ],
   "source": [
    "idx = word2vec.key_to_index['good']\n",
    "print(idx)\n",
    "word2vec.vectors[idx][:10] # <== just print first 10 dimensions"
   ]
  },
  {
   "cell_type": "markdown",
   "metadata": {},
   "source": [
    "### 1.3 Visualizing word vectors"
   ]
  },
  {
   "cell_type": "markdown",
   "metadata": {},
   "source": [
    "Since word embeddings have too many dimensions to display their locations, we usually apply dimensionality reduction techniques.\n",
    "\n",
    "In this notebook, we'll simply rely on *Principal Component Analysis* (PCA).\n",
    "Belo is some code that illustrates this.\n",
    "\n",
    "**_Note:_** There are better options like UMAP or t-SNE that do a better job in preserving relative distances between data points when reducing dimensionality.\n",
    "\n"
   ]
  },
  {
   "cell_type": "code",
   "execution_count": 11,
   "metadata": {},
   "outputs": [
    {
     "data": {
      "image/png": "[encoded data removed]",
      "text/plain": [
       "<Figure size 640x480 with 1 Axes>"
      ]
     },
     "metadata": {},
     "output_type": "display_data"
    }
   ],
   "source": [
    "words = [\n",
    "    # beverages\n",
    "    'coffee', 'tea', 'beer', 'wine', 'brandy', 'rum', 'champagne', 'water',\n",
    "    # animals\n",
    "    'dog', 'horse', 'cat', 'monkey', 'parrot', 'koala', 'lizard', 'frog', 'monkey', 'ape', 'kangaroo', 'wolf',\n",
    "    # countries\n",
    "    'france', 'germany', 'hungary', 'luxembourg', 'australia', 'fiji', 'china',\n",
    "    # institutions\n",
    "    'parliament', 'government', 'opposition', 'coalition', 'prime_minister', 'minister',\n",
    "]\n",
    "\n",
    "X = np.array([word2vec[w] for w in words if w in word2vec.key_to_index])\n",
    "\n",
    "pcs = PCA(n_components=2).fit_transform(X)\n",
    "\n",
    "plt.scatter(pcs[:,0], pcs[:,1], c='r', edgecolors='k', alpha=.4)\n",
    "for word, (x, y) in zip(words, pcs):\n",
    "    plt.text(x+0.05, y+0.05, word)"
   ]
  },
  {
   "cell_type": "markdown",
   "metadata": {},
   "source": [
    "## 2. Essential computations\n",
    "\n",
    "In the next subsections, we will learn how use `gensim`'s `KeyedVectors` objects to \n",
    "\n",
    "1. compute similarities, \n",
    "2. find nearest neighbors, and \n",
    "3. solve analogy tasks.\n",
    "\n",
    "**_Note:_** \n",
    "We will only go through the methods that will be required to complete exercises in our course.\n",
    "Visit Radim Řehůřek's [summary](https://radimrehurek.com/gensim/models/keyedvectors.html) for a more comprehensive overview of available methods with excellent examples.\n"
   ]
  },
  {
   "cell_type": "markdown",
   "metadata": {},
   "source": [
    "### 2.1 Computing similarities"
   ]
  },
  {
   "cell_type": "markdown",
   "metadata": {},
   "source": [
    "\n",
    "An central quantity of interest in the study of lexical semantics (i.e., the \"meaning\" of words) is **word similarity** &mdash; how similar the \"meanings\" of two words are.\n",
    "\n",
    "In CSS studies using word embeddings, computating similarities is often an essential computation step."
   ]
  },
  {
   "cell_type": "markdown",
   "metadata": {},
   "source": [
    "#### Intuition\n",
    "\n",
    "In the embedding space, we can **measure two word vectors' similarity** of by their **_angle_**: the extent to which they *point in similar directions* relative to the coordiante origin $(0, 0, \\ldots, 0)$.\n",
    "\n",
    "Say you stand at the origin of a $d$-dimensional coordinate system.\n",
    "Then asking whether two vectors $\\mathbf{u}$ and $\\mathbf{v}$ are similar is the same as asking: \n",
    "\n",
    "> \"Would I end up in a similar location if I follow the direction of vector $\\mathbf{u}$ rather than $\\mathbf{v}$?\"\n",
    "\n",
    "The answer to this question aligns with the magnitude of the angle:\n",
    "\n",
    "- If the two vectors are very similar, you'd end up in a similar location (e.g., $\\mathbf{u} = [1, 1]$ and $\\mathbf{u} = [.8, .9]$)\n",
    "- If they are pointing in completely opposite directions, you'll end up on the other \"side\" of the vector space if you follow $\\mathbf{u}$ rather than $\\mathbf{v}$ (e.g., (e.g., $\\mathbf{u} = [1, 1]$ and $\\mathbf{u} = [-1, -1]$)"
   ]
  },
  {
   "cell_type": "markdown",
   "metadata": {},
   "source": [
    "#### Illustration\n",
    "\n",
    "The below plot visually illustrates this, given the following vectors (i.e., 2D points):"
   ]
  },
  {
   "cell_type": "code",
   "execution_count": 5,
   "metadata": {},
   "outputs": [
    {
     "data": {
      "text/plain": [
       "array([[ 1. ,  1. ],\n",
       "       [ 0.8,  0.9],\n",
       "       [ 0.5,  0.2],\n",
       "       [-1. ,  1. ],\n",
       "       [-1. , -1. ]])"
      ]
     },
     "execution_count": 5,
     "metadata": {},
     "output_type": "execute_result"
    }
   ],
   "source": [
    "vecs = [\n",
    "    [ 1.0,  1.0], # vector a\n",
    "    [ 0.8,  0.9], # vector b\n",
    "    [ 0.5,  .2],  # vector c\n",
    "    [-1.0,  1.0], # vector d\n",
    "    [-1.0, -1.0], # vector e\n",
    "]\n",
    "vecs = np.array(vecs)\n",
    "vecs"
   ]
  },
  {
   "cell_type": "code",
   "execution_count": 10,
   "metadata": {},
   "outputs": [
    {
     "name": "stderr",
     "output_type": "stream",
     "text": [
      "/var/folders/_c/cm0nk6y92rz2l6ct3npgw9tr0000gn/T/ipykernel_67815/2509351183.py:11: UserWarning: Setting the 'color' property will override the edgecolor or facecolor properties.\n",
      "  plt.annotate(\n"
     ]
    },
    {
     "data": {
      "image/png": "[encoded data removed]",
      "text/plain": [
       "<Figure size 640x480 with 1 Axes>"
      ]
     },
     "metadata": {},
     "output_type": "display_data"
    }
   ],
   "source": [
    "# plot vectors' values on 1st and 2nd dimension on x and y axes\n",
    "plt.scatter(vecs[:,0], vecs[:,1])\n",
    "\n",
    "# add vertical and horizontal coordinate lines running through (0, 0) to the plot\n",
    "plt.axvline(0, c='grey', alpha=.5)\n",
    "plt.axhline(0, c='grey', alpha=.5)\n",
    "\n",
    "# draw lines from the coordinate origin (0, 0) to each point\n",
    "vec_names = ['a', 'b', 'c', 'd', 'e']\n",
    "for i, vec in enumerate(vecs):\n",
    "    plt.annotate(\n",
    "        '', # no text\n",
    "        xy=vec, # end point of the line\n",
    "        xytext=(0, 0), # start point of the line\n",
    "        arrowprops=dict(facecolor='black', color='black', width=.5, headwidth=3) # arrow style\n",
    "    )\n",
    "    plt.text(vec[0], vec[1], f'{vec_names[i]}')\n",
    "\n",
    "plt.show()\n"
   ]
  },
  {
   "cell_type": "markdown",
   "metadata": {},
   "source": [
    "So in this example,\n",
    "\n",
    "- $\\mathbf{a}$ and $\\mathbf{b}$ are very similar (because they point in a similar direction)\n",
    "- $\\mathbf{a}$ and $\\mathbf{c}$, and $\\mathbf{b}$ and $\\mathbf{c}$ are also still somewhat similar\n",
    "- $\\mathbf{a}$ and $\\mathbf{d}$ are orthorgonal (\"unrelated\"), and\n",
    "- $\\mathbf{a}$ and $\\mathbf{e}$ are maximally dissimilar (because they point in opposite directions)"
   ]
  },
  {
   "cell_type": "markdown",
   "metadata": {},
   "source": [
    "#### Math\n",
    "\n",
    "The extent to which they point in similar directions relative to the coordiante origin $(0, 0,\n",
    " \\ldots, 0)$ can be measured by the **cosine similarity**:\n",
    "\n",
    "$$\n",
    "\\text{Cosine Similarity} = \\frac{{\\mathbf{u} \\cdot \\mathbf{v}}}{{\\| \\mathbf{u} \\| \\times \\| \\mathbf{v} \\|}}\n",
    "$$\n",
    "\n",
    "\n",
    "$\\mathbf{u}$ and $\\mathbf{v}$ are the vectors whose similarity is being measured.\n",
    "\n",
    "- the *numerator* (top) measures the similarity of \n",
    "- the *denominator* (bottom) normalizes (\"rescales\") the similarity measure to range between -1 and 1 \n",
    "\n",
    "The $\\boldsymbol{\\cdot}$ operator denotes the **dot product** of two vectors. \n",
    "It measures the *similarity in the direction of two vectors.*\n",
    "(Think of vectors as directions from the origin $(0, 0, \\ldots, 0)$).\n",
    "\n",
    "- The dot product is computed as the sum of the element-wise products of vectors' entries: \n",
    "$$\n",
    "\\mathbf{u} \\cdot \\mathbf{v} = \\sum\\limits_{i=1}^{d} u_i \\times v_i\n",
    "$$\n",
    "- $u_i \\times v_i$ is high if the two entries are similar (point in the same directio nrelative to the coordinate origin $0$)\n",
    "- Thus, $\\mathbf{u} \\cdot \\mathbf{v}$ is the higher, the more of their $(u_i, v_i)$ elements are similar.\n",
    "\n",
    "$\\| \\mathbf{u} \\|$ and $\\| \\mathbf{v} \\|$ represent the **Euclidean norms** (magnitudes) of vectors $\\mathbf{u}$ and $\\mathbf{v}$.\n",
    "The magnitude (or length) of a vector measures its *distance from the origin in the  $d$-dimensional space.*\n",
    "It is computed as \n",
    "\n",
    "$$\n",
    "\\| \\mathbf{x} \\| = \\sqrt{ \\sum\\limits_{i=1}^{d} x_i^2}\n",
    "$$\n",
    "\n",
    "Having the $\\| \\mathbf{u} \\| \\times \\| \\mathbf{v} \\|$ in the denominator if the cosine similarity function makes the metric scale invariant (i.e., insensitive to the lengths/magnitudes of $\\mathbf{u}$ and $\\mathbf{v}$)."
   ]
  },
  {
   "cell_type": "markdown",
   "metadata": {},
   "source": [
    "#### Code (from scratch)"
   ]
  },
  {
   "cell_type": "code",
   "execution_count": 6,
   "metadata": {},
   "outputs": [],
   "source": [
    "# define a function to compute the cosine similarity between two word vectors\n",
    "import numpy as np\n",
    "\n",
    "def cosine_similarity(u, v):\n",
    "    \"\"\"\n",
    "    Cosine similarity reflects the degree of similariy between u and v\n",
    "    \n",
    "    Arguments:\n",
    "        u -- a word vector of shape (n,)\n",
    "        v -- a word vector of shape (n,)\n",
    "    \n",
    "    Returns:\n",
    "        cosine_similarity -- the cosine similarity between u and v\n",
    "    \"\"\"\n",
    "    \n",
    "    # compute the dot product between u and v\n",
    "    dot = np.dot(u, v)\n",
    "    \n",
    "    # compute the Euclidean norm of u\n",
    "    norm_u = np.sqrt(np.sum(np.square(u)))\n",
    "    # compute the Euclidean norm of v\n",
    "    norm_v = np.sqrt(np.sum(np.square(v)))\n",
    "    \n",
    "    # divide the dot product by the product of the L2 norms\n",
    "    cosine_similarity = dot / (norm_u * norm_v)\n",
    "    \n",
    "    return cosine_similarity"
   ]
  },
  {
   "cell_type": "markdown",
   "metadata": {},
   "source": [
    "**_Note:_** We implement our own `cosine_similarity` function here to map code to math. Below and in other notebooks, we'll use the `cosine` function from the `scipy.spatial.distance` module."
   ]
  },
  {
   "cell_type": "markdown",
   "metadata": {},
   "source": [
    "Let's compute similarties for vectors $\\mathbf{b}$-$\\mathbf{e}$ in `vecs` to vector $\\mathbf{a}$:"
   ]
  },
  {
   "cell_type": "code",
   "execution_count": 15,
   "metadata": {},
   "outputs": [
    {
     "name": "stdout",
     "output_type": "stream",
     "text": [
      "a = [1. 1.], b = [0.8 0.9], cos(a, b) = +0.998\n",
      "a = [1. 1.], c = [0.5 0.2], cos(a, c) = +0.919\n",
      "a = [1. 1.], d = [-1.  1.], cos(a, d) = +0.000\n",
      "a = [1. 1.], e = [-1. -1.], cos(a, e) = -1.000\n"
     ]
    }
   ],
   "source": [
    "for i in range(1, vecs.shape[0]):\n",
    "    s = cosine_similarity(vecs[0], vecs[i])\n",
    "    print(f\"a = {vecs[0]}, {vec_names[i]} = {vecs[i]}, cos(a, {vec_names[i]}) = {s:+0.3f}\")"
   ]
  },
  {
   "cell_type": "markdown",
   "metadata": {},
   "source": [
    "**_Note:_** inside `print` above we use python's string formatting syntax to directly insert the variable values we want to print.\n",
    "It works like this:"
   ]
  },
  {
   "cell_type": "markdown",
   "metadata": {},
   "source": [
    "Let's apply the same function to compute the similarity of two words in our `word2vec` embeddings:"
   ]
  },
  {
   "cell_type": "markdown",
   "metadata": {},
   "source": [
    "compute cosine similarity for two word vectors in our embedding model:"
   ]
  },
  {
   "cell_type": "code",
   "execution_count": 16,
   "metadata": {},
   "outputs": [
    {
     "data": {
      "text/plain": [
       "0.7190051"
      ]
     },
     "execution_count": 16,
     "metadata": {},
     "output_type": "execute_result"
    }
   ],
   "source": [
    "cosine_similarity(word2vec['good'], word2vec['bad'])"
   ]
  },
  {
   "cell_type": "markdown",
   "metadata": {},
   "source": [
    "**_Note:_** `scipy` implements the cosine distiance metric for us ;)"
   ]
  },
  {
   "cell_type": "code",
   "execution_count": 17,
   "metadata": {},
   "outputs": [
    {
     "data": {
      "text/plain": [
       "0.7190051674842834"
      ]
     },
     "execution_count": 17,
     "metadata": {},
     "output_type": "execute_result"
    }
   ],
   "source": [
    "from scipy.spatial.distance import cosine\n",
    "\n",
    "1-cosine(word2vec['good'], word2vec['bad'])"
   ]
  },
  {
   "cell_type": "markdown",
   "metadata": {},
   "source": [
    "#### Code (using `gensim``)"
   ]
  },
  {
   "cell_type": "markdown",
   "metadata": {},
   "source": [
    "But our `word2vec` instance of `gensim`'s `KeyedVectors` class also comes with a built-in method to compute two words' similarity:"
   ]
  },
  {
   "cell_type": "code",
   "execution_count": 18,
   "metadata": {},
   "outputs": [
    {
     "data": {
      "text/plain": [
       "0.7190051"
      ]
     },
     "execution_count": 18,
     "metadata": {},
     "output_type": "execute_result"
    }
   ],
   "source": [
    "# compute the cosine similarity between two word embeddings in the word2vec object\n",
    "word2vec.similarity('good', 'bad')"
   ]
  },
  {
   "cell_type": "markdown",
   "metadata": {},
   "source": [
    "#### Exercise 👩‍💻\n",
    "\n",
    "Let's have our first few little exercises.\n",
    "Go to the **_exercise_ notebook** corresponding to this notebook here."
   ]
  },
  {
   "cell_type": "markdown",
   "metadata": {},
   "source": [
    "### 2.2. Finding most similar terms (nearest neighbors)\n"
   ]
  },
  {
   "cell_type": "markdown",
   "metadata": {},
   "source": [
    "Since word vectors capture similarities in words co-occurence patterns, their locations in the embedding space can be use to find lists of semantically and functionally similar words.\n",
    "\n",
    "#### Intuition\n",
    "\n",
    "In the embedding space, searching for similar words for a focus word *w* can be implemented as [*nearest neighbors* search](https://en.wikipedia.org/wiki/Nearest_neighbour_algorithm) because words pairs' distances measure their similarity."
   ]
  },
  {
   "cell_type": "markdown",
   "metadata": {},
   "source": [
    "#### Illustration\n",
    "\n",
    "Let's use the same 2-dimensional vectors as in the example above."
   ]
  },
  {
   "cell_type": "code",
   "execution_count": 11,
   "metadata": {},
   "outputs": [],
   "source": [
    "vecs = [\n",
    "    [ 1.0,  1.0], # vector a\n",
    "    [ 0.8,  0.9], # vector b\n",
    "    [ 0.5,  .2],  # vector c\n",
    "    [-1.0,  1.0], # vector d\n",
    "    [-1.0, -1.0], # vector e\n",
    "]\n",
    "vecs = np.array(vecs)"
   ]
  },
  {
   "cell_type": "code",
   "execution_count": 12,
   "metadata": {},
   "outputs": [
    {
     "name": "stderr",
     "output_type": "stream",
     "text": [
      "/var/folders/_c/cm0nk6y92rz2l6ct3npgw9tr0000gn/T/ipykernel_67815/3037347475.py:7: UserWarning: Setting the 'color' property will override the edgecolor or facecolor properties.\n",
      "  plt.annotate(\n"
     ]
    },
    {
     "data": {
      "image/png": "[encoded data removed]",
      "text/plain": [
       "<Figure size 640x480 with 1 Axes>"
      ]
     },
     "metadata": {},
     "output_type": "display_data"
    }
   ],
   "source": [
    "# plot vectors' values on 1st and 2nd dimension on x and y axes\n",
    "plt.scatter(vecs[:,0], vecs[:,1])\n",
    "\n",
    "# draw lines from the coordinates of vector a to vectors b, c, d, and e\n",
    "vec_names = ['b', 'c', 'd', 'e']\n",
    "for i, vec in enumerate(vecs[1:]):\n",
    "    plt.annotate(\n",
    "        '', # no text\n",
    "        xy=vec, # end point of the line\n",
    "        xytext=vecs[0], # start point of the line\n",
    "        arrowprops=dict(facecolor='black', color='black', width=.5, headwidth=3) # arrow style\n",
    "    )\n",
    "    plt.text(vec[0], vec[1], f'{vec_names[i]}')\n",
    "\n",
    "plt.show()"
   ]
  },
  {
   "cell_type": "markdown",
   "metadata": {},
   "source": [
    "#### Code\n",
    "\n",
    "So we can find out what's the most similar vector to $\\mathbf{a}$ by \n",
    "\n",
    "1. computing all vectors ($\\mathbf{b}$-$\\mathbf{e}$) similarity with $\\mathbf{a}$, and \n",
    "2. selecting the one with the highest similarity among them"
   ]
  },
  {
   "cell_type": "code",
   "execution_count": 13,
   "metadata": {},
   "outputs": [
    {
     "name": "stdout",
     "output_type": "stream",
     "text": [
      "{'b': 0.9982743731749959, 'c': 0.9191450300180576, 'd': 0.0, 'e': -0.9999999999999998}\n",
      "b\n"
     ]
    },
    {
     "data": {
      "text/plain": [
       "'b'"
      ]
     },
     "execution_count": 13,
     "metadata": {},
     "output_type": "execute_result"
    }
   ],
   "source": [
    "sims = {nm: cosine_similarity(vecs[0], vec) for nm, vec in zip(vec_names, vecs[1:])}\n",
    "print(sims)\n",
    "\n",
    "# get name of most similar values (by sorting)\n",
    "print([nm for nm, s in sorted(sims.items(), key=lambda item: item[1], reverse=True)][0])\n",
    "\n",
    "# same with numpy\n",
    "vec_names[np.array(sims.values).argmax()]"
   ]
  },
  {
   "cell_type": "markdown",
   "metadata": {},
   "source": [
    "Again, `gensim`'s `KeyedVectors` class provides dedicated methods for nearest neighbors-based similar word search:"
   ]
  },
  {
   "cell_type": "code",
   "execution_count": 16,
   "metadata": {},
   "outputs": [
    {
     "data": {
      "text/plain": [
       "[('baguette', 0.6257901191711426),\n",
       " ('loaves', 0.6203072667121887),\n",
       " ('bread', 0.6184972524642944),\n",
       " ('marble_rye', 0.5983655452728271),\n",
       " ('###g_loaf', 0.5870223045349121)]"
      ]
     },
     "execution_count": 16,
     "metadata": {},
     "output_type": "execute_result"
    }
   ],
   "source": [
    "# show the five most similar words to 'love'\n",
    "word2vec.most_similar('loaf', topn=5)"
   ]
  },
  {
   "cell_type": "markdown",
   "metadata": {},
   "source": [
    "**_Note:_** The `most_similar()` method returns a list of tuples.\n",
    "Each tuple is a pair of word and cosine similarity score."
   ]
  },
  {
   "cell_type": "markdown",
   "metadata": {},
   "source": [
    "Interestingly, among the five terms most similar to 'love', there is also it's [*antonym*](https://en.wikipedia.org/wiki/Opposite_(semantics)) 'hate' (i.e., opposite word).\n",
    "\n",
    "This illustrates that \"similar\" in the context of word embeddings does *not* necessarily mean [*synonym*](https://en.wikipedia.org/wiki/Synonym) (i.e.. equal in meaning).\n",
    "Instead, word embeddings capture a wide range of lexical semantic relations\n",
    "\n",
    "- synonyms\n",
    "- antonyms\n",
    "- hypo- and hypernym relations (subtyoe relations): https://en.wikipedia.org/wiki/Hyponymy_and_hypernymy\n",
    "- mero- and hoponym relations (part-of relations): https://en.wikipedia.org/wiki/Meronymy_and_holonymy"
   ]
  },
  {
   "cell_type": "markdown",
   "metadata": {},
   "source": [
    "#### Exercise 👩‍💻\n",
    "\n",
    "Let's tackle a second set of exercises.\n",
    "Go to the **_exercise_ notebook** corresponding to this notebook here."
   ]
  },
  {
   "cell_type": "markdown",
   "metadata": {},
   "source": [
    "### 2.3. Computing centroids\n",
    "\n",
    "Just as we use keywords in dictionaries to indicate concepts (e.g., positive affect), \n",
    "we can use bags of word vectors to \"locate\" concepts in the embedding space.\n",
    "\n",
    "Because each indicator word's embedding might caputure a concept only partially, researchers often **average multiple words' embeddings into _centroids_**.\n",
    "\n",
    "This is as simple as computing the mean of vectors value for each embedding dimension.\n",
    "And since word vectors in `gensim` are just numpy arrays, it takes no more than two lines of code:"
   ]
  },
  {
   "cell_type": "code",
   "execution_count": 23,
   "metadata": {},
   "outputs": [
    {
     "data": {
      "text/plain": [
       "(300,)"
      ]
     },
     "execution_count": 23,
     "metadata": {},
     "output_type": "execute_result"
    }
   ],
   "source": [
    "# take example of words used to indicate concept 'positive sentiment'\n",
    "positive_sentiment_words = [\n",
    "    'glad',\n",
    "    'pleased',\n",
    "    'ecstatic',\n",
    "    'overjoyed',\n",
    "    'thrilled',\n",
    "    'satisfied',\n",
    "    'proud',\n",
    "    'delighted',\n",
    "    'excited',\n",
    "    'elated',\n",
    "    'thankful',\n",
    "    'enthused',\n",
    "    'chuffed',\n",
    "    'grateful',\n",
    "    'confident',\n",
    "]\n",
    "\n",
    "# get word vectors for words in list\n",
    "vecs = [word2vec[w] for w in positive_sentiment_words]\n",
    "# average them dimension-wise\n",
    "centroid = np.average(vecs, axis=0)\n",
    "\n",
    "# this results in a single 300-dimensional vector\n",
    "centroid.shape"
   ]
  },
  {
   "cell_type": "code",
   "execution_count": 24,
   "metadata": {},
   "outputs": [],
   "source": [
    "# there is again a pre-implemented method\n",
    "centroid = word2vec.get_mean_vector(keys=positive_sentiment_words)"
   ]
  },
  {
   "cell_type": "code",
   "execution_count": 25,
   "metadata": {},
   "outputs": [
    {
     "data": {
      "image/png": "[encoded data removed]",
      "text/plain": [
       "<Figure size 640x480 with 1 Axes>"
      ]
     },
     "metadata": {},
     "output_type": "display_data"
    }
   ],
   "source": [
    "# combine original values with centroid\n",
    "vecs.append(centroid)\n",
    "\n",
    "# reduce embeddings to 2 dimensions\n",
    "X = np.array(vecs)\n",
    "pcas = PCA(n_components=2).fit_transform(X)\n",
    "\n",
    "# plot\n",
    "plt.scatter(pcas[:-1,0], pcas[:-1,1], c='black')\n",
    "plt.scatter(pcas[-1,0], pcas[-1, 1], c='red')\n",
    "plt.text(pcas[-1,0], pcas[-1, 1], 'centroid')\n",
    "plt.show()"
   ]
  },
  {
   "cell_type": "markdown",
   "metadata": {},
   "source": [
    "#### Excurse: Using centroids to finding mismatching terms (the \"odd one out\")"
   ]
  },
  {
   "cell_type": "markdown",
   "metadata": {},
   "source": [
    "We can use centroids to find the most mismatching term in a lits of terms.\n",
    "\n",
    "For this, we \n",
    "\n",
    "1. compute the centroid of all  but the focus term's embeddings,\n",
    "2. compute the similarity of the focus term's embedding and the centroids,\n",
    "3. repeat this leave-one-out procedure for all terms, and\n",
    "4. label the one with the lowest to-centroid similarity as 'mismatching'"
   ]
  },
  {
   "cell_type": "code",
   "execution_count": 26,
   "metadata": {},
   "outputs": [],
   "source": [
    "terms = [\n",
    "    'cat',\n",
    "    'dog',\n",
    "    'hamster',\n",
    "    'flower',\n",
    "    'table'\n",
    "]"
   ]
  },
  {
   "cell_type": "code",
   "execution_count": 27,
   "metadata": {},
   "outputs": [
    {
     "data": {
      "image/png": "[encoded data removed]",
      "text/plain": [
       "<Figure size 640x480 with 1 Axes>"
      ]
     },
     "metadata": {},
     "output_type": "display_data"
    }
   ],
   "source": [
    "# apply a principal component analysis to visualize\n",
    "X = np.array([word2vec[w] for w in terms])\n",
    "pcs = PCA(n_components=2).fit_transform(X)\n",
    "plt.scatter(pcs[:,0], pcs[:,1])\n",
    "# label the points\n",
    "for i, (x, y) in enumerate(pcs):\n",
    "    plt.text(x, y, f'{terms[i]}')\n"
   ]
  },
  {
   "cell_type": "code",
   "execution_count": 28,
   "metadata": {},
   "outputs": [
    {
     "data": {
      "text/plain": [
       "('table', 0.11400653)"
      ]
     },
     "execution_count": 28,
     "metadata": {},
     "output_type": "execute_result"
    }
   ],
   "source": [
    "# for one term\n",
    "c = np.average([word2vec[w] for w in terms[:-1]], axis=0)\n",
    "terms[-1], cosine_similarity(c, word2vec[terms[-1]])"
   ]
  },
  {
   "cell_type": "code",
   "execution_count": 29,
   "metadata": {},
   "outputs": [
    {
     "name": "stdout",
     "output_type": "stream",
     "text": [
      "[0.6643747, 0.6265888, 0.52130747, 0.23308133, 0.11400653]\n",
      "the mismatching term is: 'table'\n"
     ]
    }
   ],
   "source": [
    "# for all terms\n",
    "sims = list()\n",
    "for term in terms:\n",
    "    c = np.average([word2vec[w] for w in terms if w != term], axis=0)\n",
    "    s = cosine_similarity(c, word2vec[term])\n",
    "    sims.append(s)\n",
    "print(sims)\n",
    "\n",
    "# find index of lowest value\n",
    "odd_one_out = terms[np.argmin(sims)]\n",
    "print(f\"the mismatching term is: '{odd_one_out}'\")"
   ]
  },
  {
   "cell_type": "markdown",
   "metadata": {},
   "source": [
    "Luckily, `gensim`'s `KeyedVectors` class again provides dedicated methods for nearest neighbors-based similar word search:"
   ]
  },
  {
   "cell_type": "code",
   "execution_count": 30,
   "metadata": {},
   "outputs": [
    {
     "data": {
      "text/plain": [
       "'table'"
      ]
     },
     "execution_count": 30,
     "metadata": {},
     "output_type": "execute_result"
    }
   ],
   "source": [
    "word2vec.doesnt_match(terms)"
   ]
  },
  {
   "cell_type": "markdown",
   "metadata": {},
   "source": [
    "### 2.4. Solving analogies\n",
    "\n"
   ]
  },
  {
   "cell_type": "markdown",
   "metadata": {},
   "source": [
    "\"Well-behaved\" word embeddings exhibit the ability to automate much more complex tasks than finding sysnonyms, antonyms, and mismatching terms.\n",
    "\n",
    "One of word2vec's powers that has attracted a lot of attention when Tomas Mikolov *et al.* released  it ten years ago was their ability to solve analogy tasks.\n",
    "\n",
    "**Analogy tasks** are simple national language inference problems that prompt a model to infer the Y2 in the following relational statement: \n",
    "\n",
    "> X1 is to Y1 as X2 is to Y1.\n",
    "\n",
    "For example, a frequently cited analogy problem is,\n",
    "\n",
    "> Man is to woman as king is to _____?"
   ]
  },
  {
   "cell_type": "markdown",
   "metadata": {},
   "source": [
    "#### Intuition\n",
    "\n",
    "One can solve analogy problems with word embeddings by performing applying the following geometric operations:\n",
    "\n",
    "1. View the statement ` X1 is to Y1 ` as an instruction to move from the location of X1 in the direction of Y1.\n",
    "2. To get to Y2, take the same direction but start from X2.\n",
    "\n",
    "The following figure from [Jurafsky & Martin (2023)](https://web.stanford.edu/~jurafsky/slp3/6.pdf) illustrates this idea for the analogy \"apple is to tree as grape is to vine:\" "
   ]
  },
  {
   "cell_type": "markdown",
   "metadata": {},
   "source": [
    "![](./imgs/analogy_problem_jurafsky.png)"
   ]
  },
  {
   "cell_type": "markdown",
   "metadata": {},
   "source": [
    "#### Math\n",
    "\n",
    "Let's take the analogy problem\n",
    "\n",
    "> man is to woman as king is to _____?\n",
    "\n",
    "This can be \"solved\" by computing with word vectors by performing\n",
    "the following arithmetic operation with the word vectors of, king, man, and woman:\n",
    "\n",
    "\\begin{align}\n",
    "\\mathbf{v}_\\text{man} - \\mathbf{v}_\\text{woman} &\\approx \\mathbf{v}_\\text{king} - \\mathbf{v}_\\text{?}\\\\\n",
    "\n",
    "\\mathbf{v}_\\text{king} - \\mathbf{v}_\\text{man} + \\mathbf{v}_\\text{woman} &\\approx \\mathbf{v}_\\text{?}\n",
    "\\end{align}\n",
    "\n",
    "The **closest word vector to** $\\mathbf{v}_\\text{?}$ is the best model's best guess for completing the analogy problem."
   ]
  },
  {
   "cell_type": "markdown",
   "metadata": {},
   "source": [
    "This works because\n",
    "\n",
    "- the operation $(\\mathbf{v}_\\text{woman} - \\mathbf{v}_\\text{man})$ spans a \"gender dimension\": $\\mathbf{v}_\\text{gender}$\n",
    "- adding $\\mathbf{v}_\\text{gender}$ to $\\mathbf{v}_\\text{king}$ means to depart from 'king' and move along the gender dimension into the direction of \"femininity\"\n",
    "\n",
    "(see Kozlowski et al., 2019, p. 912, for further examples)\n"
   ]
  },
  {
   "cell_type": "markdown",
   "metadata": {},
   "source": [
    "#### Code (from scratch)"
   ]
  },
  {
   "cell_type": "code",
   "execution_count": 31,
   "metadata": {},
   "outputs": [
    {
     "data": {
      "text/plain": [
       "[('king', 0.8449392318725586),\n",
       " ('queen', 0.7300516366958618),\n",
       " ('monarch', 0.6454660296440125),\n",
       " ('princess', 0.6156251430511475),\n",
       " ('crown_prince', 0.5818676948547363)]"
      ]
     },
     "execution_count": 31,
     "metadata": {},
     "output_type": "execute_result"
    }
   ],
   "source": [
    "v_king = word2vec['king']\n",
    "v_man = word2vec['man']\n",
    "v_woman = word2vec['woman']\n",
    "\n",
    "v_q = v_king - v_man + v_woman\n",
    "\n",
    "word2vec.similar_by_vector(v_q, topn=5)"
   ]
  },
  {
   "cell_type": "markdown",
   "metadata": {},
   "source": [
    "#### Code (with `gensim`)"
   ]
  },
  {
   "cell_type": "code",
   "execution_count": 32,
   "metadata": {},
   "outputs": [
    {
     "data": {
      "text/plain": [
       "[('queen', 0.7118192911148071),\n",
       " ('monarch', 0.6189674735069275),\n",
       " ('princess', 0.5902431011199951),\n",
       " ('crown_prince', 0.5499460697174072),\n",
       " ('prince', 0.5377321243286133)]"
      ]
     },
     "execution_count": 32,
     "metadata": {},
     "output_type": "execute_result"
    }
   ],
   "source": [
    "word2vec.most_similar(positive=['king', 'woman'], negative=['man'], topn=5)"
   ]
  },
  {
   "cell_type": "markdown",
   "metadata": {},
   "source": [
    "I find the order in which you need to pass the words to the `positive` and `negative` arguments slightly unintuitive, though.\n",
    "So let's define a wrapper function:"
   ]
  },
  {
   "cell_type": "code",
   "execution_count": 33,
   "metadata": {},
   "outputs": [],
   "source": [
    "def analogy(x1='man', y1='king', x2='woman', verbose=True):\n",
    "    \"\"\"Computes answer to query 'y1 is to x1 what WORD is to x2?'\"\"\"\n",
    "    result = word2vec.most_similar(positive=[y1, x2], negative=[x1])\n",
    "    if verbose:\n",
    "        print(f\"'{x1}' : '{y1}' :: '{x2}' : ?? ==> '{result[0][0]}'\")\n",
    "    return result[0][0]"
   ]
  },
  {
   "cell_type": "code",
   "execution_count": 34,
   "metadata": {},
   "outputs": [
    {
     "name": "stdout",
     "output_type": "stream",
     "text": [
      "'man' : 'king' :: 'woman' : ?? ==> 'queen'\n"
     ]
    },
    {
     "data": {
      "text/plain": [
       "'queen'"
      ]
     },
     "execution_count": 34,
     "metadata": {},
     "output_type": "execute_result"
    }
   ],
   "source": [
    "analogy('man', 'king', 'woman')"
   ]
  }
 ],
 "metadata": {
  "kernelspec": {
   "display_name": "advanced_text_analysis_gesis_2023",
   "language": "python",
   "name": "python3"
  },
  "language_info": {
   "codemirror_mode": {
    "name": "ipython",
    "version": 3
   },
   "file_extension": ".py",
   "mimetype": "text/x-python",
   "name": "python",
   "nbconvert_exporter": "python",
   "pygments_lexer": "ipython3",
   "version": "3.10.12"
  },
  "orig_nbformat": 4
 },
 "nbformat": 4,
 "nbformat_minor": 2
}
