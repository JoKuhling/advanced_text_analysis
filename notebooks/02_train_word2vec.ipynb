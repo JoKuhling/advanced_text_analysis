{
 "cells": [
  {
   "cell_type": "markdown",
   "metadata": {},
   "source": [
    "# Training a word embedding model from scratch\n",
    "\n",
    "| Author | Last update |\n",
    "|:------ |:----------- |\n",
    "| Hauke Licht (https://github.com/haukelicht) | 2023-09-26 |\n",
    "\n",
    "This notebook illustrates how to use `gensim` to train a word2vec model from scratch on original data."
   ]
  },
  {
   "cell_type": "markdown",
   "metadata": {},
   "source": [
    "## Setup"
   ]
  },
  {
   "cell_type": "code",
   "execution_count": 2,
   "metadata": {},
   "outputs": [],
   "source": [
    "import os\n",
    "import gensim\n",
    "import numpy as np\n",
    "import pandas as pd\n",
    "import swifter # <== `pip install swifter` (if not yet done)"
   ]
  },
  {
   "cell_type": "code",
   "execution_count": 3,
   "metadata": {},
   "outputs": [],
   "source": [
    "data_path = os.path.join('..', 'data', 'corpora', 'gbr_commons')\n",
    "os.makedirs(data_path, exist_ok=True)"
   ]
  },
  {
   "cell_type": "markdown",
   "metadata": {},
   "source": [
    "## Load the data"
   ]
  },
  {
   "cell_type": "markdown",
   "metadata": {},
   "source": [
    "I have prepared a corpus of sentence-splitted speeches from the UK *House of Commons* (lower house chamber of the parliament).\n",
    "The file is too big to be uploaded on Github.\n",
    "So you need to download it if you have not yet done so:"
   ]
  },
  {
   "cell_type": "code",
   "execution_count": 4,
   "metadata": {},
   "outputs": [
    {
     "name": "stdout",
     "output_type": "stream",
     "text": [
      "downloading the corpus ... might take 3-10 minutes (depending on your internet connection)\n"
     ]
    }
   ],
   "source": [
    "fp = os.path.join(data_path, 'gbr_commons_speech_sentences_tokenized.tsv.gzip')\n",
    "if not os.path.exists(fp):\n",
    "    print('downloading the corpus ... might take 3-10 minutes (depending on your internet connection)')\n",
    "    url = 'https://www.dropbox.com/scl/fi/wkxj7k2uiy0935dmbjp34/gbr_commons_speech_sentences_tokenized.tsv.gzip?rlkey=urjdpz0vgbymllzugzsh0m2ld&dl=1'\n",
    "    corp = pd.read_csv(url, sep='\\t', compression='gzip')\n",
    "    corp.to_csv(fp, sep='\\t', compression='gzip', index=False)\n",
    "    # keep only the first 100K sentences in the corpus\n",
    "    corp = corp.iloc[:100_000]\n",
    "else:\n",
    "    # load only the first 100K sentences in the corpus\n",
    "    corp = pd.read_csv(fp, sep='\\t', compression='gzip', nrows=100_000)\n",
    "\n",
    "corp = corp[~corp.text_tokenized.isna()]"
   ]
  },
  {
   "cell_type": "code",
   "execution_count": 14,
   "metadata": {},
   "outputs": [
    {
     "data": {
      "text/html": [
       "<div>\n",
       "<style scoped>\n",
       "    .dataframe tbody tr th:only-of-type {\n",
       "        vertical-align: middle;\n",
       "    }\n",
       "\n",
       "    .dataframe tbody tr th {\n",
       "        vertical-align: top;\n",
       "    }\n",
       "\n",
       "    .dataframe thead th {\n",
       "        text-align: right;\n",
       "    }\n",
       "</style>\n",
       "<table border=\"1\" class=\"dataframe\">\n",
       "  <thead>\n",
       "    <tr style=\"text-align: right;\">\n",
       "      <th></th>\n",
       "      <th>text_id</th>\n",
       "      <th>text_tokenized</th>\n",
       "    </tr>\n",
       "  </thead>\n",
       "  <tbody>\n",
       "    <tr>\n",
       "      <th>0</th>\n",
       "      <td>uk.org.publicwhip/debate/1970-01-19a.1.5_0_0</td>\n",
       "      <td>On a point of order</td>\n",
       "    </tr>\n",
       "    <tr>\n",
       "      <th>1</th>\n",
       "      <td>uk.org.publicwhip/debate/1970-01-19a.1.5_0_1</td>\n",
       "      <td>Is it true Mr Speaker that your Private Secret...</td>\n",
       "    </tr>\n",
       "    <tr>\n",
       "      <th>2</th>\n",
       "      <td>uk.org.publicwhip/debate/1970-01-19a.1.5_0_2</td>\n",
       "      <td>If that be true then it is a matter of deep re...</td>\n",
       "    </tr>\n",
       "    <tr>\n",
       "      <th>3</th>\n",
       "      <td>uk.org.publicwhip/debate/1970-01-19a.1.5_0_3</td>\n",
       "      <td>Will you Mr Speaker be kind enough to convey o...</td>\n",
       "    </tr>\n",
       "    <tr>\n",
       "      <th>4</th>\n",
       "      <td>uk.org.publicwhip/debate/1970-01-19a.1.7_0_0</td>\n",
       "      <td>On behalf of hon and right hon Members on this...</td>\n",
       "    </tr>\n",
       "  </tbody>\n",
       "</table>\n",
       "</div>"
      ],
      "text/plain": [
       "                                        text_id  \\\n",
       "0  uk.org.publicwhip/debate/1970-01-19a.1.5_0_0   \n",
       "1  uk.org.publicwhip/debate/1970-01-19a.1.5_0_1   \n",
       "2  uk.org.publicwhip/debate/1970-01-19a.1.5_0_2   \n",
       "3  uk.org.publicwhip/debate/1970-01-19a.1.5_0_3   \n",
       "4  uk.org.publicwhip/debate/1970-01-19a.1.7_0_0   \n",
       "\n",
       "                                      text_tokenized  \n",
       "0                                On a point of order  \n",
       "1  Is it true Mr Speaker that your Private Secret...  \n",
       "2  If that be true then it is a matter of deep re...  \n",
       "3  Will you Mr Speaker be kind enough to convey o...  \n",
       "4  On behalf of hon and right hon Members on this...  "
      ]
     },
     "execution_count": 14,
     "metadata": {},
     "output_type": "execute_result"
    }
   ],
   "source": [
    "corp.head()"
   ]
  },
  {
   "cell_type": "markdown",
   "metadata": {},
   "source": [
    "The data file maps sentences to sentence IDs.\n",
    "The sentences have been preprocessed and tokenized into words and then concatenated with white spaces.\n",
    "So to get a sentences words, we can split at the white space:"
   ]
  },
  {
   "cell_type": "code",
   "execution_count": 9,
   "metadata": {},
   "outputs": [
    {
     "data": {
      "text/plain": [
       "['Is',\n",
       " 'it',\n",
       " 'true',\n",
       " 'Mr',\n",
       " 'Speaker',\n",
       " 'that',\n",
       " 'your',\n",
       " 'Private',\n",
       " 'Secretary',\n",
       " 'Sir',\n",
       " 'Francis',\n",
       " 'Reid',\n",
       " 'died',\n",
       " 'suddenly',\n",
       " 'over',\n",
       " 'the',\n",
       " 'weekend']"
      ]
     },
     "execution_count": 9,
     "metadata": {},
     "output_type": "execute_result"
    }
   ],
   "source": [
    "corp.text_tokenized[1].split(' ')"
   ]
  },
  {
   "cell_type": "markdown",
   "metadata": {},
   "source": [
    "## How to train (illustration)"
   ]
  },
  {
   "cell_type": "markdown",
   "metadata": {},
   "source": [
    "To train a word2vec model on a corpus, we need to\n",
    "\n",
    "1. create a new model instance `model = gensim.models.Word2Vec(...)`. Here we pass all model *hyper-parameters* like the embedding dimension and window size, the algorithm we want to use (Skip-gram or CBOW), etc.\n",
    "2. build the model's vocabulary on our corpus `model.build_vocab(...)`\n",
    "3. train the model by calling `model.train(...)`"
   ]
  },
  {
   "cell_type": "markdown",
   "metadata": {},
   "source": [
    "### Train on a corpus (in memory)"
   ]
  },
  {
   "cell_type": "markdown",
   "metadata": {},
   "source": [
    "All you need as **input** for these steps is a list of sentences split into tokens (\"words\").\n",
    "That is, you input data should be prepared as follows:\n",
    "\n",
    "```python\n",
    "[\n",
    "    ['Words', 'in', 'sentence', 'one'],\n",
    "    ['Some', 'more', 'words', 'in', 'sentence', 'two'],\n",
    "    ...\n",
    "]\n",
    "```"
   ]
  },
  {
   "cell_type": "markdown",
   "metadata": {},
   "source": [
    "Let's split all our German *Bundestag* speech sentences into words:\n"
   ]
  },
  {
   "cell_type": "code",
   "execution_count": 17,
   "metadata": {},
   "outputs": [
    {
     "data": {
      "application/vnd.jupyter.widget-view+json": {
       "model_id": "9965d57d9b6040dd9724abd89cce9893",
       "version_major": 2,
       "version_minor": 0
      },
      "text/plain": [
       "Pandas Apply:   0%|          | 0/99997 [00:00<?, ?it/s]"
      ]
     },
     "metadata": {},
     "output_type": "display_data"
    }
   ],
   "source": [
    "# split pre-tokeniezd sentences into words\n",
    "sentences = corp.text_tokenized.swifter.apply(lambda x: x.split(' ')).to_list()"
   ]
  },
  {
   "cell_type": "code",
   "execution_count": 18,
   "metadata": {},
   "outputs": [
    {
     "data": {
      "text/plain": [
       "[['On', 'a', 'point', 'of', 'order'],\n",
       " ['Is',\n",
       "  'it',\n",
       "  'true',\n",
       "  'Mr',\n",
       "  'Speaker',\n",
       "  'that',\n",
       "  'your',\n",
       "  'Private',\n",
       "  'Secretary',\n",
       "  'Sir',\n",
       "  'Francis',\n",
       "  'Reid',\n",
       "  'died',\n",
       "  'suddenly',\n",
       "  'over',\n",
       "  'the',\n",
       "  'weekend'],\n",
       " ['If',\n",
       "  'that',\n",
       "  'be',\n",
       "  'true',\n",
       "  'then',\n",
       "  'it',\n",
       "  'is',\n",
       "  'a',\n",
       "  'matter',\n",
       "  'of',\n",
       "  'deep',\n",
       "  'regret',\n",
       "  'to',\n",
       "  'all',\n",
       "  'Members',\n",
       "  'on',\n",
       "  'both',\n",
       "  'sides',\n",
       "  'of',\n",
       "  'the',\n",
       "  'House',\n",
       "  'who',\n",
       "  'shared',\n",
       "  'deep',\n",
       "  'friendships',\n",
       "  'with',\n",
       "  'Sir',\n",
       "  'Francis'],\n",
       " ['Will',\n",
       "  'you',\n",
       "  'Mr',\n",
       "  'Speaker',\n",
       "  'be',\n",
       "  'kind',\n",
       "  'enough',\n",
       "  'to',\n",
       "  'convey',\n",
       "  'our',\n",
       "  'deep',\n",
       "  'sympathy',\n",
       "  'to',\n",
       "  'the',\n",
       "  'members',\n",
       "  'of',\n",
       "  'his',\n",
       "  'family']]"
      ]
     },
     "execution_count": 18,
     "metadata": {},
     "output_type": "execute_result"
    }
   ],
   "source": [
    "# print first 4 sentences\n",
    "sentences[:4]"
   ]
  },
  {
   "cell_type": "markdown",
   "metadata": {},
   "source": [
    "Now we are ready to create a `Word2Vec` model instance.\n",
    "The following model hyper-parameters are relevant for our purposes:\n",
    "\n",
    "- `vector_size`: the number of dimensions $d$ of th word embedding matrix\n",
    "- `window`: the number of context words to use for modeling \n",
    "- `min_count`: the minimum number of times a word needs to occur in the corpus to be included in the vocabulary\n",
    "- `sg`: set to 1 to use the Skip-Gram algorithm, otherwise uses CBOW algorithm\n",
    "- `hs`: set to 1 to use the hierarchical softmax\n",
    "- `negative`: number of negative samples to use per focus word when computing the loss\n",
    "- `epochs`: number of times to iterate over corpus (all sentences)\n",
    "- `workers`: number of CPU cores to use for training parallelization"
   ]
  },
  {
   "cell_type": "code",
   "execution_count": 19,
   "metadata": {},
   "outputs": [],
   "source": [
    "import gensim\n",
    "\n",
    "# create a new model instance\n",
    "model = gensim.models.Word2Vec(\n",
    "    vector_size=10, # <= super low dimensionality for testing\n",
    "    window=5,\n",
    "    min_count=5,\n",
    "    sg=1,\n",
    "    hs=1,\n",
    "    negative=5,\n",
    "    epochs=5, # <= set very low for testing\n",
    "    workers=10\n",
    ")"
   ]
  },
  {
   "cell_type": "markdown",
   "metadata": {},
   "source": [
    "Next, we build the vocabulary:"
   ]
  },
  {
   "cell_type": "code",
   "execution_count": 20,
   "metadata": {},
   "outputs": [],
   "source": [
    "# build the vocabulary from the list of sentences\n",
    "model.build_vocab(sentences)"
   ]
  },
  {
   "cell_type": "markdown",
   "metadata": {},
   "source": [
    "Now we can train the model:"
   ]
  },
  {
   "cell_type": "code",
   "execution_count": 21,
   "metadata": {},
   "outputs": [
    {
     "data": {
      "text/plain": [
       "(7101192, 10061760)"
      ]
     },
     "execution_count": 21,
     "metadata": {},
     "output_type": "execute_result"
    }
   ],
   "source": [
    "# train the model on the list of sentences\n",
    "model.train(sentences, total_examples=model.corpus_count, epochs=model.epochs)"
   ]
  },
  {
   "cell_type": "markdown",
   "metadata": {},
   "source": [
    "Let's compute similarities on a number of hand-picked word pairs to see whether the model has learned sensible word vectors.\n",
    "\n",
    "*Note:* This is more of a \"face validity\" check and no full-fledged validation"
   ]
  },
  {
   "cell_type": "code",
   "execution_count": 22,
   "metadata": {},
   "outputs": [
    {
     "name": "stdout",
     "output_type": "stream",
     "text": [
      "\"Government\" - \"law\": 0.408\n",
      "\"Government\" - \"bill\": 0.277\n",
      "\"Opposition\" - \"law\": 0.350\n",
      "\"Opposition\" - \"bill\": 0.137\n",
      "\"Opposition\" - \"proposal\": 0.747\n",
      "\"bill\" - \"proposal\": 0.362\n",
      "\"Labour\" - \"government\": 0.479\n",
      "\"Labour\" - \"opposition\": 0.654\n",
      "\"Conservatives\" - \"government\": 0.357\n",
      "\"Conservatives\" - \"opposition\": 0.620\n"
     ]
    }
   ],
   "source": [
    "# evaluate\n",
    "pairs = [\n",
    "    ('Sir', 'Madan'),\n",
    "    ('Pound', 'Euro'),\n",
    "    ('Pound', 'Dollar'),\n",
    "    ('Government', 'law'),\n",
    "    ('Government', 'bill'),\n",
    "    ('Government', 'propoasal'),\n",
    "    ('Opposition', 'law'),\n",
    "    ('Opposition', 'bill'),\n",
    "    ('Opposition', 'proposal'),\n",
    "    ('bill', 'proposal'),\n",
    "    ('Labour', 'government'),\n",
    "    ('Labour', 'opposition'),\n",
    "    ('Conservatives', 'government'),\n",
    "    ('Conservatives', 'opposition'),\n",
    "]\n",
    "for pair in pairs:\n",
    "    if all(p in model.wv.key_to_index for p in pair):\n",
    "        print(f'\"{pair[0]}\" - \"{pair[1]}\": {model.wv.similarity(pair[0], pair[1]):.3f}')"
   ]
  },
  {
   "cell_type": "markdown",
   "metadata": {},
   "source": [
    "### Train with a corpus read from disk\n",
    "\n",
    "The above code works just fine.\n",
    "But it has a computational bottleneck!\n",
    "To iterate over the list of sentences, we need to have them all loaded into our working memory (RAM).\n",
    "If our corpus is very large -- which it should be to enable learning of reliable word embeddings --, this might be too burdensome for your computer.\n",
    "\n",
    "So instead of loading the entire corpus in the RAW, we can iteratively read batches of sentences from a data file that exists somewhere on the hard drive (\"disk\") of your computer.\n",
    "For this, we need an \"iterable\" class that implements \"yields\" sentences in our corpus one at a time.\n",
    "\n",
    "In the next code cell, we define such a class.\n",
    "This class reads the sentences from a (ZIP-ed) CSV file and splits sentences at white spaces before yielding them.\n"
   ]
  },
  {
   "cell_type": "code",
   "execution_count": 24,
   "metadata": {},
   "outputs": [],
   "source": [
    "import gzip\n",
    "from tqdm.auto import tqdm\n",
    "\n",
    "# get corpus sentences\n",
    "class SentenceCorpus(object):\n",
    "    \"\"\"Iterable class for reading a corpus from a file.\n",
    "    \n",
    "    Parameters\n",
    "    ----------\n",
    "    filepath : str\n",
    "        Path to the corpus file.\n",
    "    sep : str, optional\n",
    "        Separator for splitting the lines into tokens. Default: ','\n",
    "    compressed : bool, optional\n",
    "        Whether the file is compressed. Default: False\n",
    "    skip : int, optional\n",
    "        Number of lines to skip at the beginning of the file. Default: 1\n",
    "    nrows : int, optional\n",
    "        Number of lines to read from the file. Default: None (read all lines)\n",
    "    \n",
    "    Yields\n",
    "    ------\n",
    "    list of str\n",
    "\n",
    "    \"\"\"\n",
    "    # note: I've already added a lot of functionality here (e.g. reading from compressed files, skip rows, limit the number of rows to read).\n",
    "    #       Hence, the actual code is a bit more complex than what you'd need in some use cases.\n",
    "    def __init__(self, filepath, sep='\\t', compressed=False, skip=1, nrows=None):\n",
    "        self.filepath = filepath\n",
    "        self.sep = sep\n",
    "        self.compressed = compressed\n",
    "        self.skip = skip if skip else 0\n",
    "        self.nrows = nrows if nrows else np.inf\n",
    "        if skip and skip > 0:\n",
    "            self.nrows += skip\n",
    "        with gzip.open(self.filepath,'rt') if self.compressed else open(self.filepath, 'r') as file:\n",
    "            corpus_size = len(file.readlines())\n",
    "        if nrows is not None and nrows < corpus_size:\n",
    "            corpus_size = nrows\n",
    "        else:\n",
    "            nrows = corpus_size\n",
    "        self.corpus_size = nrows\n",
    "    \n",
    "    def __len__(self):\n",
    "        return self.corpus_size\n",
    "    \n",
    "    def __iter__(self):\n",
    "        with gzip.open(self.filepath,'rt') if self.compressed else open(self.filepath, 'r') as file:\n",
    "            max_ = self.nrows if self.skip <= 0 else self.nrows+self.skip\n",
    "            for i, line in enumerate(file):\n",
    "                if i <= self.skip:\n",
    "                    continue\n",
    "                if max_ and i >= max_:\n",
    "                    break\n",
    "                yield line.strip().split(self.sep)[1].split(' ')"
   ]
  },
  {
   "cell_type": "markdown",
   "metadata": {},
   "source": [
    "Let's read the some 100,000 sentences from our corpus as above:"
   ]
  },
  {
   "cell_type": "code",
   "execution_count": 25,
   "metadata": {},
   "outputs": [],
   "source": [
    "fp = os.path.join(data_path, 'gbr_commons_speech_sentences_tokenized.tsv.gzip')\n",
    "sentences = SentenceCorpus(filepath=fp, compressed=True, nrows=100_000)\n",
    "# note: loading it takes time because it's an iterable"
   ]
  },
  {
   "cell_type": "code",
   "execution_count": 26,
   "metadata": {},
   "outputs": [
    {
     "data": {
      "text/plain": [
       "100000"
      ]
     },
     "execution_count": 26,
     "metadata": {},
     "output_type": "execute_result"
    }
   ],
   "source": [
    "len(sentences)"
   ]
  },
  {
   "cell_type": "code",
   "execution_count": 27,
   "metadata": {},
   "outputs": [],
   "source": [
    "model = gensim.models.Word2Vec(\n",
    "    vector_size=10, # <= super low dimensionality for testing\n",
    "    window=5,\n",
    "    min_count=5,\n",
    "    sg=1,\n",
    "    hs=1,\n",
    "    negative=5,\n",
    "    epochs=5, # <= set very low for testing\n",
    "    workers=10\n",
    ")"
   ]
  },
  {
   "cell_type": "code",
   "execution_count": 28,
   "metadata": {},
   "outputs": [],
   "source": [
    "model.build_vocab(sentences)"
   ]
  },
  {
   "cell_type": "code",
   "execution_count": 29,
   "metadata": {},
   "outputs": [
    {
     "data": {
      "text/plain": [
       "(7102431, 10061815)"
      ]
     },
     "execution_count": 29,
     "metadata": {},
     "output_type": "execute_result"
    }
   ],
   "source": [
    "model.train(sentences, total_examples=model.corpus_count, epochs=model.epochs)"
   ]
  },
  {
   "cell_type": "markdown",
   "metadata": {},
   "source": [
    "Let's again compute similarities on our hand-picked word pairs:"
   ]
  },
  {
   "cell_type": "code",
   "execution_count": 30,
   "metadata": {},
   "outputs": [
    {
     "name": "stdout",
     "output_type": "stream",
     "text": [
      "\"Government\" - \"law\": 0.382\n",
      "\"Government\" - \"bill\": 0.349\n",
      "\"Opposition\" - \"law\": 0.307\n",
      "\"Opposition\" - \"bill\": 0.235\n",
      "\"Opposition\" - \"proposal\": 0.737\n",
      "\"bill\" - \"proposal\": 0.331\n",
      "\"Labour\" - \"government\": 0.495\n",
      "\"Labour\" - \"opposition\": 0.729\n",
      "\"Conservatives\" - \"government\": 0.343\n",
      "\"Conservatives\" - \"opposition\": 0.713\n"
     ]
    }
   ],
   "source": [
    "for pair in pairs:\n",
    "    if all(p in model.wv.key_to_index for p in pair):\n",
    "        print(f'\"{pair[0]}\" - \"{pair[1]}\": {model.wv.similarity(pair[0], pair[1]):.3f}')"
   ]
  },
  {
   "cell_type": "markdown",
   "metadata": {},
   "source": [
    "## Train, for real"
   ]
  },
  {
   "cell_type": "code",
   "execution_count": 31,
   "metadata": {},
   "outputs": [
    {
     "data": {
      "text/plain": [
       "26290960"
      ]
     },
     "execution_count": 31,
     "metadata": {},
     "output_type": "execute_result"
    }
   ],
   "source": [
    "fp = os.path.join(data_path, 'gbr_commons_speech_sentences_tokenized.tsv.gzip')\n",
    "sentences = SentenceCorpus(filepath=fp, compressed=True)\n",
    "len(sentences)"
   ]
  },
  {
   "cell_type": "code",
   "execution_count": 32,
   "metadata": {},
   "outputs": [],
   "source": [
    "model = gensim.models.Word2Vec(\n",
    "    vector_size=100, # <= low dimensionality for testing\n",
    "    window=5,\n",
    "    min_count=25, # <= words should appear at least 25 times in the corpus\n",
    "    sg=1,\n",
    "    hs=1,\n",
    "    negative=5,\n",
    "    epochs=10, # <= set very low for testing\n",
    "    workers=10,\n",
    "    sorted_vocab=1,\n",
    ")"
   ]
  },
  {
   "cell_type": "code",
   "execution_count": 33,
   "metadata": {},
   "outputs": [],
   "source": [
    "model.build_vocab(sentences) # <== takes long because corpus is large "
   ]
  },
  {
   "cell_type": "markdown",
   "metadata": {},
   "source": [
    "Because training is going to take a while, we'll add a \"callback\" function that prints the loss after each epoch\n",
    "\n",
    "*source:* https://stackoverflow.com/a/54891714"
   ]
  },
  {
   "cell_type": "code",
   "execution_count": 34,
   "metadata": {},
   "outputs": [],
   "source": [
    "import time\n",
    "import gensim\n",
    "\n",
    "class callback(gensim.models.callbacks.CallbackAny2Vec):\n",
    "    '''Callback to print loss after each epoch.'''\n",
    "\n",
    "    def __init__(self):\n",
    "        self.epoch = 0\n",
    "        # record the start time of the training\n",
    "    \n",
    "    def on_epoch_begin(self, model):\n",
    "        print(f'Epoch #{self.epoch} start ...', end=' ')\n",
    "        self.ts = time.time()\n",
    "\n",
    "    def on_epoch_end(self, model):\n",
    "        # compute the time delta of the epoch relative to self.ts\n",
    "        delta = time.time() - self.ts\n",
    "        # print the delta time and loss after each epoch\n",
    "        loss = model.get_latest_training_loss()\n",
    "        print(f'Epoch #{self.epoch} took {int(delta // 60)}:{int(delta % 60)}m; loss = {loss}')\n",
    "        self.epoch += 1"
   ]
  },
  {
   "cell_type": "code",
   "execution_count": 35,
   "metadata": {},
   "outputs": [
    {
     "name": "stdout",
     "output_type": "stream",
     "text": [
      "Epoch #0 start ... Epoch #0 took 10:58m; loss = 77135600.0\n",
      "Epoch #1 start ... Epoch #1 took 11:45m; loss = 90628424.0\n",
      "Epoch #2 start ... Epoch #2 took 11:19m; loss = 103634312.0\n",
      "Epoch #3 start ... Epoch #3 took 11:21m; loss = 116353824.0\n",
      "Epoch #4 start ... Epoch #4 took 11:22m; loss = 128649688.0\n",
      "Epoch #5 start ... Epoch #5 took 11:23m; loss = 134217728.0\n",
      "Epoch #6 start ... Epoch #6 took 11:41m; loss = 134217728.0\n",
      "Epoch #7 start ... Epoch #7 took 11:28m; loss = 134217728.0\n",
      "Epoch #8 start ... Epoch #8 took 11:43m; loss = 134217728.0\n",
      "Epoch #9 start ... Epoch #9 took 10:19m; loss = 134217728.0\n"
     ]
    },
    {
     "data": {
      "text/plain": [
       "(3791431089, 5196179950)"
      ]
     },
     "execution_count": 35,
     "metadata": {},
     "output_type": "execute_result"
    }
   ],
   "source": [
    "model.train(\n",
    "    sentences, \n",
    "    total_examples=model.corpus_count, \n",
    "    epochs=model.epochs,\n",
    "    compute_loss=True, \n",
    "    callbacks=[callback()]\n",
    ")"
   ]
  },
  {
   "cell_type": "code",
   "execution_count": 37,
   "metadata": {},
   "outputs": [
    {
     "name": "stdout",
     "output_type": "stream",
     "text": [
      "\"Pound\" - \"Euro\": 0.249\n",
      "\"Pound\" - \"Dollar\": 0.188\n",
      "\"Government\" - \"law\": 0.360\n",
      "\"Government\" - \"bill\": 0.223\n",
      "\"Opposition\" - \"law\": 0.126\n",
      "\"Opposition\" - \"bill\": 0.091\n",
      "\"Opposition\" - \"proposal\": 0.312\n",
      "\"bill\" - \"proposal\": 0.349\n",
      "\"Labour\" - \"government\": 0.618\n",
      "\"Labour\" - \"opposition\": 0.533\n",
      "\"Conservatives\" - \"government\": 0.545\n",
      "\"Conservatives\" - \"opposition\": 0.515\n"
     ]
    }
   ],
   "source": [
    "# Let's again compute similarities on our hand-picked word pairs:\n",
    "for pair in pairs:\n",
    "    if all(p in model.wv.key_to_index for p in pair):\n",
    "        print(f'\"{pair[0]}\" - \"{pair[1]}\": {model.wv.similarity(pair[0], pair[1]):.3f}')"
   ]
  },
  {
   "cell_type": "markdown",
   "metadata": {},
   "source": [
    "## Saving the model and it's vectors"
   ]
  },
  {
   "cell_type": "code",
   "execution_count": 43,
   "metadata": {},
   "outputs": [
    {
     "name": "stdout",
     "output_type": "stream",
     "text": [
      "../../../data/models/gbr_commons\n"
     ]
    }
   ],
   "source": [
    "# store the model's word vectors in a file\n",
    "models_path = data_path.replace('corpora', 'models')\n",
    "print(models_path)\n",
    "fp = os.path.join(models_path, 'gbr_commons_word2vec_w5_d100')"
   ]
  },
  {
   "cell_type": "markdown",
   "metadata": {},
   "source": [
    "With a trained model at hand, you have two options for saving it for re-use.\n",
    "You can only save the word vectors (as `KeyedVectors`).\n",
    "Or you can save the full model (which inlcudes the word vectors but has more capabilities).\n",
    "\n",
    "The following table compares the **pros and cons** of these approaches ([source](https://radimrehurek.com/gensim/models/keyedvectors.html#how-to-obtain-word-vectors)):\n",
    "\n",
    "<table class=\"docutils align-default\">\n",
    "<colgroup>\n",
    "<col style=\"width: 24%\">\n",
    "<col style=\"width: 12%\">\n",
    "<col style=\"width: 11%\">\n",
    "<col style=\"width: 54%\">\n",
    "</colgroup>\n",
    "<tbody>\n",
    "<tr class=\"row-odd\">\n",
    "<td><p><em>capability</em></p></td>\n",
    "<td><p><em>KeyedVectors</em></p></td>\n",
    "<td><p><em>full model</em></p></td>\n",
    "<td><p><em>note</em></p></td>\n",
    "</tr>\n",
    "<tr class=\"row-even\"><td><p>continue training vectors</p></td>\n",
    "<td><p>❌</p></td>\n",
    "<td><p>✅</p></td>\n",
    "<td><p>You need the full model to train or update vectors.</p></td>\n",
    "</tr>\n",
    "<tr class=\"row-odd\"><td><p>smaller objects</p></td>\n",
    "<td><p>✅</p></td>\n",
    "<td><p>❌</p></td>\n",
    "<td><p>KeyedVectors are smaller and need less RAM, because they\n",
    "don’t need to store the model state that enables training.</p></td>\n",
    "</tr>\n",
    "<tr class=\"row-even\"><td><p>save/load from native\n",
    "fasttext/word2vec format</p></td>\n",
    "<td><p>✅</p></td>\n",
    "<td><p>❌</p></td>\n",
    "<td><p>Vectors exported by the Facebook and Google tools\n",
    "do not support further training, but you can still load\n",
    "them into KeyedVectors.</p></td>\n",
    "</tr>\n",
    "<tr class=\"row-odd\"><td><p>append new vectors</p></td>\n",
    "<td><p>✅</p></td>\n",
    "<td><p>✅</p></td>\n",
    "<td><p>Add new-vector entries to the mapping dynamically.</p></td>\n",
    "</tr>\n",
    "<tr class=\"row-even\"><td><p>concurrency</p></td>\n",
    "<td><p>✅</p></td>\n",
    "<td><p>✅</p></td>\n",
    "<td><p>Thread-safe, allows concurrent vector queries.</p></td>\n",
    "</tr>\n",
    "<tr class=\"row-odd\"><td><p>shared RAM</p></td>\n",
    "<td><p>✅</p></td>\n",
    "<td><p>✅</p></td>\n",
    "<td><p>Multiple processes can re-use the same data, keeping only\n",
    "a single copy in RAM using\n",
    "<a class=\"reference external\" href=\"https://en.wikipedia.org/wiki/Mmap\">mmap</a>.</p></td>\n",
    "</tr>\n",
    "<tr class=\"row-even\"><td><p>fast load</p></td>\n",
    "<td><p>✅</p></td>\n",
    "<td><p>✅</p></td>\n",
    "<td><p>Supports <a class=\"reference external\" href=\"https://en.wikipedia.org/wiki/Mmap\">mmap</a>\n",
    "to load data from disk instantaneously.</p></td>\n",
    "</tr>\n",
    "</tbody>\n",
    "</table>"
   ]
  },
  {
   "cell_type": "markdown",
   "metadata": {},
   "source": [
    "#### Saving the full model\n",
    "\n",
    "Just call the save `method()` on your word2vec `mode` object\n",
    "\n",
    "**_Note:_** It's customary to name the file you write the model to with the file extension '.model' (we will use another one when we just save the word vectors) \n"
   ]
  },
  {
   "cell_type": "code",
   "execution_count": 44,
   "metadata": {},
   "outputs": [],
   "source": [
    "model.save(fp+'.model')"
   ]
  },
  {
   "cell_type": "markdown",
   "metadata": {},
   "source": [
    "It's then easy to reload the model:"
   ]
  },
  {
   "cell_type": "code",
   "execution_count": 48,
   "metadata": {},
   "outputs": [
    {
     "data": {
      "text/plain": [
       "(gensim.models.word2vec.Word2Vec, gensim.models.keyedvectors.KeyedVectors)"
      ]
     },
     "execution_count": 48,
     "metadata": {},
     "output_type": "execute_result"
    }
   ],
   "source": [
    "from gensim.models import Word2Vec\n",
    "tmp = Word2Vec.load(fp+'.model')\n",
    "type(tmp), type(tmp.wv)"
   ]
  },
  {
   "cell_type": "markdown",
   "metadata": {},
   "source": [
    "#### Saving only the word vectors\n",
    "\n",
    "Call the save `method()` on your word2vec `mode`'s `wv` attribute (a `KeyedVectors` object recording the model's word vectors):\n",
    "\n",
    "**_Note:_** It's customary to name the file you write the model to with the file extension '.kv' 🥝\n"
   ]
  },
  {
   "cell_type": "code",
   "execution_count": 51,
   "metadata": {},
   "outputs": [],
   "source": [
    "model.wv.save(fp+'.kv')"
   ]
  },
  {
   "cell_type": "code",
   "execution_count": 52,
   "metadata": {},
   "outputs": [
    {
     "data": {
      "text/plain": [
       "gensim.models.keyedvectors.KeyedVectors"
      ]
     },
     "execution_count": 52,
     "metadata": {},
     "output_type": "execute_result"
    }
   ],
   "source": [
    "from gensim.models import KeyedVectors\n",
    "tmp = KeyedVectors.load(fp+'.kv')\n",
    "type(tmp)"
   ]
  },
  {
   "cell_type": "markdown",
   "metadata": {},
   "source": [
    "#### Save in other standard formats\n",
    "\n",
    "Since Word2Vec has been implemented in many other languages (e.g., C and R), there is a standardized file format for storing word vectors.\n",
    "Saving word embeddings in this format allows \"interoperatbility\" between languages. \n",
    "So for example, you could train your word embedding model in Python but compute with the embeddings in R."
   ]
  },
  {
   "cell_type": "code",
   "execution_count": 54,
   "metadata": {},
   "outputs": [],
   "source": [
    "model.wv.save_word2vec_format(fp+'.vectors')"
   ]
  },
  {
   "cell_type": "code",
   "execution_count": 60,
   "metadata": {},
   "outputs": [
    {
     "name": "stdout",
     "output_type": "stream",
     "text": [
      "79338 100\n",
      "the -0.115997605 -0.14884225 -0.12895775 0.09393551 0.097044945 -0.30353922 0.19999993 0.07260028 0.022534432 0.27119234 -0.376409 0.021482823 -0.026498402 -0.19890901 0.23564409 0.14851832 0.22597332 0.018340524 -0.13723059 0.14085543 -0.11470687 0.06691807 -0.056911133 0.050308105 0.060546733 0.055016436 -0.2705088 -0.037383683 0.28965232 -0.055596534 0.21220706 -0.18371496 0.13106298 -0.07839364 -0.045897573 -0.13771228 -0.14794247 0.13426219 -0.18550311 0.035354722 0.2651762 0.067005426 -0.002249805 0.20813881 -0.08645588 0.20668018 -0.05650302 0.08491766 0.32132623 -0.13516597 -0.084183134 0.11043672 0.18633321 -0.45208684 0.06992645 -0.13670206 0.15804847 0.010294967 -0.19854228 -0.1443379 0.14387698 0.3035268 0.032096878 -0.1608676 -0.0804171 -0.027760101 -0.018719688 -0.2336726 0.0868613 -0.13737299 0.22800523 -0.019262169 -0.07829984 -0.25567237 0.13903368 -0.0075952252 -0.11072661 -0.33697185 -0.06383023 -0.1913333 -0.17815098 0.09914854 -0.113653354 -0.121188246 0.08626879 -0.07198681 0.058366165 0.028910711 0.15644632 0.20623611 0.20322618 -0.03632908 0.33730015 -0.024194358 0.28545606 0.0071380786 -0.17361921 0.13698928 0.072343774 0.21127139\n",
      "to -0.08194332 0.0102146715 -0.13694267 -0.073589385 -0.098642856 -0.120021746 0.25702393 0.061893508 0.14052038 0.2524642 -0.100931235 -0.16190735 0.101838954 -0.22658381 0.118069924 0.09019245 0.29263768 0.079047516 -0.22924906 -0.08735697 -0.013059043 0.013977507 0.092238694 -0.055706445 0.0099860905 0.21351156 -0.18415761 0.13269305 -0.047670733 -0.05555481 0.3349081 0.041355148 0.13291964 -0.15737431 0.20285152 -0.24896966 -0.21641032 -0.016811725 -0.089130506 -0.045534138 0.4545592 -0.017890949 0.04839319 0.09899823 0.15784663 0.24623924 -0.03548273 0.21910228 0.41738772 -0.14062493 -0.21524686 -0.08468734 0.13136609 -0.5318854 0.042538296 0.06959345 -0.3193152 0.11671725 -0.1300478 -0.019812418 0.142803 0.30795422 0.18601687 0.059410714 0.09297455 -0.1941578 -0.18315612 -0.40824544 -0.017011723 -0.2465443 0.32047036 -0.16733588 -0.059200425 -0.21621004 -0.11509576 -0.011422363 0.07100623 -0.12267254 0.0998015 -0.16199256 -0.28666285 0.15957798 -0.099533945 0.0204029 -0.054025922 0.08438484 -0.04470638 -0.071388364 0.26046354 0.17564714 0.18718985 0.08420422 0.1502139 -0.15641265 0.06938014 -0.22623603 0.2396623 0.033083566 -0.04339409 0.1790224\n"
     ]
    }
   ],
   "source": [
    "# inspect the file content (first two lines only) in the Terminal\n",
    "!head -n 3 ../data/models/gbr_commons/gbr_commons_word2vec_w5_d100.vectors\n",
    "# note: on Windows, use 'more /n 3' instead of 'head -n 3' and backward instead of forward slashes"
   ]
  }
 ],
 "metadata": {
  "kernelspec": {
   "display_name": "advanced_text_analysis_gesis_2023",
   "language": "python",
   "name": "python3"
  },
  "language_info": {
   "codemirror_mode": {
    "name": "ipython",
    "version": 3
   },
   "file_extension": ".py",
   "mimetype": "text/x-python",
   "name": "python",
   "nbconvert_exporter": "python",
   "pygments_lexer": "ipython3",
   "version": "3.10.12"
  },
  "orig_nbformat": 4
 },
 "nbformat": 4,
 "nbformat_minor": 2
}
