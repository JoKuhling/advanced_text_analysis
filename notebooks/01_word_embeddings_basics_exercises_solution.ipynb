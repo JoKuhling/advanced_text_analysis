{
 "cells": [
  {
   "cell_type": "markdown",
   "metadata": {},
   "source": [
    "# Computing with word embeddings: Exercises\n",
    "\n",
    "| Author | Last update |\n",
    "|:------ |:----------- |\n",
    "| Hauke Licht (https://github.com/haukelicht) | 2023-09-24 |\n",
    "\n",
    "This notebook illustrates how to use `gensim` to compute with word vectors (e.g., word2vec) to, for example\n",
    "\n",
    "- compute two words similarity\n",
    "- find the most similar words for a focal word\n",
    "- solve analogy tasks"
   ]
  },
  {
   "cell_type": "markdown",
   "metadata": {},
   "source": [
    "## Setup"
   ]
  },
  {
   "cell_type": "markdown",
   "metadata": {},
   "source": [
    "Load required modules."
   ]
  },
  {
   "cell_type": "code",
   "execution_count": 2,
   "metadata": {},
   "outputs": [],
   "source": [
    "# file in- and export\n",
    "import os\n",
    "\n",
    "# for working with word embeddings\n",
    "import gensim\n",
    "import gensim.downloader as api\n",
    "\n",
    "# for using arrays and data frames\n",
    "import pandas as pd\n",
    "import numpy as np\n",
    "\n",
    "# for plotting\n",
    "import matplotlib.pyplot as plt\n",
    "plt.style.use('ggplot')"
   ]
  },
  {
   "cell_type": "markdown",
   "metadata": {},
   "source": [
    "Load a pre-trained word embedding model with `gensim`'s model API."
   ]
  },
  {
   "cell_type": "code",
   "execution_count": 3,
   "metadata": {},
   "outputs": [],
   "source": [
    "# load the model and name it's instance in our notebook environment 'word2vec'\n",
    "word2vec = api.load('word2vec-google-news-300')"
   ]
  },
  {
   "cell_type": "code",
   "execution_count": 8,
   "metadata": {},
   "outputs": [
    {
     "name": "stdout",
     "output_type": "stream",
     "text": [
      "['word2vec-google-news-300.gz', '__init__.py', '__pycache__']\n"
     ]
    }
   ],
   "source": [
    "# load it from disk\n",
    "from gensim.models import KeyedVectors\n",
    "\n",
    "model_name = 'word2vec-google-news-300'\n",
    "model_dir = os.path.join(api.BASE_DIR, model_name)\n",
    "print(os.listdir(model_dir))\n",
    "model_path = os.path.join(model_dir, model_name + '.gz') \n",
    "\n",
    "model = KeyedVectors.load_word2vec_format(model_path, binary=True)\n"
   ]
  },
  {
   "cell_type": "markdown",
   "metadata": {},
   "source": [
    "**_Note_:** You can also load another model if you want. It will still be a `KeyedVectors` object. So you can directly apply what you learned."
   ]
  },
  {
   "cell_type": "code",
   "execution_count": 3,
   "metadata": {},
   "outputs": [
    {
     "name": "stdout",
     "output_type": "stream",
     "text": [
      "['fasttext-wiki-news-subwords-300', 'conceptnet-numberbatch-17-06-300', 'word2vec-ruscorpora-300', 'word2vec-google-news-300', 'glove-wiki-gigaword-50', 'glove-wiki-gigaword-100', 'glove-wiki-gigaword-200', 'glove-wiki-gigaword-300', 'glove-twitter-25', 'glove-twitter-50', 'glove-twitter-100', 'glove-twitter-200', '__testing_word2vec-matrix-synopsis']\n"
     ]
    },
    {
     "data": {
      "text/plain": [
       "{'num_records': 3000000,\n",
       " 'file_size': 1743563840,\n",
       " 'base_dataset': 'Google News (about 100 billion words)',\n",
       " 'reader_code': 'https://github.com/RaRe-Technologies/gensim-data/releases/download/word2vec-google-news-300/__init__.py',\n",
       " 'license': 'not found',\n",
       " 'parameters': {'dimension': 300},\n",
       " 'description': \"Pre-trained vectors trained on a part of the Google News dataset (about 100 billion words). The model contains 300-dimensional vectors for 3 million words and phrases. The phrases were obtained using a simple data-driven approach described in 'Distributed Representations of Words and Phrases and their Compositionality' (https://code.google.com/archive/p/word2vec/).\",\n",
       " 'read_more': ['https://code.google.com/archive/p/word2vec/',\n",
       "  'https://arxiv.org/abs/1301.3781',\n",
       "  'https://arxiv.org/abs/1310.4546',\n",
       "  'https://www.microsoft.com/en-us/research/publication/linguistic-regularities-in-continuous-space-word-representations/?from=http%3A%2F%2Fresearch.microsoft.com%2Fpubs%2F189726%2Frvecs.pdf'],\n",
       " 'checksum': 'a5e5354d40acb95f9ec66d5977d140ef',\n",
       " 'file_name': 'word2vec-google-news-300.gz',\n",
       " 'parts': 1}"
      ]
     },
     "execution_count": 3,
     "metadata": {},
     "output_type": "execute_result"
    }
   ],
   "source": [
    "# list available models\n",
    "print(list(api.info()['models'].keys()))\n",
    "\n",
    "# get detailed info for a specific model\n",
    "api.info(name='word2vec-google-news-300')"
   ]
  },
  {
   "cell_type": "markdown",
   "metadata": {},
   "source": [
    "## 1. Word vector similarities"
   ]
  },
  {
   "cell_type": "markdown",
   "metadata": {},
   "source": [
    "### Exercise 1\n",
    "\n",
    "Use the `wordnet` python package to find synonyms and antonyms of your choice of focus word(s), and compute their similarities.\n",
    "What do you observe?\n",
    "\n",
    "**_Hint:_** You can also define your own lists of synonyms and antonyms.\n",
    "\n",
    "**_Note:_** *WordNet* is a lexical database and semantic network of words and their relationships. \n",
    "It was developed to assist natural language processing and computational linguistics applications by providing a structured and comprehensive way to represent the English language vocabulary. \n",
    "WordNet was created at Princeton University and has been widely used in various text analysis tasks, including machine learning, information retrieval, and natural language understanding.\n",
    "([source](https://chat.openai.com/share/1de49018-f487-4789-82cb-98ccf8d47ccb))"
   ]
  },
  {
   "cell_type": "code",
   "execution_count": 22,
   "metadata": {},
   "outputs": [
    {
     "name": "stdout",
     "output_type": "stream",
     "text": [
      "Synset('nice.n.01') a city in southeastern France on the Mediterranean; the leading resort on the French Riviera\n",
      "Synset('nice.a.01') pleasant or pleasing or agreeable in nature or appearance; - George Meredith\n",
      "Synset('decent.s.01') socially or conventionally correct; refined or virtuous\n",
      "Synset('nice.s.03') done with delicacy and skill\n",
      "Synset('dainty.s.04') excessively fastidious and easily disgusted\n",
      "Synset('courteous.s.01') exhibiting courtesy and politeness\n"
     ]
    }
   ],
   "source": [
    "# import wordnet\n",
    "from nltk.corpus import wordnet\n",
    "\n",
    "# TODO: insert your focus word here\n",
    "focus_word = 'nice' # <== change!\n",
    "\n",
    "# find the sysnset for the focus word of your choice\n",
    "synsets = wordnet.synsets(focus_word)\n",
    "for synset in synsets:\n",
    "    print(synset, synset.definition())"
   ]
  },
  {
   "cell_type": "code",
   "execution_count": 23,
   "metadata": {},
   "outputs": [
    {
     "name": "stdout",
     "output_type": "stream",
     "text": [
      "Synonyms for: nice\n",
      "{'prissy', 'squeamish', 'Nice', 'gracious', 'courteous', 'decent', 'skillful', 'dainty'}\n",
      "Antonyms for: nice\n",
      "{'nasty'}\n"
     ]
    }
   ],
   "source": [
    "# find the synonyms and antonyms for <YOUR WORD>\n",
    "synonyms = []\n",
    "antonyms = []\n",
    "for synset in wordnet.synsets(focus_word):\n",
    "    for lemma in synset.lemmas():\n",
    "        if focus_word not in lemma.name():\n",
    "            synonyms.append(lemma.name())\n",
    "        if lemma.antonyms():\n",
    "            for a in lemma.antonyms():\n",
    "                antonyms.append(a.name())\n",
    "\n",
    "# print the results\n",
    "print('Synonyms for: ' + focus_word)\n",
    "print(set(synonyms))\n",
    "print('Antonyms for: ' + focus_word)\n",
    "print(set(antonyms))"
   ]
  },
  {
   "cell_type": "code",
   "execution_count": 24,
   "metadata": {},
   "outputs": [
    {
     "name": "stdout",
     "output_type": "stream",
     "text": [
      "\"Nice\": 0.46746230125427246\n",
      "\"decent\": 0.5993331670761108\n",
      "\"skillful\": 0.20048925280570984\n",
      "\"dainty\": 0.2785818874835968\n",
      "\"prissy\": 0.25895628333091736\n",
      "\"squeamish\": 0.19743596017360687\n",
      "\"courteous\": 0.28391408920288086\n",
      "\"gracious\": 0.4229739308357239\n"
     ]
    }
   ],
   "source": [
    "# TODO: iterate over synonyms and antonyms and print the similarity between focus word and synonym/antonym pairs\n",
    "for synonym in synonyms:\n",
    "    if synonym in word2vec.index_to_key:\n",
    "        print(f'\"{synonym}\": {word2vec.similarity(focus_word, synonym)}')"
   ]
  },
  {
   "cell_type": "code",
   "execution_count": 7,
   "metadata": {},
   "outputs": [
    {
     "name": "stdout",
     "output_type": "stream",
     "text": [
      "\"nasty\": 0.3650338053703308\n"
     ]
    }
   ],
   "source": [
    "for antonym in antonyms:\n",
    "    print(f'\"{antonym}\": {word2vec.similarity(focus_word, antonym)}')"
   ]
  },
  {
   "cell_type": "markdown",
   "metadata": {},
   "source": [
    "### EXERCISE 2\n",
    "\n",
    "Let's implement a classic approach to evaluate how word embeddings capture cultural biases in their training copora.\n",
    "Here, we'll focus on **_gender bias_** &mdash; the differential association of traits and attributes with women and men (my lose definition).\n",
    "\n",
    "Compile a list `comparison_words` with occupations, character traits, and other words that might exhibit gender bias.\n",
    "Then compute how similar each word is with terms like 'man' and 'women', that indicate the male and female genders.\n",
    "\n",
    "Which words exhibit gender bias?\n",
    "And in which direction? \n",
    "Do you spot a pattern?"
   ]
  },
  {
   "cell_type": "code",
   "execution_count": 27,
   "metadata": {},
   "outputs": [],
   "source": [
    "comparison_words = [\n",
    "    'programmer',\n",
    "    'scientist',\n",
    "    'smart',\n",
    "    'emotional',\n",
    "    'caring',\n",
    "    'CEO',\n",
    "    'annoying',\n",
    "    'football',\n",
    "    'soccer',\n",
    "    'politician',\n",
    "    'populist',\n",
    "    'power',\n",
    "    'nurse',\n",
    "    'doctor'\n",
    "    # add more interesting words here\n",
    "]"
   ]
  },
  {
   "cell_type": "code",
   "execution_count": 31,
   "metadata": {},
   "outputs": [],
   "source": [
    "# compute similarities to male and female terms\n",
    "male_terms = ['man', 'men', 'male', 'he', 'him', 'his']\n",
    "female_terms = ['woman', 'women', 'female', 'she', 'her', 'hers']\n",
    "\n",
    "s_male = dict()\n",
    "s_female = dict()\n",
    "\n",
    "for word in comparison_words:\n",
    "    s_male[word] = []\n",
    "    s_female[word] = []\n",
    "    for w in male_terms:\n",
    "        s = word2vec.similarity(word, w)\n",
    "        s_male[word].append(s)\n",
    "    for w in female_terms:\n",
    "        s = word2vec.similarity(word, w)\n",
    "        s_female[word].append(s)"
   ]
  },
  {
   "cell_type": "code",
   "execution_count": 33,
   "metadata": {},
   "outputs": [
    {
     "data": {
      "text/plain": [
       "{'programmer': 0.029597761,\n",
       " 'scientist': 0.06876839,\n",
       " 'smart': 0.041580766,\n",
       " 'emotional': 0.18292125,\n",
       " 'caring': 0.20474696,\n",
       " 'CEO': -0.106728755,\n",
       " 'annoying': 0.097587876,\n",
       " 'football': 0.063607715,\n",
       " 'soccer': 0.13928266,\n",
       " 'politician': 0.22477663,\n",
       " 'populist': 0.08099014,\n",
       " 'power': 0.042475563,\n",
       " 'nurse': 0.3203691,\n",
       " 'doctor': 0.23384072}"
      ]
     },
     "execution_count": 33,
     "metadata": {},
     "output_type": "execute_result"
    }
   ],
   "source": [
    "{w: np.mean(s) for w, s in s_female.items()}"
   ]
  },
  {
   "cell_type": "code",
   "execution_count": 30,
   "metadata": {},
   "outputs": [
    {
     "data": {
      "text/plain": [
       "{'programmer': 0.054541085,\n",
       " 'scientist': 0.10331989,\n",
       " 'smart': 0.06168256,\n",
       " 'emotional': 0.15299931,\n",
       " 'caring': 0.17566599,\n",
       " 'CEO': -0.0061667506,\n",
       " 'annoying': 0.07397268,\n",
       " 'football': 0.17734624,\n",
       " 'soccer': 0.11919821,\n",
       " 'politician': 0.22752604,\n",
       " 'populist': 0.09036921,\n",
       " 'power': 0.07486963,\n",
       " 'nurse': 0.19163398,\n",
       " 'doctor': 0.27489495}"
      ]
     },
     "execution_count": 30,
     "metadata": {},
     "output_type": "execute_result"
    }
   ],
   "source": [
    "{w: np.mean(s) for w, s in s_male.items()}"
   ]
  },
  {
   "cell_type": "code",
   "execution_count": null,
   "metadata": {},
   "outputs": [],
   "source": [
    "# TODO: summarize the results in a table or figure\n",
    "# hint: if you have more than one term per gender, you might want to compute the average of comparison term--gender word similarities"
   ]
  },
  {
   "cell_type": "markdown",
   "metadata": {},
   "source": [
    "### EXERCISE 3\n",
    "\n",
    "Implement the same logic but now use the gender bisa-related word and attribute lists used in Caliskan *et al.*'s paper [\"Semantics derived automatically from language corpora contain human-like biases\"](https://www.science.org/doi/10.1126/science.aal4230).\n",
    "\n",
    "You find the word and attribute lists in the folder `./../data/replications/caliskan_semantics_2017/wordlists/` (e.g., the file 'science_arts_male_female.txt')"
   ]
  },
  {
   "cell_type": "code",
   "execution_count": null,
   "metadata": {},
   "outputs": [],
   "source": []
  },
  {
   "cell_type": "markdown",
   "metadata": {},
   "source": [
    "## 2. Nearest neihbors"
   ]
  },
  {
   "cell_type": "markdown",
   "metadata": {},
   "source": [
    "### Exercise 1\n",
    "\n",
    "Let's use nearest neighbors search to find conceptually equivalent terms for a \"seed\" word.\n",
    "\n",
    "**_Note:_** This is a typical task in expanding keyword lists for dictionaries.\n",
    "\n",
    "You can choose which seed word you want to start with (see example below for a suggestion).\n",
    "But while going through nearest neighbors, keep track of how many of the candidate terms in the top-20 or top-50 terms (or so) you would inlcude in your dictionary, and how many you would discard!\n",
    "\n",
    "**_Example_**: \n",
    "Say you want to compile a dictionary that contains typical words used to express *positive emotions*.\n",
    "In this case, you could start with the seed word 'happy.'"
   ]
  },
  {
   "cell_type": "code",
   "execution_count": 17,
   "metadata": {},
   "outputs": [
    {
     "data": {
      "text/plain": [
       "['glad',\n",
       " 'pleased',\n",
       " 'ecstatic',\n",
       " 'overjoyed',\n",
       " 'thrilled',\n",
       " 'satisfied',\n",
       " 'proud',\n",
       " 'delighted',\n",
       " 'disappointed',\n",
       " 'excited',\n",
       " 'happier',\n",
       " 'Said_Hirschbeck',\n",
       " 'elated',\n",
       " 'thankful',\n",
       " 'unhappy',\n",
       " 'enthused',\n",
       " 'chuffed',\n",
       " 'grateful',\n",
       " 'confident',\n",
       " 'hapy']"
      ]
     },
     "execution_count": 17,
     "metadata": {},
     "output_type": "execute_result"
    }
   ],
   "source": [
    "[w for w, s in word2vec.most_similar('happy', topn=20)]\n",
    "# lots of good suggestions: 'glad', 'pleased', 'ecstatic', 'overjoyed', etc.\n",
    "# but also conceptual opposites 'disappointed' (should be discarded)\n",
    "#  and weird artifacts like 'Said_Hirschbeck'"
   ]
  },
  {
   "cell_type": "code",
   "execution_count": 16,
   "metadata": {},
   "outputs": [
    {
     "data": {
      "text/plain": [
       "['despise',\n",
       " 'Hate',\n",
       " 'detest',\n",
       " 'hatred',\n",
       " 'hating',\n",
       " 'hates',\n",
       " 'HATE',\n",
       " 'dislike',\n",
       " 'love',\n",
       " 'hated',\n",
       " 'loathe',\n",
       " 'hateful',\n",
       " 'haters',\n",
       " 'whatever_funhouse_mirror',\n",
       " 'rascist',\n",
       " 'embrace_brotherly_coexistence',\n",
       " 'predjudice',\n",
       " 'Ignorance_breeds',\n",
       " 'hatered',\n",
       " 'hater']"
      ]
     },
     "execution_count": 16,
     "metadata": {},
     "output_type": "execute_result"
    }
   ],
   "source": [
    "[w for w, s in word2vec.most_similar('hate', topn=20)]\n",
    "# lots of good suggestions. \n",
    "# But some like 'whatever_funhouse_mirror' are weird\n",
    "# also terms like 'racist' make sense in cultural context but are not indicate of the emotion per se\n",
    "# at the same time, synonym words like 'contempt' are missing"
   ]
  },
  {
   "cell_type": "code",
   "execution_count": 15,
   "metadata": {},
   "outputs": [
    {
     "data": {
      "text/plain": [
       "['despotism',\n",
       " 'authoritarianism',\n",
       " 'dictatorship',\n",
       " 'democracy',\n",
       " 'dictatorial_regime',\n",
       " 'dictatorial_rule',\n",
       " 'tyranny',\n",
       " 'feudal_monarchy',\n",
       " 'autocratic_rule',\n",
       " 'autocracies',\n",
       " 'despotic_rule',\n",
       " 'authoritarian',\n",
       " 'authoritarian_rule',\n",
       " 'totalitarian_dictatorship',\n",
       " 'feudalism',\n",
       " 'dynastic_rule',\n",
       " 'authoritarian_regime',\n",
       " 'totalitarianism',\n",
       " 'socialism',\n",
       " 'despotic']"
      ]
     },
     "execution_count": 15,
     "metadata": {},
     "output_type": "execute_result"
    }
   ],
   "source": [
    "[w for w, s in word2vec.most_similar('autocracy', topn=20)]\n",
    "# here the questions is how you can find words that are  c o n c e p t u a l l y  similar to autocracy\n",
    "# terms like 'despotism', 'despotic_rule', 'dictatorship', 'authoritarian_rule', 'authoritarian_regime', etc. make sense\n",
    "# but conceptual opposities like 'democracy' and 'socialism' should be discarded unless\n",
    "#  you just want to find documents that talk about political regimes \n",
    "# also, including adjective wods (e.g., 'despotic') might lead to false positives"
   ]
  },
  {
   "cell_type": "code",
   "execution_count": 19,
   "metadata": {},
   "outputs": [
    {
     "data": {
      "text/plain": [
       "['incompetent',\n",
       " 'competant',\n",
       " 'www.CoastalEnergy.com',\n",
       " 'technically_competent',\n",
       " 'quartz_pyrite_tourmaline_veins',\n",
       " 'uncorrupt',\n",
       " 'Competent',\n",
       " 'knowledgeable',\n",
       " 'tactically_proficient',\n",
       " 'trustworthy',\n",
       " 'competently',\n",
       " 'competence',\n",
       " 'sane',\n",
       " 'technically_proficient',\n",
       " 'conscientious',\n",
       " 'qualified',\n",
       " 'commercially_astute',\n",
       " 'skilled',\n",
       " 'hirable',\n",
       " 'competency']"
      ]
     },
     "execution_count": 19,
     "metadata": {},
     "output_type": "execute_result"
    }
   ],
   "source": [
    "[w for w, s in word2vec.most_similar('competent', topn=20)]\n",
    "\n",
    "['competent', 'qualified', 'trustworthy']"
   ]
  },
  {
   "cell_type": "markdown",
   "metadata": {},
   "source": [
    "### Exercise 2\n",
    "\n",
    "Discuss with your neighbor how one could improve this nearest neighbor search-based dictionary expansion strategy?\n",
    "Do you ideas for automated quality checks?"
   ]
  },
  {
   "cell_type": "markdown",
   "metadata": {},
   "source": [
    "**Ideas**\n",
    "\n",
    "\n",
    "- start with a seed term: 'autocracy' (\"overlapping\")\n",
    "    - for each candidate term (e.g., 'socialism')\n",
    "        - get the 10 most simiolar terms\n",
    "        - chek how large the overlap is with top-20 most similar terms for 'autocracy'\n",
    "        - discard if below some threshold *t* (but arbitray!?!?)\n",
    "\n",
    "-  start with a seed term: 'competent' (\"snow balling\")\n",
    "    - get best fitting terms (manually)\n",
    "    - \n",
    "\n",
    "-  start with a seed term: 'competent' (\"snow balling 2.0\")\n",
    "\n",
    "- maybe also use distancec (to centroid) to weigh terms (??)"
   ]
  },
  {
   "cell_type": "markdown",
   "metadata": {},
   "source": []
  },
  {
   "cell_type": "markdown",
   "metadata": {},
   "source": [
    "## 3. Analogies"
   ]
  },
  {
   "cell_type": "markdown",
   "metadata": {},
   "source": [
    "### Exercise 1\n",
    "\n",
    "Can you come up with analogy problems involving terms from your discipline or research area?\n",
    "Can the word embedding model solve these specialized problems?\n",
    "\n",
    "**_Example:_** In politics \"Democrat is to progressive what Republican is to ___?\""
   ]
  },
  {
   "cell_type": "code",
   "execution_count": 20,
   "metadata": {},
   "outputs": [
    {
     "data": {
      "text/plain": [
       "[('progressive', 0.7648183107376099),\n",
       " ('conservative', 0.525808572769165),\n",
       " ('progressive_netroots', 0.5039817094802856),\n",
       " ('radical', 0.47010430693626404),\n",
       " ('n_CHRIST_EPISCOPAL', 0.46954479813575745)]"
      ]
     },
     "execution_count": 20,
     "metadata": {},
     "output_type": "execute_result"
    }
   ],
   "source": [
    "v_x1 = word2vec['Democrat']\n",
    "v_y1 = word2vec['progressive']\n",
    "v_x2 = word2vec['Republican']\n",
    "\n",
    "v_q = v_y1 - v_x1 + v_x2\n",
    "\n",
    "word2vec.similar_by_vector(v_q, topn=5)"
   ]
  },
  {
   "cell_type": "code",
   "execution_count": 24,
   "metadata": {},
   "outputs": [
    {
     "data": {
      "text/plain": [
       "[('helmet', 0.7886247038841248),\n",
       " ('helmets', 0.5802411437034607),\n",
       " ('helment', 0.5743348598480225),\n",
       " ('hand', 0.5650533437728882),\n",
       " ('visor', 0.5115036368370056),\n",
       " ('protective_splint', 0.5070538520812988),\n",
       " ('gloves', 0.5015875697135925),\n",
       " ('Helmet', 0.4950107932090759),\n",
       " ('machine_guns_bandolier', 0.4937583804130554),\n",
       " ('goggles', 0.4788079559803009),\n",
       " ('eighth_Verlander_beaned', 0.4763328433036804),\n",
       " ('facemask', 0.4681493043899536),\n",
       " ('headgear', 0.46554625034332275),\n",
       " ('Rawlings_S###', 0.4648207724094391),\n",
       " ('mouthguard', 0.46436232328414917),\n",
       " ('faceshield', 0.4626709818840027),\n",
       " ('protective_padding', 0.4590736925601959),\n",
       " ('glove', 0.45742732286453247),\n",
       " ('Flak_jackets', 0.45673221349716187),\n",
       " ('mitt', 0.4559189975261688)]"
      ]
     },
     "execution_count": 24,
     "metadata": {},
     "output_type": "execute_result"
    }
   ],
   "source": [
    "v_x1 = word2vec['head']\n",
    "v_y1 = word2vec['helmet']\n",
    "v_x2 = word2vec['hand']\n",
    "\n",
    "v_q = v_y1 - v_x1 + v_x2\n",
    "\n",
    "word2vec.similar_by_vector(v_q, topn=20)"
   ]
  },
  {
   "cell_type": "code",
   "execution_count": 26,
   "metadata": {},
   "outputs": [
    {
     "data": {
      "text/plain": [
       "[('India', 0.6109928488731384),\n",
       " ('subcontinent', 0.5827982425689697),\n",
       " ('sub_continent', 0.5815519094467163),\n",
       " ('cricket', 0.5808954834938049),\n",
       " ('Australia', 0.5685694217681885),\n",
       " ('West_Indies', 0.5684044361114502),\n",
       " ('Pakistan', 0.566472053527832),\n",
       " ('Test_cricket', 0.5551456212997437),\n",
       " ('Tendulkar', 0.552420437335968),\n",
       " ('United_States', 0.5515602231025696),\n",
       " ('Sri_Lanka', 0.548048734664917),\n",
       " ('ODI', 0.5434243679046631),\n",
       " ('Baggy_Greens', 0.5332558751106262),\n",
       " ('Bangladesh', 0.5251384377479553),\n",
       " ('ODIs', 0.5249315500259399),\n",
       " ('Sachin_Tendulkar', 0.5248597264289856),\n",
       " ('dayers', 0.5230942368507385),\n",
       " ('ICC_Champions_Trophy', 0.5220580697059631),\n",
       " ('New_Zealand', 0.5215911269187927),\n",
       " ('Ricky_Ponting', 0.5189464092254639)]"
      ]
     },
     "execution_count": 26,
     "metadata": {},
     "output_type": "execute_result"
    }
   ],
   "source": [
    "v_x1 = word2vec['football']\n",
    "v_y1 = word2vec['United_States']\n",
    "v_x2 = word2vec['cricket']\n",
    "\n",
    "v_q = v_y1 - v_x1 + v_x2\n",
    "\n",
    "word2vec.similar_by_vector(v_q, topn=20)"
   ]
  },
  {
   "cell_type": "code",
   "execution_count": 33,
   "metadata": {},
   "outputs": [
    {
     "data": {
      "text/plain": [
       "[('Peruvian', 0.8159431219100952),\n",
       " ('Peru', 0.809283971786499),\n",
       " ('Ecuador', 0.7329590320587158),\n",
       " ('Chile', 0.7297125458717346),\n",
       " ('Costa_Rica', 0.70567387342453),\n",
       " ('Guatemala', 0.6708042621612549),\n",
       " ('Bolivia', 0.670447587966919),\n",
       " ('Brazil', 0.6703616380691528),\n",
       " ('Argentina', 0.6612628698348999),\n",
       " ('El_Salvador', 0.6595791578292847),\n",
       " ('Colombia', 0.6483430862426758),\n",
       " ('Honduras', 0.6456732153892517),\n",
       " ('Chilean', 0.6242369413375854),\n",
       " ('Costa_Rican', 0.6241909265518188),\n",
       " ('Bolivian', 0.6210365891456604),\n",
       " ('Nicaragua', 0.600653350353241),\n",
       " ('Ecuadorian', 0.5938271284103394),\n",
       " ('Uruguay', 0.5932496786117554),\n",
       " ('Paraguayan', 0.5902215838432312),\n",
       " ('Paraguay', 0.5832325220108032)]"
      ]
     },
     "execution_count": 33,
     "metadata": {},
     "output_type": "execute_result"
    }
   ],
   "source": [
    "v_x1 = word2vec['German']\n",
    "v_y1 = word2vec['Germany']\n",
    "v_x2 = word2vec['Peruvian']\n",
    "\n",
    "v_q = v_y1 - v_x1 + v_x2\n",
    "\n",
    "word2vec.similar_by_vector(v_q, topn=20)"
   ]
  },
  {
   "cell_type": "code",
   "execution_count": 38,
   "metadata": {},
   "outputs": [
    {
     "data": {
      "text/plain": [
       "[('United_States', 0.37230148911476135),\n",
       " ('Germany', 0.35291966795921326),\n",
       " ('United_Kingdom', 0.3246475160121918),\n",
       " ('####-####_##Figure', 0.32130444049835205),\n",
       " ('WORLD_BRIEFING_EUROPE', 0.3183465301990509),\n",
       " ('Brazil', 0.3166411817073822),\n",
       " ('depth_PESTLE_Insights', 0.3155994117259979),\n",
       " ('Paper_Tableware', 0.3155561089515686),\n",
       " ('Markets_#Q.####', 0.3141346871852875),\n",
       " ('Meal_Replacement_Products', 0.3130999803543091),\n",
       " ('represents_INVOS_System', 0.31308215856552124),\n",
       " ('Italy', 0.31219157576560974),\n",
       " ('Colour_Cosmetics', 0.31042715907096863),\n",
       " ('RTD_Tea', 0.309854656457901),\n",
       " ('APGROUP_LatinAmerica_;)_COUNTRY', 0.30961477756500244),\n",
       " ('STOCKHOLM_Sweden_Gerhard_Ertl', 0.30582064390182495),\n",
       " ('DORTMUND_Reuters', 0.30522432923316956),\n",
       " ('Argentina', 0.3050248622894287),\n",
       " ('Costa_Rica', 0.3038727939128876),\n",
       " ('Rodent_Care', 0.3027800917625427)]"
      ]
     },
     "execution_count": 38,
     "metadata": {},
     "output_type": "execute_result"
    }
   ],
   "source": [
    "v_y1 = word2vec['Germany']\n",
    "v_x1 = word2vec['german']\n",
    "v_x2 = word2vec['peruvian']\n",
    "\n",
    "v_q = v_y1 - v_x1 + v_x2\n",
    "\n",
    "word2vec.similar_by_vector(v_q, topn=20)"
   ]
  },
  {
   "cell_type": "code",
   "execution_count": 44,
   "metadata": {},
   "outputs": [
    {
     "data": {
      "text/plain": [
       "[('mothers', 0.8295677900314331),\n",
       " ('fathers', 0.8070769309997559),\n",
       " ('dads', 0.7006524801254272),\n",
       " ('moms', 0.6297956705093384),\n",
       " ('parents', 0.6068122386932373),\n",
       " ('fathers_stepfathers', 0.5964891910552979),\n",
       " ('parenting', 0.5838446617126465),\n",
       " ('mums', 0.5777431130409241),\n",
       " ('Mothers', 0.5749648213386536),\n",
       " ('latchkey_kids', 0.5629170536994934),\n",
       " ('unwed_fathers', 0.5626464486122131),\n",
       " ('Stepparents', 0.5505766868591309),\n",
       " ('babies', 0.5435649752616882),\n",
       " ('children', 0.5428438186645508),\n",
       " ('stepdads', 0.5405153632164001),\n",
       " ('expectant_dads', 0.5344789028167725),\n",
       " ('mothering', 0.5309228897094727),\n",
       " ('grandfathers_uncles', 0.5304272174835205),\n",
       " ('FATHERS_SUPPORT_GROUP', 0.5285888314247131),\n",
       " ('grandparental', 0.5271429419517517)]"
      ]
     },
     "execution_count": 44,
     "metadata": {},
     "output_type": "execute_result"
    }
   ],
   "source": [
    "v_y1 = word2vec['fathers']\n",
    "v_x1 = word2vec['men']\n",
    "v_x2 = word2vec['mothers']\n",
    "\n",
    "v_q = v_y1 - v_x1 + v_x2\n",
    "\n",
    "word2vec.similar_by_vector(v_q, topn=20)"
   ]
  },
  {
   "cell_type": "markdown",
   "metadata": {},
   "source": [
    "### Exercise 2\n",
    "\n",
    "Take examples from one of the word lists in the folder `./../data/benchmarks/bats/3_encyclopedic_semantics/` to construct analgoy tests.\n",
    "How well does the word2vec model perform on average?\n",
    "\n",
    "**_Hint:_** Think about possible ways of defining performance."
   ]
  },
  {
   "cell_type": "code",
   "execution_count": null,
   "metadata": {},
   "outputs": [],
   "source": [
    "# example\n",
    "fp = './../data/benchmarks/bats/3_encyclopedic_semantics/E01 [country - capital].txt'\n",
    "\n",
    "with open(fp, 'r') as f:\n",
    "    wordlist = [tuple(line.strip().split('\\t')) for line in f]\n",
    "\n",
    "wordlist[:10]"
   ]
  },
  {
   "cell_type": "code",
   "execution_count": null,
   "metadata": {},
   "outputs": [],
   "source": [
    "# note: depending on your evaluation strategy, you might need to change this function\n",
    "def analogy(x1='man', y1='king', x2='woman', verbose=True):\n",
    "    \"\"\"Computes return to query 'y1 is to x1 what WORD is to x2?'\"\"\"\n",
    "    result = word2vec.most_similar(positive=[y1, x2], negative=[x1])\n",
    "    if verbose:\n",
    "        print(f\"'{x1}' : '{y1}' :: '{x2}' : ?? ==> '{result[0][0]}'\")\n",
    "    return result[0][0]"
   ]
  },
  {
   "cell_type": "code",
   "execution_count": null,
   "metadata": {},
   "outputs": [],
   "source": [
    "# analogy(x1='man', y1='king', x2='women') # :)\n",
    "analogy(x1='abuja', y1='nigeria', x2='ankara') # :/\n",
    "analogy(x1='nigeria', y1='abuja', x2='turkey') # x/\n",
    "analogy(x1='athens', y1='greece', x2='baghdad') # :/\n",
    "analogy(x1='berlin', y1='germany', x2='paris') # x/\n",
    "analogy(x1='germany', y1='berlin', x2='france') # x/\n",
    "analogy(x1='germany', y1='berlin', x2='france') # x/"
   ]
  }
 ],
 "metadata": {
  "kernelspec": {
   "display_name": "advanced_text_analysis_gesis_2023",
   "language": "python",
   "name": "python3"
  },
  "language_info": {
   "codemirror_mode": {
    "name": "ipython",
    "version": 3
   },
   "file_extension": ".py",
   "mimetype": "text/x-python",
   "name": "python",
   "nbconvert_exporter": "python",
   "pygments_lexer": "ipython3",
   "version": "3.10.12"
  },
  "orig_nbformat": 4
 },
 "nbformat": 4,
 "nbformat_minor": 2
}
