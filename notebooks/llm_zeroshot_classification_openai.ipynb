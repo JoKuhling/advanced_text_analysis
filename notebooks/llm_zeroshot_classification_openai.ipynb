{
 "cells": [
  {
   "cell_type": "markdown",
   "id": "025017f5",
   "metadata": {},
   "source": [
    "# Zero-shot text classification with OpenAI's GPT models\n",
    "\n",
    "This notebook illustrates how to use different GPT models provided by OpenAI for text classification."
   ]
  },
  {
   "cell_type": "code",
   "execution_count": 3,
   "id": "da313a2e",
   "metadata": {},
   "outputs": [],
   "source": [
    "import os\n",
    "from dotenv import load_dotenv\n",
    "from openai import OpenAI\n",
    "\n",
    "from utils.io import read_tabular\n",
    "import re"
   ]
  },
  {
   "cell_type": "code",
   "execution_count": 2,
   "id": "86883713",
   "metadata": {},
   "outputs": [],
   "source": [
    "load_dotenv()\n",
    "client = OpenAI(api_key=os.environ.get(\"OPENAI_API_KEY\"))"
   ]
  },
  {
   "cell_type": "code",
   "execution_count": 4,
   "id": "6c8fc335",
   "metadata": {},
   "outputs": [
    {
     "name": "stdout",
     "output_type": "stream",
     "text": [
      "label\n",
      "economic    225\n",
      "neither     181\n",
      "social      100\n",
      "Name: count, dtype: int64\n"
     ]
    }
   ],
   "source": [
    "## Load the data\n",
    "data_path = os.path.join('..', 'data', 'labeled', 'benoit_crowdsourced_2016')\n",
    "\n",
    "fp = os.path.join(data_path, 'benoit_crowdsourced_2016-policy_area.csv')\n",
    "df = read_tabular(fp, columns=['text', 'label', 'metadata__gold'])\n",
    "\n",
    "# subset to gold examples\n",
    "df = df[df.metadata__gold]\n",
    "del df['metadata__gold']\n",
    "\n",
    "id2label = {\n",
    "    2: 'economic',\n",
    "    3: 'social',\n",
    "    1: 'neither',\n",
    "}\n",
    "df.label = df.label.map(id2label)\n",
    "\n",
    "print(df.label.value_counts())\n",
    "\n",
    "# get five examples per label class\n",
    "expls = df.groupby('label').sample(20, random_state=42)"
   ]
  },
  {
   "cell_type": "markdown",
   "id": "b3e11918",
   "metadata": {},
   "source": [
    "## Define the task\n",
    "\n",
    "In this example, we adapt the instruction for one of the tweet classification tasks examined in Gilardi et al. ([2023](https://www.pnas.org/doi/10.1073/pnas.2305016120)) \"ChatGPT outperforms crowd workers for text-annotation tasks\"\n",
    "\n",
    "- see [this README file](../data/labeled/gilardi_chatgpt_2023/README.md) for a description of the data and tasks covered in the paper\n",
    "- see [this file](../data/labeled/gilardi_chatgpt_2023/instructions.md) for a copy of their original task instructions"
   ]
  },
  {
   "cell_type": "code",
   "execution_count": 16,
   "id": "86c19a4e",
   "metadata": {},
   "outputs": [],
   "source": [
    "instructions_group1 = \"\"\"\n",
    "Your task is to analyze sentences from political party manifestos and determine whether they primarily address economic policy, social policy, or neither.\n",
    "\n",
    "If the sentence refers to economic policy, categorize it as \"economic.\"\n",
    "If it refers to social policy, categorize it as \"social.\"\n",
    "If the sentence does not relate to either economic or social policy, categorize it as \"neither\"\n",
    "\"\"\""
   ]
  },
  {
   "cell_type": "code",
   "execution_count": 21,
   "id": "903e86b7",
   "metadata": {},
   "outputs": [],
   "source": [
    "categories = [\"economic\", \"social\"]\n",
    "\n",
    "definitions = \"\"\"\n",
    "Sentences should be coded as \"economic\" if they deal with aspects of the economy, such as: Taxation, Government spending, Services provided by the government or other public bodies, Pensions, unemployment and welfare benefits, and other state benefits, Property, investment and share ownership, public or private, Interest rates and exchange rates, Regulation of economic activity, public or private, Relations between employers, workers and trade unions\n",
    "Sentences should be coded as \"social\" if they deal with aspects of social and moral life, relationships between social groups, and matters of national and social identity. These include: Policing, crime, punishment and rehabilitation of offenders; Immigration, relations between social groups, discrimination and multiculturalism; The role of the state in regulating the social and moral behavior of individuals\n",
    "\n",
    "\"\"\"\n",
    "\n",
    "instructions_group2 = f\"\"\"\n",
    "Act as a text classification system versatile in performing content analysis. You will read sentences from political texts and judge whether these deal with economic or social policy.\n",
    "You must classify posts into single-label categories. These are the categories: {categories}. \n",
    "\n",
    "These are the categories' definitions: {definitions}\n",
    "\n",
    "For each post in the sample, follow these instructions:\n",
    "\n",
    "1. Carefully read the text of the sentence, paying close attention to details.\n",
    "2. Assess whether the sentence belongs to any of the categories. If not, return 'neither' as your response.\n",
    "3. Classify the sentence with the category it belongs to. Return only the name of the category.\n",
    "\n",
    "Only include the selected category in your response and no further text.\n",
    "Seperate the classifications of individual sentences by newline characters.\n",
    "\"\"\""
   ]
  },
  {
   "cell_type": "code",
   "execution_count": 12,
   "id": "95844713",
   "metadata": {},
   "outputs": [
    {
     "data": {
      "text/plain": [
       "['They are no longer content that some of the most important decisions in their lives what school their children attend, for example, or whether or not to go on strike should be taken by officialdom or trade union bosses.',\n",
       " 'Any extra burden on business will destroy jobs.',\n",
       " 'We will increase the bonus by paying a double pension in the first week of December.']"
      ]
     },
     "execution_count": 12,
     "metadata": {},
     "output_type": "execute_result"
    }
   ],
   "source": [
    "texts = expls.text.to_list()\n",
    "texts[:3]"
   ]
  },
  {
   "cell_type": "markdown",
   "id": "9773717a",
   "metadata": {},
   "source": [
    "## With ChatGPT"
   ]
  },
  {
   "cell_type": "code",
   "execution_count": 7,
   "id": "c9cc8055",
   "metadata": {},
   "outputs": [],
   "source": [
    "MODEL = 'gpt-4o-2024-08-06' # currently the latest version of GPT-4o (on 2024-09-25)"
   ]
  },
  {
   "cell_type": "markdown",
   "id": "6596973d",
   "metadata": {},
   "source": [
    "### Iterate over multiple examples"
   ]
  },
  {
   "cell_type": "markdown",
   "id": "5373b62c",
   "metadata": {},
   "source": [
    "Let's first define a custom function to classify tweets:"
   ]
  },
  {
   "cell_type": "code",
   "execution_count": 8,
   "id": "7fb21f0c",
   "metadata": {},
   "outputs": [],
   "source": [
    "def classify_text(text, system_message, model):\n",
    "\n",
    "  # clean the text \n",
    "  text = re.sub(r'\\s+', ' ', text).strip()\n",
    "\n",
    "  # construct input\n",
    "\n",
    "  messages = [\n",
    "    # system prompt\n",
    "    {\"role\": \"system\", \"content\": system_message},\n",
    "    # user input\n",
    "    {\"role\": \"user\", \"content\": text},\n",
    "  ]\n",
    "\n",
    "  response = client.chat.completions.create(\n",
    "    model=model,\n",
    "    messages=messages,\n",
    "    temperature=0.001,\n",
    "    seed=42\n",
    "  )\n",
    "  \n",
    "  result = response.choices[0].message.content\n",
    "  \n",
    "  return result"
   ]
  },
  {
   "cell_type": "markdown",
   "id": "c6788aed",
   "metadata": {},
   "source": [
    "Now we can iterate over example texts:"
   ]
  },
  {
   "cell_type": "code",
   "execution_count": 17,
   "id": "6bee84cd",
   "metadata": {},
   "outputs": [
    {
     "data": {
      "application/vnd.jupyter.widget-view+json": {
       "model_id": "39b38d695be84b0c8528ed6972c22106",
       "version_major": 2,
       "version_minor": 0
      },
      "text/plain": [
       "  0%|          | 0/60 [00:00<?, ?it/s]"
      ]
     },
     "metadata": {},
     "output_type": "display_data"
    }
   ],
   "source": [
    "from tqdm.notebook import tqdm\n",
    "classifications_group2 = [classify_text(text, instructions, model=MODEL) for text in tqdm(texts)]"
   ]
  },
  {
   "cell_type": "code",
   "execution_count": 14,
   "id": "dc6a2191",
   "metadata": {},
   "outputs": [
    {
     "name": "stdout",
     "output_type": "stream",
     "text": [
      "              precision    recall  f1-score   support\n",
      "\n",
      "    economic       1.00      0.80      0.89        20\n",
      "     neither       0.90      0.95      0.93        20\n",
      "      social       0.78      0.90      0.84        20\n",
      "\n",
      "    accuracy                           0.88        60\n",
      "   macro avg       0.90      0.88      0.88        60\n",
      "weighted avg       0.90      0.88      0.88        60\n",
      "\n"
     ]
    }
   ],
   "source": [
    "from sklearn.metrics import classification_report\n",
    "\n",
    "cr = classification_report(\n",
    "    y_true=expls.label,\n",
    "    y_pred=classifications_group1,\n",
    ")\n",
    "print(cr)"
   ]
  },
  {
   "cell_type": "code",
   "execution_count": 18,
   "id": "69358538",
   "metadata": {},
   "outputs": [
    {
     "name": "stdout",
     "output_type": "stream",
     "text": [
      "              precision    recall  f1-score   support\n",
      "\n",
      "    economic       0.95      0.90      0.92        20\n",
      "     neither       1.00      0.65      0.79        20\n",
      "      social       0.71      1.00      0.83        20\n",
      "\n",
      "    accuracy                           0.85        60\n",
      "   macro avg       0.89      0.85      0.85        60\n",
      "weighted avg       0.89      0.85      0.85        60\n",
      "\n"
     ]
    }
   ],
   "source": [
    "from sklearn.metrics import classification_report\n",
    "\n",
    "cr = classification_report(\n",
    "    y_true=expls.label,\n",
    "    y_pred=classifications_group2,\n",
    ")\n",
    "print(cr)"
   ]
  }
 ],
 "metadata": {
  "kernelspec": {
   "display_name": "llm_text_annotation",
   "language": "python",
   "name": "python3"
  },
  "language_info": {
   "codemirror_mode": {
    "name": "ipython",
    "version": 3
   },
   "file_extension": ".py",
   "mimetype": "text/x-python",
   "name": "python",
   "nbconvert_exporter": "python",
   "pygments_lexer": "ipython3",
   "version": "3.11.9"
  }
 },
 "nbformat": 4,
 "nbformat_minor": 5
}
