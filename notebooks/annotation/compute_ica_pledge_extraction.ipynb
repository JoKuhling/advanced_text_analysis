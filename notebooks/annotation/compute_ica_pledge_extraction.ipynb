{
 "cells": [
  {
   "cell_type": "markdown",
   "id": "a042ea1d",
   "metadata": {},
   "source": [
    "# Computing inter-annotator agreement for span annotation tasks"
   ]
  },
  {
   "cell_type": "markdown",
   "id": "a5d21054",
   "metadata": {},
   "source": [
    "<br><a target=\"_blank\" href=\"https://colab.research.google.com/github/haukelicht/advanced_text_analysis/blob/main/notebooks/annotation/compute_ica_pledge_extraction.ipynb\"><img src=\"https://colab.research.google.com/assets/colab-badge.svg\" alt=\"Open In Colab\"/></a>"
   ]
  },
  {
   "cell_type": "markdown",
   "id": "815b3694",
   "metadata": {},
   "source": [
    "## Background"
   ]
  },
  {
   "cell_type": "markdown",
   "id": "ba55863e",
   "metadata": {},
   "source": [
    "### Span annotations\n",
    "\n",
    "**Span annotation** is a _sequence labeling_ task (cf. Jurafsky & Martin [2025](https://web.stanford.edu/~jurafsky/slp3/17.pdf)) that involves marking passages in a text that represent a certain concept, such as an entity.\n",
    "\n",
    "Accordingly, span annotations recorded **character spans** that indicate which passage(s) of a text were marked (if any). \n",
    "At least this is the most granular way of representing sequence labeling annotations.\n",
    "(But see the [CoNLL format](https://www.geeksforgeeks.org/nlp/what-is-conll-data-format/), that records annotations at the token level.)\n",
    "\n",
    "The example below illustrates this for an English sentence.\n",
    "The marked span is represented by a list with two elements that indicate the span's character start and end positions in the text:\n"
   ]
  },
  {
   "cell_type": "code",
   "execution_count": 1,
   "id": "c31a58f1",
   "metadata": {},
   "outputs": [
    {
     "name": "stdout",
     "output_type": "stream",
     "text": [
      "first character of the span: 'r'\n",
      "last character of the span: 'g'\n",
      "extracted span: 'restrict foreign equity holding'\n"
     ]
    }
   ],
   "source": [
    "text = \"We will restrict foreign equity holding in private television broadcasting to 20%.\"\n",
    "span = [8, 39]\n",
    "\n",
    "print(\"first character of the span:\", repr(text[span[0]]))\n",
    "print(\"last character of the span:\", repr(text[span[1]-1]))\n",
    "print(\"extracted span:\", repr(text[span[0]:span[1]]))"
   ]
  },
  {
   "cell_type": "markdown",
   "id": "27a344a5",
   "metadata": {},
   "source": [
    "### Computing inter-annotator agreement for sequence labeling tasks.\n",
    "\n",
    "We want to compute to what extent annotators marked spans agree with each other.\n",
    "Specifically, following Krippendorff and others, we want to compute a _chance-adjusted_ inter-annotator agreement metric that adjusts for the probability that an agreement arises by chance.\n",
    "\n",
    "The appraoch to computing inter-coder agreement adopted in this notebook is based on Baylan et al. ([2022](https://doi.org/10.1145/3485447.3512242))."
   ]
  },
  {
   "cell_type": "markdown",
   "id": "94b6627d",
   "metadata": {},
   "source": [
    "### Setup"
   ]
  },
  {
   "cell_type": "code",
   "execution_count": 2,
   "id": "be6519b6",
   "metadata": {},
   "outputs": [],
   "source": [
    "# check if on colab\n",
    "COLAB = True\n",
    "try:\n",
    "    import google.colab\n",
    "except:\n",
    "    COLAB=False\n",
    "\n",
    "if COLAB:\n",
    "    # shallow clone of current state of main branch \n",
    "    !git clone --branch main --single-branch --depth 1 --filter=blob:none https://github.com/haukelicht/advanced_text_analysis.git\n",
    "    # make repo root findable for python\n",
    "    import sys\n",
    "    sys.path.append(\"/content/advanced_text_analysis/\")\n",
    "\n",
    "    # install required packages\n",
    "    !pip install nltk==3.9.1 krippendorff==0.8.1\n",
    "\n",
    "    # get NLTK tokenizer data\n",
    "    from nltk import download\n",
    "    download('punkt')"
   ]
  },
  {
   "cell_type": "code",
   "execution_count": 3,
   "id": "ea3d28bd",
   "metadata": {},
   "outputs": [
    {
     "ename": "TypeError",
     "evalue": "unsupported operand type(s) for /: 'str' and 'str'",
     "output_type": "error",
     "traceback": [
      "\u001b[31m---------------------------------------------------------------------------\u001b[39m",
      "\u001b[31mTypeError\u001b[39m                                 Traceback (most recent call last)",
      "\u001b[36mCell\u001b[39m\u001b[36m \u001b[39m\u001b[32mIn[3]\u001b[39m\u001b[32m, line 14\u001b[39m\n\u001b[32m     11\u001b[39m \u001b[38;5;28;01mfrom\u001b[39;00m\u001b[38;5;250m \u001b[39m\u001b[34;01msrc\u001b[39;00m\u001b[34;01m.\u001b[39;00m\u001b[34;01mannotation\u001b[39;00m\u001b[34;01m.\u001b[39;00m\u001b[34;01magreement\u001b[39;00m\u001b[38;5;250m \u001b[39m\u001b[38;5;28;01mimport\u001b[39;00m InterAnnotatorAgreement, overlap_distance, split_iaa_by_item\n\u001b[32m     13\u001b[39m base_path = (\u001b[33m\"\u001b[39m\u001b[33m/content/advanced_text_analysis/\u001b[39m\u001b[33m\"\u001b[39m \u001b[38;5;28;01mif\u001b[39;00m COLAB \u001b[38;5;28;01melse\u001b[39;00m \u001b[33m\"\u001b[39m\u001b[33m../../\u001b[39m\u001b[33m\"\u001b[39m)\n\u001b[32m---> \u001b[39m\u001b[32m14\u001b[39m data_path = \u001b[43mbase_path\u001b[49m\u001b[43m \u001b[49m\u001b[43m/\u001b[49m\u001b[43m \u001b[49m\u001b[33;43m\"\u001b[39;49m\u001b[33;43mdata\u001b[39;49m\u001b[33;43m\"\u001b[39;49m / \u001b[33m\"\u001b[39m\u001b[33mlabeled\u001b[39m\u001b[33m\"\u001b[39m / \u001b[33m\"\u001b[39m\u001b[33mfornaciari_we_2021\u001b[39m\u001b[33m\"\u001b[39m\n",
      "\u001b[31mTypeError\u001b[39m: unsupported operand type(s) for /: 'str' and 'str'"
     ]
    }
   ],
   "source": [
    "from pathlib import Path\n",
    "\n",
    "import pandas as pd\n",
    "import numpy as np\n",
    "\n",
    "from nltk.tokenize import TreebankWordTokenizer\n",
    "\n",
    "from krippendorff import alpha as k_alpha\n",
    "\n",
    "# NOTE: you may need to adjust your PYTHONPATH so that the src module can be found\n",
    "from src.annotation.agreement import InterAnnotatorAgreement, overlap_distance, split_iaa_by_item\n",
    "\n",
    "base_path = (\"/content/advanced_text_analysis/\" if COLAB else \"../../\")\n",
    "data_path = base_path / \"data\" / \"labeled\" / \"fornaciari_we_2021\""
   ]
  },
  {
   "cell_type": "markdown",
   "id": "f8e4a028",
   "metadata": {},
   "source": [
    "## Read the annotations"
   ]
  },
  {
   "cell_type": "code",
   "execution_count": null,
   "id": "563bf58a",
   "metadata": {},
   "outputs": [],
   "source": [
    "# TODO: change `\"llms\"` to the name of your group's folder\n",
    "annotations_path = data_path / \"annotations\" / \"extraction\" / \"group2\"\n",
    "\n",
    "# list all annotation files produced by doccano \n",
    "#  (each records annotations by one annotator)\n",
    "fps = list(annotations_path.glob('*.jsonl'))\n",
    "\n",
    "# read the annoations into a long-format DataFrame\n",
    "annotations = pd.concat({fp.stem: pd.read_json(fp, lines=True) for fp in fps}, ignore_index=False).reset_index(level=0, names=['annotator'])\n",
    "\n",
    "# list unique annotators\n",
    "annotations.annotator.unique().tolist()\n",
    "\n",
    "# discard entity type\n",
    "annotations['label'] = annotations.label.apply(lambda x: [anno[:2] for anno in x])"
   ]
  },
  {
   "cell_type": "code",
   "execution_count": null,
   "id": "3a9e2643",
   "metadata": {},
   "outputs": [],
   "source": [
    "# add metadata and reformat the DataFrame\n",
    "if 'metadata' in annotations.columns:\n",
    "    metadata = annotations['metadata'].apply(pd.Series)\n",
    "    metadata.drop(columns=['label'], inplace=True)\n",
    "    annotations[metadata.columns] = metadata\n",
    "    annotations.drop(columns=['metadata'], inplace=True)\n",
    "\n",
    "annotations = annotations.sort_values(by=['text_id', 'annotator']).reset_index(drop=True)\n",
    "annotations = annotations[['text_id', 'text', 'annotator', 'label']]\n",
    "annotations['spans'] = annotations.apply(lambda x: [x['text'][lab[0]:lab[1]] for lab in x['label']], axis=1)\n",
    "\n",
    "# count number of annotations per annotator and text\n",
    "annotations['n_annos'] = annotations.label.map(len)\n",
    "annotations['no_annos'] = annotations['n_annos']==0"
   ]
  },
  {
   "cell_type": "markdown",
   "id": "5c13c2db",
   "metadata": {},
   "source": [
    "We are interested to what extent annotators marked spans agree.\n",
    "Do the words marked in a sentence by one annotator agree with those marked by the other annotators?\n",
    "\n",
    "But note that annotated words may vary a lot in their character length.\n",
    "We don't want this varation to influence our agreement measure.\n",
    "\n",
    "So we need to convert the character-level into token-level annotations.\n",
    "For this, we first tokenize the sentence and than map the character-level span start and end indexes to their correspondong token-level indexes:"
   ]
  },
  {
   "cell_type": "code",
   "execution_count": null,
   "id": "7b214af7",
   "metadata": {},
   "outputs": [],
   "source": [
    "tokenizer = TreebankWordTokenizer()\n",
    "\n",
    "# list(tokenizer.span_tokenize(text))\n",
    "def character_to_token_spans(text: str, spans: list[tuple[int, int]]) -> list[tuple[int, int]]:\n",
    "    token_spans = list(tokenizer.span_tokenize(text))\n",
    "    token_span_list = []\n",
    "    for span in spans:\n",
    "        start_char, end_char = span\n",
    "        # Find the first token that starts after or at the start_char\n",
    "        start_token = next((i for i, (s, _) in enumerate(token_spans) if s >= start_char), None)\n",
    "        # Find the last token that ends before or at the end_char\n",
    "        end_token = next((i for i, (_, e) in reversed(list(enumerate(token_spans))) if e <= end_char), None)\n",
    "        if start_token is not None and end_token is not None and start_token <= end_token:\n",
    "            token_span_list.append((start_token, end_token + 1))  # +1 to make it exclusive\n",
    "    return token_span_list"
   ]
  },
  {
   "cell_type": "markdown",
   "id": "a9f24537",
   "metadata": {},
   "source": [
    "The example below illustrates the functionality of the `character_to_token_spans()` function."
   ]
  },
  {
   "cell_type": "code",
   "execution_count": null,
   "id": "d525fd51",
   "metadata": {},
   "outputs": [
    {
     "name": "stdout",
     "output_type": "stream",
     "text": [
      "extracted spans:\n",
      " - restrict foreign equity holding in private television broadcasting to 20%\n",
      " - prevent cross holding to avoid emergence of monopolies in the media\n",
      "\n",
      "token-level annotations: [(2, 13), (14, 25)]\n",
      "\n",
      "tokens in extracted spans:\n",
      " -  ['restrict', 'foreign', 'equity', 'holding', 'in', 'private', 'television', 'broadcasting', 'to', '20', '%']\n",
      " -  ['prevent', 'cross', 'holding', 'to', 'avoid', 'emergence', 'of', 'monopolies', 'in', 'the', 'media']\n"
     ]
    }
   ],
   "source": [
    "text = r\"We will restrict foreign equity holding in private television broadcasting to 20% and prevent cross holding to avoid emergence of monopolies in the media.\"\n",
    "# annotation\n",
    "annotation = [[8, 81], [86, 153]]\n",
    "print('extracted spans:', end='')\n",
    "print('', *[text[slice(*span)] for span in annotation], sep='\\n - ')\n",
    "print()\n",
    "\n",
    "tok_spans = character_to_token_spans(text, annotation)\n",
    "print(\"token-level annotations:\", tok_spans)\n",
    "tokens = tokenizer.tokenize(text)\n",
    "print()\n",
    "\n",
    "print('tokens in extracted spans:')\n",
    "for tspan in tok_spans:\n",
    "    print(' - ', tokens[slice(*tspan)])"
   ]
  },
  {
   "cell_type": "markdown",
   "id": "a1abad0c",
   "metadata": {},
   "source": [
    "Let's apply this logic to all the data:"
   ]
  },
  {
   "cell_type": "code",
   "execution_count": null,
   "id": "f79cf3a3",
   "metadata": {},
   "outputs": [],
   "source": [
    "# extract tokens\n",
    "annotations['tokens'] = annotations.apply(lambda x: tokenizer.tokenize(x['text']), axis=1)\n",
    "# determine token-level span informations\n",
    "annotations['token_spans'] = annotations.apply(lambda x: character_to_token_spans(x['text'], x['label']), axis=1)"
   ]
  },
  {
   "cell_type": "markdown",
   "id": "e9e2a0b4",
   "metadata": {},
   "source": [
    "Let's look at an example"
   ]
  },
  {
   "cell_type": "code",
   "execution_count": null,
   "id": "a028e917",
   "metadata": {},
   "outputs": [
    {
     "name": "stdout",
     "output_type": "stream",
     "text": [
      "Text: 'Exempt income up to Rs 3 lakh from Income Tax .'\n",
      "Annotations:\n",
      " - augustijn.vanrode:\n",
      "\n",
      " - colin.negenborn:\n",
      "   - Exempt income up to Rs 3 lakh from Income Tax\n",
      "\n",
      " - dino.wildi:\n",
      "   - Exempt income up to Rs 3 lakh from Income Tax .\n",
      "\n",
      " - i.zeberioaguerrevere:\n",
      "   - Exempt income up to Rs 3 lakh from Income Tax\n",
      "\n"
     ]
    }
   ],
   "source": [
    "id_ = annotations.text_id.sample(1, random_state=42).iloc[0]\n",
    "ex = annotations.loc[annotations.text_id == id_, ['text', 'annotator', 'spans', 'label', 'tokens', 'token_spans']]\n",
    "print('Text:', repr(ex.text.iloc[0]))\n",
    "print('Annotations:')\n",
    "for _, row in ex.iterrows():\n",
    "    print(' -', row.annotator+':', end='')\n",
    "    print('', *row['spans'], sep='\\n   - ')\n",
    "    print()"
   ]
  },
  {
   "cell_type": "markdown",
   "id": "d4c4db2e",
   "metadata": {},
   "source": [
    "## Compute inter-annotator agreement"
   ]
  },
  {
   "cell_type": "markdown",
   "id": "336db2c5",
   "metadata": {},
   "source": [
    "### Sentence level"
   ]
  },
  {
   "cell_type": "code",
   "execution_count": null,
   "id": "eafdb7dc",
   "metadata": {},
   "outputs": [
    {
     "data": {
      "text/plain": [
       "0.5411528822055138"
      ]
     },
     "execution_count": 38,
     "metadata": {},
     "output_type": "execute_result"
    }
   ],
   "source": [
    "tmp = annotations[['annotator', 'text_id', 'no_annos']].copy()\n",
    "tmp['no_annos'] = ~tmp['no_annos']\n",
    "tmp = tmp.pivot(index='annotator', columns='text_id', values='no_annos').fillna(False).astype(int)\n",
    "k_alpha(tmp.values, level_of_measurement='nominal')\n",
    "# NOTE: just scratching the threshold of 0.67 for acceptable agreement (see https://www.sciencedirect.com/science/article/pii/S2215016123005411)"
   ]
  },
  {
   "cell_type": "markdown",
   "id": "f2bd8fd1",
   "metadata": {},
   "source": [
    "Krippendorff (cited in Neuendorff, 2017) names the following standards\n",
    "\n",
    "- Rely only on variables with reliabilities above α = .800.\n",
    "- Consider variables with reliabilities between α = .667 and α = .800 only for drawing tentative conclusions."
   ]
  },
  {
   "cell_type": "markdown",
   "id": "2f4f452a",
   "metadata": {},
   "source": [
    "### Span level"
   ]
  },
  {
   "cell_type": "code",
   "execution_count": null,
   "id": "b2675211",
   "metadata": {},
   "outputs": [],
   "source": [
    "# Braylan et al.'s code requires that annotators and items are identified by integer IDs\n",
    "annotations['item_id'] = pd.Categorical(annotations['text_id']).codes\n",
    "annotations['annotator_id'] = pd.Categorical(annotations['annotator']).codes"
   ]
  },
  {
   "cell_type": "code",
   "execution_count": null,
   "id": "b6c52ed5",
   "metadata": {},
   "outputs": [],
   "source": [
    "# create an agreement object with the entity distance function\n",
    "iaa = InterAnnotatorAgreement(\n",
    "    annotations, \n",
    "    item_colname=\"item_id\", \n",
    "    uid_colname=\"annotator_id\", \n",
    "    label_colname=\"label\", \n",
    "    distance_fn=overlap_distance\n",
    ")"
   ]
  },
  {
   "cell_type": "code",
   "execution_count": null,
   "id": "f868c0cf",
   "metadata": {},
   "outputs": [
    {
     "name": "stdout",
     "output_type": "stream",
     "text": [
      "Krippendorff's Alpha: 0.4757\n",
      "Sigma Score: 0.5700\n",
      "KS Score: 0.3300\n"
     ]
    }
   ],
   "source": [
    "# compute agreement measures\n",
    "iaa.setup(parallel_calc=False)\n",
    "krippendorff_alpha = iaa.get_krippendorff_alpha()\n",
    "sigma_score = iaa.get_sigma()\n",
    "ks_score = iaa.get_ks()\n",
    "\n",
    "print(f\"Krippendorff's Alpha: {krippendorff_alpha:.4f}\")\n",
    "print(f\"Sigma Score: {sigma_score:.4f}\")\n",
    "print(f\"KS Score: {ks_score:.4f}\")"
   ]
  },
  {
   "cell_type": "markdown",
   "id": "cbb5ef97",
   "metadata": {},
   "source": [
    "## Sentence-level disagreement analysis"
   ]
  },
  {
   "cell_type": "markdown",
   "id": "827b9690",
   "metadata": {},
   "source": [
    "We can also compute agreement at the sentence level:"
   ]
  },
  {
   "cell_type": "code",
   "execution_count": null,
   "id": "b74a0a7b",
   "metadata": {},
   "outputs": [],
   "source": [
    "# Get a list of single-item lists\n",
    "item_ids = annotations['item_id'].unique()\n",
    "split_items = [[item] for item in item_ids]\n",
    "\n",
    "item_iaas = split_iaa_by_item(iaa, split_items)\n",
    "\n",
    "# Now compute item-level ICA measures\n",
    "per_item_ica = []\n",
    "for m in item_iaas:\n",
    "    # m.setup(parallel_calc=False)\n",
    "    m.expected_distances = iaa.expected_distances\n",
    "    try:\n",
    "        per_item_ica.append({\n",
    "            \"item_id\": m.annodf[\"item\"].iloc[0],\n",
    "            \"alpha\": m.get_krippendorff_alpha(),\n",
    "            \"sigma\": m.get_sigma(),\n",
    "            \"ks\": m.get_ks()\n",
    "        })\n",
    "    except Exception as e:\n",
    "        print(f\"Error processing item {m.annodf['item_id'].iloc[0]}: {e}\")"
   ]
  },
  {
   "cell_type": "code",
   "execution_count": null,
   "id": "d1d6a92a",
   "metadata": {},
   "outputs": [],
   "source": [
    "item_icas = annotations[['text_id', 'text', 'item_id']].drop_duplicates().merge(pd.DataFrame(per_item_ica), on='item_id', how='left')"
   ]
  },
  {
   "cell_type": "code",
   "execution_count": null,
   "id": "fc562eed",
   "metadata": {},
   "outputs": [],
   "source": [
    "item_icas = item_icas.merge(\n",
    "    annotations.groupby('item_id').agg({\n",
    "        'spans': lambda spans: len(set.union(*spans.apply(set).tolist())), \n",
    "         'no_annos': 'all'\n",
    "    }).rename(columns={'spans': 'n_annos'}).reset_index()\n",
    ")"
   ]
  },
  {
   "cell_type": "markdown",
   "id": "09a69a91",
   "metadata": {},
   "source": [
    "Let's plot the distribution of sentence-level agreement estimates:"
   ]
  },
  {
   "cell_type": "code",
   "execution_count": null,
   "id": "0f9fde8b",
   "metadata": {},
   "outputs": [
    {
     "data": {
      "image/png": "[encoded data removed]",
      "text/plain": [
       "<Figure size 300x200 with 1 Axes>"
      ]
     },
     "metadata": {},
     "output_type": "display_data"
    }
   ],
   "source": [
    "from matplotlib import pyplot as plt\n",
    "plt.figure(figsize=(3, 2))\n",
    "item_icas.alpha.hist(bins=50)\n",
    "# plt.yscale('log')\n",
    "plt.xlabel(\"Krippendorff's alpha\")\n",
    "plt.ylabel(\"Frequency\")\n",
    "plt.xlim(-1, 1.05)\n",
    "plt.show()"
   ]
  },
  {
   "cell_type": "code",
   "execution_count": null,
   "id": "3ac084bc",
   "metadata": {},
   "outputs": [
    {
     "data": {
      "text/plain": [
       "0.4756702825934259"
      ]
     },
     "execution_count": 46,
     "metadata": {},
     "output_type": "execute_result"
    }
   ],
   "source": [
    "# what's the average sentence-level agreement across sentences?\n",
    "item_icas.alpha.mean()"
   ]
  },
  {
   "cell_type": "code",
   "execution_count": null,
   "id": "bb344403",
   "metadata": {},
   "outputs": [
    {
     "data": {
      "text/plain": [
       "0.20556103423246364"
      ]
     },
     "execution_count": 47,
     "metadata": {},
     "output_type": "execute_result"
    }
   ],
   "source": [
    "# and in sentences with min. one annotation?\n",
    "item_icas.query('no_annos == False').alpha.mean()"
   ]
  },
  {
   "cell_type": "code",
   "execution_count": null,
   "id": "04474a1a",
   "metadata": {},
   "outputs": [
    {
     "data": {
      "text/plain": [
       "0.52"
      ]
     },
     "execution_count": 48,
     "metadata": {},
     "output_type": "execute_result"
    }
   ],
   "source": [
    "# share with \"unacceptable\" agreement?\n",
    "(item_icas.alpha < 0.65).mean()"
   ]
  },
  {
   "cell_type": "markdown",
   "id": "ca1dec85",
   "metadata": {},
   "source": [
    "#### clear cut"
   ]
  },
  {
   "cell_type": "code",
   "execution_count": null,
   "id": "a6cc2f2a",
   "metadata": {},
   "outputs": [
    {
     "name": "stdout",
     "output_type": "stream",
     "text": [
      "17\n",
      "0.34\n"
     ]
    }
   ],
   "source": [
    "tmp = item_icas[item_icas.alpha == 1.0]\n",
    "tmp = tmp.sort_values(['alpha', 'item_id'])\n",
    "print(tmp.item_id.nunique())\n",
    "print(tmp.item_id.nunique()/len(per_item_ica))"
   ]
  },
  {
   "cell_type": "code",
   "execution_count": null,
   "id": "e2c2e4e4",
   "metadata": {},
   "outputs": [
    {
     "data": {
      "text/html": [
       "<div>\n",
       "<style scoped>\n",
       "    .dataframe tbody tr th:only-of-type {\n",
       "        vertical-align: middle;\n",
       "    }\n",
       "\n",
       "    .dataframe tbody tr th {\n",
       "        vertical-align: top;\n",
       "    }\n",
       "\n",
       "    .dataframe thead th {\n",
       "        text-align: right;\n",
       "    }\n",
       "</style>\n",
       "<table border=\"1\" class=\"dataframe\">\n",
       "  <thead>\n",
       "    <tr style=\"text-align: right;\">\n",
       "      <th></th>\n",
       "      <th>n_annotations</th>\n",
       "      <th>count</th>\n",
       "      <th>proportion</th>\n",
       "    </tr>\n",
       "  </thead>\n",
       "  <tbody>\n",
       "    <tr>\n",
       "      <th>0</th>\n",
       "      <td>0</td>\n",
       "      <td>17</td>\n",
       "      <td>0.34</td>\n",
       "    </tr>\n",
       "    <tr>\n",
       "      <th>1</th>\n",
       "      <td>1</td>\n",
       "      <td>5</td>\n",
       "      <td>0.10</td>\n",
       "    </tr>\n",
       "    <tr>\n",
       "      <th>2</th>\n",
       "      <td>2</td>\n",
       "      <td>15</td>\n",
       "      <td>0.30</td>\n",
       "    </tr>\n",
       "    <tr>\n",
       "      <th>3</th>\n",
       "      <td>3</td>\n",
       "      <td>11</td>\n",
       "      <td>0.22</td>\n",
       "    </tr>\n",
       "    <tr>\n",
       "      <th>4</th>\n",
       "      <td>4</td>\n",
       "      <td>2</td>\n",
       "      <td>0.04</td>\n",
       "    </tr>\n",
       "  </tbody>\n",
       "</table>\n",
       "</div>"
      ],
      "text/plain": [
       "   n_annotations  count  proportion\n",
       "0              0     17        0.34\n",
       "1              1      5        0.10\n",
       "2              2     15        0.30\n",
       "3              3     11        0.22\n",
       "4              4      2        0.04"
      ]
     },
     "execution_count": 50,
     "metadata": {},
     "output_type": "execute_result"
    }
   ],
   "source": [
    "tab = item_icas[['item_id', 'text_id', 'n_annos']].drop_duplicates().n_annos.value_counts().sort_index().reset_index()\n",
    "tab['prop'] = tab['count'] / tab['count'].sum()\n",
    "tab.columns = ['n_annotations', 'count', 'proportion']\n",
    "tab"
   ]
  },
  {
   "cell_type": "code",
   "execution_count": null,
   "id": "d0ba964a",
   "metadata": {},
   "outputs": [
    {
     "name": "stdout",
     "output_type": "stream",
     "text": [
      "We will enact the Lok Pal Bill with adequate powers to deal with corruption charges against anyone, including the Prime Minister .\n",
      "['enact the Lok Pal Bill with adequate powers to deal with corruption charges against anyone, including the Prime Minister']\n",
      "['We will enact the Lok Pal Bill with adequate powers to deal with corruption charges against anyone, including the Prime Minister']\n",
      "['enact the Lok Pal Bill with adequate powers to deal with corruption charges against anyone, including the Prime Minister .']\n",
      "['enact the Lok Pal Bill with adequate powers to deal with corruption charges against anyone, including the Prime Minister']\n"
     ]
    }
   ],
   "source": [
    "ex = item_icas[item_icas.n_annos==3].iloc[1]\n",
    "print(ex.text)\n",
    "print(*annotations[annotations.item_id == ex.item_id].spans.tolist(), sep='\\n')"
   ]
  },
  {
   "cell_type": "markdown",
   "id": "e252e9d8",
   "metadata": {},
   "source": [
    "#### good(ish)"
   ]
  },
  {
   "cell_type": "code",
   "execution_count": null,
   "id": "c4bf1601",
   "metadata": {},
   "outputs": [
    {
     "name": "stdout",
     "output_type": "stream",
     "text": [
      "7\n",
      "0.14\n"
     ]
    }
   ],
   "source": [
    "tmp = item_icas[np.logical_and(item_icas.alpha >= 0.65, item_icas.alpha < 1.0)]\n",
    "tmp = tmp.sort_values(['alpha', 'item_id'])\n",
    "print(tmp.item_id.nunique())\n",
    "print(tmp.item_id.nunique()/len(per_item_ica))"
   ]
  },
  {
   "cell_type": "code",
   "execution_count": null,
   "id": "622aa4ff",
   "metadata": {},
   "outputs": [
    {
     "name": "stdout",
     "output_type": "stream",
     "text": [
      "Item: 10, k-alpha: 0.9288\n",
      "Text: 'We will enact the Lok Pal Bill with adequate powers to deal with corruption charges against anyone, including the Prime Minister .'\n",
      "Spans:\n",
      " - ['enact the Lok Pal Bill with adequate powers to deal with corruption charges against anyone, including the Prime Minister'] (augustijn.vanrode)\n",
      " - ['We will enact the Lok Pal Bill with adequate powers to deal with corruption charges against anyone, including the Prime Minister'] (colin.negenborn)\n",
      " - ['enact the Lok Pal Bill with adequate powers to deal with corruption charges against anyone, including the Prime Minister .'] (dino.wildi)\n",
      " - ['enact the Lok Pal Bill with adequate powers to deal with corruption charges against anyone, including the Prime Minister'] (i.zeberioaguerrevere)\n",
      "\n",
      "---\n",
      "\n",
      "Item: 11, k-alpha: 0.9227\n",
      "Text: '4 . We will provide skills training to 10 crore youth and provide them with employment opportunities over the next 5 years .'\n",
      "Spans:\n",
      " - ['provide skills training to 10 crore youth and provide them with employment opportunities over the next 5 years'] (augustijn.vanrode)\n",
      " - ['We will provide skills training to 10 crore youth and provide them with employment opportunities over the next 5 years'] (colin.negenborn)\n",
      " - ['provide skills training to 10 crore youth and provide them with employment opportunities over the next 5 years .'] (dino.wildi)\n",
      " - ['provide skills training to 10 crore youth and provide them with employment opportunities over the next 5 years'] (i.zeberioaguerrevere)\n",
      "\n",
      "---\n",
      "\n",
      "Item: 14, k-alpha: 0.8443\n",
      "Text: 'We are committed to establishing a civilised, humane and just civil order ; that which does not discriminate on ground — of caste, religion, class, colour, race or sex .'\n",
      "Spans:\n",
      " - ['establishing a civilised, humane and just civil order ; that which does not discriminate on ground — of caste, religion, class, colour, race or sex'] (augustijn.vanrode)\n",
      " - ['We are committed to establishing a civilised, humane and just civil order ; that which does not discriminate on ground — of caste, religion, class, colour, race or sex'] (colin.negenborn)\n",
      " - ['establishing a civilised, humane and just civil order ; that which does not discriminate on ground — of caste, religion, class, colour, race or sex .'] (dino.wildi)\n",
      " - ['We are committed to establishing a civilised, humane and just civil order ; that which does not discriminate on ground — of caste, religion, class, colour, race or sex'] (i.zeberioaguerrevere)\n",
      "\n",
      "---\n",
      "\n",
      "Item: 21, k-alpha: 0.9933\n",
      "Text: 'All controls on the free movement of farm commodities and processing of agricultural products and all regulations that depress incomes of farmers will be systematically eliminated .'\n",
      "Spans:\n",
      " - ['All controls on the free movement of farm commodities and processing of agricultural products and all regulations that depress incomes of farmers will be systematically eliminated'] (augustijn.vanrode)\n",
      " - ['All controls on the free movement of farm commodities and processing of agricultural products and all regulations that depress incomes of farmers will be systematically eliminated '] (colin.negenborn)\n",
      " - ['All controls on the free movement of farm commodities and processing of agricultural products and all regulations that depress incomes of farmers will be systematically eliminated'] (dino.wildi)\n",
      " - ['All controls on the free movement of farm commodities and processing of agricultural products and all regulations that depress incomes of farmers will be systematically eliminated '] (i.zeberioaguerrevere)\n",
      "\n",
      "---\n",
      "\n",
      "Item: 24, k-alpha: 0.9821\n",
      "Text: 'National scholarships for boys and girls belonging to scheduled castes and scheduled tribes will be further increased .'\n",
      "Spans:\n",
      " - ['National scholarships for boys and girls belonging to scheduled castes and scheduled tribes will be further increased'] (augustijn.vanrode)\n",
      " - ['National scholarships for boys and girls belonging to scheduled castes and scheduled tribes will be further increased'] (colin.negenborn)\n",
      " - ['National scholarships for boys and girls belonging to scheduled castes and scheduled tribes will be further increased .'] (dino.wildi)\n",
      " - ['National scholarships for boys and girls belonging to scheduled castes and scheduled tribes will be further increased '] (i.zeberioaguerrevere)\n",
      "\n",
      "---\n",
      "\n",
      "Item: 30, k-alpha: 0.8623\n",
      "Text: 'New international airport projects for Delhi, Mumbai, Bangalore and Hyderabad will be completed within the next three to four years and the Prime Minister will inaugurate them before August 15, 2008 .'\n",
      "Spans:\n",
      " - ['New international airport projects for Delhi, Mumbai, Bangalore and Hyderabad will be completed within the next three to four years and the Prime Minister will inaugurate them before August 15, 2008'] (augustijn.vanrode)\n",
      " - ['New international airport projects for Delhi, Mumbai, Bangalore and Hyderabad will be completed within the next three to four years and the Prime Minister will inaugurate them before August 15, 2008'] (colin.negenborn)\n",
      " - ['New international airport projects for Delhi, Mumbai, Bangalore and Hyderabad will be completed within the next three to four years', 'inaugurate them before August 15, 2008'] (dino.wildi)\n",
      " - ['New international airport projects for Delhi, Mumbai, Bangalore and Hyderabad will be completed within the next three to four years and the Prime Minister will inaugurate them before August 15, 2008 '] (i.zeberioaguerrevere)\n",
      "\n",
      "---\n",
      "\n",
      "Item: 45, k-alpha: 0.9233\n",
      "Text: 'We will amend the Service Rules to reserve for women 33 per cent of appointments to posts in the Central Government .'\n",
      "Spans:\n",
      " - [' amend the Service Rules to reserve for women 33 per cent of appointments to posts in the Central Government'] (augustijn.vanrode)\n",
      " - ['We will amend the Service Rules to reserve for women 33 per cent of appointments to posts in the Central Government'] (colin.negenborn)\n",
      " - ['amend the Service Rules to reserve for women 33 per cent of appointments to posts in the Central Government '] (dino.wildi)\n",
      " - ['amend the Service Rules to reserve for women 33 per cent of appointments to posts in the Central Government '] (i.zeberioaguerrevere)\n",
      "\n",
      "---\n",
      "\n"
     ]
    }
   ],
   "source": [
    "items = tmp.item_id.unique()\n",
    "examples = tmp[tmp.item_id.isin(items)].merge(annotations[['item_id', 'annotator', 'spans']], on='item_id', how='left')\n",
    "for item, ex in examples.groupby('item_id'):\n",
    "    print(f\"Item: {item}, k-alpha: {ex.alpha.iloc[0]:.4f}\")\n",
    "    print(\"Text:\", repr(ex['text'].iloc[0]))\n",
    "    print(\"Spans:\")\n",
    "    for m, span in zip(ex['annotator'], ex['spans']):\n",
    "        print(f\" - {span} ({m})\")\n",
    "    print(\"\\n---\\n\")"
   ]
  },
  {
   "cell_type": "markdown",
   "id": "612aeccc",
   "metadata": {},
   "source": [
    "#### poor"
   ]
  },
  {
   "cell_type": "code",
   "execution_count": null,
   "id": "772146e4",
   "metadata": {},
   "outputs": [
    {
     "name": "stdout",
     "output_type": "stream",
     "text": [
      "14\n",
      "0.28\n"
     ]
    }
   ],
   "source": [
    "tmp = item_icas[np.logical_and(item_icas.alpha >= 0.0, item_icas.alpha < 0.65)]\n",
    "tmp = tmp.sort_values(['alpha', 'item_id'])\n",
    "print(tmp.item_id.nunique())\n",
    "print(tmp.item_id.nunique()/len(per_item_ica))"
   ]
  },
  {
   "cell_type": "code",
   "execution_count": null,
   "id": "1eae8a57",
   "metadata": {},
   "outputs": [
    {
     "name": "stdout",
     "output_type": "stream",
     "text": [
      "Item: 3, k-alpha: 0.0898\n",
      "Text: 'For this, the government shall introduce time - bound programmes of needed administrative reforms including those for the Police and other Civil Services .'\n",
      "Spans:\n",
      " - [] (augustijn.vanrode)\n",
      " - [] (colin.negenborn)\n",
      " - [] (dino.wildi)\n",
      " - ['For this, the government shall introduce time - bound programmes of needed administrative reforms including those for the Police and other Civil Services .'] (i.zeberioaguerrevere)\n",
      "\n",
      "---\n",
      "\n",
      "Item: 9, k-alpha: 0.5797\n",
      "Text: 'We will undertake all necessary legislative and administrative measures to ensure the right of franchise of the Armed Forces through proxy voting and or any other method .'\n",
      "Spans:\n",
      " - ['undertake all necessary legislative and administrative measures to ensure the right of franchise of the Armed Forces through proxy voting and or any other method'] (augustijn.vanrode)\n",
      " - ['We will undertake all necessary legislative and administrative measures to ensure the right of franchise of the Armed Forces through proxy voting and or any other method '] (colin.negenborn)\n",
      " - ['ensure the right of franchise of the Armed Forces through proxy voting and or any other method'] (dino.wildi)\n",
      " - ['undertake all necessary legislative and administrative measures to ensure the right of franchise of the Armed Forces through proxy voting and or any other method'] (i.zeberioaguerrevere)\n",
      "\n",
      "---\n",
      "\n",
      "Item: 15, k-alpha: 0.5508\n",
      "Text: 'Fiscal incentives to promote employment - intensive growth will be introduced .'\n",
      "Spans:\n",
      " - ['Fiscal incentives to promote employment - intensive growth will be introduced'] (augustijn.vanrode)\n",
      " - ['Fiscal incentives to promote employment'] (colin.negenborn)\n",
      " - ['Fiscal incentives to promote employment - intensive growth will be introduced'] (dino.wildi)\n",
      " - ['Fiscal incentives to promote employment - intensive growth will be introduced'] (i.zeberioaguerrevere)\n",
      "\n",
      "---\n",
      "\n",
      "Item: 16, k-alpha: 0.6292\n",
      "Text: 'We will also enact a comprehensive Broadcasting Bill to regulate private broadcasting and to protect Indian interests .'\n",
      "Spans:\n",
      " - ['enact a comprehensive Broadcasting Bill to regulate private broadcasting and to protect Indian interests'] (augustijn.vanrode)\n",
      " - ['We will also enact a comprehensive Broadcasting Bill to regulate private broadcasting and to protect Indian interests'] (colin.negenborn)\n",
      " - ['enact a comprehensive Broadcasting Bill to regulate private broadcasting'] (dino.wildi)\n",
      " - ['enact a comprehensive Broadcasting Bill to regulate private broadcasting and to protect Indian interests'] (i.zeberioaguerrevere)\n",
      "\n",
      "---\n",
      "\n",
      "Item: 17, k-alpha: 0.0898\n",
      "Text: 'We appeal for the cooperation of all parties and all sections of society in this great endeavour .'\n",
      "Spans:\n",
      " - ['appeal for the cooperation of all parties and all sections of society in this great endeavour'] (augustijn.vanrode)\n",
      " - [] (colin.negenborn)\n",
      " - [] (dino.wildi)\n",
      " - [] (i.zeberioaguerrevere)\n",
      "\n",
      "---\n",
      "\n",
      "Item: 19, k-alpha: 0.0062\n",
      "Text: 'Like it did for panchayats, the Congress will bring forward a Constitutional amendment to ensure the democratic, autonomous and professional functioning of all cooperatives .'\n",
      "Spans:\n",
      " - [] (augustijn.vanrode)\n",
      " - ['the Congress will bring forward a Constitutional amendment to ensure the democratic, autonomous and professional functioning of all cooperatives'] (colin.negenborn)\n",
      " - ['the Congress will bring forward a Constitutional amendment to ensure the democratic, autonomous and professional functioning of all cooperatives .'] (dino.wildi)\n",
      " - ['bring forward a Constitutional amendment to ensure the democratic, autonomous and professional functioning of all cooperatives'] (i.zeberioaguerrevere)\n",
      "\n",
      "---\n",
      "\n",
      "Item: 20, k-alpha: 0.0898\n",
      "Text: 'A wider and more comprehensive spectrum of skills will be imparted .'\n",
      "Spans:\n",
      " - ['A wider and more comprehensive spectrum of skills will be imparted'] (augustijn.vanrode)\n",
      " - [] (colin.negenborn)\n",
      " - [] (dino.wildi)\n",
      " - [] (i.zeberioaguerrevere)\n",
      "\n",
      "---\n",
      "\n",
      "Item: 22, k-alpha: 0.0765\n",
      "Text: 'New godowns, storage facilities, cold storage nehvorks and access roads will get priority .'\n",
      "Spans:\n",
      " - ['New godowns, storage facilities, cold storage nehvorks and access roads will get priority'] (augustijn.vanrode)\n",
      " - [] (colin.negenborn)\n",
      " - ['New godowns, storage facilities, cold storage nehvorks and access roads will get priority .'] (dino.wildi)\n",
      " - ['New godowns, storage facilities, cold storage nehvorks and access roads will get priority'] (i.zeberioaguerrevere)\n",
      "\n",
      "---\n",
      "\n",
      "Item: 23, k-alpha: 0.0640\n",
      "Text: 'Exempt income up to Rs 3 lakh from Income Tax .'\n",
      "Spans:\n",
      " - [] (augustijn.vanrode)\n",
      " - ['Exempt income up to Rs 3 lakh from Income Tax'] (colin.negenborn)\n",
      " - ['Exempt income up to Rs 3 lakh from Income Tax .'] (dino.wildi)\n",
      " - ['Exempt income up to Rs 3 lakh from Income Tax'] (i.zeberioaguerrevere)\n",
      "\n",
      "---\n",
      "\n",
      "Item: 29, k-alpha: 0.0898\n",
      "Text: 'The Indian National Congress also proposes to reserve one - third of all central government jobs for women .'\n",
      "Spans:\n",
      " - [] (augustijn.vanrode)\n",
      " - ['The Indian National Congress also proposes to reserve one - third of all central government jobs for women'] (colin.negenborn)\n",
      " - [] (dino.wildi)\n",
      " - [] (i.zeberioaguerrevere)\n",
      "\n",
      "---\n",
      "\n",
      "Item: 40, k-alpha: 0.0814\n",
      "Text: 'More funds will be allocated to sports, and we will encourage the State Governments to fully discharge their responsibility in the promotion of sports .'\n",
      "Spans:\n",
      " - ['More funds will be allocated to sports', 'encourage the State Governments to fully discharge their responsibility in the promotion of sports'] (augustijn.vanrode)\n",
      " - ['More funds will be allocated to sports'] (colin.negenborn)\n",
      " - ['More funds will be allocated to sports'] (dino.wildi)\n",
      " - ['More funds will be allocated to sports, and we will encourage the State Governments to fully discharge their responsibility in the promotion of sports'] (i.zeberioaguerrevere)\n",
      "\n",
      "---\n",
      "\n",
      "Item: 43, k-alpha: 0.0750\n",
      "Text: 'The Court of Appeal will sit in multiple Benches of 3 judges each in 6 locations .'\n",
      "Spans:\n",
      " - ['The Court of Appeal will sit in multiple Benches of 3 judges each in 6 locations'] (augustijn.vanrode)\n",
      " - ['The Court of Appeal will sit in multiple Benches of 3 judges each in 6 locations'] (colin.negenborn)\n",
      " - ['The Court of Appeal will sit in multiple Benches of 3 judges each in 6 locations .'] (dino.wildi)\n",
      " - [] (i.zeberioaguerrevere)\n",
      "\n",
      "---\n",
      "\n",
      "Item: 47, k-alpha: 0.2230\n",
      "Text: 'We will : set up Gas Grids to make gas available to households and industry .'\n",
      "Spans:\n",
      " - ['set up Gas Grids'] (augustijn.vanrode)\n",
      " - ['We will : set up Gas Grids to make gas available to households and industry'] (colin.negenborn)\n",
      " - ['set up Gas Grids to make gas available to households and industry'] (dino.wildi)\n",
      " - ['set up Gas Grids to make gas available to households and industry'] (i.zeberioaguerrevere)\n",
      "\n",
      "---\n",
      "\n",
      "Item: 49, k-alpha: 0.5557\n",
      "Text: 'We will implement a solid waste management plan in every habitation, village, town and city employing modern technology and machinery .'\n",
      "Spans:\n",
      " - ['implement a solid waste management plan in every habitation, village, town and city employing modern technology and machinery'] (augustijn.vanrode)\n",
      " - ['We will implement a solid waste management plan in every habitation, village, town and city employing modern technology and machinery'] (colin.negenborn)\n",
      " - ['We will implement a solid waste management plan in every habitation, village, town and city'] (dino.wildi)\n",
      " - ['solid waste management plan in every habitation, village, town and city employing modern technology and machinery'] (i.zeberioaguerrevere)\n",
      "\n",
      "---\n",
      "\n"
     ]
    }
   ],
   "source": [
    "items = tmp.item_id.unique()\n",
    "examples = tmp[tmp.item_id.isin(items)].merge(annotations[['item_id', 'annotator', 'spans']], on='item_id', how='left')\n",
    "for item, ex in examples.groupby('item_id'):\n",
    "    print(f\"Item: {item}, k-alpha: {ex.alpha.iloc[0]:.4f}\")\n",
    "    print(\"Text:\", repr(ex['text'].iloc[0]))\n",
    "    print(\"Spans:\")\n",
    "    for m, span in zip(ex['annotator'], ex['spans']):\n",
    "        print(f\" - {span} ({m})\")\n",
    "    print(\"\\n---\\n\")"
   ]
  },
  {
   "cell_type": "markdown",
   "id": "3a8b12ab",
   "metadata": {},
   "source": [
    "#### bad"
   ]
  },
  {
   "cell_type": "code",
   "execution_count": null,
   "id": "dcfb7912",
   "metadata": {},
   "outputs": [
    {
     "name": "stdout",
     "output_type": "stream",
     "text": [
      "12\n",
      "0.24\n"
     ]
    }
   ],
   "source": [
    "tmp = item_icas[item_icas.alpha < 0.0]\n",
    "tmp = tmp.sort_values(['alpha', 'item_id'])\n",
    "print(tmp.item_id.nunique())\n",
    "print(tmp.item_id.nunique()/len(per_item_ica))"
   ]
  },
  {
   "cell_type": "code",
   "execution_count": null,
   "id": "93f0b510",
   "metadata": {},
   "outputs": [
    {
     "name": "stdout",
     "output_type": "stream",
     "text": [
      "Item: 28, k-alpha: -0.3469\n",
      "Text: 'We will take the Mission to a new level through sustainable Solid Waste Management in every village .'\n",
      "Spans:\n",
      " - ['sustainable Solid Waste Management in every village'] (augustijn.vanrode)\n",
      " - [] (colin.negenborn)\n",
      " - [] (dino.wildi)\n",
      " - ['take the Mission to a new level through sustainable Solid Waste Management in every village'] (i.zeberioaguerrevere)\n",
      "\n",
      "---\n",
      "\n",
      "Item: 31, k-alpha: -0.2135\n",
      "Text: 'We will further encourage integrated development of coastal areas including coastal cities, coastal transport and coastal industrialization .'\n",
      "Spans:\n",
      " - ['encourage integrated development of coastal areas including coastal cities, coastal transport and coastal industrialization'] (augustijn.vanrode)\n",
      " - [] (colin.negenborn)\n",
      " - [] (dino.wildi)\n",
      " - ['encourage integrated development of coastal areas including coastal cities, coastal transport and coastal industrialization'] (i.zeberioaguerrevere)\n",
      "\n",
      "---\n",
      "\n",
      "Item: 44, k-alpha: -0.1835\n",
      "Text: 'All efforts will be made for the eradication of filariasis within five years .'\n",
      "Spans:\n",
      " - ['eradication of filariasis within five years'] (augustijn.vanrode)\n",
      " - ['All efforts will be made for the eradication of filariasis within five years'] (colin.negenborn)\n",
      " - ['the eradication of filariasis within five years'] (dino.wildi)\n",
      " - [] (i.zeberioaguerrevere)\n",
      "\n",
      "---\n",
      "\n"
     ]
    }
   ],
   "source": [
    "items = tmp.item_id.unique()\n",
    "examples = tmp[tmp.item_id.isin(items)]\n",
    "# draw random sample of 3 examples\n",
    "examples = examples.sample(3, random_state=42)\n",
    "examples = examples.merge(annotations[['item_id', 'annotator', 'spans']], on='item_id', how='left')\n",
    "for item, ex in examples.groupby('item_id'):\n",
    "    print(f\"Item: {item}, k-alpha: {ex.alpha.iloc[0]:.4f}\")\n",
    "    print(\"Text:\", repr(ex['text'].iloc[0]))\n",
    "    print(\"Spans:\")\n",
    "    for m, span in zip(ex['annotator'], ex['spans']):\n",
    "        print(f\" - {span} ({m})\")\n",
    "    print(\"\\n---\\n\")"
   ]
  }
 ],
 "metadata": {
  "kernelspec": {
   "display_name": "advanced_text_analysis_gesis_2025",
   "language": "python",
   "name": "python3"
  },
  "language_info": {
   "codemirror_mode": {
    "name": "ipython",
    "version": 3
   },
   "file_extension": ".py",
   "mimetype": "text/x-python",
   "name": "python",
   "nbconvert_exporter": "python",
   "pygments_lexer": "ipython3",
   "version": "3.11.13"
  }
 },
 "nbformat": 4,
 "nbformat_minor": 5
}
