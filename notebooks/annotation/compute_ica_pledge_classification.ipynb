{
 "cells": [
  {
   "cell_type": "markdown",
   "id": "a042ea1d",
   "metadata": {},
   "source": [
    "# Computing inter-annotator agreement for sentence classification tasks"
   ]
  },
  {
   "cell_type": "markdown",
   "id": "f7f823df",
   "metadata": {},
   "source": [
    "<br><a target=\"_blank\" href=\"https://colab.research.google.com/github/haukelicht/advanced_text_analysis/blob/main/notebooks/annotation/compute_ica_pledge_classification.ipynb\"><img src=\"https://colab.research.google.com/assets/colab-badge.svg\" alt=\"Open In Colab\"/></a>"
   ]
  },
  {
   "cell_type": "markdown",
   "id": "27a344a5",
   "metadata": {},
   "source": [
    "We want to compute to what extent annotators' sentence-level classifications agree with each other.\n",
    "Specifically, following Krippendorff ([2022](https://doi.org/10.4135/9781071878781.n13)) and others (see Neuendorff, [2017](https://doi.org/10.4135/9781071802878.n6)), we want to compute a _chance-adjusted_ inter-annotator agreement metric that adjusts for the probability that an agreement arises by chance.\n"
   ]
  },
  {
   "cell_type": "markdown",
   "id": "94b6627d",
   "metadata": {},
   "source": [
    "### Setup"
   ]
  },
  {
   "cell_type": "code",
   "execution_count": 2,
   "id": "9be7db86",
   "metadata": {},
   "outputs": [],
   "source": [
    "# check if on colab\n",
    "COLAB = True\n",
    "try:\n",
    "    import google.colab\n",
    "except:\n",
    "    COLAB=False\n",
    "\n",
    "if COLAB:\n",
    "    # shallow clone of current state of main branch \n",
    "    !git clone --branch main --single-branch --depth 1 --filter=blob:none https://github.com/haukelicht/advanced_text_analysis.git\n",
    "    # make repo root findable for python\n",
    "    import sys\n",
    "    sys.path.append(\"/content/advanced_content_analysis/\")\n",
    "    \n",
    "    # install required packages\n",
    "    !pip install krippendorff==0.8.1"
   ]
  },
  {
   "cell_type": "code",
   "execution_count": 3,
   "id": "ea3d28bd",
   "metadata": {},
   "outputs": [],
   "source": [
    "from pathlib import Path\n",
    "\n",
    "import pandas as pd\n",
    "from scipy.stats import entropy\n",
    "\n",
    "from krippendorff import alpha as k_alpha\n",
    "\n",
    "base_path = Path(\"/content/advanced_text_analysis/\" if COLAB else \"../../\")\n",
    "data_path = base_path / \"data\" / \"labeled\" / \"fornaciari_we_2021\""
   ]
  },
  {
   "cell_type": "markdown",
   "id": "f8e4a028",
   "metadata": {},
   "source": [
    "## Read the annotations"
   ]
  },
  {
   "cell_type": "code",
   "execution_count": 4,
   "id": "563bf58a",
   "metadata": {},
   "outputs": [
    {
     "data": {
      "text/plain": [
       "['luisa.kutlar', 'johanneskuhling', 'lopatina']"
      ]
     },
     "execution_count": 4,
     "metadata": {},
     "output_type": "execute_result"
    }
   ],
   "source": [
    "# TODO: change `\"llms\"` to the name of your group's folder\n",
    "annotations_path = data_path / \"annotations\" / \"classification\" / \"group3\"\n",
    "\n",
    "# list all annotation files produced by doccano \n",
    "#  (each records annotations by one annotator)\n",
    "fps = list(annotations_path.glob('*.csv'))\n",
    "\n",
    "# read the annoations into a long-format DataFrame\n",
    "annotations = pd.concat({fp.stem: pd.read_csv(fp) for fp in fps}, ignore_index=False).reset_index(level=0, names=['annotator'])\n",
    "\n",
    "# list unique annotators\n",
    "annotations.annotator.unique().tolist()"
   ]
  },
  {
   "cell_type": "code",
   "execution_count": 5,
   "id": "04ecc9b0",
   "metadata": {},
   "outputs": [
    {
     "data": {
      "text/html": [
       "<div>\n",
       "<style scoped>\n",
       "    .dataframe tbody tr th:only-of-type {\n",
       "        vertical-align: middle;\n",
       "    }\n",
       "\n",
       "    .dataframe tbody tr th {\n",
       "        vertical-align: top;\n",
       "    }\n",
       "\n",
       "    .dataframe thead th {\n",
       "        text-align: right;\n",
       "    }\n",
       "</style>\n",
       "<table border=\"1\" class=\"dataframe\">\n",
       "  <thead>\n",
       "    <tr style=\"text-align: right;\">\n",
       "      <th>label</th>\n",
       "      <th>No Pledge</th>\n",
       "      <th>Pledge</th>\n",
       "    </tr>\n",
       "    <tr>\n",
       "      <th>annotator</th>\n",
       "      <th></th>\n",
       "      <th></th>\n",
       "    </tr>\n",
       "  </thead>\n",
       "  <tbody>\n",
       "    <tr>\n",
       "      <th>johanneskuhling</th>\n",
       "      <td>24</td>\n",
       "      <td>26</td>\n",
       "    </tr>\n",
       "    <tr>\n",
       "      <th>lopatina</th>\n",
       "      <td>28</td>\n",
       "      <td>22</td>\n",
       "    </tr>\n",
       "    <tr>\n",
       "      <th>luisa.kutlar</th>\n",
       "      <td>26</td>\n",
       "      <td>24</td>\n",
       "    </tr>\n",
       "  </tbody>\n",
       "</table>\n",
       "</div>"
      ],
      "text/plain": [
       "label            No Pledge  Pledge\n",
       "annotator                         \n",
       "johanneskuhling         24      26\n",
       "lopatina                28      22\n",
       "luisa.kutlar            26      24"
      ]
     },
     "execution_count": 5,
     "metadata": {},
     "output_type": "execute_result"
    }
   ],
   "source": [
    "annotations.value_counts(['annotator', 'label']).unstack(fill_value=0)"
   ]
  },
  {
   "cell_type": "markdown",
   "id": "d4c4db2e",
   "metadata": {},
   "source": [
    "## Compute inter-annotator agreement"
   ]
  },
  {
   "cell_type": "code",
   "execution_count": 6,
   "id": "eafdb7dc",
   "metadata": {},
   "outputs": [
    {
     "data": {
      "text/plain": [
       "0.6413966049382716"
      ]
     },
     "execution_count": 6,
     "metadata": {},
     "output_type": "execute_result"
    }
   ],
   "source": [
    "tmp = annotations[['annotator', 'text_id', 'label']].copy()\n",
    "tmp['label'] = (tmp['label'].str.lower()=='pledge').astype(int)\n",
    "tmp = tmp.pivot_table(index='annotator', columns='text_id', values='label').fillna(0).astype(int)\n",
    "k_alpha(tmp.values, level_of_measurement='nominal')"
   ]
  },
  {
   "cell_type": "markdown",
   "id": "18c1148a",
   "metadata": {},
   "source": [
    "Krippendorff (cited in Neuendorff, 2017) names the following standards\n",
    "\n",
    "- Rely only on variables with reliabilities above α = .800.\n",
    "- Consider variables with reliabilities between α = .667 and α = .800 only for drawing tentative conclusions."
   ]
  },
  {
   "cell_type": "markdown",
   "id": "f2c314f9",
   "metadata": {},
   "source": [
    "## Sentence-level disagreement analysis"
   ]
  },
  {
   "cell_type": "code",
   "execution_count": 7,
   "id": "e27f918e",
   "metadata": {},
   "outputs": [
    {
     "name": "stdout",
     "output_type": "stream",
     "text": [
      "perfect agreement\n",
      " - on positive label: entropy = 0.000\n",
      " - on negative label: entropy = 0.000\n",
      "some agreement:\n",
      " - on positive label: entropy = 0.811\n",
      " - on negative label: entropy = 0.811\n",
      "no agreement (tied):  entropy = 1.000\n"
     ]
    }
   ],
   "source": [
    "def compute_entropy(x: pd.Series) -> float:\n",
    "    \"\"\"Compute entropy of a value counts series.\"\"\"\n",
    "    return entropy(x.value_counts(normalize=True).values, base=2)\n",
    "\n",
    "n_annotators = 4\n",
    "print(\"perfect agreement\")\n",
    "print(f\" - on positive label: entropy = {compute_entropy(pd.Series(['Pledge']*n_annotators)):.03f}\")\n",
    "print(f\" - on negative label: entropy = {compute_entropy(pd.Series(['No Pledge']*n_annotators)):.03f}\")\n",
    "print('some agreement:')\n",
    "print(f\" - on positive label: entropy = {compute_entropy(pd.Series(['Pledge']*(n_annotators-1) + ['No Pledge']*1)):.03f}\")\n",
    "print(f\" - on negative label: entropy = {compute_entropy(pd.Series(['Pledge']*1 + ['No Pledge']*(n_annotators-1))):.03f}\")\n",
    "print(f\"no agreement (tied):  entropy = {compute_entropy(pd.Series(['Pledge', 'No Pledge']*int(n_annotators/2))):.03f}\")"
   ]
  },
  {
   "cell_type": "code",
   "execution_count": 8,
   "id": "a25df068",
   "metadata": {},
   "outputs": [],
   "source": [
    "entropies = annotations.groupby('text_id').agg({'label': compute_entropy}).reset_index().rename(columns={'label': 'entropy'})"
   ]
  },
  {
   "cell_type": "code",
   "execution_count": 9,
   "id": "642b58c7",
   "metadata": {},
   "outputs": [
    {
     "data": {
      "text/plain": [
       "entropy\n",
       "0.000000    35\n",
       "0.918296    13\n",
       "Name: count, dtype: int64"
      ]
     },
     "execution_count": 9,
     "metadata": {},
     "output_type": "execute_result"
    }
   ],
   "source": [
    "entropies.entropy.value_counts(dropna=False)"
   ]
  },
  {
   "cell_type": "markdown",
   "id": "63f38310",
   "metadata": {},
   "source": [
    "- There is perfect agreement in 39 out of 50 cases.\n",
    "- There is some disagreement in 7 cases.\n",
    "- There is complete disagreement in 4 cases.\n"
   ]
  },
  {
   "cell_type": "markdown",
   "id": "b81543e9",
   "metadata": {},
   "source": [
    "#### poor agreement instances"
   ]
  },
  {
   "cell_type": "code",
   "execution_count": 10,
   "id": "b52ac971",
   "metadata": {},
   "outputs": [
    {
     "data": {
      "text/html": [
       "<div>\n",
       "<style scoped>\n",
       "    .dataframe tbody tr th:only-of-type {\n",
       "        vertical-align: middle;\n",
       "    }\n",
       "\n",
       "    .dataframe tbody tr th {\n",
       "        vertical-align: top;\n",
       "    }\n",
       "\n",
       "    .dataframe thead th {\n",
       "        text-align: right;\n",
       "    }\n",
       "</style>\n",
       "<table border=\"1\" class=\"dataframe\">\n",
       "  <thead>\n",
       "    <tr style=\"text-align: right;\">\n",
       "      <th></th>\n",
       "      <th>text_id</th>\n",
       "      <th>entropy</th>\n",
       "      <th>text</th>\n",
       "      <th>label</th>\n",
       "    </tr>\n",
       "  </thead>\n",
       "  <tbody>\n",
       "    <tr>\n",
       "      <th>0</th>\n",
       "      <td>36</td>\n",
       "      <td>0.918296</td>\n",
       "      <td>We reach out to the minorities and even at the...</td>\n",
       "      <td>[Pledge, No Pledge, No Pledge]</td>\n",
       "    </tr>\n",
       "    <tr>\n",
       "      <th>1</th>\n",
       "      <td>150</td>\n",
       "      <td>0.918296</td>\n",
       "      <td>The recently established National Security Cou...</td>\n",
       "      <td>[No Pledge, No Pledge, Pledge]</td>\n",
       "    </tr>\n",
       "    <tr>\n",
       "      <th>2</th>\n",
       "      <td>164</td>\n",
       "      <td>0.918296</td>\n",
       "      <td>a . We will enact central legislation on the S...</td>\n",
       "      <td>[Pledge, No Pledge, Pledge]</td>\n",
       "    </tr>\n",
       "    <tr>\n",
       "      <th>3</th>\n",
       "      <td>197</td>\n",
       "      <td>0.918296</td>\n",
       "      <td>Deployment of broadband in every village would...</td>\n",
       "      <td>[No Pledge, Pledge, No Pledge]</td>\n",
       "    </tr>\n",
       "    <tr>\n",
       "      <th>4</th>\n",
       "      <td>241</td>\n",
       "      <td>0.918296</td>\n",
       "      <td>3 . Announce a detailed Jobs Agenda to ensure ...</td>\n",
       "      <td>[No Pledge, Pledge, Pledge]</td>\n",
       "    </tr>\n",
       "    <tr>\n",
       "      <th>5</th>\n",
       "      <td>249</td>\n",
       "      <td>0.918296</td>\n",
       "      <td>The Indian National Congress has always stood ...</td>\n",
       "      <td>[Pledge, No Pledge, No Pledge]</td>\n",
       "    </tr>\n",
       "    <tr>\n",
       "      <th>6</th>\n",
       "      <td>343</td>\n",
       "      <td>0.918296</td>\n",
       "      <td>There shall be a special survey, which will be...</td>\n",
       "      <td>[Pledge, Pledge, No Pledge]</td>\n",
       "    </tr>\n",
       "    <tr>\n",
       "      <th>7</th>\n",
       "      <td>354</td>\n",
       "      <td>0.918296</td>\n",
       "      <td>The BJP will set up an experts committee to de...</td>\n",
       "      <td>[Pledge, Pledge, No Pledge]</td>\n",
       "    </tr>\n",
       "    <tr>\n",
       "      <th>8</th>\n",
       "      <td>503</td>\n",
       "      <td>0.918296</td>\n",
       "      <td>MGNREGA will also be harnessed to support the ...</td>\n",
       "      <td>[No Pledge, Pledge, No Pledge]</td>\n",
       "    </tr>\n",
       "    <tr>\n",
       "      <th>9</th>\n",
       "      <td>630</td>\n",
       "      <td>0.918296</td>\n",
       "      <td>The Indian National Congress is committed to p...</td>\n",
       "      <td>[Pledge, No Pledge, Pledge]</td>\n",
       "    </tr>\n",
       "    <tr>\n",
       "      <th>10</th>\n",
       "      <td>642</td>\n",
       "      <td>0.918296</td>\n",
       "      <td>We will increase the strength of the diplomati...</td>\n",
       "      <td>[No Pledge, Pledge, No Pledge]</td>\n",
       "    </tr>\n",
       "    <tr>\n",
       "      <th>11</th>\n",
       "      <td>700</td>\n",
       "      <td>0.918296</td>\n",
       "      <td>Working of regulatory bodies, which oversee me...</td>\n",
       "      <td>[No Pledge, Pledge, No Pledge]</td>\n",
       "    </tr>\n",
       "    <tr>\n",
       "      <th>12</th>\n",
       "      <td>948</td>\n",
       "      <td>0.918296</td>\n",
       "      <td>Congress will work with State Governments to e...</td>\n",
       "      <td>[No Pledge, Pledge, No Pledge]</td>\n",
       "    </tr>\n",
       "  </tbody>\n",
       "</table>\n",
       "</div>"
      ],
      "text/plain": [
       "    text_id   entropy                                               text  \\\n",
       "0        36  0.918296  We reach out to the minorities and even at the...   \n",
       "1       150  0.918296  The recently established National Security Cou...   \n",
       "2       164  0.918296  a . We will enact central legislation on the S...   \n",
       "3       197  0.918296  Deployment of broadband in every village would...   \n",
       "4       241  0.918296  3 . Announce a detailed Jobs Agenda to ensure ...   \n",
       "5       249  0.918296  The Indian National Congress has always stood ...   \n",
       "6       343  0.918296  There shall be a special survey, which will be...   \n",
       "7       354  0.918296  The BJP will set up an experts committee to de...   \n",
       "8       503  0.918296  MGNREGA will also be harnessed to support the ...   \n",
       "9       630  0.918296  The Indian National Congress is committed to p...   \n",
       "10      642  0.918296  We will increase the strength of the diplomati...   \n",
       "11      700  0.918296  Working of regulatory bodies, which oversee me...   \n",
       "12      948  0.918296  Congress will work with State Governments to e...   \n",
       "\n",
       "                             label  \n",
       "0   [Pledge, No Pledge, No Pledge]  \n",
       "1   [No Pledge, No Pledge, Pledge]  \n",
       "2      [Pledge, No Pledge, Pledge]  \n",
       "3   [No Pledge, Pledge, No Pledge]  \n",
       "4      [No Pledge, Pledge, Pledge]  \n",
       "5   [Pledge, No Pledge, No Pledge]  \n",
       "6      [Pledge, Pledge, No Pledge]  \n",
       "7      [Pledge, Pledge, No Pledge]  \n",
       "8   [No Pledge, Pledge, No Pledge]  \n",
       "9      [Pledge, No Pledge, Pledge]  \n",
       "10  [No Pledge, Pledge, No Pledge]  \n",
       "11  [No Pledge, Pledge, No Pledge]  \n",
       "12  [No Pledge, Pledge, No Pledge]  "
      ]
     },
     "execution_count": 10,
     "metadata": {},
     "output_type": "execute_result"
    }
   ],
   "source": [
    "instances = entropies.query('entropy > 0 and entropy < 1').merge(annotations[['text_id', 'text']].drop_duplicates(), on='text_id').sort_values('text_id')\n",
    "instances = instances.merge(annotations.groupby('text_id').agg({'label': list}).reset_index())\n",
    "instances"
   ]
  },
  {
   "cell_type": "markdown",
   "id": "2be6a045",
   "metadata": {},
   "source": [
    "#### bad agreement"
   ]
  },
  {
   "cell_type": "code",
   "execution_count": 15,
   "id": "a158a769",
   "metadata": {},
   "outputs": [
    {
     "data": {
      "text/html": [
       "<div>\n",
       "<style scoped>\n",
       "    .dataframe tbody tr th:only-of-type {\n",
       "        vertical-align: middle;\n",
       "    }\n",
       "\n",
       "    .dataframe tbody tr th {\n",
       "        vertical-align: top;\n",
       "    }\n",
       "\n",
       "    .dataframe thead th {\n",
       "        text-align: right;\n",
       "    }\n",
       "</style>\n",
       "<table border=\"1\" class=\"dataframe\">\n",
       "  <thead>\n",
       "    <tr style=\"text-align: right;\">\n",
       "      <th></th>\n",
       "      <th>text_id</th>\n",
       "      <th>entropy</th>\n",
       "      <th>text</th>\n",
       "      <th>label</th>\n",
       "    </tr>\n",
       "  </thead>\n",
       "  <tbody>\n",
       "  </tbody>\n",
       "</table>\n",
       "</div>"
      ],
      "text/plain": [
       "Empty DataFrame\n",
       "Columns: [text_id, entropy, text, label]\n",
       "Index: []"
      ]
     },
     "execution_count": 15,
     "metadata": {},
     "output_type": "execute_result"
    }
   ],
   "source": [
    "instances = entropies.query('entropy == 1.0').merge(annotations[['text_id', 'text']].drop_duplicates(), on='text_id').sort_values('text_id')\n",
    "instances = instances.merge(annotations.groupby('text_id').agg({'label': list}).reset_index())\n",
    "instances"
   ]
  }
 ],
 "metadata": {
  "kernelspec": {
   "display_name": "advanced_text_analysis_gesis_2025",
   "language": "python",
   "name": "python3"
  },
  "language_info": {
   "codemirror_mode": {
    "name": "ipython",
    "version": 3
   },
   "file_extension": ".py",
   "mimetype": "text/x-python",
   "name": "python",
   "nbconvert_exporter": "python",
   "pygments_lexer": "ipython3",
   "version": "3.11.13"
  }
 },
 "nbformat": 4,
 "nbformat_minor": 5
}
