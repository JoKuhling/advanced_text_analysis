{
 "cells": [
  {
   "cell_type": "markdown",
   "id": "a042ea1d",
   "metadata": {},
   "source": [
    "# Computing inter-annotator agreement for sentence classification tasks"
   ]
  },
  {
   "cell_type": "markdown",
   "id": "f7f823df",
   "metadata": {},
   "source": [
    "<br><a target=\"_blank\" href=\"https://colab.research.google.com/github/haukelicht/advanced_text_analysis/blob/main/notebooks/annotation/compute_ica_pledge_classification.ipynb\"><img src=\"https://colab.research.google.com/assets/colab-badge.svg\" alt=\"Open In Colab\"/></a>"
   ]
  },
  {
   "cell_type": "markdown",
   "id": "27a344a5",
   "metadata": {},
   "source": [
    "We want to compute to what extent annotators' sentence-level classifications agree with each other.\n",
    "Specifically, following Krippendorff ([2022](https://doi.org/10.4135/9781071878781.n13)) and others (see Neuendorff, [2017](https://doi.org/10.4135/9781071802878.n6)), we want to compute a _chance-adjusted_ inter-annotator agreement metric that adjusts for the probability that an agreement arises by chance.\n"
   ]
  },
  {
   "cell_type": "markdown",
   "id": "94b6627d",
   "metadata": {},
   "source": [
    "### Setup"
   ]
  },
  {
   "cell_type": "code",
   "execution_count": 20,
   "id": "9be7db86",
   "metadata": {},
   "outputs": [],
   "source": [
    "# check if on colab\n",
    "COLAB = True\n",
    "try:\n",
    "    import google.colab\n",
    "except:\n",
    "    COLAB=False\n",
    "\n",
    "if COLAB:\n",
    "    # shallow clone of current state of main branch \n",
    "    !git clone --branch main --single-branch --depth 1 --filter=blob:none https://github.com/haukelicht/advanced_text_analysis.git\n",
    "    # make repo root findable for python\n",
    "    import os, sys\n",
    "    sys.path.append(f\"{os.getcwd()}/advanced_content_analysis/\")\n",
    "    \n",
    "    # install required packages\n",
    "    !pip install krippendorff==0.8.1"
   ]
  },
  {
   "cell_type": "code",
   "execution_count": null,
   "id": "ea3d28bd",
   "metadata": {},
   "outputs": [],
   "source": [
    "from pathlib import Path\n",
    "\n",
    "import pandas as pd\n",
    "from scipy.stats import entropy\n",
    "\n",
    "from krippendorff import alpha as k_alpha\n",
    "\n",
    "data_path = \"data/labeled/fornaciari_we_2021\"\n",
    "data_path = (\"/content/advanced_text_analysis/\" if COLAB else \"../../\") + data_path\n",
    "data_path = Path(data_path)"
   ]
  },
  {
   "cell_type": "markdown",
   "id": "f8e4a028",
   "metadata": {},
   "source": [
    "## Read the annotations"
   ]
  },
  {
   "cell_type": "code",
   "execution_count": 22,
   "id": "563bf58a",
   "metadata": {},
   "outputs": [
    {
     "data": {
      "text/plain": [
       "['luisa.kutlar', 'johanneskuhling', 'lopatina']"
      ]
     },
     "execution_count": 22,
     "metadata": {},
     "output_type": "execute_result"
    }
   ],
   "source": [
    "# TODO: change `\"llms\"` to the name of your group's folder\n",
    "annotations_path = data_path / \"annotations\" / \"classification\" / \"group3\"\n",
    "\n",
    "# list all annotation files produced by doccano \n",
    "#  (each records annotations by one annotator)\n",
    "fps = list(annotations_path.glob('*.csv'))\n",
    "\n",
    "# read the annoations into a long-format DataFrame\n",
    "annotations = pd.concat({fp.stem: pd.read_csv(fp) for fp in fps}, ignore_index=False).reset_index(level=0, names=['annotator'])\n",
    "\n",
    "# list unique annotators\n",
    "annotations.annotator.unique().tolist()"
   ]
  },
  {
   "cell_type": "code",
   "execution_count": 25,
   "id": "04ecc9b0",
   "metadata": {},
   "outputs": [
    {
     "data": {
      "text/html": [
       "<div>\n",
       "<style scoped>\n",
       "    .dataframe tbody tr th:only-of-type {\n",
       "        vertical-align: middle;\n",
       "    }\n",
       "\n",
       "    .dataframe tbody tr th {\n",
       "        vertical-align: top;\n",
       "    }\n",
       "\n",
       "    .dataframe thead th {\n",
       "        text-align: right;\n",
       "    }\n",
       "</style>\n",
       "<table border=\"1\" class=\"dataframe\">\n",
       "  <thead>\n",
       "    <tr style=\"text-align: right;\">\n",
       "      <th>label</th>\n",
       "      <th>No Pledge</th>\n",
       "      <th>Pledge</th>\n",
       "    </tr>\n",
       "    <tr>\n",
       "      <th>annotator</th>\n",
       "      <th></th>\n",
       "      <th></th>\n",
       "    </tr>\n",
       "  </thead>\n",
       "  <tbody>\n",
       "    <tr>\n",
       "      <th>johanneskuhling</th>\n",
       "      <td>24</td>\n",
       "      <td>26</td>\n",
       "    </tr>\n",
       "    <tr>\n",
       "      <th>lopatina</th>\n",
       "      <td>28</td>\n",
       "      <td>22</td>\n",
       "    </tr>\n",
       "    <tr>\n",
       "      <th>luisa.kutlar</th>\n",
       "      <td>26</td>\n",
       "      <td>24</td>\n",
       "    </tr>\n",
       "  </tbody>\n",
       "</table>\n",
       "</div>"
      ],
      "text/plain": [
       "label            No Pledge  Pledge\n",
       "annotator                         \n",
       "johanneskuhling         24      26\n",
       "lopatina                28      22\n",
       "luisa.kutlar            26      24"
      ]
     },
     "execution_count": 25,
     "metadata": {},
     "output_type": "execute_result"
    }
   ],
   "source": [
    "annotations.value_counts(['annotator', 'label']).unstack(fill_value=0)"
   ]
  },
  {
   "cell_type": "markdown",
   "id": "d4c4db2e",
   "metadata": {},
   "source": [
    "## Compute inter-annotator agreement"
   ]
  },
  {
   "cell_type": "code",
   "execution_count": 31,
   "id": "eafdb7dc",
   "metadata": {},
   "outputs": [
    {
     "data": {
      "text/plain": [
       "0.6413966049382716"
      ]
     },
     "execution_count": 31,
     "metadata": {},
     "output_type": "execute_result"
    }
   ],
   "source": [
    "tmp = annotations[['annotator', 'text_id', 'label']].copy()\n",
    "tmp['label'] = (tmp['label'].str.lower()=='pledge').astype(int)\n",
    "tmp = tmp.pivot_table(index='annotator', columns='text_id', values='label').fillna(0).astype(int)\n",
    "k_alpha(tmp.values, level_of_measurement='nominal')"
   ]
  },
  {
   "cell_type": "markdown",
   "id": "18c1148a",
   "metadata": {},
   "source": [
    "Krippendorff (cited in Neuendorff, 2017) names the following standards\n",
    "\n",
    "- Rely only on variables with reliabilities above α = .800.\n",
    "- Consider variables with reliabilities between α = .667 and α = .800 only for drawing tentative conclusions."
   ]
  },
  {
   "cell_type": "markdown",
   "id": "f2c314f9",
   "metadata": {},
   "source": [
    "## Sentence-level disagreement analysis"
   ]
  },
  {
   "cell_type": "code",
   "execution_count": null,
   "id": "e27f918e",
   "metadata": {},
   "outputs": [
    {
     "name": "stdout",
     "output_type": "stream",
     "text": [
      "perfect agreement\n",
      " - on positive label: entropy = 0.000\n",
      " - on negative label: entropy = 0.000\n",
      "some agreement:\n",
      " - on positive label: entropy = 0.811\n",
      " - on negative label: entropy = 0.811\n",
      "no agreement (tied):  entropy = 1.000\n"
     ]
    }
   ],
   "source": [
    "def compute_entropy(x: pd.Series) -> float:\n",
    "    \"\"\"Compute entropy of a value counts series.\"\"\"\n",
    "    return entropy(x.value_counts(normalize=True).values, base=2)\n",
    "\n",
    "print(\"perfect agreement\")\n",
    "print(f\" - on positive label: entropy = {compute_entropy(pd.Series(['Pledge']*4)):.03f}\")\n",
    "print(f\" - on negative label: entropy = {compute_entropy(pd.Series(['No Pledge']*4)):.03f}\")\n",
    "print('some agreement:')\n",
    "print(f\" - on positive label: entropy = {compute_entropy(pd.Series(['Pledge']*3 + ['No Pledge']*1)):.03f}\")\n",
    "print(f\" - on negative label: entropy = {compute_entropy(pd.Series(['Pledge']*1 + ['No Pledge']*3)):.03f}\")\n",
    "print(f\"no agreement (tied):  entropy = {compute_entropy(pd.Series(['Pledge', 'No Pledge']*2)):.03f}\")"
   ]
  },
  {
   "cell_type": "code",
   "execution_count": 7,
   "id": "a25df068",
   "metadata": {},
   "outputs": [],
   "source": [
    "entropies = annotations.groupby('text_id').agg({'label': compute_entropy}).reset_index().rename(columns={'label': 'entropy'})"
   ]
  },
  {
   "cell_type": "code",
   "execution_count": 8,
   "id": "642b58c7",
   "metadata": {},
   "outputs": [
    {
     "data": {
      "text/plain": [
       "entropy\n",
       "0.000000    39\n",
       "0.811278     7\n",
       "1.000000     4\n",
       "Name: count, dtype: int64"
      ]
     },
     "execution_count": 8,
     "metadata": {},
     "output_type": "execute_result"
    }
   ],
   "source": [
    "entropies.entropy.value_counts(dropna=False)"
   ]
  },
  {
   "cell_type": "markdown",
   "id": "63f38310",
   "metadata": {},
   "source": [
    "- There is perfect agreement in 39 out of 50 cases.\n",
    "- There is some disagreement in 7 cases.\n",
    "- There is complete disagreement in 4 cases.\n"
   ]
  },
  {
   "cell_type": "markdown",
   "id": "b81543e9",
   "metadata": {},
   "source": [
    "#### poor agreement instances"
   ]
  },
  {
   "cell_type": "code",
   "execution_count": null,
   "id": "b52ac971",
   "metadata": {},
   "outputs": [
    {
     "name": "stdout",
     "output_type": "stream",
     "text": [
      "We will also introduce a multi - purpose identity card for all citizens .\n",
      "More specialist battalions will be raised and positioned in key locations across the country .\n",
      "A raw material use policy will be unveiled in the mines sector .\n",
      "A national programme will be launched, in cooperation with State Governments, to provide bicycles to girls from Below Poverty Line Families who attend school .\n",
      "Make potable drinking water available to all thus reducing water - borne diseases, which will automatically translate into Diarrhoea - free India .\n",
      "Reservations for the poor among ‘Forward Classes’ will be introduced after receiving recommendations of the Commission set up for this purpose .\n",
      "The number of courts and the number of judges will be doubled in five years for quicker judicial process .\n"
     ]
    }
   ],
   "source": [
    "instances = entropies.query('entropy > 0 and entropy < 1').merge(annotations[['text_id', 'text']].drop_duplicates(), on='text_id').sort_values('text_id')\n",
    "print(*instances.text.tolist(), sep='\\n')"
   ]
  },
  {
   "cell_type": "markdown",
   "id": "2be6a045",
   "metadata": {},
   "source": [
    "#### bad agreement"
   ]
  },
  {
   "cell_type": "code",
   "execution_count": 9,
   "id": "a158a769",
   "metadata": {},
   "outputs": [
    {
     "name": "stdout",
     "output_type": "stream",
     "text": [
      "India’s indigenous thorium technology programme will be expedited and given all financial assistance, correcting the grievous wrong done by the UPA Government .\n",
      "Immediately after forming the governments in Chhattisgarh, Madhya Pradesh and Rajasthan, as promised, the 3 Congress Governments waived the loans of farmers .\n",
      "New middle - level technical institutes in clusters where, for example, weavers and artisans are concentrated, will be started .\n",
      "The Congress will identify those environmental management functions that could be delegated to the states and local bodies .\n"
     ]
    }
   ],
   "source": [
    "instances = entropies.query('entropy == 1.0').merge(annotations[['text_id', 'text']].drop_duplicates(), on='text_id').sort_values('text_id')\n",
    "print(*instances.text.tolist(), sep='\\n')"
   ]
  }
 ],
 "metadata": {
  "kernelspec": {
   "display_name": "advanced_text_analysis_gesis_2025",
   "language": "python",
   "name": "python3"
  },
  "language_info": {
   "codemirror_mode": {
    "name": "ipython",
    "version": 3
   },
   "file_extension": ".py",
   "mimetype": "text/x-python",
   "name": "python",
   "nbconvert_exporter": "python",
   "pygments_lexer": "ipython3",
   "version": "3.11.13"
  }
 },
 "nbformat": 4,
 "nbformat_minor": 5
}
