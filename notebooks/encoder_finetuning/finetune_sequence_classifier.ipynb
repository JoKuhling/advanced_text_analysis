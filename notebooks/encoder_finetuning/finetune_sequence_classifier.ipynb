{
  "cells": [
    {
      "cell_type": "markdown",
      "metadata": {
        "id": "Ir3lSVnKCprH"
      },
      "source": [
        "# Fine-tune transformer model for text (sequence) classification\n",
        "\n",
        "This notebook shows a minimal working example of how to **fine-tune a transformer model** for sequence classification.\n",
        "**Sequence classification** refers to the task of assigning a label to a sequence (of tokens).\n",
        "In our case, the sequence is a sentence (sequence of words).\n",
        "\n",
        "<br>\n",
        "<a target=\"_blank\" href=\"https://colab.research.google.com/github/haukelicht/advanced_text_analysis/blob/main/notebooks/encoder_finetuning/finetune_sequence_classifier.ipynb\"><img src=\"https://colab.research.google.com/assets/colab-badge.svg\" alt=\"Open In Colab\"/></a>"
      ]
    },
    {
      "cell_type": "markdown",
      "metadata": {},
      "source": [
        "#### Ingredients for supervised text classification\n",
        "\n",
        "- a pre-trained transformer (encoder) model\n",
        "- labeled data &rArr; split into train/dev/test sets:\n",
        "  - _training_ set is used for actually finetuning\n",
        "  - _dev_ set is held-out and used (i) to monitor model performance during training and (ii) for picking the best model at the end\n",
        "  - _test_ set is held-out and never seen during training\n",
        "- loss function for measuring model's classification error\n",
        "- optimizer (handles the parameter updating)\n",
        "- evaluation metric (and a function that computes it) for quantifying model performance in held-out data in a human-interpretable and comparable way\n",
        "\n",
        "#### Workflow\n",
        "\n",
        "The focus in this notebook lies on the **general workflow**:\n",
        "\n",
        "1. Load the labeled text dataset\n",
        "1. Split the dataset into train, dev, and test splits\n",
        "1. Tokenize the texts in each split\n",
        "1. Define the evaluation metrics that quantify model performance\n",
        "1. Prepare the model for fine-tuning\n",
        "1. Setup a `Trainer` that handles the model fine-tuning\n",
        "1. Use the `Trainer` to fine-tune on the training split examples, using the dev set examples to monitor performace\n",
        "1. Evaluate on the fine-tuned model in the test set"
      ]
    },
    {
      "cell_type": "markdown",
      "metadata": {
        "id": "wWU8VhUbCprI"
      },
      "source": [
        "## Setup"
      ]
    },
    {
      "cell_type": "markdown",
      "metadata": {},
      "source": [
        "**Note:** If running on Google Colab, make sure to use a GPU runtime (go to Runtime > Change runtime type, select \"T4 GPU\", and click save)\n"
      ]
    },
    {
      "cell_type": "code",
      "execution_count": 1,
      "metadata": {
        "colab": {
          "base_uri": "https://localhost:8080/"
        },
        "id": "Ea-uwgLtCprI",
        "outputId": "5c62a8ea-350d-447a-8947-f6a27f71e8e3"
      },
      "outputs": [],
      "source": [
        "# check if on colab\n",
        "COLAB = True\n",
        "try:\n",
        "    import google.colab\n",
        "except:\n",
        "    COLAB=False\n",
        "\n",
        "if COLAB:\n",
        "    # shallow clone of current state of main branch \n",
        "    !git clone --branch main --single-branch --depth 1 --filter=blob:none https://github.com/haukelicht/advanced_text_analysis.git\n",
        "    \n",
        "    # make repo root findable for python\n",
        "    import sys\n",
        "    sys.path.append(\"/content/advanced_text_analysis/\")\n",
        "    \n",
        "    # install required packages\n",
        "    !pip install -q seqeval~=1.2.2"
      ]
    },
    {
      "cell_type": "markdown",
      "metadata": {
        "id": "6FLEHcmNCprJ"
      },
      "source": [
        "Next, we load the required modules, classes, and functions.\n",
        "\n",
        "Note that some function come from the `src/` folder.\n",
        "These are functions I have defined to handle general tasks, like\n",
        "\n",
        "- reading data from a tabular file (e.g., CV);\n",
        "- splitting the data into train, dev, and test split;\n",
        "- tokenization,\n",
        "- etc.\n",
        "\n",
        "These functions should be general enough for many use cases.\n",
        "You can use them in your researhc if you want.\n",
        "But please double check that they do what you want them to do if you want to publish results that depend on my code ;)"
      ]
    },
    {
      "cell_type": "code",
      "execution_count": 2,
      "metadata": {
        "id": "A-gcjricCprJ"
      },
      "outputs": [],
      "source": [
        "from pathlib import Path\n",
        "import pandas as pd\n",
        "\n",
        "from src.utils.io import read_tabular\n",
        "from src.finetuning import (\n",
        "    split_data,\n",
        "    create_sequence_classification_dataset,\n",
        "    preprocess_sequence_classification_dataset\n",
        ")\n",
        "\n",
        "import torch\n",
        "from datasets import DatasetDict\n",
        "from transformers import (\n",
        "    set_seed,\n",
        "    AutoTokenizer,\n",
        "    DataCollatorWithPadding,\n",
        "    AutoModelForSequenceClassification,\n",
        "    Trainer,\n",
        "    TrainingArguments\n",
        ")\n",
        "\n",
        "from src.metrics import (\n",
        "    parse_sequence_classifier_prediction_output,\n",
        "    compute_sequence_classification_metrics_binary\n",
        ")"
      ]
    },
    {
      "cell_type": "code",
      "execution_count": 3,
      "metadata": {},
      "outputs": [
        {
          "data": {
            "text/plain": [
              "device(type='cuda')"
            ]
          },
          "execution_count": 3,
          "metadata": {},
          "output_type": "execute_result"
        }
      ],
      "source": [
        "# check which device is available\n",
        "device = torch.device('cuda' if torch.cuda.is_available() else 'mps' if torch.backends.mps.is_available() else 'cpu')\n",
        "device"
      ]
    },
    {
      "cell_type": "code",
      "execution_count": 4,
      "metadata": {
        "colab": {
          "base_uri": "https://localhost:8080/"
        },
        "id": "JPzT_KDMCprK",
        "outputId": "19100bad-bbe4-4b23-e828-62b68b2c5184"
      },
      "outputs": [],
      "source": [
        "MODEL_NAME = 'answerdotai/ModernBERT-base'"
      ]
    },
    {
      "cell_type": "code",
      "execution_count": 5,
      "metadata": {
        "id": "izr8iCElCprJ"
      },
      "outputs": [],
      "source": [
        "SEED = 42\n",
        "set_seed(SEED)"
      ]
    },
    {
      "cell_type": "code",
      "execution_count": 6,
      "metadata": {},
      "outputs": [],
      "source": [
        "base_path = Path(\"/content/advanced_text_analysis/\" if COLAB else \"../../\")\n",
        "data_path = base_path / \"data/labeled/fornaciari_we_2021\""
      ]
    },
    {
      "cell_type": "markdown",
      "metadata": {
        "id": "pk4fZYHuCprK"
      },
      "source": [
        "## Load and prepare the data"
      ]
    },
    {
      "cell_type": "code",
      "execution_count": 7,
      "metadata": {
        "id": "o5J5WokECprL"
      },
      "outputs": [],
      "source": [
        "fp = data_path / \"fornaciari_we_2021-pledge_binary.tsv\"\n",
        "if not fp.exists():\n",
        "    url = \"https://cta-text-datasets.s3.eu-central-1.amazonaws.com/labeled/fornaciari_we_2021/fornaciari_we_2021-pledge_binary.tsv\"\n",
        "    df = pd.read_csv(url, sep=\"\\t\")\n",
        "    fp.parent.mkdir(parents=True, exist_ok=True)\n",
        "    df.to_csv(fp, sep=\"\\t\", index=False)"
      ]
    },
    {
      "cell_type": "code",
      "execution_count": 8,
      "metadata": {},
      "outputs": [],
      "source": [
        "df = read_tabular(str(fp), columns=['text', 'label'])"
      ]
    },
    {
      "cell_type": "code",
      "execution_count": 9,
      "metadata": {
        "colab": {
          "base_uri": "https://localhost:8080/"
        },
        "id": "pDYDtt4HCprL",
        "outputId": "e048d82c-194c-483b-8ce0-a62d73f90353"
      },
      "outputs": [
        {
          "data": {
            "text/plain": [
              "5663"
            ]
          },
          "execution_count": 9,
          "metadata": {},
          "output_type": "execute_result"
        }
      ],
      "source": [
        "# number of rows\n",
        "len(df)"
      ]
    },
    {
      "cell_type": "code",
      "execution_count": 10,
      "metadata": {},
      "outputs": [],
      "source": [
        "id2label = {0: 'no-pledge', 1: 'pledge'}"
      ]
    },
    {
      "cell_type": "code",
      "execution_count": 11,
      "metadata": {},
      "outputs": [],
      "source": [
        "df.label = df.label.map(id2label)"
      ]
    },
    {
      "cell_type": "code",
      "execution_count": 12,
      "metadata": {},
      "outputs": [
        {
          "data": {
            "text/plain": [
              "label\n",
              "no-pledge    0.749779\n",
              "pledge       0.250221\n",
              "Name: proportion, dtype: float64"
            ]
          },
          "execution_count": 12,
          "metadata": {},
          "output_type": "execute_result"
        }
      ],
      "source": [
        "df.label.value_counts(normalize=True)"
      ]
    },
    {
      "cell_type": "code",
      "execution_count": 13,
      "metadata": {
        "id": "aZLfDeJjCprM"
      },
      "outputs": [],
      "source": [
        "# create a dev and train split from the original train set\n",
        "data_splits = split_data(df, dev_size=0.10, test_size=0.15, seed=SEED, stratify_by='label', return_dict=True)"
      ]
    },
    {
      "cell_type": "code",
      "execution_count": 14,
      "metadata": {},
      "outputs": [
        {
          "data": {
            "text/plain": [
              "dict_keys(['train', 'dev', 'test'])"
            ]
          },
          "execution_count": 14,
          "metadata": {},
          "output_type": "execute_result"
        }
      ],
      "source": [
        "data_splits.keys()"
      ]
    },
    {
      "cell_type": "markdown",
      "metadata": {
        "id": "SI7V35qjw5EJ"
      },
      "source": [
        "**Note:**\n",
        "stratification by the label class indicator, as enabled by `stratify_by='label'`, ensures that the label class distributions are equal across the train, dev, and test sets.\n",
        "See the definition of `split_data` function in file \"./utils/finetuning.py\" for details"
      ]
    },
    {
      "cell_type": "code",
      "execution_count": 15,
      "metadata": {},
      "outputs": [
        {
          "data": {
            "text/plain": [
              "dict_keys(['train', 'dev', 'test'])"
            ]
          },
          "execution_count": 15,
          "metadata": {},
          "output_type": "execute_result"
        }
      ],
      "source": [
        "# this contains the data splits\n",
        "data_splits.keys()"
      ]
    },
    {
      "cell_type": "markdown",
      "metadata": {},
      "source": [
        "Let's create a `label2id` dictionary that maps label class names to classes' numeric indicators (and `id2label` *vice vers*)."
      ]
    },
    {
      "cell_type": "code",
      "execution_count": 16,
      "metadata": {
        "id": "0GkK4klACprM"
      },
      "outputs": [
        {
          "data": {
            "text/plain": [
              "{'no-pledge': 0, 'pledge': 1}"
            ]
          },
          "execution_count": 16,
          "metadata": {},
          "output_type": "execute_result"
        }
      ],
      "source": [
        "# note: always do this on the train split (the model can only be expected to predict classes it also sees during training)\n",
        "label2id = {l: i for i, l in enumerate(data_splits['train'].label.value_counts().keys())}\n",
        "id2label = {i: l for l, i in label2id.items()}\n",
        "label2id"
      ]
    },
    {
      "cell_type": "code",
      "execution_count": 17,
      "metadata": {
        "id": "0l-hHT8eCprM"
      },
      "outputs": [],
      "source": [
        "# note: here I am converting the data frames to dataset objects with my custom `create_sequence_classification_dataset` function from utils.finetuning\n",
        "data_splits = DatasetDict({s: create_sequence_classification_dataset(df) for s, df in data_splits.items()})"
      ]
    },
    {
      "cell_type": "code",
      "execution_count": 18,
      "metadata": {},
      "outputs": [
        {
          "data": {
            "text/plain": [
              "dict_keys(['train', 'dev', 'test'])"
            ]
          },
          "execution_count": 18,
          "metadata": {},
          "output_type": "execute_result"
        }
      ],
      "source": [
        "# this contains the three splits\n",
        "data_splits.keys()"
      ]
    },
    {
      "cell_type": "code",
      "execution_count": 19,
      "metadata": {
        "colab": {
          "base_uri": "https://localhost:8080/"
        },
        "id": "aIROc_mkSsjd",
        "outputId": "4878b2ce-f62c-44ed-f94d-849e60670e3e"
      },
      "outputs": [
        {
          "data": {
            "text/plain": [
              "{'text': 'This requires that we look at transport connection, heritage conservation, hotels, restaurants, entertainment and other services in an integrated way .',\n",
              " 'label': 'no-pledge'}"
            ]
          },
          "execution_count": 19,
          "metadata": {},
          "output_type": "execute_result"
        }
      ],
      "source": [
        "# each is a list of dictionaries\n",
        "# the first one from the train split looks like this\n",
        "data_splits['train'][0]"
      ]
    },
    {
      "cell_type": "code",
      "execution_count": 20,
      "metadata": {
        "colab": {
          "base_uri": "https://localhost:8080/",
          "height": 328,
          "referenced_widgets": [
            "c254cb1b21774f8d8fab7f2e30adeaa9",
            "24c666aae4104bc9ae50908ffa2d272b",
            "e13a1efe740e40298516ce6c8776a0c9",
            "5bf47b4e05ae450896a3e69295e6d6a5",
            "f6b3f8f83c5c4fbcbaceba2791271172",
            "81ef05a011db492a853b86149f0b862c",
            "beeb4b1c71c6432db5c8a6b18de3fb49",
            "422692115c6c43d0aa83c42fdbfefb3c",
            "6ac26a5d3a9148f7ad35a2848e56b948",
            "d5fb89586f364742a7ef039d541c8273",
            "cdd646de0e9c46d994f1410a5cfc583d",
            "47498fc20e0a403085253e290dc062d7",
            "504aa9e9aebd4249b6b1eeb43e21bdcc",
            "31aa4159b4e9464ba082e2508b6f307d",
            "c7e2963d34e84d4ca3b3d326431f2554",
            "f9ce4837d87046e1997f95aeab8b18b5",
            "74067a2a1ebe46a99b271d70af83c9e1",
            "c1b1ebd728f04c0e8e5024c9e6025018",
            "b35df91dd8a44296adf68f9627c3cff5",
            "d3aff28179a0456da433093810ef7de5",
            "97736ee8608f4322ac91e9b23be318f6",
            "9d779ea2520a495488802d0a9ce244b3",
            "964db22111d5422282fd3427b89e9a4a",
            "a26324dec5f04a80985dab5217605bd9",
            "7c44d3cf88e04f95ae54d9670e4e86e9",
            "942b2eb1136647c49421dce94bc6280c",
            "12fb44637f4b4d41a7ade62419c67256",
            "4620fffa2ead4e499d7e602c0193fd64",
            "a4ab2835c445461db604456aab54f300",
            "ed36cb5568514abaa6871bc5ff3c5f85",
            "a2333f4e35f94f6bbf4a5c06f9f3ea0e",
            "adcfcc9d01bd4923bfcb7cbc5cb54af3",
            "278e194174ad4a57960142f60509e48a",
            "1a4a451c2f1643849ef12b8011417a37",
            "46808ab7c4ac490690ba0631d0410cbc",
            "60da037274ab43c78ed87d877f2dafd9",
            "38ca8c13bc2c48ccaccaa1d2e6645220",
            "2f033cb25eff4dee8b7fb070d2342f0e",
            "b680ca8bc9bf4d1c86f537bf7b531080",
            "d75de3e4322245fc8681246682e4d45a",
            "580c4aaece354e5183aaf28641127db2",
            "96592f39670a4b919fbaad159dca164c",
            "7e9885f961874ef899db51aced6063e4",
            "b62b976d51f54cf08c2a62dceb8e4337",
            "84c474a527d844d2a3a23f087f2bba38",
            "eaa63e010a1c48c0b0df90ffa4264b55",
            "36ffa23441e24ef68b89d6b0e0d8f167",
            "04bd9f1c12c7410098de1cbc951633a7",
            "bd7db62b81644a0e8eaacfc688ebb532",
            "1a73bb82194242a7986b035b56b1e921",
            "699c76a9dae346a09ea8bb6ae40f6490",
            "abdcc7cac97e413cb8b1a3c31103e837",
            "605fcfa35f5041f9840aa4de82b1de65",
            "dcdf72a5ccd34affb372f36e82451e2a",
            "65397a37add641d29de6ad17b2afa79e",
            "be08dc417dd142fa948bf0a121df7d9f",
            "7ac87a6301cf457980cd1685baa6691d",
            "46acf69f70834d1b989b694aeffeee6c",
            "97e3837887024d0fa22c87d454e8d8f2",
            "28fabd63b1394cb09acbcc20c7dce5fa",
            "0480645382084911af2f986bf9d44956",
            "4e9d3bce6ffa497fa52d2c6e18b4fa25",
            "eeec4180183f4ff1b41478e903f1ebcf",
            "8c410981362f43b7b961bf8418735bed",
            "7bdaff469f3f42dcaa1e0d0f30beebe3",
            "7acd4e7d24c94027af2b613d13582cc8",
            "e8ac30a8835146d3946e0905ba220979",
            "1faae12cd4c349d081eac3242fe9dbe1",
            "ae80fbedb05a4661814ab7f204fcedb3",
            "4e74491b86f4456d9f4c1dd622f0540b",
            "46d3f22759fc414c9f52bdee0532bd07",
            "3e964fe34878485f9c6f72d78be7e1ff",
            "56304f46350a4c1da0902da41273a2cd",
            "80b45979ec144d3b9ee3bb9d55d0e223",
            "9ce9b4204a744554b6f9ff65d6939b3f",
            "71f0b5db541440808be59ba9ec98e39f",
            "8eb79ebd75c0463dafa35c6aee815077",
            "9a54d0262a954baa916939cf7c1d49bb",
            "7dc7bf0a1c8f485ab74cbfb2b42cc92f",
            "0f4d7b6ac4024605907d6807e8fed005",
            "d784bb89c7ba4eda84365f699736362b",
            "eab2cc887dc14ea18db5c553e9443e18",
            "c6cfa65db5b040e58623d23d92fc44e2",
            "5f70bbe300fd40feb7aa41920131a607",
            "179d97eb2df54d3aaf0e32b2eecd7bf0",
            "c1838fbdf8fa4f01b2cffb72e06f7fff",
            "b3a1502c68154379a2fd4e757cb9943b",
            "d6efc66725fd4f478f4a0dc1c8834e99"
          ]
        },
        "id": "pKWITc8iCprM",
        "outputId": "25edb51e-0ee6-442f-8481-e1a03cb8ec5e"
      },
      "outputs": [
        {
          "data": {
            "application/vnd.jupyter.widget-view+json": {
              "model_id": "df93e0aabec640e0be0ce5f81665ab03",
              "version_major": 2,
              "version_minor": 0
            },
            "text/plain": [
              "Map:   0%|          | 0/4248 [00:00<?, ? examples/s]"
            ]
          },
          "metadata": {},
          "output_type": "display_data"
        },
        {
          "data": {
            "application/vnd.jupyter.widget-view+json": {
              "model_id": "7555751e3ace44eb952e9edc4e2152c8",
              "version_major": 2,
              "version_minor": 0
            },
            "text/plain": [
              "Map:   0%|          | 0/566 [00:00<?, ? examples/s]"
            ]
          },
          "metadata": {},
          "output_type": "display_data"
        },
        {
          "data": {
            "application/vnd.jupyter.widget-view+json": {
              "model_id": "82c825ba3f614e4cb03d9bf704d058cb",
              "version_major": 2,
              "version_minor": 0
            },
            "text/plain": [
              "Map:   0%|          | 0/849 [00:00<?, ? examples/s]"
            ]
          },
          "metadata": {},
          "output_type": "display_data"
        }
      ],
      "source": [
        "tokenizer = AutoTokenizer.from_pretrained(MODEL_NAME, use_fast=True)\n",
        "data_splits = data_splits.map(lambda x: preprocess_sequence_classification_dataset(x, tokenizer=tokenizer, label2id=label2id, truncation=True), batched=True)"
      ]
    },
    {
      "cell_type": "code",
      "execution_count": 21,
      "metadata": {
        "id": "AEJlwEfOCprM"
      },
      "outputs": [],
      "source": [
        "data_splits = data_splits.remove_columns(['text', 'label'])\n",
        "data_splits.set_format('torch')"
      ]
    },
    {
      "cell_type": "code",
      "execution_count": 22,
      "metadata": {
        "colab": {
          "base_uri": "https://localhost:8080/"
        },
        "id": "mZCCfR_ITFza",
        "outputId": "2c042676-188f-4b15-98e5-387ec590e88c"
      },
      "outputs": [
        {
          "data": {
            "text/plain": [
              "{'input_ids': tensor([50281,  1552,  4419,   326,   359,  1007,   387,  4616,  4602,    13,\n",
              "         21904, 14144,    13, 21440,    13, 15114,    13, 14608,   285,   643,\n",
              "          3238,   275,   271,  8527,  1039,   964, 50282]),\n",
              " 'attention_mask': tensor([1, 1, 1, 1, 1, 1, 1, 1, 1, 1, 1, 1, 1, 1, 1, 1, 1, 1, 1, 1, 1, 1, 1, 1,\n",
              "         1, 1, 1]),\n",
              " 'labels': tensor(0)}"
            ]
          },
          "execution_count": 22,
          "metadata": {},
          "output_type": "execute_result"
        }
      ],
      "source": [
        "data_splits['train'][0]"
      ]
    },
    {
      "cell_type": "code",
      "execution_count": 23,
      "metadata": {
        "colab": {
          "base_uri": "https://localhost:8080/"
        },
        "id": "-InPL-A4T4iz",
        "outputId": "fa4264df-a0c2-4a79-d39c-1f0b2703ed83"
      },
      "outputs": [
        {
          "data": {
            "text/plain": [
              "['[CLS]',\n",
              " 'This',\n",
              " 'Ġrequires',\n",
              " 'Ġthat',\n",
              " 'Ġwe',\n",
              " 'Ġlook',\n",
              " 'Ġat',\n",
              " 'Ġtransport',\n",
              " 'Ġconnection',\n",
              " ',',\n",
              " 'Ġheritage',\n",
              " 'Ġconservation',\n",
              " ',',\n",
              " 'Ġhotels',\n",
              " ',',\n",
              " 'Ġrestaurants',\n",
              " ',',\n",
              " 'Ġentertainment',\n",
              " 'Ġand',\n",
              " 'Ġother',\n",
              " 'Ġservices',\n",
              " 'Ġin',\n",
              " 'Ġan',\n",
              " 'Ġintegrated',\n",
              " 'Ġway',\n",
              " 'Ġ.',\n",
              " '[SEP]']"
            ]
          },
          "execution_count": 23,
          "metadata": {},
          "output_type": "execute_result"
        }
      ],
      "source": [
        "tokenizer.convert_ids_to_tokens(data_splits['train'][0]['input_ids'])"
      ]
    },
    {
      "cell_type": "markdown",
      "metadata": {
        "id": "sJRHdBkGxXQI"
      },
      "source": [
        "**Note:** the weird 'Ġ' prepended to tokens is the character the model tokenizer uses to indicate that the token is preceeded by a white space (see the second token at the beginning of the sentence, which hence lacks this character)."
      ]
    },
    {
      "cell_type": "markdown",
      "metadata": {
        "id": "LPOljvktCprM"
      },
      "source": [
        "## Prepare the model for fine-tuning with a `Trainer`"
      ]
    },
    {
      "cell_type": "markdown",
      "metadata": {
        "id": "QzkVKkM7CprM"
      },
      "source": [
        "First, we define the `model_init` function that instantiates a pre-trained model with a sequence classification head that can be  fine-tuned.\n",
        "We will pass this function to the trainer instead of the model itself.\n",
        "The reason for this is that it ensures that everytime we call `trainer.train()` below, we start with a fresh model (i.e., no continued fine-tuning)."
      ]
    },
    {
      "cell_type": "code",
      "execution_count": 24,
      "metadata": {
        "id": "Q_7tbvlRCprM"
      },
      "outputs": [],
      "source": [
        "def model_init():\n",
        "    \"\"\"Function to instantiate a fine-tunable sequence classification model\"\"\"\n",
        "    # load fresh model (i.e., pre-trained encoder weights but randomly initialized classification layer weights)\n",
        "    model = AutoModelForSequenceClassification.from_pretrained(MODEL_NAME, num_labels=len(label2id))\n",
        "    if model.config.problem_type is None:\n",
        "        model.config.problem_type = 'single_label_classification'\n",
        "    if isinstance(id2label[0], str):\n",
        "        model.config.id2label = id2label\n",
        "        model.config.label2id = label2id\n",
        "    model = model.to(device)\n",
        "    return model"
      ]
    },
    {
      "cell_type": "markdown",
      "metadata": {
        "id": "ivLwNz74CprM"
      },
      "source": [
        "Next, we define a `compute_metrics` function.\n",
        "This function is there for evaluating predicted against observed labels in some held-out data (the dev split during fine-tuning and the test split afterwards).\n",
        "My implementation reports standard metrics for binary classification (precision, recall, F1-score).\n",
        "\n",
        "If you want to adapt it,\n",
        "\n",
        "- keep the first row and work with the observed and predicted labels (`labels` and `predictions`)\n",
        "- return a dictionary that reports evaluation metrics"
      ]
    },
    {
      "cell_type": "code",
      "execution_count": 25,
      "metadata": {
        "id": "Sya-WRQCCprM"
      },
      "outputs": [],
      "source": [
        "def compute_metrics(p):\n",
        "    labels, predictions = parse_sequence_classifier_prediction_output(p)\n",
        "    return compute_sequence_classification_metrics_binary(y_true=labels, y_pred=predictions)"
      ]
    },
    {
      "cell_type": "markdown",
      "metadata": {
        "id": "gQq_Kx62CprN"
      },
      "source": [
        "Next, we define the **training arguments**.\n",
        "I have added comments to group arguments based on what they are there for.\n",
        "Here some explanation:\n",
        "\n",
        "- *hyperparameters*: they govern how the model learns from the training data\n",
        "    - `optim`: name of optimization algorithm (handles parameter updating)\n",
        "    - `num_train_epochs`: Number of iterations over all training examples\n",
        "    - `per_device_train_batch_size`: Number of examples grouped per updating step\n",
        "- *evaluation*\n",
        "    - `eval_strategy`: when to evaluate (`'epoch'` means after each epoch, i.e., after every completed iteration over all training split examples)\n",
        "- *model saving:*\n",
        "    - `metric_for_best_model`: When we evaluate at the end of each epoch ( see `eval_strategy`), we get one \"checkpoint\" per epoch. `metric_for_best_model` names the metric that is used to determine which of two models checkpoints performed better in the held-out dev split examples. **Important:** The name must be in the dictionary returned by the `compute_metrics` finction (see below)\n",
        "    - `load_best_model_at_end`: Whether or not to load the best model (judged based on `metric_for_best_model`) should be loaded when finetuning ends. `True` (recommended) means that the `trainer` represents the best model instance (judged based on the `metric_for_best_model` metric, e.g. F1, in the dev split examples).\n",
        "    - `save_total_limit` determines how many checkpoints to save at most. Note that each model checkpoint will have several GB. So set this to a low number (e.g., 2) to avoid spamming your computer. **Important:** Setting this to 2 is the minimal required value if you set `load_best_model_at_end=True`\n",
        "    \n",
        "\n"
      ]
    },
    {
      "cell_type": "code",
      "execution_count": 26,
      "metadata": {},
      "outputs": [],
      "source": [
        "model_folder = base_path / \"models\" / \"classifiers\" / \"fornaciari_we_2021\"\n",
        "model_folder.mkdir(parents=True, exist_ok=True)"
      ]
    },
    {
      "cell_type": "code",
      "execution_count": 27,
      "metadata": {
        "id": "H2q5IlSLCprN"
      },
      "outputs": [],
      "source": [
        "# path to folder where model checkpoints and finetuning logs will be saved\n",
        "training_args = TrainingArguments(\n",
        "    output_dir=model_folder,\n",
        "    logging_dir=model_folder / 'logs',\n",
        "    # hyperparameters\n",
        "    num_train_epochs=10,\n",
        "    per_device_train_batch_size=16,\n",
        "    gradient_accumulation_steps=1,\n",
        "    per_device_eval_batch_size=32,\n",
        "    optim='adamw_torch',\n",
        "    # use_mps_device=str(device)=='mps', # uncomment this when using older version of `transformers` library\n",
        "    fp16=str(device).startswith('cuda'),\n",
        "    # evaluation on dev set\n",
        "    eval_strategy='epoch',\n",
        "    # model saving\n",
        "    metric_for_best_model='f1', # use 'f1_macro' for multiclass classification\n",
        "    greater_is_better=True,\n",
        "    save_strategy='epoch',\n",
        "    load_best_model_at_end=True,\n",
        "    save_total_limit=2,\n",
        "    # logging\n",
        "    logging_strategy='epoch',\n",
        "    # for reproducibility\n",
        "    seed=SEED,\n",
        "    data_seed=SEED,\n",
        "    full_determinism=True,\n",
        "    # turn off logging to wandb or other backends\n",
        "    report_to=\"none\" \n",
        ")"
      ]
    },
    {
      "cell_type": "markdown",
      "metadata": {
        "id": "0o-bAnP_xtzH"
      },
      "source": [
        "**Note:** We can choose different batch sizes for the training and dev (`eval`) splits because during training, both the data and the optimizer require space in GPU memory (because the optimizer needs to compute gradients and back-propagate them for parameter updating). When evaluation time, we only need to fit the data, hence more space."
      ]
    },
    {
      "cell_type": "markdown",
      "metadata": {
        "id": "MyDVXbrUyb9t"
      },
      "source": [
        "**Note:** Why do we set `save_total_limit` to 2?\n",
        "AS indicated by `save_strategy='epoch'`, we save the current version of the finetuned model after each epoch.\n",
        "Further, we set `load_best_model_at_end=True`, which means we want to load the model with the best performance (according to `metric_for_best_model`) after completing all epochs.\n",
        "To know which model was best, we need ot **save at least 2** models.\n",
        "Why? After the third epoch, we have already saved two model checkpoints from epoch one and two.\n",
        "If the model checkpoint from the third might have performed worse than those, we can delete it.\n",
        "If not, we can delete the worst one among the other two model checkpoints.\n",
        "So we always only keep two checkpoints at the same time."
      ]
    },
    {
      "cell_type": "markdown",
      "metadata": {},
      "source": [
        "Next, we create a [callback](https://huggingface.co/docs/transformers/en/main_classes/callback) that tracks the `metric_for_best_model` metric (the F1 score in the dev set) during finetuning and stops early if \n",
        "\n",
        "- the F1 score doesn't improve by more the 2 points (see `early_stopping_threshold`)\n",
        "- within 3 epochs (see `early_stopping_patience`)"
      ]
    },
    {
      "cell_type": "code",
      "execution_count": 28,
      "metadata": {},
      "outputs": [],
      "source": [
        "from transformers import EarlyStoppingCallback\n",
        "callbacks = [EarlyStoppingCallback(early_stopping_patience=3, early_stopping_threshold=0.02)]"
      ]
    },
    {
      "cell_type": "markdown",
      "metadata": {
        "id": "V44NjcdECprN"
      },
      "source": [
        "Now we can create a `Trainer` instance that handles the fine-tuning and dev split evaluation.\n",
        "We call this object `trainer`."
      ]
    },
    {
      "cell_type": "code",
      "execution_count": 29,
      "metadata": {
        "colab": {
          "base_uri": "https://localhost:8080/"
        },
        "id": "W8-_9UewCprN",
        "outputId": "2f0a3cff-8684-481a-daad-8b2a6db5ed9d"
      },
      "outputs": [
        {
          "name": "stderr",
          "output_type": "stream",
          "text": [
            "/tmp/ipykernel_3578032/1243402400.py:1: FutureWarning: `tokenizer` is deprecated and will be removed in version 5.0.0 for `Trainer.__init__`. Use `processing_class` instead.\n",
            "  trainer = Trainer(\n",
            "Some weights of ModernBertForSequenceClassification were not initialized from the model checkpoint at answerdotai/ModernBERT-base and are newly initialized: ['classifier.bias', 'classifier.weight']\n",
            "You should probably TRAIN this model on a down-stream task to be able to use it for predictions and inference.\n"
          ]
        }
      ],
      "source": [
        "trainer = Trainer(\n",
        "    model_init=model_init,\n",
        "    args=training_args,\n",
        "    train_dataset=data_splits['train'],\n",
        "    eval_dataset=data_splits['dev'],\n",
        "    compute_metrics=compute_metrics,\n",
        "    tokenizer=tokenizer,\n",
        "    data_collator=DataCollatorWithPadding(tokenizer),\n",
        "    callbacks=callbacks\n",
        ")"
      ]
    },
    {
      "cell_type": "markdown",
      "metadata": {
        "id": "M6uS4gtQCprN"
      },
      "source": [
        "## Fine-tune"
      ]
    },
    {
      "cell_type": "markdown",
      "metadata": {
        "id": "onz7Roh9yMx8"
      },
      "source": [
        "**Note:** Our `trainer` instance handles the loss computation (see trainer.compute_loss?`)."
      ]
    },
    {
      "cell_type": "markdown",
      "metadata": {
        "id": "ag3QDPIocRAO"
      },
      "source": [
        "**IMPORTANT:** \n",
        "When running the next cell, you might get an `OUT OF MEMORY`(OOM) error (`OutOfMemoryError`).\n",
        "If so, reduce the training batch size (`per_device_train_batch_size` in `TrainingArguments` above, e.g., to 8) and run again."
      ]
    },
    {
      "cell_type": "code",
      "execution_count": 30,
      "metadata": {
        "colab": {
          "base_uri": "https://localhost:8080/",
          "height": 276
        },
        "id": "vKHRDsSZCprN",
        "outputId": "d013612e-bb18-47f6-c5e7-abdef650559d"
      },
      "outputs": [
        {
          "name": "stderr",
          "output_type": "stream",
          "text": [
            "The tokenizer has new PAD/BOS/EOS tokens that differ from the model config and generation config. The model config and generation config were aligned accordingly, being updated with the tokenizer's values. Updated tokens: {'eos_token_id': None, 'bos_token_id': None}.\n",
            "Some weights of ModernBertForSequenceClassification were not initialized from the model checkpoint at answerdotai/ModernBERT-base and are newly initialized: ['classifier.bias', 'classifier.weight']\n",
            "You should probably TRAIN this model on a down-stream task to be able to use it for predictions and inference.\n"
          ]
        },
        {
          "data": {
            "text/html": [
              "\n",
              "    <div>\n",
              "      \n",
              "      <progress value='1330' max='2660' style='width:300px; height:20px; vertical-align: middle;'></progress>\n",
              "      [1330/2660 01:04 < 01:04, 20.66 it/s, Epoch 5/10]\n",
              "    </div>\n",
              "    <table border=\"1\" class=\"dataframe\">\n",
              "  <thead>\n",
              " <tr style=\"text-align: left;\">\n",
              "      <th>Epoch</th>\n",
              "      <th>Training Loss</th>\n",
              "      <th>Validation Loss</th>\n",
              "      <th>Accuracy</th>\n",
              "      <th>Accuracy Balanced</th>\n",
              "      <th>F1</th>\n",
              "      <th>Precision</th>\n",
              "      <th>Recall</th>\n",
              "    </tr>\n",
              "  </thead>\n",
              "  <tbody>\n",
              "    <tr>\n",
              "      <td>1</td>\n",
              "      <td>0.433900</td>\n",
              "      <td>0.381465</td>\n",
              "      <td>0.830389</td>\n",
              "      <td>0.687733</td>\n",
              "      <td>0.542857</td>\n",
              "      <td>0.838235</td>\n",
              "      <td>0.401408</td>\n",
              "    </tr>\n",
              "    <tr>\n",
              "      <td>2</td>\n",
              "      <td>0.274300</td>\n",
              "      <td>0.351589</td>\n",
              "      <td>0.851590</td>\n",
              "      <td>0.854106</td>\n",
              "      <td>0.743902</td>\n",
              "      <td>0.655914</td>\n",
              "      <td>0.859155</td>\n",
              "    </tr>\n",
              "    <tr>\n",
              "      <td>3</td>\n",
              "      <td>0.120200</td>\n",
              "      <td>0.473483</td>\n",
              "      <td>0.874558</td>\n",
              "      <td>0.822598</td>\n",
              "      <td>0.741818</td>\n",
              "      <td>0.766917</td>\n",
              "      <td>0.718310</td>\n",
              "    </tr>\n",
              "    <tr>\n",
              "      <td>4</td>\n",
              "      <td>0.047100</td>\n",
              "      <td>0.563984</td>\n",
              "      <td>0.883392</td>\n",
              "      <td>0.833178</td>\n",
              "      <td>0.759124</td>\n",
              "      <td>0.787879</td>\n",
              "      <td>0.732394</td>\n",
              "    </tr>\n",
              "    <tr>\n",
              "      <td>5</td>\n",
              "      <td>0.020300</td>\n",
              "      <td>0.809378</td>\n",
              "      <td>0.881625</td>\n",
              "      <td>0.813264</td>\n",
              "      <td>0.741313</td>\n",
              "      <td>0.820513</td>\n",
              "      <td>0.676056</td>\n",
              "    </tr>\n",
              "  </tbody>\n",
              "</table><p>"
            ],
            "text/plain": [
              "<IPython.core.display.HTML object>"
            ]
          },
          "metadata": {},
          "output_type": "display_data"
        },
        {
          "data": {
            "text/plain": [
              "TrainOutput(global_step=1330, training_loss=0.17916081399845898, metrics={'train_runtime': 65.3547, 'train_samples_per_second': 649.991, 'train_steps_per_second': 40.701, 'total_flos': 544365983351904.0, 'train_loss': 0.17916081399845898, 'epoch': 5.0})"
            ]
          },
          "execution_count": 30,
          "metadata": {},
          "output_type": "execute_result"
        }
      ],
      "source": [
        "trainer.train()"
      ]
    },
    {
      "cell_type": "markdown",
      "metadata": {
        "id": "_nhgw2j8zoep"
      },
      "source": [
        "**What's printed to the console running `trainer.train()`?**\n",
        "\n",
        "First, we see a progress bar.\n",
        "This counts the number of steps (i.e., minibatches) and the (fraction of) epochs completed.\n",
        "In addtion, we see some metrics printed after each epoch:\n",
        "\n",
        "- the *training loss*: the average cross-entropy loss across training examples.\n",
        "- the *validation loss*: the average cross-entropy loss when applying the classifier checkpoint to dev set examples.\n",
        "- and the estimates for the metrics returned by our `compute_metrics` function from evaluating the classifier checkpoint in the dev set.  "
      ]
    },
    {
      "cell_type": "markdown",
      "metadata": {
        "id": "btxHRbTE0jdD"
      },
      "source": [
        "## Evaluate the classifier in the test set"
      ]
    },
    {
      "cell_type": "markdown",
      "metadata": {},
      "source": [
        "Once we are done with finetuning, we can use the **test split** to evaluate the models performance on held-out data:"
      ]
    },
    {
      "cell_type": "code",
      "execution_count": 31,
      "metadata": {
        "colab": {
          "base_uri": "https://localhost:8080/",
          "height": 211
        },
        "id": "7MxvRVr0CprN",
        "outputId": "47941d00-f9ce-4308-8321-0f6be8ca655d"
      },
      "outputs": [
        {
          "data": {
            "text/html": [
              "\n",
              "    <div>\n",
              "      \n",
              "      <progress value='27' max='27' style='width:300px; height:20px; vertical-align: middle;'></progress>\n",
              "      [27/27 00:00]\n",
              "    </div>\n",
              "    "
            ],
            "text/plain": [
              "<IPython.core.display.HTML object>"
            ]
          },
          "metadata": {},
          "output_type": "display_data"
        },
        {
          "name": "stderr",
          "output_type": "stream",
          "text": [
            "early stopping required metric_for_best_model, but did not find eval_f1 so early stopping is disabled\n"
          ]
        },
        {
          "data": {
            "text/plain": [
              "test_loss                     0.647509\n",
              "test_accuracy                 0.884570\n",
              "test_accuracy_balanced        0.839678\n",
              "test_f1                       0.764423\n",
              "test_precision                0.779412\n",
              "test_recall                   0.750000\n",
              "test_runtime                  0.349700\n",
              "test_samples_per_second    2428.062000\n",
              "test_steps_per_second        77.218000\n",
              "epoch                         5.000000\n",
              "dtype: float64"
            ]
          },
          "execution_count": 31,
          "metadata": {},
          "output_type": "execute_result"
        }
      ],
      "source": [
        "# let's eva\n",
        "test_res = trainer.evaluate(data_splits['test'], metric_key_prefix='test')\n",
        "pd.Series(test_res)"
      ]
    },
    {
      "cell_type": "markdown",
      "metadata": {},
      "source": [
        "Very nice, we get good F1 scores etc."
      ]
    },
    {
      "cell_type": "markdown",
      "metadata": {
        "id": "Fa5iEXQRCprN"
      },
      "source": [
        "## Save the model and tokenizer"
      ]
    },
    {
      "cell_type": "code",
      "execution_count": 32,
      "metadata": {},
      "outputs": [],
      "source": [
        "# remove checkpoints and logs\n",
        "import shutil\n",
        "shutil.rmtree(model_folder)"
      ]
    },
    {
      "cell_type": "code",
      "execution_count": 33,
      "metadata": {
        "colab": {
          "base_uri": "https://localhost:8080/"
        },
        "id": "pEoFFDGWCprN",
        "outputId": "8fead3ac-f041-4fb7-df6b-cc2d093e355a"
      },
      "outputs": [
        {
          "data": {
            "text/plain": [
              "('../../models/classifiers/fornaciari_we_2021/tokenizer_config.json',\n",
              " '../../models/classifiers/fornaciari_we_2021/special_tokens_map.json',\n",
              " '../../models/classifiers/fornaciari_we_2021/tokenizer.json')"
            ]
          },
          "execution_count": 33,
          "metadata": {},
          "output_type": "execute_result"
        }
      ],
      "source": [
        "model_folder.mkdir(parents=True, exist_ok=True)\n",
        "trainer.save_model(model_folder)\n",
        "tokenizer.save_pretrained(model_folder)"
      ]
    },
    {
      "cell_type": "code",
      "execution_count": 34,
      "metadata": {
        "id": "Gay49lsZh6K6"
      },
      "outputs": [],
      "source": [
        "# deöete\n",
        "trainer.model.cpu()\n",
        "del trainer\n",
        "import gc; gc.collect();"
      ]
    },
    {
      "cell_type": "markdown",
      "metadata": {
        "id": "FR2lTo-Bh16c"
      },
      "source": [
        "## Inference/prediction"
      ]
    },
    {
      "cell_type": "markdown",
      "metadata": {
        "id": "iaKLsv2Z0yiK"
      },
      "source": [
        "Once fine-tuned and saved, we can load the model and generate predictions for sentences with the text classification `pipeline`."
      ]
    },
    {
      "cell_type": "code",
      "execution_count": 35,
      "metadata": {
        "id": "OwSl55Q0h4IY"
      },
      "outputs": [],
      "source": [
        "from transformers import pipeline"
      ]
    },
    {
      "cell_type": "code",
      "execution_count": 36,
      "metadata": {
        "id": "BaBB2Dz8iB9k"
      },
      "outputs": [
        {
          "name": "stderr",
          "output_type": "stream",
          "text": [
            "Device set to use cuda\n"
          ]
        }
      ],
      "source": [
        "classifier = pipeline(task='text-classification', model=model_folder, device=device)"
      ]
    },
    {
      "cell_type": "code",
      "execution_count": 37,
      "metadata": {
        "id": "_8XNMxQmiTSH"
      },
      "outputs": [],
      "source": [
        "texts = [\n",
        "    # clear cut cases from the slides of Day 1\n",
        "    r\"FF will continue to set aside 1% of GNP to provide for future pension obligations.\",\n",
        "    r\"Complete the reduction of the standard rate of corp. tax to 12.5% in 2003.\",\n",
        "    r\"In government, we will establish a new National Development Finance Agency.\",\n",
        "    r\"Keep  those on low incomes and the minimum wage out of the tax net.\",\n",
        "    r\"Achieving the situation where 80% of taxpayers pay only the standard rate.\",\n",
        "    r\"Extend, on a permanent basis, the Employment Action Plan.\",\n",
        "    # borderline cases from the slides of Day 1\n",
        "    r\"We will implement a comprehensive programme to expand the number of school pupils taking Science …\",\n",
        "    r\"We will drive forward our Schools IT programme.\",\n",
        "    r\"We will provide the infrastructure to make regional locations more attractive.\",\n",
        "    r\"We will continue to engage in active export promotion, especially in newer markets.\",\n",
        "]\n",
        "preds = classifier(texts, batch_size=32)"
      ]
    },
    {
      "cell_type": "code",
      "execution_count": 38,
      "metadata": {
        "colab": {
          "base_uri": "https://localhost:8080/"
        },
        "id": "WLJBNgtMjghW",
        "outputId": "9321787f-21c4-4543-a596-c30e96c7a7eb"
      },
      "outputs": [
        {
          "data": {
            "text/html": [
              "<div>\n",
              "<style scoped>\n",
              "    .dataframe tbody tr th:only-of-type {\n",
              "        vertical-align: middle;\n",
              "    }\n",
              "\n",
              "    .dataframe tbody tr th {\n",
              "        vertical-align: top;\n",
              "    }\n",
              "\n",
              "    .dataframe thead th {\n",
              "        text-align: right;\n",
              "    }\n",
              "</style>\n",
              "<table border=\"1\" class=\"dataframe\">\n",
              "  <thead>\n",
              "    <tr style=\"text-align: right;\">\n",
              "      <th></th>\n",
              "      <th>label</th>\n",
              "      <th>score</th>\n",
              "      <th>text</th>\n",
              "    </tr>\n",
              "  </thead>\n",
              "  <tbody>\n",
              "    <tr>\n",
              "      <th>0</th>\n",
              "      <td>pledge</td>\n",
              "      <td>0.981071</td>\n",
              "      <td>FF will continue to set aside 1% of GNP to pro...</td>\n",
              "    </tr>\n",
              "    <tr>\n",
              "      <th>1</th>\n",
              "      <td>pledge</td>\n",
              "      <td>0.998364</td>\n",
              "      <td>Complete the reduction of the standard rate of...</td>\n",
              "    </tr>\n",
              "    <tr>\n",
              "      <th>2</th>\n",
              "      <td>pledge</td>\n",
              "      <td>0.999757</td>\n",
              "      <td>In government, we will establish a new Nationa...</td>\n",
              "    </tr>\n",
              "    <tr>\n",
              "      <th>3</th>\n",
              "      <td>no-pledge</td>\n",
              "      <td>0.979318</td>\n",
              "      <td>Keep  those on low incomes and the minimum wag...</td>\n",
              "    </tr>\n",
              "    <tr>\n",
              "      <th>4</th>\n",
              "      <td>no-pledge</td>\n",
              "      <td>0.999979</td>\n",
              "      <td>Achieving the situation where 80% of taxpayers...</td>\n",
              "    </tr>\n",
              "    <tr>\n",
              "      <th>5</th>\n",
              "      <td>pledge</td>\n",
              "      <td>0.999437</td>\n",
              "      <td>Extend, on a permanent basis, the Employment A...</td>\n",
              "    </tr>\n",
              "    <tr>\n",
              "      <th>6</th>\n",
              "      <td>pledge</td>\n",
              "      <td>0.593356</td>\n",
              "      <td>We will implement a comprehensive programme to...</td>\n",
              "    </tr>\n",
              "    <tr>\n",
              "      <th>7</th>\n",
              "      <td>no-pledge</td>\n",
              "      <td>0.984786</td>\n",
              "      <td>We will drive forward our Schools IT programme.</td>\n",
              "    </tr>\n",
              "    <tr>\n",
              "      <th>8</th>\n",
              "      <td>no-pledge</td>\n",
              "      <td>0.999993</td>\n",
              "      <td>We will provide the infrastructure to make reg...</td>\n",
              "    </tr>\n",
              "    <tr>\n",
              "      <th>9</th>\n",
              "      <td>no-pledge</td>\n",
              "      <td>1.000000</td>\n",
              "      <td>We will continue to engage in active export pr...</td>\n",
              "    </tr>\n",
              "  </tbody>\n",
              "</table>\n",
              "</div>"
            ],
            "text/plain": [
              "       label     score                                               text\n",
              "0     pledge  0.981071  FF will continue to set aside 1% of GNP to pro...\n",
              "1     pledge  0.998364  Complete the reduction of the standard rate of...\n",
              "2     pledge  0.999757  In government, we will establish a new Nationa...\n",
              "3  no-pledge  0.979318  Keep  those on low incomes and the minimum wag...\n",
              "4  no-pledge  0.999979  Achieving the situation where 80% of taxpayers...\n",
              "5     pledge  0.999437  Extend, on a permanent basis, the Employment A...\n",
              "6     pledge  0.593356  We will implement a comprehensive programme to...\n",
              "7  no-pledge  0.984786    We will drive forward our Schools IT programme.\n",
              "8  no-pledge  0.999993  We will provide the infrastructure to make reg...\n",
              "9  no-pledge  1.000000  We will continue to engage in active export pr..."
            ]
          },
          "execution_count": 38,
          "metadata": {},
          "output_type": "execute_result"
        }
      ],
      "source": [
        "preds_df = pd.DataFrame(preds)\n",
        "preds_df['text'] = texts\n",
        "preds_df"
      ]
    },
    {
      "cell_type": "markdown",
      "metadata": {},
      "source": [
        "### With our annoations"
      ]
    },
    {
      "cell_type": "code",
      "execution_count": null,
      "metadata": {},
      "outputs": [],
      "source": []
    },
    {
      "cell_type": "code",
      "execution_count": 39,
      "metadata": {},
      "outputs": [],
      "source": [
        "from pathlib import Path\n",
        "\n",
        "import pandas as pd\n",
        "from scipy.stats import entropy\n",
        "\n",
        "base_path = Path(\"/content/advanced_text_analysis/\" if COLAB else \"../../\")\n",
        "data_path = base_path / \"data\" / \"labeled\" / \"fornaciari_we_2021\""
      ]
    },
    {
      "cell_type": "code",
      "execution_count": 40,
      "metadata": {},
      "outputs": [
        {
          "data": {
            "text/plain": [
              "['johanneskuhling', 'lopatina', 'luisa.kutlar']"
            ]
          },
          "execution_count": 40,
          "metadata": {},
          "output_type": "execute_result"
        }
      ],
      "source": [
        "# TODO: change `\"llms\"` to the name of your group's folder\n",
        "annotations_path = data_path / \"annotations\" / \"classification\" / \"group3\"\n",
        "\n",
        "# list all annotation files produced by doccano \n",
        "#  (each records annotations by one annotator)\n",
        "fps = list(annotations_path.glob('*.csv'))\n",
        "\n",
        "# read the annoations into a long-format DataFrame\n",
        "annotations = pd.concat({fp.stem: pd.read_csv(fp) for fp in fps}, ignore_index=False).reset_index(level=0, names=['annotator'])\n",
        "\n",
        "# list unique annotators\n",
        "annotations.annotator.unique().tolist()"
      ]
    },
    {
      "cell_type": "code",
      "execution_count": 41,
      "metadata": {},
      "outputs": [],
      "source": [
        "annotations = annotations[annotations.annotator==annotations.annotator.iloc[0]]"
      ]
    },
    {
      "cell_type": "code",
      "execution_count": 42,
      "metadata": {},
      "outputs": [
        {
          "data": {
            "text/html": [
              "<div>\n",
              "<style scoped>\n",
              "    .dataframe tbody tr th:only-of-type {\n",
              "        vertical-align: middle;\n",
              "    }\n",
              "\n",
              "    .dataframe tbody tr th {\n",
              "        vertical-align: top;\n",
              "    }\n",
              "\n",
              "    .dataframe thead th {\n",
              "        text-align: right;\n",
              "    }\n",
              "</style>\n",
              "<table border=\"1\" class=\"dataframe\">\n",
              "  <thead>\n",
              "    <tr style=\"text-align: right;\">\n",
              "      <th></th>\n",
              "      <th>label</th>\n",
              "      <th>score</th>\n",
              "      <th>text</th>\n",
              "      <th>annotation</th>\n",
              "    </tr>\n",
              "  </thead>\n",
              "  <tbody>\n",
              "    <tr>\n",
              "      <th>0</th>\n",
              "      <td>no-pledge</td>\n",
              "      <td>1.000000</td>\n",
              "      <td>10 . Protecting Indians overseas from exploita...</td>\n",
              "      <td>No Pledge</td>\n",
              "    </tr>\n",
              "    <tr>\n",
              "      <th>1</th>\n",
              "      <td>pledge</td>\n",
              "      <td>0.999867</td>\n",
              "      <td>An ‘Extremely Backward Communities Development...</td>\n",
              "      <td>Pledge</td>\n",
              "    </tr>\n",
              "    <tr>\n",
              "      <th>2</th>\n",
              "      <td>pledge</td>\n",
              "      <td>0.999941</td>\n",
              "      <td>Similarly, almost all remaining households hav...</td>\n",
              "      <td>No Pledge</td>\n",
              "    </tr>\n",
              "    <tr>\n",
              "      <th>3</th>\n",
              "      <td>pledge</td>\n",
              "      <td>0.999884</td>\n",
              "      <td>We will expand this initiative further to take...</td>\n",
              "      <td>Pledge</td>\n",
              "    </tr>\n",
              "    <tr>\n",
              "      <th>4</th>\n",
              "      <td>no-pledge</td>\n",
              "      <td>1.000000</td>\n",
              "      <td>In this sacred endeavour, the Congress has joi...</td>\n",
              "      <td>No Pledge</td>\n",
              "    </tr>\n",
              "    <tr>\n",
              "      <th>5</th>\n",
              "      <td>pledge</td>\n",
              "      <td>0.999863</td>\n",
              "      <td>The Indian National Congress has always stood ...</td>\n",
              "      <td>No Pledge</td>\n",
              "    </tr>\n",
              "    <tr>\n",
              "      <th>6</th>\n",
              "      <td>pledge</td>\n",
              "      <td>0.997837</td>\n",
              "      <td>We are committed to annulling Article 35A of t...</td>\n",
              "      <td>Pledge</td>\n",
              "    </tr>\n",
              "    <tr>\n",
              "      <th>7</th>\n",
              "      <td>pledge</td>\n",
              "      <td>0.999996</td>\n",
              "      <td>A suitable law, enabling micro - credit operat...</td>\n",
              "      <td>Pledge</td>\n",
              "    </tr>\n",
              "    <tr>\n",
              "      <th>8</th>\n",
              "      <td>pledge</td>\n",
              "      <td>0.999924</td>\n",
              "      <td>Education at all stages — primary, secondary a...</td>\n",
              "      <td>Pledge</td>\n",
              "    </tr>\n",
              "    <tr>\n",
              "      <th>9</th>\n",
              "      <td>no-pledge</td>\n",
              "      <td>0.965268</td>\n",
              "      <td>The Indian National Congress is committed to p...</td>\n",
              "      <td>No Pledge</td>\n",
              "    </tr>\n",
              "    <tr>\n",
              "      <th>10</th>\n",
              "      <td>no-pledge</td>\n",
              "      <td>1.000000</td>\n",
              "      <td>The party believes in the principle of unity i...</td>\n",
              "      <td>No Pledge</td>\n",
              "    </tr>\n",
              "    <tr>\n",
              "      <th>11</th>\n",
              "      <td>no-pledge</td>\n",
              "      <td>0.999998</td>\n",
              "      <td>We will increase the strength of the diplomati...</td>\n",
              "      <td>Pledge</td>\n",
              "    </tr>\n",
              "    <tr>\n",
              "      <th>12</th>\n",
              "      <td>pledge</td>\n",
              "      <td>0.999543</td>\n",
              "      <td>provide tax incentives for investments in rese...</td>\n",
              "      <td>Pledge</td>\n",
              "    </tr>\n",
              "    <tr>\n",
              "      <th>13</th>\n",
              "      <td>no-pledge</td>\n",
              "      <td>1.000000</td>\n",
              "      <td>Most of the plans had been finalized before th...</td>\n",
              "      <td>No Pledge</td>\n",
              "    </tr>\n",
              "    <tr>\n",
              "      <th>14</th>\n",
              "      <td>no-pledge</td>\n",
              "      <td>1.000000</td>\n",
              "      <td>The manifesto is an opportunity for a politica...</td>\n",
              "      <td>No Pledge</td>\n",
              "    </tr>\n",
              "    <tr>\n",
              "      <th>15</th>\n",
              "      <td>no-pledge</td>\n",
              "      <td>1.000000</td>\n",
              "      <td>It has launched the National Rural Health Miss...</td>\n",
              "      <td>No Pledge</td>\n",
              "    </tr>\n",
              "    <tr>\n",
              "      <th>16</th>\n",
              "      <td>pledge</td>\n",
              "      <td>0.999118</td>\n",
              "      <td>There shall be a special survey, which will be...</td>\n",
              "      <td>Pledge</td>\n",
              "    </tr>\n",
              "    <tr>\n",
              "      <th>17</th>\n",
              "      <td>pledge</td>\n",
              "      <td>0.999956</td>\n",
              "      <td>Launch a National Digital Highway Development ...</td>\n",
              "      <td>Pledge</td>\n",
              "    </tr>\n",
              "    <tr>\n",
              "      <th>18</th>\n",
              "      <td>pledge</td>\n",
              "      <td>0.996763</td>\n",
              "      <td>Dispense with clubbing of agricultural income ...</td>\n",
              "      <td>No Pledge</td>\n",
              "    </tr>\n",
              "    <tr>\n",
              "      <th>19</th>\n",
              "      <td>no-pledge</td>\n",
              "      <td>0.999589</td>\n",
              "      <td>PHCs will provide all primary health services,...</td>\n",
              "      <td>Pledge</td>\n",
              "    </tr>\n",
              "    <tr>\n",
              "      <th>20</th>\n",
              "      <td>no-pledge</td>\n",
              "      <td>0.999523</td>\n",
              "      <td>The recently established National Security Cou...</td>\n",
              "      <td>No Pledge</td>\n",
              "    </tr>\n",
              "    <tr>\n",
              "      <th>21</th>\n",
              "      <td>no-pledge</td>\n",
              "      <td>0.999937</td>\n",
              "      <td>Congress will work with State Governments to e...</td>\n",
              "      <td>Pledge</td>\n",
              "    </tr>\n",
              "    <tr>\n",
              "      <th>22</th>\n",
              "      <td>no-pledge</td>\n",
              "      <td>1.000000</td>\n",
              "      <td>It is, as has become painfully evident, not co...</td>\n",
              "      <td>No Pledge</td>\n",
              "    </tr>\n",
              "    <tr>\n",
              "      <th>23</th>\n",
              "      <td>pledge</td>\n",
              "      <td>0.999923</td>\n",
              "      <td>9 . We will set up a “National Panchayati Raj ...</td>\n",
              "      <td>Pledge</td>\n",
              "    </tr>\n",
              "    <tr>\n",
              "      <th>24</th>\n",
              "      <td>pledge</td>\n",
              "      <td>0.999261</td>\n",
              "      <td>The BJP will set up an experts committee to de...</td>\n",
              "      <td>Pledge</td>\n",
              "    </tr>\n",
              "    <tr>\n",
              "      <th>25</th>\n",
              "      <td>no-pledge</td>\n",
              "      <td>0.999457</td>\n",
              "      <td>We aspire to be the world's third largest econ...</td>\n",
              "      <td>Pledge</td>\n",
              "    </tr>\n",
              "    <tr>\n",
              "      <th>26</th>\n",
              "      <td>pledge</td>\n",
              "      <td>0.999979</td>\n",
              "      <td>Deployment of broadband in every village would...</td>\n",
              "      <td>Pledge</td>\n",
              "    </tr>\n",
              "    <tr>\n",
              "      <th>27</th>\n",
              "      <td>pledge</td>\n",
              "      <td>0.999994</td>\n",
              "      <td>The Credit Guarantee Scheme of the Government ...</td>\n",
              "      <td>No Pledge</td>\n",
              "    </tr>\n",
              "    <tr>\n",
              "      <th>28</th>\n",
              "      <td>pledge</td>\n",
              "      <td>0.999812</td>\n",
              "      <td>We will offer higher interest rates on fixed d...</td>\n",
              "      <td>Pledge</td>\n",
              "    </tr>\n",
              "    <tr>\n",
              "      <th>29</th>\n",
              "      <td>no-pledge</td>\n",
              "      <td>1.000000</td>\n",
              "      <td>Working of regulatory bodies, which oversee me...</td>\n",
              "      <td>Pledge</td>\n",
              "    </tr>\n",
              "    <tr>\n",
              "      <th>30</th>\n",
              "      <td>pledge</td>\n",
              "      <td>0.999779</td>\n",
              "      <td>MGNREGA will also be harnessed to support the ...</td>\n",
              "      <td>Pledge</td>\n",
              "    </tr>\n",
              "    <tr>\n",
              "      <th>31</th>\n",
              "      <td>no-pledge</td>\n",
              "      <td>1.000000</td>\n",
              "      <td>We reach out to the minorities and even at the...</td>\n",
              "      <td>No Pledge</td>\n",
              "    </tr>\n",
              "    <tr>\n",
              "      <th>32</th>\n",
              "      <td>pledge</td>\n",
              "      <td>0.999072</td>\n",
              "      <td>3 . Announce a detailed Jobs Agenda to ensure ...</td>\n",
              "      <td>Pledge</td>\n",
              "    </tr>\n",
              "    <tr>\n",
              "      <th>33</th>\n",
              "      <td>no-pledge</td>\n",
              "      <td>1.000000</td>\n",
              "      <td>India will engage with the world in the global...</td>\n",
              "      <td>No Pledge</td>\n",
              "    </tr>\n",
              "    <tr>\n",
              "      <th>34</th>\n",
              "      <td>no-pledge</td>\n",
              "      <td>0.999959</td>\n",
              "      <td>Saving Rama Setu is to save the vast thorium d...</td>\n",
              "      <td>No Pledge</td>\n",
              "    </tr>\n",
              "    <tr>\n",
              "      <th>35</th>\n",
              "      <td>no-pledge</td>\n",
              "      <td>1.000000</td>\n",
              "      <td>We propose to take strong measures to promote ...</td>\n",
              "      <td>No Pledge</td>\n",
              "    </tr>\n",
              "    <tr>\n",
              "      <th>36</th>\n",
              "      <td>pledge</td>\n",
              "      <td>0.999994</td>\n",
              "      <td>The Congress will ensure the fullest implement...</td>\n",
              "      <td>Pledge</td>\n",
              "    </tr>\n",
              "    <tr>\n",
              "      <th>37</th>\n",
              "      <td>pledge</td>\n",
              "      <td>0.999946</td>\n",
              "      <td>The Indian National Congress will bring school...</td>\n",
              "      <td>Pledge</td>\n",
              "    </tr>\n",
              "    <tr>\n",
              "      <th>38</th>\n",
              "      <td>no-pledge</td>\n",
              "      <td>0.527099</td>\n",
              "      <td>The present system of setting Minimum Support ...</td>\n",
              "      <td>No Pledge</td>\n",
              "    </tr>\n",
              "    <tr>\n",
              "      <th>39</th>\n",
              "      <td>pledge</td>\n",
              "      <td>0.999981</td>\n",
              "      <td>A ‘Vishwakarma Initiative’ will be launched fo...</td>\n",
              "      <td>Pledge</td>\n",
              "    </tr>\n",
              "    <tr>\n",
              "      <th>40</th>\n",
              "      <td>no-pledge</td>\n",
              "      <td>1.000000</td>\n",
              "      <td>We want an India which we all feel part of, in...</td>\n",
              "      <td>No Pledge</td>\n",
              "    </tr>\n",
              "    <tr>\n",
              "      <th>41</th>\n",
              "      <td>no-pledge</td>\n",
              "      <td>1.000000</td>\n",
              "      <td>But at the same time, governance in these stat...</td>\n",
              "      <td>No Pledge</td>\n",
              "    </tr>\n",
              "    <tr>\n",
              "      <th>42</th>\n",
              "      <td>no-pledge</td>\n",
              "      <td>0.999999</td>\n",
              "      <td>The NDA Government envisions a future that res...</td>\n",
              "      <td>No Pledge</td>\n",
              "    </tr>\n",
              "    <tr>\n",
              "      <th>43</th>\n",
              "      <td>pledge</td>\n",
              "      <td>0.997628</td>\n",
              "      <td>Continuing our work, we will legislate a bill ...</td>\n",
              "      <td>Pledge</td>\n",
              "    </tr>\n",
              "    <tr>\n",
              "      <th>44</th>\n",
              "      <td>no-pledge</td>\n",
              "      <td>1.000000</td>\n",
              "      <td>Flawed design, inefficient execution, insuffic...</td>\n",
              "      <td>No Pledge</td>\n",
              "    </tr>\n",
              "    <tr>\n",
              "      <th>45</th>\n",
              "      <td>no-pledge</td>\n",
              "      <td>0.999982</td>\n",
              "      <td>The sustained campaign led by the Congress Pre...</td>\n",
              "      <td>No Pledge</td>\n",
              "    </tr>\n",
              "    <tr>\n",
              "      <th>46</th>\n",
              "      <td>pledge</td>\n",
              "      <td>0.999917</td>\n",
              "      <td>Along the lines of NREGA, we will enact a Nati...</td>\n",
              "      <td>Pledge</td>\n",
              "    </tr>\n",
              "    <tr>\n",
              "      <th>47</th>\n",
              "      <td>no-pledge</td>\n",
              "      <td>0.999956</td>\n",
              "      <td>21 Ensure the LPG gas cylinder connection to a...</td>\n",
              "      <td>Pledge</td>\n",
              "    </tr>\n",
              "    <tr>\n",
              "      <th>48</th>\n",
              "      <td>pledge</td>\n",
              "      <td>0.999977</td>\n",
              "      <td>a . We will enact central legislation on the S...</td>\n",
              "      <td>No Pledge</td>\n",
              "    </tr>\n",
              "    <tr>\n",
              "      <th>49</th>\n",
              "      <td>pledge</td>\n",
              "      <td>0.999993</td>\n",
              "      <td>Launch a massive programme to detect, detain a...</td>\n",
              "      <td>Pledge</td>\n",
              "    </tr>\n",
              "  </tbody>\n",
              "</table>\n",
              "</div>"
            ],
            "text/plain": [
              "        label     score                                               text  \\\n",
              "0   no-pledge  1.000000  10 . Protecting Indians overseas from exploita...   \n",
              "1      pledge  0.999867  An ‘Extremely Backward Communities Development...   \n",
              "2      pledge  0.999941  Similarly, almost all remaining households hav...   \n",
              "3      pledge  0.999884  We will expand this initiative further to take...   \n",
              "4   no-pledge  1.000000  In this sacred endeavour, the Congress has joi...   \n",
              "5      pledge  0.999863  The Indian National Congress has always stood ...   \n",
              "6      pledge  0.997837  We are committed to annulling Article 35A of t...   \n",
              "7      pledge  0.999996  A suitable law, enabling micro - credit operat...   \n",
              "8      pledge  0.999924  Education at all stages — primary, secondary a...   \n",
              "9   no-pledge  0.965268  The Indian National Congress is committed to p...   \n",
              "10  no-pledge  1.000000  The party believes in the principle of unity i...   \n",
              "11  no-pledge  0.999998  We will increase the strength of the diplomati...   \n",
              "12     pledge  0.999543  provide tax incentives for investments in rese...   \n",
              "13  no-pledge  1.000000  Most of the plans had been finalized before th...   \n",
              "14  no-pledge  1.000000  The manifesto is an opportunity for a politica...   \n",
              "15  no-pledge  1.000000  It has launched the National Rural Health Miss...   \n",
              "16     pledge  0.999118  There shall be a special survey, which will be...   \n",
              "17     pledge  0.999956  Launch a National Digital Highway Development ...   \n",
              "18     pledge  0.996763  Dispense with clubbing of agricultural income ...   \n",
              "19  no-pledge  0.999589  PHCs will provide all primary health services,...   \n",
              "20  no-pledge  0.999523  The recently established National Security Cou...   \n",
              "21  no-pledge  0.999937  Congress will work with State Governments to e...   \n",
              "22  no-pledge  1.000000  It is, as has become painfully evident, not co...   \n",
              "23     pledge  0.999923  9 . We will set up a “National Panchayati Raj ...   \n",
              "24     pledge  0.999261  The BJP will set up an experts committee to de...   \n",
              "25  no-pledge  0.999457  We aspire to be the world's third largest econ...   \n",
              "26     pledge  0.999979  Deployment of broadband in every village would...   \n",
              "27     pledge  0.999994  The Credit Guarantee Scheme of the Government ...   \n",
              "28     pledge  0.999812  We will offer higher interest rates on fixed d...   \n",
              "29  no-pledge  1.000000  Working of regulatory bodies, which oversee me...   \n",
              "30     pledge  0.999779  MGNREGA will also be harnessed to support the ...   \n",
              "31  no-pledge  1.000000  We reach out to the minorities and even at the...   \n",
              "32     pledge  0.999072  3 . Announce a detailed Jobs Agenda to ensure ...   \n",
              "33  no-pledge  1.000000  India will engage with the world in the global...   \n",
              "34  no-pledge  0.999959  Saving Rama Setu is to save the vast thorium d...   \n",
              "35  no-pledge  1.000000  We propose to take strong measures to promote ...   \n",
              "36     pledge  0.999994  The Congress will ensure the fullest implement...   \n",
              "37     pledge  0.999946  The Indian National Congress will bring school...   \n",
              "38  no-pledge  0.527099  The present system of setting Minimum Support ...   \n",
              "39     pledge  0.999981  A ‘Vishwakarma Initiative’ will be launched fo...   \n",
              "40  no-pledge  1.000000  We want an India which we all feel part of, in...   \n",
              "41  no-pledge  1.000000  But at the same time, governance in these stat...   \n",
              "42  no-pledge  0.999999  The NDA Government envisions a future that res...   \n",
              "43     pledge  0.997628  Continuing our work, we will legislate a bill ...   \n",
              "44  no-pledge  1.000000  Flawed design, inefficient execution, insuffic...   \n",
              "45  no-pledge  0.999982  The sustained campaign led by the Congress Pre...   \n",
              "46     pledge  0.999917  Along the lines of NREGA, we will enact a Nati...   \n",
              "47  no-pledge  0.999956  21 Ensure the LPG gas cylinder connection to a...   \n",
              "48     pledge  0.999977  a . We will enact central legislation on the S...   \n",
              "49     pledge  0.999993  Launch a massive programme to detect, detain a...   \n",
              "\n",
              "   annotation  \n",
              "0   No Pledge  \n",
              "1      Pledge  \n",
              "2   No Pledge  \n",
              "3      Pledge  \n",
              "4   No Pledge  \n",
              "5   No Pledge  \n",
              "6      Pledge  \n",
              "7      Pledge  \n",
              "8      Pledge  \n",
              "9   No Pledge  \n",
              "10  No Pledge  \n",
              "11     Pledge  \n",
              "12     Pledge  \n",
              "13  No Pledge  \n",
              "14  No Pledge  \n",
              "15  No Pledge  \n",
              "16     Pledge  \n",
              "17     Pledge  \n",
              "18  No Pledge  \n",
              "19     Pledge  \n",
              "20  No Pledge  \n",
              "21     Pledge  \n",
              "22  No Pledge  \n",
              "23     Pledge  \n",
              "24     Pledge  \n",
              "25     Pledge  \n",
              "26     Pledge  \n",
              "27  No Pledge  \n",
              "28     Pledge  \n",
              "29     Pledge  \n",
              "30     Pledge  \n",
              "31  No Pledge  \n",
              "32     Pledge  \n",
              "33  No Pledge  \n",
              "34  No Pledge  \n",
              "35  No Pledge  \n",
              "36     Pledge  \n",
              "37     Pledge  \n",
              "38  No Pledge  \n",
              "39     Pledge  \n",
              "40  No Pledge  \n",
              "41  No Pledge  \n",
              "42  No Pledge  \n",
              "43     Pledge  \n",
              "44  No Pledge  \n",
              "45  No Pledge  \n",
              "46     Pledge  \n",
              "47     Pledge  \n",
              "48  No Pledge  \n",
              "49     Pledge  "
            ]
          },
          "execution_count": 42,
          "metadata": {},
          "output_type": "execute_result"
        }
      ],
      "source": [
        "texts = annotations.text.tolist()\n",
        "preds = classifier(texts, batch_size=32)\n",
        "preds_df = pd.DataFrame(preds)\n",
        "preds_df['text'] = texts\n",
        "preds_df['annotation'] =  annotations.label\n",
        "preds_df"
      ]
    },
    {
      "cell_type": "code",
      "execution_count": 43,
      "metadata": {},
      "outputs": [
        {
          "data": {
            "text/html": [
              "<div>\n",
              "<style scoped>\n",
              "    .dataframe tbody tr th:only-of-type {\n",
              "        vertical-align: middle;\n",
              "    }\n",
              "\n",
              "    .dataframe tbody tr th {\n",
              "        vertical-align: top;\n",
              "    }\n",
              "\n",
              "    .dataframe thead th {\n",
              "        text-align: right;\n",
              "    }\n",
              "</style>\n",
              "<table border=\"1\" class=\"dataframe\">\n",
              "  <thead>\n",
              "    <tr style=\"text-align: right;\">\n",
              "      <th>annotation</th>\n",
              "      <th>No Pledge</th>\n",
              "      <th>Pledge</th>\n",
              "    </tr>\n",
              "    <tr>\n",
              "      <th>label</th>\n",
              "      <th></th>\n",
              "      <th></th>\n",
              "    </tr>\n",
              "  </thead>\n",
              "  <tbody>\n",
              "    <tr>\n",
              "      <th>no-pledge</th>\n",
              "      <td>0.38</td>\n",
              "      <td>0.12</td>\n",
              "    </tr>\n",
              "    <tr>\n",
              "      <th>pledge</th>\n",
              "      <td>0.10</td>\n",
              "      <td>0.40</td>\n",
              "    </tr>\n",
              "  </tbody>\n",
              "</table>\n",
              "</div>"
            ],
            "text/plain": [
              "annotation  No Pledge  Pledge\n",
              "label                        \n",
              "no-pledge        0.38    0.12\n",
              "pledge           0.10    0.40"
            ]
          },
          "execution_count": 43,
          "metadata": {},
          "output_type": "execute_result"
        }
      ],
      "source": [
        "preds_df.value_counts(['label', 'annotation'], normalize=True).unstack()"
      ]
    }
  ],
  "metadata": {
    "accelerator": "GPU",
    "colab": {
      "gpuType": "T4",
      "provenance": [],
      "toc_visible": true
    },
    "kernelspec": {
      "display_name": "advanced_text_analysis",
      "language": "python",
      "name": "python3"
    },
    "language_info": {
      "codemirror_mode": {
        "name": "ipython",
        "version": 3
      },
      "file_extension": ".py",
      "mimetype": "text/x-python",
      "name": "python",
      "nbconvert_exporter": "python",
      "pygments_lexer": "ipython3",
      "version": "3.11.13"
    },
    "widgets": {
      "application/vnd.jupyter.widget-state+json": {
        "0480645382084911af2f986bf9d44956": {
          "model_module": "@jupyter-widgets/base",
          "model_module_version": "1.2.0",
          "model_name": "LayoutModel",
          "state": {
            "_model_module": "@jupyter-widgets/base",
            "_model_module_version": "1.2.0",
            "_model_name": "LayoutModel",
            "_view_count": null,
            "_view_module": "@jupyter-widgets/base",
            "_view_module_version": "1.2.0",
            "_view_name": "LayoutView",
            "align_content": null,
            "align_items": null,
            "align_self": null,
            "border": null,
            "bottom": null,
            "display": null,
            "flex": null,
            "flex_flow": null,
            "grid_area": null,
            "grid_auto_columns": null,
            "grid_auto_flow": null,
            "grid_auto_rows": null,
            "grid_column": null,
            "grid_gap": null,
            "grid_row": null,
            "grid_template_areas": null,
            "grid_template_columns": null,
            "grid_template_rows": null,
            "height": null,
            "justify_content": null,
            "justify_items": null,
            "left": null,
            "margin": null,
            "max_height": null,
            "max_width": null,
            "min_height": null,
            "min_width": null,
            "object_fit": null,
            "object_position": null,
            "order": null,
            "overflow": null,
            "overflow_x": null,
            "overflow_y": null,
            "padding": null,
            "right": null,
            "top": null,
            "visibility": null,
            "width": null
          }
        },
        "04bd9f1c12c7410098de1cbc951633a7": {
          "model_module": "@jupyter-widgets/controls",
          "model_module_version": "1.5.0",
          "model_name": "HTMLModel",
          "state": {
            "_dom_classes": [],
            "_model_module": "@jupyter-widgets/controls",
            "_model_module_version": "1.5.0",
            "_model_name": "HTMLModel",
            "_view_count": null,
            "_view_module": "@jupyter-widgets/controls",
            "_view_module_version": "1.5.0",
            "_view_name": "HTMLView",
            "description": "",
            "description_tooltip": null,
            "layout": "IPY_MODEL_dcdf72a5ccd34affb372f36e82451e2a",
            "placeholder": "​",
            "style": "IPY_MODEL_65397a37add641d29de6ad17b2afa79e",
            "value": " 1.36M/1.36M [00:00&lt;00:00, 27.8MB/s]"
          }
        },
        "0f4d7b6ac4024605907d6807e8fed005": {
          "model_module": "@jupyter-widgets/controls",
          "model_module_version": "1.5.0",
          "model_name": "FloatProgressModel",
          "state": {
            "_dom_classes": [],
            "_model_module": "@jupyter-widgets/controls",
            "_model_module_version": "1.5.0",
            "_model_name": "FloatProgressModel",
            "_view_count": null,
            "_view_module": "@jupyter-widgets/controls",
            "_view_module_version": "1.5.0",
            "_view_name": "ProgressView",
            "bar_style": "success",
            "description": "",
            "description_tooltip": null,
            "layout": "IPY_MODEL_179d97eb2df54d3aaf0e32b2eecd7bf0",
            "max": 812,
            "min": 0,
            "orientation": "horizontal",
            "style": "IPY_MODEL_c1838fbdf8fa4f01b2cffb72e06f7fff",
            "value": 812
          }
        },
        "12fb44637f4b4d41a7ade62419c67256": {
          "model_module": "@jupyter-widgets/base",
          "model_module_version": "1.2.0",
          "model_name": "LayoutModel",
          "state": {
            "_model_module": "@jupyter-widgets/base",
            "_model_module_version": "1.2.0",
            "_model_name": "LayoutModel",
            "_view_count": null,
            "_view_module": "@jupyter-widgets/base",
            "_view_module_version": "1.2.0",
            "_view_name": "LayoutView",
            "align_content": null,
            "align_items": null,
            "align_self": null,
            "border": null,
            "bottom": null,
            "display": null,
            "flex": null,
            "flex_flow": null,
            "grid_area": null,
            "grid_auto_columns": null,
            "grid_auto_flow": null,
            "grid_auto_rows": null,
            "grid_column": null,
            "grid_gap": null,
            "grid_row": null,
            "grid_template_areas": null,
            "grid_template_columns": null,
            "grid_template_rows": null,
            "height": null,
            "justify_content": null,
            "justify_items": null,
            "left": null,
            "margin": null,
            "max_height": null,
            "max_width": null,
            "min_height": null,
            "min_width": null,
            "object_fit": null,
            "object_position": null,
            "order": null,
            "overflow": null,
            "overflow_x": null,
            "overflow_y": null,
            "padding": null,
            "right": null,
            "top": null,
            "visibility": null,
            "width": null
          }
        },
        "179d97eb2df54d3aaf0e32b2eecd7bf0": {
          "model_module": "@jupyter-widgets/base",
          "model_module_version": "1.2.0",
          "model_name": "LayoutModel",
          "state": {
            "_model_module": "@jupyter-widgets/base",
            "_model_module_version": "1.2.0",
            "_model_name": "LayoutModel",
            "_view_count": null,
            "_view_module": "@jupyter-widgets/base",
            "_view_module_version": "1.2.0",
            "_view_name": "LayoutView",
            "align_content": null,
            "align_items": null,
            "align_self": null,
            "border": null,
            "bottom": null,
            "display": null,
            "flex": null,
            "flex_flow": null,
            "grid_area": null,
            "grid_auto_columns": null,
            "grid_auto_flow": null,
            "grid_auto_rows": null,
            "grid_column": null,
            "grid_gap": null,
            "grid_row": null,
            "grid_template_areas": null,
            "grid_template_columns": null,
            "grid_template_rows": null,
            "height": null,
            "justify_content": null,
            "justify_items": null,
            "left": null,
            "margin": null,
            "max_height": null,
            "max_width": null,
            "min_height": null,
            "min_width": null,
            "object_fit": null,
            "object_position": null,
            "order": null,
            "overflow": null,
            "overflow_x": null,
            "overflow_y": null,
            "padding": null,
            "right": null,
            "top": null,
            "visibility": null,
            "width": null
          }
        },
        "1a4a451c2f1643849ef12b8011417a37": {
          "model_module": "@jupyter-widgets/controls",
          "model_module_version": "1.5.0",
          "model_name": "HBoxModel",
          "state": {
            "_dom_classes": [],
            "_model_module": "@jupyter-widgets/controls",
            "_model_module_version": "1.5.0",
            "_model_name": "HBoxModel",
            "_view_count": null,
            "_view_module": "@jupyter-widgets/controls",
            "_view_module_version": "1.5.0",
            "_view_name": "HBoxView",
            "box_style": "",
            "children": [
              "IPY_MODEL_46808ab7c4ac490690ba0631d0410cbc",
              "IPY_MODEL_60da037274ab43c78ed87d877f2dafd9",
              "IPY_MODEL_38ca8c13bc2c48ccaccaa1d2e6645220"
            ],
            "layout": "IPY_MODEL_2f033cb25eff4dee8b7fb070d2342f0e"
          }
        },
        "1a73bb82194242a7986b035b56b1e921": {
          "model_module": "@jupyter-widgets/base",
          "model_module_version": "1.2.0",
          "model_name": "LayoutModel",
          "state": {
            "_model_module": "@jupyter-widgets/base",
            "_model_module_version": "1.2.0",
            "_model_name": "LayoutModel",
            "_view_count": null,
            "_view_module": "@jupyter-widgets/base",
            "_view_module_version": "1.2.0",
            "_view_name": "LayoutView",
            "align_content": null,
            "align_items": null,
            "align_self": null,
            "border": null,
            "bottom": null,
            "display": null,
            "flex": null,
            "flex_flow": null,
            "grid_area": null,
            "grid_auto_columns": null,
            "grid_auto_flow": null,
            "grid_auto_rows": null,
            "grid_column": null,
            "grid_gap": null,
            "grid_row": null,
            "grid_template_areas": null,
            "grid_template_columns": null,
            "grid_template_rows": null,
            "height": null,
            "justify_content": null,
            "justify_items": null,
            "left": null,
            "margin": null,
            "max_height": null,
            "max_width": null,
            "min_height": null,
            "min_width": null,
            "object_fit": null,
            "object_position": null,
            "order": null,
            "overflow": null,
            "overflow_x": null,
            "overflow_y": null,
            "padding": null,
            "right": null,
            "top": null,
            "visibility": null,
            "width": null
          }
        },
        "1faae12cd4c349d081eac3242fe9dbe1": {
          "model_module": "@jupyter-widgets/controls",
          "model_module_version": "1.5.0",
          "model_name": "HTMLModel",
          "state": {
            "_dom_classes": [],
            "_model_module": "@jupyter-widgets/controls",
            "_model_module_version": "1.5.0",
            "_model_name": "HTMLModel",
            "_view_count": null,
            "_view_module": "@jupyter-widgets/controls",
            "_view_module_version": "1.5.0",
            "_view_name": "HTMLView",
            "description": "",
            "description_tooltip": null,
            "layout": "IPY_MODEL_3e964fe34878485f9c6f72d78be7e1ff",
            "placeholder": "​",
            "style": "IPY_MODEL_56304f46350a4c1da0902da41273a2cd",
            "value": "Map: 100%"
          }
        },
        "24c666aae4104bc9ae50908ffa2d272b": {
          "model_module": "@jupyter-widgets/controls",
          "model_module_version": "1.5.0",
          "model_name": "HTMLModel",
          "state": {
            "_dom_classes": [],
            "_model_module": "@jupyter-widgets/controls",
            "_model_module_version": "1.5.0",
            "_model_name": "HTMLModel",
            "_view_count": null,
            "_view_module": "@jupyter-widgets/controls",
            "_view_module_version": "1.5.0",
            "_view_name": "HTMLView",
            "description": "",
            "description_tooltip": null,
            "layout": "IPY_MODEL_81ef05a011db492a853b86149f0b862c",
            "placeholder": "​",
            "style": "IPY_MODEL_beeb4b1c71c6432db5c8a6b18de3fb49",
            "value": "tokenizer_config.json: 100%"
          }
        },
        "278e194174ad4a57960142f60509e48a": {
          "model_module": "@jupyter-widgets/controls",
          "model_module_version": "1.5.0",
          "model_name": "DescriptionStyleModel",
          "state": {
            "_model_module": "@jupyter-widgets/controls",
            "_model_module_version": "1.5.0",
            "_model_name": "DescriptionStyleModel",
            "_view_count": null,
            "_view_module": "@jupyter-widgets/base",
            "_view_module_version": "1.2.0",
            "_view_name": "StyleView",
            "description_width": ""
          }
        },
        "28fabd63b1394cb09acbcc20c7dce5fa": {
          "model_module": "@jupyter-widgets/base",
          "model_module_version": "1.2.0",
          "model_name": "LayoutModel",
          "state": {
            "_model_module": "@jupyter-widgets/base",
            "_model_module_version": "1.2.0",
            "_model_name": "LayoutModel",
            "_view_count": null,
            "_view_module": "@jupyter-widgets/base",
            "_view_module_version": "1.2.0",
            "_view_name": "LayoutView",
            "align_content": null,
            "align_items": null,
            "align_self": null,
            "border": null,
            "bottom": null,
            "display": null,
            "flex": null,
            "flex_flow": null,
            "grid_area": null,
            "grid_auto_columns": null,
            "grid_auto_flow": null,
            "grid_auto_rows": null,
            "grid_column": null,
            "grid_gap": null,
            "grid_row": null,
            "grid_template_areas": null,
            "grid_template_columns": null,
            "grid_template_rows": null,
            "height": null,
            "justify_content": null,
            "justify_items": null,
            "left": null,
            "margin": null,
            "max_height": null,
            "max_width": null,
            "min_height": null,
            "min_width": null,
            "object_fit": null,
            "object_position": null,
            "order": null,
            "overflow": null,
            "overflow_x": null,
            "overflow_y": null,
            "padding": null,
            "right": null,
            "top": null,
            "visibility": null,
            "width": null
          }
        },
        "2f033cb25eff4dee8b7fb070d2342f0e": {
          "model_module": "@jupyter-widgets/base",
          "model_module_version": "1.2.0",
          "model_name": "LayoutModel",
          "state": {
            "_model_module": "@jupyter-widgets/base",
            "_model_module_version": "1.2.0",
            "_model_name": "LayoutModel",
            "_view_count": null,
            "_view_module": "@jupyter-widgets/base",
            "_view_module_version": "1.2.0",
            "_view_name": "LayoutView",
            "align_content": null,
            "align_items": null,
            "align_self": null,
            "border": null,
            "bottom": null,
            "display": null,
            "flex": null,
            "flex_flow": null,
            "grid_area": null,
            "grid_auto_columns": null,
            "grid_auto_flow": null,
            "grid_auto_rows": null,
            "grid_column": null,
            "grid_gap": null,
            "grid_row": null,
            "grid_template_areas": null,
            "grid_template_columns": null,
            "grid_template_rows": null,
            "height": null,
            "justify_content": null,
            "justify_items": null,
            "left": null,
            "margin": null,
            "max_height": null,
            "max_width": null,
            "min_height": null,
            "min_width": null,
            "object_fit": null,
            "object_position": null,
            "order": null,
            "overflow": null,
            "overflow_x": null,
            "overflow_y": null,
            "padding": null,
            "right": null,
            "top": null,
            "visibility": null,
            "width": null
          }
        },
        "31aa4159b4e9464ba082e2508b6f307d": {
          "model_module": "@jupyter-widgets/controls",
          "model_module_version": "1.5.0",
          "model_name": "FloatProgressModel",
          "state": {
            "_dom_classes": [],
            "_model_module": "@jupyter-widgets/controls",
            "_model_module_version": "1.5.0",
            "_model_name": "FloatProgressModel",
            "_view_count": null,
            "_view_module": "@jupyter-widgets/controls",
            "_view_module_version": "1.5.0",
            "_view_name": "ProgressView",
            "bar_style": "success",
            "description": "",
            "description_tooltip": null,
            "layout": "IPY_MODEL_b35df91dd8a44296adf68f9627c3cff5",
            "max": 481,
            "min": 0,
            "orientation": "horizontal",
            "style": "IPY_MODEL_d3aff28179a0456da433093810ef7de5",
            "value": 481
          }
        },
        "36ffa23441e24ef68b89d6b0e0d8f167": {
          "model_module": "@jupyter-widgets/controls",
          "model_module_version": "1.5.0",
          "model_name": "FloatProgressModel",
          "state": {
            "_dom_classes": [],
            "_model_module": "@jupyter-widgets/controls",
            "_model_module_version": "1.5.0",
            "_model_name": "FloatProgressModel",
            "_view_count": null,
            "_view_module": "@jupyter-widgets/controls",
            "_view_module_version": "1.5.0",
            "_view_name": "ProgressView",
            "bar_style": "success",
            "description": "",
            "description_tooltip": null,
            "layout": "IPY_MODEL_abdcc7cac97e413cb8b1a3c31103e837",
            "max": 1355863,
            "min": 0,
            "orientation": "horizontal",
            "style": "IPY_MODEL_605fcfa35f5041f9840aa4de82b1de65",
            "value": 1355863
          }
        },
        "38ca8c13bc2c48ccaccaa1d2e6645220": {
          "model_module": "@jupyter-widgets/controls",
          "model_module_version": "1.5.0",
          "model_name": "HTMLModel",
          "state": {
            "_dom_classes": [],
            "_model_module": "@jupyter-widgets/controls",
            "_model_module_version": "1.5.0",
            "_model_name": "HTMLModel",
            "_view_count": null,
            "_view_module": "@jupyter-widgets/controls",
            "_view_module_version": "1.5.0",
            "_view_name": "HTMLView",
            "description": "",
            "description_tooltip": null,
            "layout": "IPY_MODEL_7e9885f961874ef899db51aced6063e4",
            "placeholder": "​",
            "style": "IPY_MODEL_b62b976d51f54cf08c2a62dceb8e4337",
            "value": " 456k/456k [00:00&lt;00:00, 2.32MB/s]"
          }
        },
        "3e964fe34878485f9c6f72d78be7e1ff": {
          "model_module": "@jupyter-widgets/base",
          "model_module_version": "1.2.0",
          "model_name": "LayoutModel",
          "state": {
            "_model_module": "@jupyter-widgets/base",
            "_model_module_version": "1.2.0",
            "_model_name": "LayoutModel",
            "_view_count": null,
            "_view_module": "@jupyter-widgets/base",
            "_view_module_version": "1.2.0",
            "_view_name": "LayoutView",
            "align_content": null,
            "align_items": null,
            "align_self": null,
            "border": null,
            "bottom": null,
            "display": null,
            "flex": null,
            "flex_flow": null,
            "grid_area": null,
            "grid_auto_columns": null,
            "grid_auto_flow": null,
            "grid_auto_rows": null,
            "grid_column": null,
            "grid_gap": null,
            "grid_row": null,
            "grid_template_areas": null,
            "grid_template_columns": null,
            "grid_template_rows": null,
            "height": null,
            "justify_content": null,
            "justify_items": null,
            "left": null,
            "margin": null,
            "max_height": null,
            "max_width": null,
            "min_height": null,
            "min_width": null,
            "object_fit": null,
            "object_position": null,
            "order": null,
            "overflow": null,
            "overflow_x": null,
            "overflow_y": null,
            "padding": null,
            "right": null,
            "top": null,
            "visibility": null,
            "width": null
          }
        },
        "422692115c6c43d0aa83c42fdbfefb3c": {
          "model_module": "@jupyter-widgets/base",
          "model_module_version": "1.2.0",
          "model_name": "LayoutModel",
          "state": {
            "_model_module": "@jupyter-widgets/base",
            "_model_module_version": "1.2.0",
            "_model_name": "LayoutModel",
            "_view_count": null,
            "_view_module": "@jupyter-widgets/base",
            "_view_module_version": "1.2.0",
            "_view_name": "LayoutView",
            "align_content": null,
            "align_items": null,
            "align_self": null,
            "border": null,
            "bottom": null,
            "display": null,
            "flex": null,
            "flex_flow": null,
            "grid_area": null,
            "grid_auto_columns": null,
            "grid_auto_flow": null,
            "grid_auto_rows": null,
            "grid_column": null,
            "grid_gap": null,
            "grid_row": null,
            "grid_template_areas": null,
            "grid_template_columns": null,
            "grid_template_rows": null,
            "height": null,
            "justify_content": null,
            "justify_items": null,
            "left": null,
            "margin": null,
            "max_height": null,
            "max_width": null,
            "min_height": null,
            "min_width": null,
            "object_fit": null,
            "object_position": null,
            "order": null,
            "overflow": null,
            "overflow_x": null,
            "overflow_y": null,
            "padding": null,
            "right": null,
            "top": null,
            "visibility": null,
            "width": null
          }
        },
        "4620fffa2ead4e499d7e602c0193fd64": {
          "model_module": "@jupyter-widgets/base",
          "model_module_version": "1.2.0",
          "model_name": "LayoutModel",
          "state": {
            "_model_module": "@jupyter-widgets/base",
            "_model_module_version": "1.2.0",
            "_model_name": "LayoutModel",
            "_view_count": null,
            "_view_module": "@jupyter-widgets/base",
            "_view_module_version": "1.2.0",
            "_view_name": "LayoutView",
            "align_content": null,
            "align_items": null,
            "align_self": null,
            "border": null,
            "bottom": null,
            "display": null,
            "flex": null,
            "flex_flow": null,
            "grid_area": null,
            "grid_auto_columns": null,
            "grid_auto_flow": null,
            "grid_auto_rows": null,
            "grid_column": null,
            "grid_gap": null,
            "grid_row": null,
            "grid_template_areas": null,
            "grid_template_columns": null,
            "grid_template_rows": null,
            "height": null,
            "justify_content": null,
            "justify_items": null,
            "left": null,
            "margin": null,
            "max_height": null,
            "max_width": null,
            "min_height": null,
            "min_width": null,
            "object_fit": null,
            "object_position": null,
            "order": null,
            "overflow": null,
            "overflow_x": null,
            "overflow_y": null,
            "padding": null,
            "right": null,
            "top": null,
            "visibility": null,
            "width": null
          }
        },
        "46808ab7c4ac490690ba0631d0410cbc": {
          "model_module": "@jupyter-widgets/controls",
          "model_module_version": "1.5.0",
          "model_name": "HTMLModel",
          "state": {
            "_dom_classes": [],
            "_model_module": "@jupyter-widgets/controls",
            "_model_module_version": "1.5.0",
            "_model_name": "HTMLModel",
            "_view_count": null,
            "_view_module": "@jupyter-widgets/controls",
            "_view_module_version": "1.5.0",
            "_view_name": "HTMLView",
            "description": "",
            "description_tooltip": null,
            "layout": "IPY_MODEL_b680ca8bc9bf4d1c86f537bf7b531080",
            "placeholder": "​",
            "style": "IPY_MODEL_d75de3e4322245fc8681246682e4d45a",
            "value": "merges.txt: 100%"
          }
        },
        "46acf69f70834d1b989b694aeffeee6c": {
          "model_module": "@jupyter-widgets/controls",
          "model_module_version": "1.5.0",
          "model_name": "FloatProgressModel",
          "state": {
            "_dom_classes": [],
            "_model_module": "@jupyter-widgets/controls",
            "_model_module_version": "1.5.0",
            "_model_name": "FloatProgressModel",
            "_view_count": null,
            "_view_module": "@jupyter-widgets/controls",
            "_view_module_version": "1.5.0",
            "_view_name": "ProgressView",
            "bar_style": "success",
            "description": "",
            "description_tooltip": null,
            "layout": "IPY_MODEL_eeec4180183f4ff1b41478e903f1ebcf",
            "max": 3793,
            "min": 0,
            "orientation": "horizontal",
            "style": "IPY_MODEL_8c410981362f43b7b961bf8418735bed",
            "value": 3793
          }
        },
        "46d3f22759fc414c9f52bdee0532bd07": {
          "model_module": "@jupyter-widgets/base",
          "model_module_version": "1.2.0",
          "model_name": "LayoutModel",
          "state": {
            "_model_module": "@jupyter-widgets/base",
            "_model_module_version": "1.2.0",
            "_model_name": "LayoutModel",
            "_view_count": null,
            "_view_module": "@jupyter-widgets/base",
            "_view_module_version": "1.2.0",
            "_view_name": "LayoutView",
            "align_content": null,
            "align_items": null,
            "align_self": null,
            "border": null,
            "bottom": null,
            "display": null,
            "flex": null,
            "flex_flow": null,
            "grid_area": null,
            "grid_auto_columns": null,
            "grid_auto_flow": null,
            "grid_auto_rows": null,
            "grid_column": null,
            "grid_gap": null,
            "grid_row": null,
            "grid_template_areas": null,
            "grid_template_columns": null,
            "grid_template_rows": null,
            "height": null,
            "justify_content": null,
            "justify_items": null,
            "left": null,
            "margin": null,
            "max_height": null,
            "max_width": null,
            "min_height": null,
            "min_width": null,
            "object_fit": null,
            "object_position": null,
            "order": null,
            "overflow": null,
            "overflow_x": null,
            "overflow_y": null,
            "padding": null,
            "right": null,
            "top": null,
            "visibility": null,
            "width": null
          }
        },
        "47498fc20e0a403085253e290dc062d7": {
          "model_module": "@jupyter-widgets/controls",
          "model_module_version": "1.5.0",
          "model_name": "HBoxModel",
          "state": {
            "_dom_classes": [],
            "_model_module": "@jupyter-widgets/controls",
            "_model_module_version": "1.5.0",
            "_model_name": "HBoxModel",
            "_view_count": null,
            "_view_module": "@jupyter-widgets/controls",
            "_view_module_version": "1.5.0",
            "_view_name": "HBoxView",
            "box_style": "",
            "children": [
              "IPY_MODEL_504aa9e9aebd4249b6b1eeb43e21bdcc",
              "IPY_MODEL_31aa4159b4e9464ba082e2508b6f307d",
              "IPY_MODEL_c7e2963d34e84d4ca3b3d326431f2554"
            ],
            "layout": "IPY_MODEL_f9ce4837d87046e1997f95aeab8b18b5"
          }
        },
        "4e74491b86f4456d9f4c1dd622f0540b": {
          "model_module": "@jupyter-widgets/controls",
          "model_module_version": "1.5.0",
          "model_name": "HTMLModel",
          "state": {
            "_dom_classes": [],
            "_model_module": "@jupyter-widgets/controls",
            "_model_module_version": "1.5.0",
            "_model_name": "HTMLModel",
            "_view_count": null,
            "_view_module": "@jupyter-widgets/controls",
            "_view_module_version": "1.5.0",
            "_view_name": "HTMLView",
            "description": "",
            "description_tooltip": null,
            "layout": "IPY_MODEL_71f0b5db541440808be59ba9ec98e39f",
            "placeholder": "​",
            "style": "IPY_MODEL_8eb79ebd75c0463dafa35c6aee815077",
            "value": " 812/812 [00:00&lt;00:00, 10144.02 examples/s]"
          }
        },
        "4e9d3bce6ffa497fa52d2c6e18b4fa25": {
          "model_module": "@jupyter-widgets/controls",
          "model_module_version": "1.5.0",
          "model_name": "DescriptionStyleModel",
          "state": {
            "_model_module": "@jupyter-widgets/controls",
            "_model_module_version": "1.5.0",
            "_model_name": "DescriptionStyleModel",
            "_view_count": null,
            "_view_module": "@jupyter-widgets/base",
            "_view_module_version": "1.2.0",
            "_view_name": "StyleView",
            "description_width": ""
          }
        },
        "504aa9e9aebd4249b6b1eeb43e21bdcc": {
          "model_module": "@jupyter-widgets/controls",
          "model_module_version": "1.5.0",
          "model_name": "HTMLModel",
          "state": {
            "_dom_classes": [],
            "_model_module": "@jupyter-widgets/controls",
            "_model_module_version": "1.5.0",
            "_model_name": "HTMLModel",
            "_view_count": null,
            "_view_module": "@jupyter-widgets/controls",
            "_view_module_version": "1.5.0",
            "_view_name": "HTMLView",
            "description": "",
            "description_tooltip": null,
            "layout": "IPY_MODEL_74067a2a1ebe46a99b271d70af83c9e1",
            "placeholder": "​",
            "style": "IPY_MODEL_c1b1ebd728f04c0e8e5024c9e6025018",
            "value": "config.json: 100%"
          }
        },
        "56304f46350a4c1da0902da41273a2cd": {
          "model_module": "@jupyter-widgets/controls",
          "model_module_version": "1.5.0",
          "model_name": "DescriptionStyleModel",
          "state": {
            "_model_module": "@jupyter-widgets/controls",
            "_model_module_version": "1.5.0",
            "_model_name": "DescriptionStyleModel",
            "_view_count": null,
            "_view_module": "@jupyter-widgets/base",
            "_view_module_version": "1.2.0",
            "_view_name": "StyleView",
            "description_width": ""
          }
        },
        "580c4aaece354e5183aaf28641127db2": {
          "model_module": "@jupyter-widgets/base",
          "model_module_version": "1.2.0",
          "model_name": "LayoutModel",
          "state": {
            "_model_module": "@jupyter-widgets/base",
            "_model_module_version": "1.2.0",
            "_model_name": "LayoutModel",
            "_view_count": null,
            "_view_module": "@jupyter-widgets/base",
            "_view_module_version": "1.2.0",
            "_view_name": "LayoutView",
            "align_content": null,
            "align_items": null,
            "align_self": null,
            "border": null,
            "bottom": null,
            "display": null,
            "flex": null,
            "flex_flow": null,
            "grid_area": null,
            "grid_auto_columns": null,
            "grid_auto_flow": null,
            "grid_auto_rows": null,
            "grid_column": null,
            "grid_gap": null,
            "grid_row": null,
            "grid_template_areas": null,
            "grid_template_columns": null,
            "grid_template_rows": null,
            "height": null,
            "justify_content": null,
            "justify_items": null,
            "left": null,
            "margin": null,
            "max_height": null,
            "max_width": null,
            "min_height": null,
            "min_width": null,
            "object_fit": null,
            "object_position": null,
            "order": null,
            "overflow": null,
            "overflow_x": null,
            "overflow_y": null,
            "padding": null,
            "right": null,
            "top": null,
            "visibility": null,
            "width": null
          }
        },
        "5bf47b4e05ae450896a3e69295e6d6a5": {
          "model_module": "@jupyter-widgets/controls",
          "model_module_version": "1.5.0",
          "model_name": "HTMLModel",
          "state": {
            "_dom_classes": [],
            "_model_module": "@jupyter-widgets/controls",
            "_model_module_version": "1.5.0",
            "_model_name": "HTMLModel",
            "_view_count": null,
            "_view_module": "@jupyter-widgets/controls",
            "_view_module_version": "1.5.0",
            "_view_name": "HTMLView",
            "description": "",
            "description_tooltip": null,
            "layout": "IPY_MODEL_d5fb89586f364742a7ef039d541c8273",
            "placeholder": "​",
            "style": "IPY_MODEL_cdd646de0e9c46d994f1410a5cfc583d",
            "value": " 25.0/25.0 [00:00&lt;00:00, 1.73kB/s]"
          }
        },
        "5f70bbe300fd40feb7aa41920131a607": {
          "model_module": "@jupyter-widgets/controls",
          "model_module_version": "1.5.0",
          "model_name": "DescriptionStyleModel",
          "state": {
            "_model_module": "@jupyter-widgets/controls",
            "_model_module_version": "1.5.0",
            "_model_name": "DescriptionStyleModel",
            "_view_count": null,
            "_view_module": "@jupyter-widgets/base",
            "_view_module_version": "1.2.0",
            "_view_name": "StyleView",
            "description_width": ""
          }
        },
        "605fcfa35f5041f9840aa4de82b1de65": {
          "model_module": "@jupyter-widgets/controls",
          "model_module_version": "1.5.0",
          "model_name": "ProgressStyleModel",
          "state": {
            "_model_module": "@jupyter-widgets/controls",
            "_model_module_version": "1.5.0",
            "_model_name": "ProgressStyleModel",
            "_view_count": null,
            "_view_module": "@jupyter-widgets/base",
            "_view_module_version": "1.2.0",
            "_view_name": "StyleView",
            "bar_color": null,
            "description_width": ""
          }
        },
        "60da037274ab43c78ed87d877f2dafd9": {
          "model_module": "@jupyter-widgets/controls",
          "model_module_version": "1.5.0",
          "model_name": "FloatProgressModel",
          "state": {
            "_dom_classes": [],
            "_model_module": "@jupyter-widgets/controls",
            "_model_module_version": "1.5.0",
            "_model_name": "FloatProgressModel",
            "_view_count": null,
            "_view_module": "@jupyter-widgets/controls",
            "_view_module_version": "1.5.0",
            "_view_name": "ProgressView",
            "bar_style": "success",
            "description": "",
            "description_tooltip": null,
            "layout": "IPY_MODEL_580c4aaece354e5183aaf28641127db2",
            "max": 456318,
            "min": 0,
            "orientation": "horizontal",
            "style": "IPY_MODEL_96592f39670a4b919fbaad159dca164c",
            "value": 456318
          }
        },
        "65397a37add641d29de6ad17b2afa79e": {
          "model_module": "@jupyter-widgets/controls",
          "model_module_version": "1.5.0",
          "model_name": "DescriptionStyleModel",
          "state": {
            "_model_module": "@jupyter-widgets/controls",
            "_model_module_version": "1.5.0",
            "_model_name": "DescriptionStyleModel",
            "_view_count": null,
            "_view_module": "@jupyter-widgets/base",
            "_view_module_version": "1.2.0",
            "_view_name": "StyleView",
            "description_width": ""
          }
        },
        "699c76a9dae346a09ea8bb6ae40f6490": {
          "model_module": "@jupyter-widgets/controls",
          "model_module_version": "1.5.0",
          "model_name": "DescriptionStyleModel",
          "state": {
            "_model_module": "@jupyter-widgets/controls",
            "_model_module_version": "1.5.0",
            "_model_name": "DescriptionStyleModel",
            "_view_count": null,
            "_view_module": "@jupyter-widgets/base",
            "_view_module_version": "1.2.0",
            "_view_name": "StyleView",
            "description_width": ""
          }
        },
        "6ac26a5d3a9148f7ad35a2848e56b948": {
          "model_module": "@jupyter-widgets/controls",
          "model_module_version": "1.5.0",
          "model_name": "ProgressStyleModel",
          "state": {
            "_model_module": "@jupyter-widgets/controls",
            "_model_module_version": "1.5.0",
            "_model_name": "ProgressStyleModel",
            "_view_count": null,
            "_view_module": "@jupyter-widgets/base",
            "_view_module_version": "1.2.0",
            "_view_name": "StyleView",
            "bar_color": null,
            "description_width": ""
          }
        },
        "71f0b5db541440808be59ba9ec98e39f": {
          "model_module": "@jupyter-widgets/base",
          "model_module_version": "1.2.0",
          "model_name": "LayoutModel",
          "state": {
            "_model_module": "@jupyter-widgets/base",
            "_model_module_version": "1.2.0",
            "_model_name": "LayoutModel",
            "_view_count": null,
            "_view_module": "@jupyter-widgets/base",
            "_view_module_version": "1.2.0",
            "_view_name": "LayoutView",
            "align_content": null,
            "align_items": null,
            "align_self": null,
            "border": null,
            "bottom": null,
            "display": null,
            "flex": null,
            "flex_flow": null,
            "grid_area": null,
            "grid_auto_columns": null,
            "grid_auto_flow": null,
            "grid_auto_rows": null,
            "grid_column": null,
            "grid_gap": null,
            "grid_row": null,
            "grid_template_areas": null,
            "grid_template_columns": null,
            "grid_template_rows": null,
            "height": null,
            "justify_content": null,
            "justify_items": null,
            "left": null,
            "margin": null,
            "max_height": null,
            "max_width": null,
            "min_height": null,
            "min_width": null,
            "object_fit": null,
            "object_position": null,
            "order": null,
            "overflow": null,
            "overflow_x": null,
            "overflow_y": null,
            "padding": null,
            "right": null,
            "top": null,
            "visibility": null,
            "width": null
          }
        },
        "74067a2a1ebe46a99b271d70af83c9e1": {
          "model_module": "@jupyter-widgets/base",
          "model_module_version": "1.2.0",
          "model_name": "LayoutModel",
          "state": {
            "_model_module": "@jupyter-widgets/base",
            "_model_module_version": "1.2.0",
            "_model_name": "LayoutModel",
            "_view_count": null,
            "_view_module": "@jupyter-widgets/base",
            "_view_module_version": "1.2.0",
            "_view_name": "LayoutView",
            "align_content": null,
            "align_items": null,
            "align_self": null,
            "border": null,
            "bottom": null,
            "display": null,
            "flex": null,
            "flex_flow": null,
            "grid_area": null,
            "grid_auto_columns": null,
            "grid_auto_flow": null,
            "grid_auto_rows": null,
            "grid_column": null,
            "grid_gap": null,
            "grid_row": null,
            "grid_template_areas": null,
            "grid_template_columns": null,
            "grid_template_rows": null,
            "height": null,
            "justify_content": null,
            "justify_items": null,
            "left": null,
            "margin": null,
            "max_height": null,
            "max_width": null,
            "min_height": null,
            "min_width": null,
            "object_fit": null,
            "object_position": null,
            "order": null,
            "overflow": null,
            "overflow_x": null,
            "overflow_y": null,
            "padding": null,
            "right": null,
            "top": null,
            "visibility": null,
            "width": null
          }
        },
        "7ac87a6301cf457980cd1685baa6691d": {
          "model_module": "@jupyter-widgets/controls",
          "model_module_version": "1.5.0",
          "model_name": "HTMLModel",
          "state": {
            "_dom_classes": [],
            "_model_module": "@jupyter-widgets/controls",
            "_model_module_version": "1.5.0",
            "_model_name": "HTMLModel",
            "_view_count": null,
            "_view_module": "@jupyter-widgets/controls",
            "_view_module_version": "1.5.0",
            "_view_name": "HTMLView",
            "description": "",
            "description_tooltip": null,
            "layout": "IPY_MODEL_0480645382084911af2f986bf9d44956",
            "placeholder": "​",
            "style": "IPY_MODEL_4e9d3bce6ffa497fa52d2c6e18b4fa25",
            "value": "Map: 100%"
          }
        },
        "7acd4e7d24c94027af2b613d13582cc8": {
          "model_module": "@jupyter-widgets/controls",
          "model_module_version": "1.5.0",
          "model_name": "DescriptionStyleModel",
          "state": {
            "_model_module": "@jupyter-widgets/controls",
            "_model_module_version": "1.5.0",
            "_model_name": "DescriptionStyleModel",
            "_view_count": null,
            "_view_module": "@jupyter-widgets/base",
            "_view_module_version": "1.2.0",
            "_view_name": "StyleView",
            "description_width": ""
          }
        },
        "7bdaff469f3f42dcaa1e0d0f30beebe3": {
          "model_module": "@jupyter-widgets/base",
          "model_module_version": "1.2.0",
          "model_name": "LayoutModel",
          "state": {
            "_model_module": "@jupyter-widgets/base",
            "_model_module_version": "1.2.0",
            "_model_name": "LayoutModel",
            "_view_count": null,
            "_view_module": "@jupyter-widgets/base",
            "_view_module_version": "1.2.0",
            "_view_name": "LayoutView",
            "align_content": null,
            "align_items": null,
            "align_self": null,
            "border": null,
            "bottom": null,
            "display": null,
            "flex": null,
            "flex_flow": null,
            "grid_area": null,
            "grid_auto_columns": null,
            "grid_auto_flow": null,
            "grid_auto_rows": null,
            "grid_column": null,
            "grid_gap": null,
            "grid_row": null,
            "grid_template_areas": null,
            "grid_template_columns": null,
            "grid_template_rows": null,
            "height": null,
            "justify_content": null,
            "justify_items": null,
            "left": null,
            "margin": null,
            "max_height": null,
            "max_width": null,
            "min_height": null,
            "min_width": null,
            "object_fit": null,
            "object_position": null,
            "order": null,
            "overflow": null,
            "overflow_x": null,
            "overflow_y": null,
            "padding": null,
            "right": null,
            "top": null,
            "visibility": null,
            "width": null
          }
        },
        "7c44d3cf88e04f95ae54d9670e4e86e9": {
          "model_module": "@jupyter-widgets/controls",
          "model_module_version": "1.5.0",
          "model_name": "FloatProgressModel",
          "state": {
            "_dom_classes": [],
            "_model_module": "@jupyter-widgets/controls",
            "_model_module_version": "1.5.0",
            "_model_name": "FloatProgressModel",
            "_view_count": null,
            "_view_module": "@jupyter-widgets/controls",
            "_view_module_version": "1.5.0",
            "_view_name": "ProgressView",
            "bar_style": "success",
            "description": "",
            "description_tooltip": null,
            "layout": "IPY_MODEL_ed36cb5568514abaa6871bc5ff3c5f85",
            "max": 898823,
            "min": 0,
            "orientation": "horizontal",
            "style": "IPY_MODEL_a2333f4e35f94f6bbf4a5c06f9f3ea0e",
            "value": 898823
          }
        },
        "7dc7bf0a1c8f485ab74cbfb2b42cc92f": {
          "model_module": "@jupyter-widgets/controls",
          "model_module_version": "1.5.0",
          "model_name": "HTMLModel",
          "state": {
            "_dom_classes": [],
            "_model_module": "@jupyter-widgets/controls",
            "_model_module_version": "1.5.0",
            "_model_name": "HTMLModel",
            "_view_count": null,
            "_view_module": "@jupyter-widgets/controls",
            "_view_module_version": "1.5.0",
            "_view_name": "HTMLView",
            "description": "",
            "description_tooltip": null,
            "layout": "IPY_MODEL_c6cfa65db5b040e58623d23d92fc44e2",
            "placeholder": "​",
            "style": "IPY_MODEL_5f70bbe300fd40feb7aa41920131a607",
            "value": "Map: 100%"
          }
        },
        "7e9885f961874ef899db51aced6063e4": {
          "model_module": "@jupyter-widgets/base",
          "model_module_version": "1.2.0",
          "model_name": "LayoutModel",
          "state": {
            "_model_module": "@jupyter-widgets/base",
            "_model_module_version": "1.2.0",
            "_model_name": "LayoutModel",
            "_view_count": null,
            "_view_module": "@jupyter-widgets/base",
            "_view_module_version": "1.2.0",
            "_view_name": "LayoutView",
            "align_content": null,
            "align_items": null,
            "align_self": null,
            "border": null,
            "bottom": null,
            "display": null,
            "flex": null,
            "flex_flow": null,
            "grid_area": null,
            "grid_auto_columns": null,
            "grid_auto_flow": null,
            "grid_auto_rows": null,
            "grid_column": null,
            "grid_gap": null,
            "grid_row": null,
            "grid_template_areas": null,
            "grid_template_columns": null,
            "grid_template_rows": null,
            "height": null,
            "justify_content": null,
            "justify_items": null,
            "left": null,
            "margin": null,
            "max_height": null,
            "max_width": null,
            "min_height": null,
            "min_width": null,
            "object_fit": null,
            "object_position": null,
            "order": null,
            "overflow": null,
            "overflow_x": null,
            "overflow_y": null,
            "padding": null,
            "right": null,
            "top": null,
            "visibility": null,
            "width": null
          }
        },
        "80b45979ec144d3b9ee3bb9d55d0e223": {
          "model_module": "@jupyter-widgets/base",
          "model_module_version": "1.2.0",
          "model_name": "LayoutModel",
          "state": {
            "_model_module": "@jupyter-widgets/base",
            "_model_module_version": "1.2.0",
            "_model_name": "LayoutModel",
            "_view_count": null,
            "_view_module": "@jupyter-widgets/base",
            "_view_module_version": "1.2.0",
            "_view_name": "LayoutView",
            "align_content": null,
            "align_items": null,
            "align_self": null,
            "border": null,
            "bottom": null,
            "display": null,
            "flex": null,
            "flex_flow": null,
            "grid_area": null,
            "grid_auto_columns": null,
            "grid_auto_flow": null,
            "grid_auto_rows": null,
            "grid_column": null,
            "grid_gap": null,
            "grid_row": null,
            "grid_template_areas": null,
            "grid_template_columns": null,
            "grid_template_rows": null,
            "height": null,
            "justify_content": null,
            "justify_items": null,
            "left": null,
            "margin": null,
            "max_height": null,
            "max_width": null,
            "min_height": null,
            "min_width": null,
            "object_fit": null,
            "object_position": null,
            "order": null,
            "overflow": null,
            "overflow_x": null,
            "overflow_y": null,
            "padding": null,
            "right": null,
            "top": null,
            "visibility": null,
            "width": null
          }
        },
        "81ef05a011db492a853b86149f0b862c": {
          "model_module": "@jupyter-widgets/base",
          "model_module_version": "1.2.0",
          "model_name": "LayoutModel",
          "state": {
            "_model_module": "@jupyter-widgets/base",
            "_model_module_version": "1.2.0",
            "_model_name": "LayoutModel",
            "_view_count": null,
            "_view_module": "@jupyter-widgets/base",
            "_view_module_version": "1.2.0",
            "_view_name": "LayoutView",
            "align_content": null,
            "align_items": null,
            "align_self": null,
            "border": null,
            "bottom": null,
            "display": null,
            "flex": null,
            "flex_flow": null,
            "grid_area": null,
            "grid_auto_columns": null,
            "grid_auto_flow": null,
            "grid_auto_rows": null,
            "grid_column": null,
            "grid_gap": null,
            "grid_row": null,
            "grid_template_areas": null,
            "grid_template_columns": null,
            "grid_template_rows": null,
            "height": null,
            "justify_content": null,
            "justify_items": null,
            "left": null,
            "margin": null,
            "max_height": null,
            "max_width": null,
            "min_height": null,
            "min_width": null,
            "object_fit": null,
            "object_position": null,
            "order": null,
            "overflow": null,
            "overflow_x": null,
            "overflow_y": null,
            "padding": null,
            "right": null,
            "top": null,
            "visibility": null,
            "width": null
          }
        },
        "84c474a527d844d2a3a23f087f2bba38": {
          "model_module": "@jupyter-widgets/controls",
          "model_module_version": "1.5.0",
          "model_name": "HBoxModel",
          "state": {
            "_dom_classes": [],
            "_model_module": "@jupyter-widgets/controls",
            "_model_module_version": "1.5.0",
            "_model_name": "HBoxModel",
            "_view_count": null,
            "_view_module": "@jupyter-widgets/controls",
            "_view_module_version": "1.5.0",
            "_view_name": "HBoxView",
            "box_style": "",
            "children": [
              "IPY_MODEL_eaa63e010a1c48c0b0df90ffa4264b55",
              "IPY_MODEL_36ffa23441e24ef68b89d6b0e0d8f167",
              "IPY_MODEL_04bd9f1c12c7410098de1cbc951633a7"
            ],
            "layout": "IPY_MODEL_bd7db62b81644a0e8eaacfc688ebb532"
          }
        },
        "8c410981362f43b7b961bf8418735bed": {
          "model_module": "@jupyter-widgets/controls",
          "model_module_version": "1.5.0",
          "model_name": "ProgressStyleModel",
          "state": {
            "_model_module": "@jupyter-widgets/controls",
            "_model_module_version": "1.5.0",
            "_model_name": "ProgressStyleModel",
            "_view_count": null,
            "_view_module": "@jupyter-widgets/base",
            "_view_module_version": "1.2.0",
            "_view_name": "StyleView",
            "bar_color": null,
            "description_width": ""
          }
        },
        "8eb79ebd75c0463dafa35c6aee815077": {
          "model_module": "@jupyter-widgets/controls",
          "model_module_version": "1.5.0",
          "model_name": "DescriptionStyleModel",
          "state": {
            "_model_module": "@jupyter-widgets/controls",
            "_model_module_version": "1.5.0",
            "_model_name": "DescriptionStyleModel",
            "_view_count": null,
            "_view_module": "@jupyter-widgets/base",
            "_view_module_version": "1.2.0",
            "_view_name": "StyleView",
            "description_width": ""
          }
        },
        "942b2eb1136647c49421dce94bc6280c": {
          "model_module": "@jupyter-widgets/controls",
          "model_module_version": "1.5.0",
          "model_name": "HTMLModel",
          "state": {
            "_dom_classes": [],
            "_model_module": "@jupyter-widgets/controls",
            "_model_module_version": "1.5.0",
            "_model_name": "HTMLModel",
            "_view_count": null,
            "_view_module": "@jupyter-widgets/controls",
            "_view_module_version": "1.5.0",
            "_view_name": "HTMLView",
            "description": "",
            "description_tooltip": null,
            "layout": "IPY_MODEL_adcfcc9d01bd4923bfcb7cbc5cb54af3",
            "placeholder": "​",
            "style": "IPY_MODEL_278e194174ad4a57960142f60509e48a",
            "value": " 899k/899k [00:00&lt;00:00, 16.0MB/s]"
          }
        },
        "964db22111d5422282fd3427b89e9a4a": {
          "model_module": "@jupyter-widgets/controls",
          "model_module_version": "1.5.0",
          "model_name": "HBoxModel",
          "state": {
            "_dom_classes": [],
            "_model_module": "@jupyter-widgets/controls",
            "_model_module_version": "1.5.0",
            "_model_name": "HBoxModel",
            "_view_count": null,
            "_view_module": "@jupyter-widgets/controls",
            "_view_module_version": "1.5.0",
            "_view_name": "HBoxView",
            "box_style": "",
            "children": [
              "IPY_MODEL_a26324dec5f04a80985dab5217605bd9",
              "IPY_MODEL_7c44d3cf88e04f95ae54d9670e4e86e9",
              "IPY_MODEL_942b2eb1136647c49421dce94bc6280c"
            ],
            "layout": "IPY_MODEL_12fb44637f4b4d41a7ade62419c67256"
          }
        },
        "96592f39670a4b919fbaad159dca164c": {
          "model_module": "@jupyter-widgets/controls",
          "model_module_version": "1.5.0",
          "model_name": "ProgressStyleModel",
          "state": {
            "_model_module": "@jupyter-widgets/controls",
            "_model_module_version": "1.5.0",
            "_model_name": "ProgressStyleModel",
            "_view_count": null,
            "_view_module": "@jupyter-widgets/base",
            "_view_module_version": "1.2.0",
            "_view_name": "StyleView",
            "bar_color": null,
            "description_width": ""
          }
        },
        "97736ee8608f4322ac91e9b23be318f6": {
          "model_module": "@jupyter-widgets/base",
          "model_module_version": "1.2.0",
          "model_name": "LayoutModel",
          "state": {
            "_model_module": "@jupyter-widgets/base",
            "_model_module_version": "1.2.0",
            "_model_name": "LayoutModel",
            "_view_count": null,
            "_view_module": "@jupyter-widgets/base",
            "_view_module_version": "1.2.0",
            "_view_name": "LayoutView",
            "align_content": null,
            "align_items": null,
            "align_self": null,
            "border": null,
            "bottom": null,
            "display": null,
            "flex": null,
            "flex_flow": null,
            "grid_area": null,
            "grid_auto_columns": null,
            "grid_auto_flow": null,
            "grid_auto_rows": null,
            "grid_column": null,
            "grid_gap": null,
            "grid_row": null,
            "grid_template_areas": null,
            "grid_template_columns": null,
            "grid_template_rows": null,
            "height": null,
            "justify_content": null,
            "justify_items": null,
            "left": null,
            "margin": null,
            "max_height": null,
            "max_width": null,
            "min_height": null,
            "min_width": null,
            "object_fit": null,
            "object_position": null,
            "order": null,
            "overflow": null,
            "overflow_x": null,
            "overflow_y": null,
            "padding": null,
            "right": null,
            "top": null,
            "visibility": null,
            "width": null
          }
        },
        "97e3837887024d0fa22c87d454e8d8f2": {
          "model_module": "@jupyter-widgets/controls",
          "model_module_version": "1.5.0",
          "model_name": "HTMLModel",
          "state": {
            "_dom_classes": [],
            "_model_module": "@jupyter-widgets/controls",
            "_model_module_version": "1.5.0",
            "_model_name": "HTMLModel",
            "_view_count": null,
            "_view_module": "@jupyter-widgets/controls",
            "_view_module_version": "1.5.0",
            "_view_name": "HTMLView",
            "description": "",
            "description_tooltip": null,
            "layout": "IPY_MODEL_7bdaff469f3f42dcaa1e0d0f30beebe3",
            "placeholder": "​",
            "style": "IPY_MODEL_7acd4e7d24c94027af2b613d13582cc8",
            "value": " 3793/3793 [00:00&lt;00:00, 14198.13 examples/s]"
          }
        },
        "9a54d0262a954baa916939cf7c1d49bb": {
          "model_module": "@jupyter-widgets/controls",
          "model_module_version": "1.5.0",
          "model_name": "HBoxModel",
          "state": {
            "_dom_classes": [],
            "_model_module": "@jupyter-widgets/controls",
            "_model_module_version": "1.5.0",
            "_model_name": "HBoxModel",
            "_view_count": null,
            "_view_module": "@jupyter-widgets/controls",
            "_view_module_version": "1.5.0",
            "_view_name": "HBoxView",
            "box_style": "",
            "children": [
              "IPY_MODEL_7dc7bf0a1c8f485ab74cbfb2b42cc92f",
              "IPY_MODEL_0f4d7b6ac4024605907d6807e8fed005",
              "IPY_MODEL_d784bb89c7ba4eda84365f699736362b"
            ],
            "layout": "IPY_MODEL_eab2cc887dc14ea18db5c553e9443e18"
          }
        },
        "9ce9b4204a744554b6f9ff65d6939b3f": {
          "model_module": "@jupyter-widgets/controls",
          "model_module_version": "1.5.0",
          "model_name": "ProgressStyleModel",
          "state": {
            "_model_module": "@jupyter-widgets/controls",
            "_model_module_version": "1.5.0",
            "_model_name": "ProgressStyleModel",
            "_view_count": null,
            "_view_module": "@jupyter-widgets/base",
            "_view_module_version": "1.2.0",
            "_view_name": "StyleView",
            "bar_color": null,
            "description_width": ""
          }
        },
        "9d779ea2520a495488802d0a9ce244b3": {
          "model_module": "@jupyter-widgets/controls",
          "model_module_version": "1.5.0",
          "model_name": "DescriptionStyleModel",
          "state": {
            "_model_module": "@jupyter-widgets/controls",
            "_model_module_version": "1.5.0",
            "_model_name": "DescriptionStyleModel",
            "_view_count": null,
            "_view_module": "@jupyter-widgets/base",
            "_view_module_version": "1.2.0",
            "_view_name": "StyleView",
            "description_width": ""
          }
        },
        "a2333f4e35f94f6bbf4a5c06f9f3ea0e": {
          "model_module": "@jupyter-widgets/controls",
          "model_module_version": "1.5.0",
          "model_name": "ProgressStyleModel",
          "state": {
            "_model_module": "@jupyter-widgets/controls",
            "_model_module_version": "1.5.0",
            "_model_name": "ProgressStyleModel",
            "_view_count": null,
            "_view_module": "@jupyter-widgets/base",
            "_view_module_version": "1.2.0",
            "_view_name": "StyleView",
            "bar_color": null,
            "description_width": ""
          }
        },
        "a26324dec5f04a80985dab5217605bd9": {
          "model_module": "@jupyter-widgets/controls",
          "model_module_version": "1.5.0",
          "model_name": "HTMLModel",
          "state": {
            "_dom_classes": [],
            "_model_module": "@jupyter-widgets/controls",
            "_model_module_version": "1.5.0",
            "_model_name": "HTMLModel",
            "_view_count": null,
            "_view_module": "@jupyter-widgets/controls",
            "_view_module_version": "1.5.0",
            "_view_name": "HTMLView",
            "description": "",
            "description_tooltip": null,
            "layout": "IPY_MODEL_4620fffa2ead4e499d7e602c0193fd64",
            "placeholder": "​",
            "style": "IPY_MODEL_a4ab2835c445461db604456aab54f300",
            "value": "vocab.json: 100%"
          }
        },
        "a4ab2835c445461db604456aab54f300": {
          "model_module": "@jupyter-widgets/controls",
          "model_module_version": "1.5.0",
          "model_name": "DescriptionStyleModel",
          "state": {
            "_model_module": "@jupyter-widgets/controls",
            "_model_module_version": "1.5.0",
            "_model_name": "DescriptionStyleModel",
            "_view_count": null,
            "_view_module": "@jupyter-widgets/base",
            "_view_module_version": "1.2.0",
            "_view_name": "StyleView",
            "description_width": ""
          }
        },
        "abdcc7cac97e413cb8b1a3c31103e837": {
          "model_module": "@jupyter-widgets/base",
          "model_module_version": "1.2.0",
          "model_name": "LayoutModel",
          "state": {
            "_model_module": "@jupyter-widgets/base",
            "_model_module_version": "1.2.0",
            "_model_name": "LayoutModel",
            "_view_count": null,
            "_view_module": "@jupyter-widgets/base",
            "_view_module_version": "1.2.0",
            "_view_name": "LayoutView",
            "align_content": null,
            "align_items": null,
            "align_self": null,
            "border": null,
            "bottom": null,
            "display": null,
            "flex": null,
            "flex_flow": null,
            "grid_area": null,
            "grid_auto_columns": null,
            "grid_auto_flow": null,
            "grid_auto_rows": null,
            "grid_column": null,
            "grid_gap": null,
            "grid_row": null,
            "grid_template_areas": null,
            "grid_template_columns": null,
            "grid_template_rows": null,
            "height": null,
            "justify_content": null,
            "justify_items": null,
            "left": null,
            "margin": null,
            "max_height": null,
            "max_width": null,
            "min_height": null,
            "min_width": null,
            "object_fit": null,
            "object_position": null,
            "order": null,
            "overflow": null,
            "overflow_x": null,
            "overflow_y": null,
            "padding": null,
            "right": null,
            "top": null,
            "visibility": null,
            "width": null
          }
        },
        "adcfcc9d01bd4923bfcb7cbc5cb54af3": {
          "model_module": "@jupyter-widgets/base",
          "model_module_version": "1.2.0",
          "model_name": "LayoutModel",
          "state": {
            "_model_module": "@jupyter-widgets/base",
            "_model_module_version": "1.2.0",
            "_model_name": "LayoutModel",
            "_view_count": null,
            "_view_module": "@jupyter-widgets/base",
            "_view_module_version": "1.2.0",
            "_view_name": "LayoutView",
            "align_content": null,
            "align_items": null,
            "align_self": null,
            "border": null,
            "bottom": null,
            "display": null,
            "flex": null,
            "flex_flow": null,
            "grid_area": null,
            "grid_auto_columns": null,
            "grid_auto_flow": null,
            "grid_auto_rows": null,
            "grid_column": null,
            "grid_gap": null,
            "grid_row": null,
            "grid_template_areas": null,
            "grid_template_columns": null,
            "grid_template_rows": null,
            "height": null,
            "justify_content": null,
            "justify_items": null,
            "left": null,
            "margin": null,
            "max_height": null,
            "max_width": null,
            "min_height": null,
            "min_width": null,
            "object_fit": null,
            "object_position": null,
            "order": null,
            "overflow": null,
            "overflow_x": null,
            "overflow_y": null,
            "padding": null,
            "right": null,
            "top": null,
            "visibility": null,
            "width": null
          }
        },
        "ae80fbedb05a4661814ab7f204fcedb3": {
          "model_module": "@jupyter-widgets/controls",
          "model_module_version": "1.5.0",
          "model_name": "FloatProgressModel",
          "state": {
            "_dom_classes": [],
            "_model_module": "@jupyter-widgets/controls",
            "_model_module_version": "1.5.0",
            "_model_name": "FloatProgressModel",
            "_view_count": null,
            "_view_module": "@jupyter-widgets/controls",
            "_view_module_version": "1.5.0",
            "_view_name": "ProgressView",
            "bar_style": "success",
            "description": "",
            "description_tooltip": null,
            "layout": "IPY_MODEL_80b45979ec144d3b9ee3bb9d55d0e223",
            "max": 812,
            "min": 0,
            "orientation": "horizontal",
            "style": "IPY_MODEL_9ce9b4204a744554b6f9ff65d6939b3f",
            "value": 812
          }
        },
        "b35df91dd8a44296adf68f9627c3cff5": {
          "model_module": "@jupyter-widgets/base",
          "model_module_version": "1.2.0",
          "model_name": "LayoutModel",
          "state": {
            "_model_module": "@jupyter-widgets/base",
            "_model_module_version": "1.2.0",
            "_model_name": "LayoutModel",
            "_view_count": null,
            "_view_module": "@jupyter-widgets/base",
            "_view_module_version": "1.2.0",
            "_view_name": "LayoutView",
            "align_content": null,
            "align_items": null,
            "align_self": null,
            "border": null,
            "bottom": null,
            "display": null,
            "flex": null,
            "flex_flow": null,
            "grid_area": null,
            "grid_auto_columns": null,
            "grid_auto_flow": null,
            "grid_auto_rows": null,
            "grid_column": null,
            "grid_gap": null,
            "grid_row": null,
            "grid_template_areas": null,
            "grid_template_columns": null,
            "grid_template_rows": null,
            "height": null,
            "justify_content": null,
            "justify_items": null,
            "left": null,
            "margin": null,
            "max_height": null,
            "max_width": null,
            "min_height": null,
            "min_width": null,
            "object_fit": null,
            "object_position": null,
            "order": null,
            "overflow": null,
            "overflow_x": null,
            "overflow_y": null,
            "padding": null,
            "right": null,
            "top": null,
            "visibility": null,
            "width": null
          }
        },
        "b3a1502c68154379a2fd4e757cb9943b": {
          "model_module": "@jupyter-widgets/base",
          "model_module_version": "1.2.0",
          "model_name": "LayoutModel",
          "state": {
            "_model_module": "@jupyter-widgets/base",
            "_model_module_version": "1.2.0",
            "_model_name": "LayoutModel",
            "_view_count": null,
            "_view_module": "@jupyter-widgets/base",
            "_view_module_version": "1.2.0",
            "_view_name": "LayoutView",
            "align_content": null,
            "align_items": null,
            "align_self": null,
            "border": null,
            "bottom": null,
            "display": null,
            "flex": null,
            "flex_flow": null,
            "grid_area": null,
            "grid_auto_columns": null,
            "grid_auto_flow": null,
            "grid_auto_rows": null,
            "grid_column": null,
            "grid_gap": null,
            "grid_row": null,
            "grid_template_areas": null,
            "grid_template_columns": null,
            "grid_template_rows": null,
            "height": null,
            "justify_content": null,
            "justify_items": null,
            "left": null,
            "margin": null,
            "max_height": null,
            "max_width": null,
            "min_height": null,
            "min_width": null,
            "object_fit": null,
            "object_position": null,
            "order": null,
            "overflow": null,
            "overflow_x": null,
            "overflow_y": null,
            "padding": null,
            "right": null,
            "top": null,
            "visibility": null,
            "width": null
          }
        },
        "b62b976d51f54cf08c2a62dceb8e4337": {
          "model_module": "@jupyter-widgets/controls",
          "model_module_version": "1.5.0",
          "model_name": "DescriptionStyleModel",
          "state": {
            "_model_module": "@jupyter-widgets/controls",
            "_model_module_version": "1.5.0",
            "_model_name": "DescriptionStyleModel",
            "_view_count": null,
            "_view_module": "@jupyter-widgets/base",
            "_view_module_version": "1.2.0",
            "_view_name": "StyleView",
            "description_width": ""
          }
        },
        "b680ca8bc9bf4d1c86f537bf7b531080": {
          "model_module": "@jupyter-widgets/base",
          "model_module_version": "1.2.0",
          "model_name": "LayoutModel",
          "state": {
            "_model_module": "@jupyter-widgets/base",
            "_model_module_version": "1.2.0",
            "_model_name": "LayoutModel",
            "_view_count": null,
            "_view_module": "@jupyter-widgets/base",
            "_view_module_version": "1.2.0",
            "_view_name": "LayoutView",
            "align_content": null,
            "align_items": null,
            "align_self": null,
            "border": null,
            "bottom": null,
            "display": null,
            "flex": null,
            "flex_flow": null,
            "grid_area": null,
            "grid_auto_columns": null,
            "grid_auto_flow": null,
            "grid_auto_rows": null,
            "grid_column": null,
            "grid_gap": null,
            "grid_row": null,
            "grid_template_areas": null,
            "grid_template_columns": null,
            "grid_template_rows": null,
            "height": null,
            "justify_content": null,
            "justify_items": null,
            "left": null,
            "margin": null,
            "max_height": null,
            "max_width": null,
            "min_height": null,
            "min_width": null,
            "object_fit": null,
            "object_position": null,
            "order": null,
            "overflow": null,
            "overflow_x": null,
            "overflow_y": null,
            "padding": null,
            "right": null,
            "top": null,
            "visibility": null,
            "width": null
          }
        },
        "bd7db62b81644a0e8eaacfc688ebb532": {
          "model_module": "@jupyter-widgets/base",
          "model_module_version": "1.2.0",
          "model_name": "LayoutModel",
          "state": {
            "_model_module": "@jupyter-widgets/base",
            "_model_module_version": "1.2.0",
            "_model_name": "LayoutModel",
            "_view_count": null,
            "_view_module": "@jupyter-widgets/base",
            "_view_module_version": "1.2.0",
            "_view_name": "LayoutView",
            "align_content": null,
            "align_items": null,
            "align_self": null,
            "border": null,
            "bottom": null,
            "display": null,
            "flex": null,
            "flex_flow": null,
            "grid_area": null,
            "grid_auto_columns": null,
            "grid_auto_flow": null,
            "grid_auto_rows": null,
            "grid_column": null,
            "grid_gap": null,
            "grid_row": null,
            "grid_template_areas": null,
            "grid_template_columns": null,
            "grid_template_rows": null,
            "height": null,
            "justify_content": null,
            "justify_items": null,
            "left": null,
            "margin": null,
            "max_height": null,
            "max_width": null,
            "min_height": null,
            "min_width": null,
            "object_fit": null,
            "object_position": null,
            "order": null,
            "overflow": null,
            "overflow_x": null,
            "overflow_y": null,
            "padding": null,
            "right": null,
            "top": null,
            "visibility": null,
            "width": null
          }
        },
        "be08dc417dd142fa948bf0a121df7d9f": {
          "model_module": "@jupyter-widgets/controls",
          "model_module_version": "1.5.0",
          "model_name": "HBoxModel",
          "state": {
            "_dom_classes": [],
            "_model_module": "@jupyter-widgets/controls",
            "_model_module_version": "1.5.0",
            "_model_name": "HBoxModel",
            "_view_count": null,
            "_view_module": "@jupyter-widgets/controls",
            "_view_module_version": "1.5.0",
            "_view_name": "HBoxView",
            "box_style": "",
            "children": [
              "IPY_MODEL_7ac87a6301cf457980cd1685baa6691d",
              "IPY_MODEL_46acf69f70834d1b989b694aeffeee6c",
              "IPY_MODEL_97e3837887024d0fa22c87d454e8d8f2"
            ],
            "layout": "IPY_MODEL_28fabd63b1394cb09acbcc20c7dce5fa"
          }
        },
        "beeb4b1c71c6432db5c8a6b18de3fb49": {
          "model_module": "@jupyter-widgets/controls",
          "model_module_version": "1.5.0",
          "model_name": "DescriptionStyleModel",
          "state": {
            "_model_module": "@jupyter-widgets/controls",
            "_model_module_version": "1.5.0",
            "_model_name": "DescriptionStyleModel",
            "_view_count": null,
            "_view_module": "@jupyter-widgets/base",
            "_view_module_version": "1.2.0",
            "_view_name": "StyleView",
            "description_width": ""
          }
        },
        "c1838fbdf8fa4f01b2cffb72e06f7fff": {
          "model_module": "@jupyter-widgets/controls",
          "model_module_version": "1.5.0",
          "model_name": "ProgressStyleModel",
          "state": {
            "_model_module": "@jupyter-widgets/controls",
            "_model_module_version": "1.5.0",
            "_model_name": "ProgressStyleModel",
            "_view_count": null,
            "_view_module": "@jupyter-widgets/base",
            "_view_module_version": "1.2.0",
            "_view_name": "StyleView",
            "bar_color": null,
            "description_width": ""
          }
        },
        "c1b1ebd728f04c0e8e5024c9e6025018": {
          "model_module": "@jupyter-widgets/controls",
          "model_module_version": "1.5.0",
          "model_name": "DescriptionStyleModel",
          "state": {
            "_model_module": "@jupyter-widgets/controls",
            "_model_module_version": "1.5.0",
            "_model_name": "DescriptionStyleModel",
            "_view_count": null,
            "_view_module": "@jupyter-widgets/base",
            "_view_module_version": "1.2.0",
            "_view_name": "StyleView",
            "description_width": ""
          }
        },
        "c254cb1b21774f8d8fab7f2e30adeaa9": {
          "model_module": "@jupyter-widgets/controls",
          "model_module_version": "1.5.0",
          "model_name": "HBoxModel",
          "state": {
            "_dom_classes": [],
            "_model_module": "@jupyter-widgets/controls",
            "_model_module_version": "1.5.0",
            "_model_name": "HBoxModel",
            "_view_count": null,
            "_view_module": "@jupyter-widgets/controls",
            "_view_module_version": "1.5.0",
            "_view_name": "HBoxView",
            "box_style": "",
            "children": [
              "IPY_MODEL_24c666aae4104bc9ae50908ffa2d272b",
              "IPY_MODEL_e13a1efe740e40298516ce6c8776a0c9",
              "IPY_MODEL_5bf47b4e05ae450896a3e69295e6d6a5"
            ],
            "layout": "IPY_MODEL_f6b3f8f83c5c4fbcbaceba2791271172"
          }
        },
        "c6cfa65db5b040e58623d23d92fc44e2": {
          "model_module": "@jupyter-widgets/base",
          "model_module_version": "1.2.0",
          "model_name": "LayoutModel",
          "state": {
            "_model_module": "@jupyter-widgets/base",
            "_model_module_version": "1.2.0",
            "_model_name": "LayoutModel",
            "_view_count": null,
            "_view_module": "@jupyter-widgets/base",
            "_view_module_version": "1.2.0",
            "_view_name": "LayoutView",
            "align_content": null,
            "align_items": null,
            "align_self": null,
            "border": null,
            "bottom": null,
            "display": null,
            "flex": null,
            "flex_flow": null,
            "grid_area": null,
            "grid_auto_columns": null,
            "grid_auto_flow": null,
            "grid_auto_rows": null,
            "grid_column": null,
            "grid_gap": null,
            "grid_row": null,
            "grid_template_areas": null,
            "grid_template_columns": null,
            "grid_template_rows": null,
            "height": null,
            "justify_content": null,
            "justify_items": null,
            "left": null,
            "margin": null,
            "max_height": null,
            "max_width": null,
            "min_height": null,
            "min_width": null,
            "object_fit": null,
            "object_position": null,
            "order": null,
            "overflow": null,
            "overflow_x": null,
            "overflow_y": null,
            "padding": null,
            "right": null,
            "top": null,
            "visibility": null,
            "width": null
          }
        },
        "c7e2963d34e84d4ca3b3d326431f2554": {
          "model_module": "@jupyter-widgets/controls",
          "model_module_version": "1.5.0",
          "model_name": "HTMLModel",
          "state": {
            "_dom_classes": [],
            "_model_module": "@jupyter-widgets/controls",
            "_model_module_version": "1.5.0",
            "_model_name": "HTMLModel",
            "_view_count": null,
            "_view_module": "@jupyter-widgets/controls",
            "_view_module_version": "1.5.0",
            "_view_name": "HTMLView",
            "description": "",
            "description_tooltip": null,
            "layout": "IPY_MODEL_97736ee8608f4322ac91e9b23be318f6",
            "placeholder": "​",
            "style": "IPY_MODEL_9d779ea2520a495488802d0a9ce244b3",
            "value": " 481/481 [00:00&lt;00:00, 35.8kB/s]"
          }
        },
        "cdd646de0e9c46d994f1410a5cfc583d": {
          "model_module": "@jupyter-widgets/controls",
          "model_module_version": "1.5.0",
          "model_name": "DescriptionStyleModel",
          "state": {
            "_model_module": "@jupyter-widgets/controls",
            "_model_module_version": "1.5.0",
            "_model_name": "DescriptionStyleModel",
            "_view_count": null,
            "_view_module": "@jupyter-widgets/base",
            "_view_module_version": "1.2.0",
            "_view_name": "StyleView",
            "description_width": ""
          }
        },
        "d3aff28179a0456da433093810ef7de5": {
          "model_module": "@jupyter-widgets/controls",
          "model_module_version": "1.5.0",
          "model_name": "ProgressStyleModel",
          "state": {
            "_model_module": "@jupyter-widgets/controls",
            "_model_module_version": "1.5.0",
            "_model_name": "ProgressStyleModel",
            "_view_count": null,
            "_view_module": "@jupyter-widgets/base",
            "_view_module_version": "1.2.0",
            "_view_name": "StyleView",
            "bar_color": null,
            "description_width": ""
          }
        },
        "d5fb89586f364742a7ef039d541c8273": {
          "model_module": "@jupyter-widgets/base",
          "model_module_version": "1.2.0",
          "model_name": "LayoutModel",
          "state": {
            "_model_module": "@jupyter-widgets/base",
            "_model_module_version": "1.2.0",
            "_model_name": "LayoutModel",
            "_view_count": null,
            "_view_module": "@jupyter-widgets/base",
            "_view_module_version": "1.2.0",
            "_view_name": "LayoutView",
            "align_content": null,
            "align_items": null,
            "align_self": null,
            "border": null,
            "bottom": null,
            "display": null,
            "flex": null,
            "flex_flow": null,
            "grid_area": null,
            "grid_auto_columns": null,
            "grid_auto_flow": null,
            "grid_auto_rows": null,
            "grid_column": null,
            "grid_gap": null,
            "grid_row": null,
            "grid_template_areas": null,
            "grid_template_columns": null,
            "grid_template_rows": null,
            "height": null,
            "justify_content": null,
            "justify_items": null,
            "left": null,
            "margin": null,
            "max_height": null,
            "max_width": null,
            "min_height": null,
            "min_width": null,
            "object_fit": null,
            "object_position": null,
            "order": null,
            "overflow": null,
            "overflow_x": null,
            "overflow_y": null,
            "padding": null,
            "right": null,
            "top": null,
            "visibility": null,
            "width": null
          }
        },
        "d6efc66725fd4f478f4a0dc1c8834e99": {
          "model_module": "@jupyter-widgets/controls",
          "model_module_version": "1.5.0",
          "model_name": "DescriptionStyleModel",
          "state": {
            "_model_module": "@jupyter-widgets/controls",
            "_model_module_version": "1.5.0",
            "_model_name": "DescriptionStyleModel",
            "_view_count": null,
            "_view_module": "@jupyter-widgets/base",
            "_view_module_version": "1.2.0",
            "_view_name": "StyleView",
            "description_width": ""
          }
        },
        "d75de3e4322245fc8681246682e4d45a": {
          "model_module": "@jupyter-widgets/controls",
          "model_module_version": "1.5.0",
          "model_name": "DescriptionStyleModel",
          "state": {
            "_model_module": "@jupyter-widgets/controls",
            "_model_module_version": "1.5.0",
            "_model_name": "DescriptionStyleModel",
            "_view_count": null,
            "_view_module": "@jupyter-widgets/base",
            "_view_module_version": "1.2.0",
            "_view_name": "StyleView",
            "description_width": ""
          }
        },
        "d784bb89c7ba4eda84365f699736362b": {
          "model_module": "@jupyter-widgets/controls",
          "model_module_version": "1.5.0",
          "model_name": "HTMLModel",
          "state": {
            "_dom_classes": [],
            "_model_module": "@jupyter-widgets/controls",
            "_model_module_version": "1.5.0",
            "_model_name": "HTMLModel",
            "_view_count": null,
            "_view_module": "@jupyter-widgets/controls",
            "_view_module_version": "1.5.0",
            "_view_name": "HTMLView",
            "description": "",
            "description_tooltip": null,
            "layout": "IPY_MODEL_b3a1502c68154379a2fd4e757cb9943b",
            "placeholder": "​",
            "style": "IPY_MODEL_d6efc66725fd4f478f4a0dc1c8834e99",
            "value": " 812/812 [00:00&lt;00:00, 9920.20 examples/s]"
          }
        },
        "dcdf72a5ccd34affb372f36e82451e2a": {
          "model_module": "@jupyter-widgets/base",
          "model_module_version": "1.2.0",
          "model_name": "LayoutModel",
          "state": {
            "_model_module": "@jupyter-widgets/base",
            "_model_module_version": "1.2.0",
            "_model_name": "LayoutModel",
            "_view_count": null,
            "_view_module": "@jupyter-widgets/base",
            "_view_module_version": "1.2.0",
            "_view_name": "LayoutView",
            "align_content": null,
            "align_items": null,
            "align_self": null,
            "border": null,
            "bottom": null,
            "display": null,
            "flex": null,
            "flex_flow": null,
            "grid_area": null,
            "grid_auto_columns": null,
            "grid_auto_flow": null,
            "grid_auto_rows": null,
            "grid_column": null,
            "grid_gap": null,
            "grid_row": null,
            "grid_template_areas": null,
            "grid_template_columns": null,
            "grid_template_rows": null,
            "height": null,
            "justify_content": null,
            "justify_items": null,
            "left": null,
            "margin": null,
            "max_height": null,
            "max_width": null,
            "min_height": null,
            "min_width": null,
            "object_fit": null,
            "object_position": null,
            "order": null,
            "overflow": null,
            "overflow_x": null,
            "overflow_y": null,
            "padding": null,
            "right": null,
            "top": null,
            "visibility": null,
            "width": null
          }
        },
        "e13a1efe740e40298516ce6c8776a0c9": {
          "model_module": "@jupyter-widgets/controls",
          "model_module_version": "1.5.0",
          "model_name": "FloatProgressModel",
          "state": {
            "_dom_classes": [],
            "_model_module": "@jupyter-widgets/controls",
            "_model_module_version": "1.5.0",
            "_model_name": "FloatProgressModel",
            "_view_count": null,
            "_view_module": "@jupyter-widgets/controls",
            "_view_module_version": "1.5.0",
            "_view_name": "ProgressView",
            "bar_style": "success",
            "description": "",
            "description_tooltip": null,
            "layout": "IPY_MODEL_422692115c6c43d0aa83c42fdbfefb3c",
            "max": 25,
            "min": 0,
            "orientation": "horizontal",
            "style": "IPY_MODEL_6ac26a5d3a9148f7ad35a2848e56b948",
            "value": 25
          }
        },
        "e8ac30a8835146d3946e0905ba220979": {
          "model_module": "@jupyter-widgets/controls",
          "model_module_version": "1.5.0",
          "model_name": "HBoxModel",
          "state": {
            "_dom_classes": [],
            "_model_module": "@jupyter-widgets/controls",
            "_model_module_version": "1.5.0",
            "_model_name": "HBoxModel",
            "_view_count": null,
            "_view_module": "@jupyter-widgets/controls",
            "_view_module_version": "1.5.0",
            "_view_name": "HBoxView",
            "box_style": "",
            "children": [
              "IPY_MODEL_1faae12cd4c349d081eac3242fe9dbe1",
              "IPY_MODEL_ae80fbedb05a4661814ab7f204fcedb3",
              "IPY_MODEL_4e74491b86f4456d9f4c1dd622f0540b"
            ],
            "layout": "IPY_MODEL_46d3f22759fc414c9f52bdee0532bd07"
          }
        },
        "eaa63e010a1c48c0b0df90ffa4264b55": {
          "model_module": "@jupyter-widgets/controls",
          "model_module_version": "1.5.0",
          "model_name": "HTMLModel",
          "state": {
            "_dom_classes": [],
            "_model_module": "@jupyter-widgets/controls",
            "_model_module_version": "1.5.0",
            "_model_name": "HTMLModel",
            "_view_count": null,
            "_view_module": "@jupyter-widgets/controls",
            "_view_module_version": "1.5.0",
            "_view_name": "HTMLView",
            "description": "",
            "description_tooltip": null,
            "layout": "IPY_MODEL_1a73bb82194242a7986b035b56b1e921",
            "placeholder": "​",
            "style": "IPY_MODEL_699c76a9dae346a09ea8bb6ae40f6490",
            "value": "tokenizer.json: 100%"
          }
        },
        "eab2cc887dc14ea18db5c553e9443e18": {
          "model_module": "@jupyter-widgets/base",
          "model_module_version": "1.2.0",
          "model_name": "LayoutModel",
          "state": {
            "_model_module": "@jupyter-widgets/base",
            "_model_module_version": "1.2.0",
            "_model_name": "LayoutModel",
            "_view_count": null,
            "_view_module": "@jupyter-widgets/base",
            "_view_module_version": "1.2.0",
            "_view_name": "LayoutView",
            "align_content": null,
            "align_items": null,
            "align_self": null,
            "border": null,
            "bottom": null,
            "display": null,
            "flex": null,
            "flex_flow": null,
            "grid_area": null,
            "grid_auto_columns": null,
            "grid_auto_flow": null,
            "grid_auto_rows": null,
            "grid_column": null,
            "grid_gap": null,
            "grid_row": null,
            "grid_template_areas": null,
            "grid_template_columns": null,
            "grid_template_rows": null,
            "height": null,
            "justify_content": null,
            "justify_items": null,
            "left": null,
            "margin": null,
            "max_height": null,
            "max_width": null,
            "min_height": null,
            "min_width": null,
            "object_fit": null,
            "object_position": null,
            "order": null,
            "overflow": null,
            "overflow_x": null,
            "overflow_y": null,
            "padding": null,
            "right": null,
            "top": null,
            "visibility": null,
            "width": null
          }
        },
        "ed36cb5568514abaa6871bc5ff3c5f85": {
          "model_module": "@jupyter-widgets/base",
          "model_module_version": "1.2.0",
          "model_name": "LayoutModel",
          "state": {
            "_model_module": "@jupyter-widgets/base",
            "_model_module_version": "1.2.0",
            "_model_name": "LayoutModel",
            "_view_count": null,
            "_view_module": "@jupyter-widgets/base",
            "_view_module_version": "1.2.0",
            "_view_name": "LayoutView",
            "align_content": null,
            "align_items": null,
            "align_self": null,
            "border": null,
            "bottom": null,
            "display": null,
            "flex": null,
            "flex_flow": null,
            "grid_area": null,
            "grid_auto_columns": null,
            "grid_auto_flow": null,
            "grid_auto_rows": null,
            "grid_column": null,
            "grid_gap": null,
            "grid_row": null,
            "grid_template_areas": null,
            "grid_template_columns": null,
            "grid_template_rows": null,
            "height": null,
            "justify_content": null,
            "justify_items": null,
            "left": null,
            "margin": null,
            "max_height": null,
            "max_width": null,
            "min_height": null,
            "min_width": null,
            "object_fit": null,
            "object_position": null,
            "order": null,
            "overflow": null,
            "overflow_x": null,
            "overflow_y": null,
            "padding": null,
            "right": null,
            "top": null,
            "visibility": null,
            "width": null
          }
        },
        "eeec4180183f4ff1b41478e903f1ebcf": {
          "model_module": "@jupyter-widgets/base",
          "model_module_version": "1.2.0",
          "model_name": "LayoutModel",
          "state": {
            "_model_module": "@jupyter-widgets/base",
            "_model_module_version": "1.2.0",
            "_model_name": "LayoutModel",
            "_view_count": null,
            "_view_module": "@jupyter-widgets/base",
            "_view_module_version": "1.2.0",
            "_view_name": "LayoutView",
            "align_content": null,
            "align_items": null,
            "align_self": null,
            "border": null,
            "bottom": null,
            "display": null,
            "flex": null,
            "flex_flow": null,
            "grid_area": null,
            "grid_auto_columns": null,
            "grid_auto_flow": null,
            "grid_auto_rows": null,
            "grid_column": null,
            "grid_gap": null,
            "grid_row": null,
            "grid_template_areas": null,
            "grid_template_columns": null,
            "grid_template_rows": null,
            "height": null,
            "justify_content": null,
            "justify_items": null,
            "left": null,
            "margin": null,
            "max_height": null,
            "max_width": null,
            "min_height": null,
            "min_width": null,
            "object_fit": null,
            "object_position": null,
            "order": null,
            "overflow": null,
            "overflow_x": null,
            "overflow_y": null,
            "padding": null,
            "right": null,
            "top": null,
            "visibility": null,
            "width": null
          }
        },
        "f6b3f8f83c5c4fbcbaceba2791271172": {
          "model_module": "@jupyter-widgets/base",
          "model_module_version": "1.2.0",
          "model_name": "LayoutModel",
          "state": {
            "_model_module": "@jupyter-widgets/base",
            "_model_module_version": "1.2.0",
            "_model_name": "LayoutModel",
            "_view_count": null,
            "_view_module": "@jupyter-widgets/base",
            "_view_module_version": "1.2.0",
            "_view_name": "LayoutView",
            "align_content": null,
            "align_items": null,
            "align_self": null,
            "border": null,
            "bottom": null,
            "display": null,
            "flex": null,
            "flex_flow": null,
            "grid_area": null,
            "grid_auto_columns": null,
            "grid_auto_flow": null,
            "grid_auto_rows": null,
            "grid_column": null,
            "grid_gap": null,
            "grid_row": null,
            "grid_template_areas": null,
            "grid_template_columns": null,
            "grid_template_rows": null,
            "height": null,
            "justify_content": null,
            "justify_items": null,
            "left": null,
            "margin": null,
            "max_height": null,
            "max_width": null,
            "min_height": null,
            "min_width": null,
            "object_fit": null,
            "object_position": null,
            "order": null,
            "overflow": null,
            "overflow_x": null,
            "overflow_y": null,
            "padding": null,
            "right": null,
            "top": null,
            "visibility": null,
            "width": null
          }
        },
        "f9ce4837d87046e1997f95aeab8b18b5": {
          "model_module": "@jupyter-widgets/base",
          "model_module_version": "1.2.0",
          "model_name": "LayoutModel",
          "state": {
            "_model_module": "@jupyter-widgets/base",
            "_model_module_version": "1.2.0",
            "_model_name": "LayoutModel",
            "_view_count": null,
            "_view_module": "@jupyter-widgets/base",
            "_view_module_version": "1.2.0",
            "_view_name": "LayoutView",
            "align_content": null,
            "align_items": null,
            "align_self": null,
            "border": null,
            "bottom": null,
            "display": null,
            "flex": null,
            "flex_flow": null,
            "grid_area": null,
            "grid_auto_columns": null,
            "grid_auto_flow": null,
            "grid_auto_rows": null,
            "grid_column": null,
            "grid_gap": null,
            "grid_row": null,
            "grid_template_areas": null,
            "grid_template_columns": null,
            "grid_template_rows": null,
            "height": null,
            "justify_content": null,
            "justify_items": null,
            "left": null,
            "margin": null,
            "max_height": null,
            "max_width": null,
            "min_height": null,
            "min_width": null,
            "object_fit": null,
            "object_position": null,
            "order": null,
            "overflow": null,
            "overflow_x": null,
            "overflow_y": null,
            "padding": null,
            "right": null,
            "top": null,
            "visibility": null,
            "width": null
          }
        }
      }
    }
  },
  "nbformat": 4,
  "nbformat_minor": 0
}
