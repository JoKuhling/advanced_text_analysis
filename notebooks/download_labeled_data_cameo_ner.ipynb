{
 "cells": [
  {
   "cell_type": "code",
   "execution_count": 1,
   "metadata": {},
   "outputs": [],
   "source": [
    "from utils.io import write_jsonlines"
   ]
  },
  {
   "cell_type": "code",
   "execution_count": 2,
   "metadata": {},
   "outputs": [],
   "source": [
    "def parse_cameo_ner_file(content):\n",
    "    docs = [\n",
    "        [line.split(' ') for line in doc.split('\\n')] \n",
    "        for doc in content.split('\\n\\n')\n",
    "        if len(doc) > 0\n",
    "    ]\n",
    "    tokens = [[line[0] for line in doc] for doc in docs ]\n",
    "    labels = [[line[1] for line in doc] for doc in docs]\n",
    "    return [{'tokens': toks, 'labels': labs} for toks, labs in zip(tokens, labels)]"
   ]
  },
  {
   "cell_type": "code",
   "execution_count": 3,
   "metadata": {},
   "outputs": [],
   "source": [
    "import os\n",
    "import requests\n",
    "\n",
    "data = []\n",
    "files = ['test.txt', 'train.txt']\n",
    "for f in files:\n",
    "    url = 'https://raw.githubusercontent.com/eventdata/ConfliBERT/main/data/cameo_ner/'+f\n",
    "    # download to temp file\n",
    "    r = requests.get(url)\n",
    "    data += parse_cameo_ner_file(r.content.decode('utf-8'))\n"
   ]
  },
  {
   "cell_type": "code",
   "execution_count": 4,
   "metadata": {},
   "outputs": [
    {
     "data": {
      "text/plain": [
       "['O', 'I-T', 'I-S', 'I-R', 'B-T', 'B-S', 'B-R']"
      ]
     },
     "execution_count": 4,
     "metadata": {},
     "output_type": "execute_result"
    }
   ],
   "source": [
    "label_classes = sorted(set(l for doc in data  for l in doc['labels']))\n",
    "label_classes = list(reversed(label_classes))\n",
    "label_classes"
   ]
  },
  {
   "cell_type": "code",
   "execution_count": 5,
   "metadata": {},
   "outputs": [
    {
     "data": {
      "text/plain": [
       "['T', 'S', 'R']"
      ]
     },
     "execution_count": 5,
     "metadata": {},
     "output_type": "execute_result"
    }
   ],
   "source": [
    "types = [l[2:] for l in label_classes if l.startswith('B-')]\n",
    "types"
   ]
  },
  {
   "cell_type": "code",
   "execution_count": 7,
   "metadata": {},
   "outputs": [],
   "source": [
    "import os\n",
    "nm = 'parolin_multi-coped_2022'\n",
    "fp = f'../data/labeled/{nm}/{nm}-cameo_ner.jsonl'\n",
    "os.makedirs(os.path.dirname(fp), exist_ok=True)\n",
    "write_jsonlines(data, fp)"
   ]
  }
 ],
 "metadata": {
  "kernelspec": {
   "display_name": "advanced_text_analysis_gesis_2024",
   "language": "python",
   "name": "python3"
  },
  "language_info": {
   "codemirror_mode": {
    "name": "ipython",
    "version": 3
   },
   "file_extension": ".py",
   "mimetype": "text/x-python",
   "name": "python",
   "nbconvert_exporter": "python",
   "pygments_lexer": "ipython3",
   "version": "3.11.9"
  }
 },
 "nbformat": 4,
 "nbformat_minor": 2
}
