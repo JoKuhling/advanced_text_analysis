{
 "cells": [
  {
   "cell_type": "markdown",
   "id": "c38d025b",
   "metadata": {},
   "source": [
    "## Test python setup"
   ]
  },
  {
   "cell_type": "markdown",
   "id": "f226d2b1",
   "metadata": {},
   "source": [
    "When you open this notebook the first time in your VS code session, click on \"Select Kernel\" in the top right, and chose `advance_text_analysis_gesis_2025` from the dropdown list shown when clicking on \"Python Environments\" (click \"Select Another Kernel ...\" if you can't see \"Python Environments\" yet)."
   ]
  },
  {
   "cell_type": "code",
   "execution_count": 26,
   "id": "ff18e4f9",
   "metadata": {},
   "outputs": [
    {
     "name": "stdout",
     "output_type": "stream",
     "text": [
      "python environment: advanced_text_analysis_gesis_2025\n",
      "python version: 3.12.11 | packaged by conda-forge | (main, Jun  4 2025, 14:38:53) [Clang 18.1.8 ]\n",
      "platform: macosx-11.0-arm64\n"
     ]
    }
   ],
   "source": [
    "import sys, sysconfig\n",
    "from pathlib import Path\n",
    "print('python environment:', Path(sys.executable).parent.parent.name)\n",
    "print('python version:', sys.version)\n",
    "print('platform:', sysconfig.get_platform())"
   ]
  },
  {
   "cell_type": "markdown",
   "id": "22d00126",
   "metadata": {},
   "source": [
    "**_Note:_**\n",
    "The first row should show list `advanced_text_analysis_gesis_2025` as the python environment. \n",
    "If not, please make sure you have selected the correct kernel in VS Code (see below)."
   ]
  },
  {
   "cell_type": "markdown",
   "id": "1efc3b78",
   "metadata": {},
   "source": [
    "### checks"
   ]
  },
  {
   "cell_type": "markdown",
   "id": "8cca664a",
   "metadata": {},
   "source": [
    "#### 1. required packages are installed with correct versions"
   ]
  },
  {
   "cell_type": "code",
   "execution_count": null,
   "id": "7f7b66a4",
   "metadata": {},
   "outputs": [
    {
     "name": "stdout",
     "output_type": "stream",
     "text": [
      "No broken requirements found.\n"
     ]
    }
   ],
   "source": [
    "!pip check"
   ]
  },
  {
   "cell_type": "markdown",
   "id": "c09877fb",
   "metadata": {},
   "source": [
    "**_Note:_** \n",
    "This should print `No broken requirements found.`\n",
    "If not, run uncomment the code below and run it:"
   ]
  },
  {
   "cell_type": "code",
   "execution_count": null,
   "id": "2e043bea",
   "metadata": {},
   "outputs": [],
   "source": [
    "#!pip install -r requirements.txt"
   ]
  },
  {
   "cell_type": "markdown",
   "id": "01b83ecd",
   "metadata": {},
   "source": [
    "##### `tqdm` runs with `jupyter` and `ipywidget`"
   ]
  },
  {
   "cell_type": "code",
   "execution_count": 1,
   "id": "261c54cc",
   "metadata": {},
   "outputs": [
    {
     "data": {
      "application/vnd.jupyter.widget-view+json": {
       "model_id": "58e9829e125d456292f2c3cea71ff88b",
       "version_major": 2,
       "version_minor": 0
      },
      "text/plain": [
       "  0%|          | 0/5 [00:00<?, ?it/s]"
      ]
     },
     "metadata": {},
     "output_type": "display_data"
    },
    {
     "name": "stdout",
     "output_type": "stream",
     "text": [
      "Hello, World!\n",
      "Hello, World!\n",
      "Hello, World!\n",
      "Hello, World!\n",
      "Hello, World!\n"
     ]
    }
   ],
   "source": [
    "from tqdm.auto import tqdm\n",
    "for i in tqdm(range(5)):\n",
    "    print(\"Hello, World!\")"
   ]
  }
 ],
 "metadata": {
  "kernelspec": {
   "display_name": "advanced_text_analysis_gesis_2025",
   "language": "python",
   "name": "python3"
  },
  "language_info": {
   "codemirror_mode": {
    "name": "ipython",
    "version": 3
   },
   "file_extension": ".py",
   "mimetype": "text/x-python",
   "name": "python",
   "nbconvert_exporter": "python",
   "pygments_lexer": "ipython3",
   "version": "3.12.11"
  }
 },
 "nbformat": 4,
 "nbformat_minor": 5
}
