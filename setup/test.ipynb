{
 "cells": [
  {
   "cell_type": "markdown",
   "id": "c38d025b",
   "metadata": {},
   "source": [
    "## Test python setup"
   ]
  },
  {
   "cell_type": "markdown",
   "id": "f226d2b1",
   "metadata": {},
   "source": [
    "When you open this notebook the first time in your VS code session, click on \"Select Kernel\" in the top right, and chose `advance_text_analysis_gesis_2025` from the dropdown list shown when clicking on \"Python Environments\" (click \"Select Another Kernel ...\" if you can't see \"Python Environments\" yet)."
   ]
  },
  {
   "cell_type": "code",
   "execution_count": 26,
   "id": "ff18e4f9",
   "metadata": {},
   "outputs": [
    {
     "name": "stdout",
     "output_type": "stream",
     "text": [
      "python environment: advanced_text_analysis_gesis_2025\n",
      "python version: 3.12.11 | packaged by conda-forge | (main, Jun  4 2025, 14:38:53) [Clang 18.1.8 ]\n",
      "platform: macosx-11.0-arm64\n"
     ]
    }
   ],
   "source": [
    "import sys, sysconfig\n",
    "from pathlib import Path\n",
    "print('python environment:', Path(sys.executable).parent.parent.name)\n",
    "print('python version:', sys.version)\n",
    "print('platform:', sysconfig.get_platform())"
   ]
  },
  {
   "cell_type": "markdown",
   "id": "22d00126",
   "metadata": {},
   "source": [
    "**_Note:_**\n",
    "The first row should show list `advanced_text_analysis_gesis_2025` as the python environment. \n",
    "If not, please make sure you have selected the correct kernel in VS Code (see below)."
   ]
  },
  {
   "cell_type": "markdown",
   "id": "1efc3b78",
   "metadata": {},
   "source": [
    "### checks"
   ]
  },
  {
   "cell_type": "markdown",
   "id": "f134d7e9",
   "metadata": {},
   "source": [
    "#### 1. required packages are installed with correct versions"
   ]
  },
  {
   "cell_type": "code",
   "execution_count": null,
   "id": "870fa3cd",
   "metadata": {},
   "outputs": [
    {
     "name": "stdout",
     "output_type": "stream",
     "text": [
      "No broken requirements found.\n"
     ]
    }
   ],
   "source": [
    "!pip check"
   ]
  },
  {
   "cell_type": "markdown",
   "id": "9a19435f",
   "metadata": {},
   "source": [
    "**_Note:_** \n",
    "This should print `No broken requirements found.`\n",
    "If not, run uncomment the code below and run it:"
   ]
  },
  {
   "cell_type": "code",
   "execution_count": null,
   "id": "81355f98",
   "metadata": {},
   "outputs": [],
   "source": [
    "#!pip install -r requirements.txt"
   ]
  },
  {
   "cell_type": "markdown",
   "id": "a0559616",
   "metadata": {},
   "source": [
    "#### 2. important package imports"
   ]
  },
  {
   "cell_type": "code",
   "execution_count": 4,
   "id": "3b93171f",
   "metadata": {},
   "outputs": [],
   "source": [
    "import numpy"
   ]
  },
  {
   "cell_type": "code",
   "execution_count": 5,
   "id": "098a6359",
   "metadata": {},
   "outputs": [],
   "source": [
    "import scipy"
   ]
  },
  {
   "cell_type": "code",
   "execution_count": 1,
   "id": "9d1d4dde",
   "metadata": {},
   "outputs": [],
   "source": [
    "import gensim"
   ]
  },
  {
   "cell_type": "code",
   "execution_count": 2,
   "id": "7dc321c6",
   "metadata": {},
   "outputs": [],
   "source": [
    "import nltk"
   ]
  },
  {
   "cell_type": "code",
   "execution_count": 6,
   "id": "eee9bedf",
   "metadata": {},
   "outputs": [],
   "source": [
    "import sklearn"
   ]
  },
  {
   "cell_type": "code",
   "execution_count": 7,
   "id": "b4995a5e",
   "metadata": {},
   "outputs": [
    {
     "name": "stderr",
     "output_type": "stream",
     "text": [
      "/Users/hlicht/miniforge3/envs/advanced_text_analysis_gesis_2025/lib/python3.11/site-packages/turftopic/serialization.py:7: UserWarning: pkg_resources is deprecated as an API. See https://setuptools.pypa.io/en/latest/pkg_resources.html. The pkg_resources package is slated for removal as early as 2025-11-30. Refrain from using this package or pin to Setuptools<81.\n",
      "  import pkg_resources\n"
     ]
    }
   ],
   "source": [
    "import turftopic"
   ]
  },
  {
   "cell_type": "code",
   "execution_count": 3,
   "id": "ee170a94",
   "metadata": {},
   "outputs": [],
   "source": [
    "import transformers"
   ]
  },
  {
   "cell_type": "code",
   "execution_count": 9,
   "id": "b457ed48",
   "metadata": {},
   "outputs": [],
   "source": [
    "import ollama, openai"
   ]
  },
  {
   "cell_type": "markdown",
   "id": "01b83ecd",
   "metadata": {},
   "source": [
    "#### 3. `tqdm` runs with `jupyter` and `ipywidget`"
   ]
  },
  {
   "cell_type": "code",
   "execution_count": 1,
   "id": "261c54cc",
   "metadata": {},
   "outputs": [
    {
     "data": {
      "application/vnd.jupyter.widget-view+json": {
       "model_id": "58e9829e125d456292f2c3cea71ff88b",
       "version_major": 2,
       "version_minor": 0
      },
      "text/plain": [
       "  0%|          | 0/5 [00:00<?, ?it/s]"
      ]
     },
     "metadata": {},
     "output_type": "display_data"
    },
    {
     "name": "stdout",
     "output_type": "stream",
     "text": [
      "Hello, World!\n",
      "Hello, World!\n",
      "Hello, World!\n",
      "Hello, World!\n",
      "Hello, World!\n"
     ]
    }
   ],
   "source": [
    "from tqdm.auto import tqdm\n",
    "for i in tqdm(range(5)):\n",
    "    print(\"Hello, World!\")"
   ]
  }
 ],
 "metadata": {
  "kernelspec": {
   "display_name": "advanced_text_analysis_gesis_2025",
   "language": "python",
   "name": "python3"
  },
  "language_info": {
   "codemirror_mode": {
    "name": "ipython",
    "version": 3
   },
   "file_extension": ".py",
   "mimetype": "text/x-python",
   "name": "python",
   "nbconvert_exporter": "python",
   "pygments_lexer": "ipython3",
   "version": "3.11.13"
  }
 },
 "nbformat": 4,
 "nbformat_minor": 5
}
